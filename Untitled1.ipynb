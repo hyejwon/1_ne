{
 "cells": [
  {
   "cell_type": "code",
   "execution_count": 10,
   "id": "8dd9f544",
   "metadata": {},
   "outputs": [],
   "source": [
    "n = 529\n",
    "binaryNum = format(n, 'b')"
   ]
  },
  {
   "cell_type": "code",
   "execution_count": 14,
   "id": "a0150801",
   "metadata": {},
   "outputs": [
    {
     "data": {
      "text/plain": [
       "['', '0000', '000', '']"
      ]
     },
     "execution_count": 14,
     "metadata": {},
     "output_type": "execute_result"
    }
   ],
   "source": [
    "binaryNum.strip('0').split('1')"
   ]
  },
  {
   "cell_type": "code",
   "execution_count": 12,
   "id": "4f271f48",
   "metadata": {},
   "outputs": [],
   "source": [
    "l=[]\n",
    "for i in range(len(binaryNum)):\n",
    "    if binaryNum[i]=='1':\n",
    "        l.append(i)"
   ]
  },
  {
   "cell_type": "code",
   "execution_count": 13,
   "id": "7864f3cf",
   "metadata": {},
   "outputs": [
    {
     "data": {
      "text/plain": [
       "[0, 5, 9]"
      ]
     },
     "execution_count": 13,
     "metadata": {},
     "output_type": "execute_result"
    }
   ],
   "source": [
    "l"
   ]
  },
  {
   "cell_type": "code",
   "execution_count": null,
   "id": "20724cbe",
   "metadata": {},
   "outputs": [],
   "source": []
  },
  {
   "cell_type": "code",
   "execution_count": null,
   "id": "0a471c90",
   "metadata": {},
   "outputs": [],
   "source": []
  },
  {
   "cell_type": "code",
   "execution_count": null,
   "id": "0a5ee4ca",
   "metadata": {},
   "outputs": [],
   "source": []
  },
  {
   "cell_type": "code",
   "execution_count": null,
   "id": "9914feb2",
   "metadata": {},
   "outputs": [],
   "source": []
  },
  {
   "cell_type": "code",
   "execution_count": null,
   "id": "ad9e4c36",
   "metadata": {},
   "outputs": [],
   "source": [
    "def solution(N):\n",
    "    return max([len(x) for x in format(N, 'b').strip('0').split('1')])"
   ]
  }
 ],
 "metadata": {
  "kernelspec": {
   "display_name": "Python 3",
   "language": "python",
   "name": "python3"
  },
  "language_info": {
   "codemirror_mode": {
    "name": "ipython",
    "version": 3
   },
   "file_extension": ".py",
   "mimetype": "text/x-python",
   "name": "python",
   "nbconvert_exporter": "python",
   "pygments_lexer": "ipython3",
   "version": "3.8.8"
  }
 },
 "nbformat": 4,
 "nbformat_minor": 5
}
