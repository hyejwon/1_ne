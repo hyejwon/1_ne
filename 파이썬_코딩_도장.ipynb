{
  "nbformat": 4,
  "nbformat_minor": 0,
  "metadata": {
    "colab": {
      "name": "파이썬 코딩 도장.ipynb",
      "private_outputs": true,
      "provenance": [],
      "collapsed_sections": []
    },
    "kernelspec": {
      "name": "python3",
      "display_name": "Python 3"
    }
  },
  "cells": [
    {
      "cell_type": "markdown",
      "metadata": {
        "id": "mhyWHhWvB9Kh"
      },
      "source": [
        "# 5.숫자 계산하기"
      ]
    },
    {
      "cell_type": "code",
      "metadata": {
        "id": "NWTSdFhm0gjD"
      },
      "source": [
        "!python --version"
      ],
      "execution_count": null,
      "outputs": []
    },
    {
      "cell_type": "code",
      "metadata": {
        "id": "twOO2MZb0kEj"
      },
      "source": [
        "print('Hello,world!')"
      ],
      "execution_count": null,
      "outputs": []
    },
    {
      "cell_type": "code",
      "metadata": {
        "id": "j15xyMRU1wZW"
      },
      "source": [
        "a=10\r\n",
        "\r\n",
        "\r\n",
        "if a==10:\r\n",
        "    print('10')\r\n",
        "    print('입니다')"
      ],
      "execution_count": null,
      "outputs": []
    },
    {
      "cell_type": "markdown",
      "metadata": {
        "id": "craWKgkA2ads"
      },
      "source": [
        "숫자 \r\n",
        "1. 정수 int \r\n",
        "2. 실수 float\r\n",
        "3. 복소수 complex"
      ]
    },
    {
      "cell_type": "markdown",
      "metadata": {
        "id": "y10xuRXiCJ_l"
      },
      "source": [
        "## 정수 계산하기"
      ]
    },
    {
      "cell_type": "code",
      "metadata": {
        "id": "C7fo8-7N21Af"
      },
      "source": [
        "#정수 계산 \r\n",
        "#더하기\r\n",
        "1+1"
      ],
      "execution_count": null,
      "outputs": []
    },
    {
      "cell_type": "code",
      "metadata": {
        "id": "ujrCLKZ8_8k0"
      },
      "source": [
        "#빼기\r\n",
        "1-2"
      ],
      "execution_count": null,
      "outputs": []
    },
    {
      "cell_type": "code",
      "metadata": {
        "id": "H8d4Fj0v__f9"
      },
      "source": [
        "#곱하기\r\n",
        "1*2"
      ],
      "execution_count": null,
      "outputs": []
    },
    {
      "cell_type": "code",
      "metadata": {
        "id": "lDYWz-LR4ATX"
      },
      "source": [
        "#나누기\r\n",
        "5/2"
      ],
      "execution_count": null,
      "outputs": []
    },
    {
      "cell_type": "code",
      "metadata": {
        "id": "BoQv1oZt4LC5"
      },
      "source": [
        "#나눗셈 후 소수점 이하를 버리는 // 연산자\r\n",
        "5//2"
      ],
      "execution_count": null,
      "outputs": []
    },
    {
      "cell_type": "code",
      "metadata": {
        "id": "gF4XM0Oz4Oed"
      },
      "source": [
        "#실수에 //연산자 사용 -> 결과는 실수가 나오며 소수점 이하는 버림\r\n",
        "5.5//2"
      ],
      "execution_count": null,
      "outputs": []
    },
    {
      "cell_type": "code",
      "metadata": {
        "id": "A1LEJnNWANr_"
      },
      "source": [
        "#나눗셈 후 나머지를 구하는 % 연산자 \r\n",
        "5%2 #몫 2 나머지 1"
      ],
      "execution_count": null,
      "outputs": []
    },
    {
      "cell_type": "code",
      "metadata": {
        "id": "AIMVSbF_AgXz"
      },
      "source": [
        "#거듭제곱을 구하는 **연산자\r\n",
        "2**10 #2의 10승"
      ],
      "execution_count": null,
      "outputs": []
    },
    {
      "cell_type": "code",
      "metadata": {
        "id": "wjCw6wXAAnxW"
      },
      "source": [
        "#값을 정수로 만들기 integer 정수-> 값을 정수로 만들어줌 소수점 이하는 버림\r\n",
        "a=int(3.3)\r\n",
        "b=int(5/2)\r\n",
        "c=int('10')\r\n",
        "print(a,b,c)"
      ],
      "execution_count": null,
      "outputs": []
    },
    {
      "cell_type": "code",
      "metadata": {
        "id": "D4HvJrraAv2-"
      },
      "source": [
        "#객채의 자료형 알아내기 객체는 클래스로 표현\r\n",
        "type(10) "
      ],
      "execution_count": null,
      "outputs": []
    },
    {
      "cell_type": "code",
      "metadata": {
        "id": "dxhLGYfJBPaH"
      },
      "source": [
        "#몫과 나머지를 함께 구하기\r\n",
        "divmod(5,2) #튜플 형식으로 나옴 (몫,나머지)"
      ],
      "execution_count": null,
      "outputs": []
    },
    {
      "cell_type": "code",
      "metadata": {
        "id": "_2DSOBNlBfCb"
      },
      "source": [
        "quotient,remainder=divmod(5,2) #튜플은 변수 여러 개에 저장 가능\r\n",
        "print(quotient,remainder)"
      ],
      "execution_count": null,
      "outputs": []
    },
    {
      "cell_type": "markdown",
      "metadata": {
        "id": "MuJuTvL3CNfo"
      },
      "source": [
        "## 실수 계산하기"
      ]
    },
    {
      "cell_type": "code",
      "metadata": {
        "id": "YqL-MjbHBvCQ"
      },
      "source": [
        "3.5+2.1"
      ],
      "execution_count": null,
      "outputs": []
    },
    {
      "cell_type": "code",
      "metadata": {
        "id": "A9x1T0V0CSqU"
      },
      "source": [
        "4.3-2.7"
      ],
      "execution_count": null,
      "outputs": []
    },
    {
      "cell_type": "code",
      "metadata": {
        "id": "E1U49fG9Cahc"
      },
      "source": [
        "1.5*3.1"
      ],
      "execution_count": null,
      "outputs": []
    },
    {
      "cell_type": "code",
      "metadata": {
        "id": "5UL-QLeVCc0M"
      },
      "source": [
        "5.5/3.1"
      ],
      "execution_count": null,
      "outputs": []
    },
    {
      "cell_type": "code",
      "metadata": {
        "id": "2lYJunIgCeEh"
      },
      "source": [
        "#실수 + 정수 =실수\r\n",
        "4.2+5"
      ],
      "execution_count": null,
      "outputs": []
    },
    {
      "cell_type": "code",
      "metadata": {
        "id": "msai7xZqCi2x"
      },
      "source": [
        "#값을 실수로 만들기\r\n",
        "float(5)"
      ],
      "execution_count": null,
      "outputs": []
    },
    {
      "cell_type": "code",
      "metadata": {
        "id": "oxFD2CSVCm0b"
      },
      "source": [
        "float(1+2)"
      ],
      "execution_count": null,
      "outputs": []
    },
    {
      "cell_type": "code",
      "metadata": {
        "id": "KYdgq9g1Cppw"
      },
      "source": [
        "float('5.3')"
      ],
      "execution_count": null,
      "outputs": []
    },
    {
      "cell_type": "code",
      "metadata": {
        "id": "9bUHplR6CrOh"
      },
      "source": [
        "type(3.5)"
      ],
      "execution_count": null,
      "outputs": []
    },
    {
      "cell_type": "code",
      "metadata": {
        "id": "KBiP1DXxCuRT"
      },
      "source": [
        "#값을 복소수로 만들기\r\n",
        "complex(1.2,1.3)"
      ],
      "execution_count": null,
      "outputs": []
    },
    {
      "cell_type": "markdown",
      "metadata": {
        "id": "OC8Nj3LZC8kt"
      },
      "source": [
        "## 괄호 사용하기"
      ]
    },
    {
      "cell_type": "code",
      "metadata": {
        "id": "63BbdgabC3L4"
      },
      "source": [
        "(35+1)*2"
      ],
      "execution_count": null,
      "outputs": []
    },
    {
      "cell_type": "code",
      "metadata": {
        "id": "gdcPsw_UDBsA"
      },
      "source": [
        ""
      ],
      "execution_count": null,
      "outputs": []
    },
    {
      "cell_type": "markdown",
      "metadata": {
        "id": "t51fsW39DF1j"
      },
      "source": [
        "## 연습문제"
      ]
    },
    {
      "cell_type": "code",
      "metadata": {
        "id": "HRopSy0TDIop"
      },
      "source": [
        "print(int(0.2467*12+4.159))"
      ],
      "execution_count": null,
      "outputs": []
    },
    {
      "cell_type": "markdown",
      "metadata": {
        "id": "c0mhXLBEDj-r"
      },
      "source": [
        "# 6.변수와 입력 사용하기"
      ]
    },
    {
      "cell_type": "code",
      "metadata": {
        "id": "0Gd6lSU7DTBD"
      },
      "source": [
        "# 변수 만들기\r\n",
        "x=10 #x는 변수 이름 10은 변수 값 할당"
      ],
      "execution_count": null,
      "outputs": []
    },
    {
      "cell_type": "code",
      "metadata": {
        "id": "PsEyU_8gDshE"
      },
      "source": [
        "x"
      ],
      "execution_count": null,
      "outputs": []
    },
    {
      "cell_type": "code",
      "metadata": {
        "id": "PwWlh6BHDy2f"
      },
      "source": [
        "y='Hello, world!'\r\n",
        "y"
      ],
      "execution_count": null,
      "outputs": []
    },
    {
      "cell_type": "code",
      "metadata": {
        "id": "QiXYLD4lD2OC"
      },
      "source": [
        "#변수의 자료형 알아내기\r\n",
        "type(x)"
      ],
      "execution_count": null,
      "outputs": []
    },
    {
      "cell_type": "code",
      "metadata": {
        "id": "021Mp_LID62Q"
      },
      "source": [
        "type(y) #str :문자열 string"
      ],
      "execution_count": null,
      "outputs": []
    },
    {
      "cell_type": "code",
      "metadata": {
        "id": "91paJ49LD8sX"
      },
      "source": [
        "#변수 여러 개를 한 번에 만들기 \r\n",
        "x,y,z =10,20,30\r\n"
      ],
      "execution_count": null,
      "outputs": []
    },
    {
      "cell_type": "code",
      "metadata": {
        "id": "_i1MsnxREHkS"
      },
      "source": [
        "x"
      ],
      "execution_count": null,
      "outputs": []
    },
    {
      "cell_type": "code",
      "metadata": {
        "id": "oZOmy0CIEH_Y"
      },
      "source": [
        "y"
      ],
      "execution_count": null,
      "outputs": []
    },
    {
      "cell_type": "code",
      "metadata": {
        "id": "dPb30OEpEIjs"
      },
      "source": [
        "z"
      ],
      "execution_count": null,
      "outputs": []
    },
    {
      "cell_type": "code",
      "metadata": {
        "id": "m4o-mAUaEJOk"
      },
      "source": [
        "x=y=z=10"
      ],
      "execution_count": null,
      "outputs": []
    },
    {
      "cell_type": "code",
      "metadata": {
        "id": "W2JJMcQuEQar"
      },
      "source": [
        "x,y,z"
      ],
      "execution_count": null,
      "outputs": []
    },
    {
      "cell_type": "code",
      "metadata": {
        "id": "19FruoHMERwq"
      },
      "source": [
        "#변수 삭제 \r\n",
        "del x"
      ],
      "execution_count": null,
      "outputs": []
    },
    {
      "cell_type": "code",
      "metadata": {
        "id": "BOdhuXKwEWRd"
      },
      "source": [
        "x"
      ],
      "execution_count": null,
      "outputs": []
    },
    {
      "cell_type": "code",
      "metadata": {
        "id": "3ZXHWD5eEW86"
      },
      "source": [
        "#빈 변수 만들기\r\n",
        "x=None\r\n",
        "print(x)"
      ],
      "execution_count": null,
      "outputs": []
    },
    {
      "cell_type": "markdown",
      "metadata": {
        "id": "v3sF1FJuEhnv"
      },
      "source": [
        "## 변수로 계산하기"
      ]
    },
    {
      "cell_type": "code",
      "metadata": {
        "id": "MghE4rThEcQa"
      },
      "source": [
        "a=10\r\n",
        "b=20\r\n",
        "c=a+b"
      ],
      "execution_count": null,
      "outputs": []
    },
    {
      "cell_type": "code",
      "metadata": {
        "id": "4Fie2OQpEpBC"
      },
      "source": [
        "c"
      ],
      "execution_count": null,
      "outputs": []
    },
    {
      "cell_type": "code",
      "metadata": {
        "id": "zpukUfT2Eq4f"
      },
      "source": [
        "a=10\r\n",
        "a+20"
      ],
      "execution_count": null,
      "outputs": []
    },
    {
      "cell_type": "code",
      "metadata": {
        "id": "MSzTxIDGEtbk"
      },
      "source": [
        "a"
      ],
      "execution_count": null,
      "outputs": []
    },
    {
      "cell_type": "code",
      "metadata": {
        "id": "mYtlDB7JEt0p"
      },
      "source": [
        "#연산 후 할당\r\n",
        "a=10\r\n",
        "a+=20 # a= a+20\r\n",
        "a"
      ],
      "execution_count": null,
      "outputs": []
    },
    {
      "cell_type": "code",
      "metadata": {
        "id": "e3V31CBbE0cS"
      },
      "source": [
        "#부호 붙이기\r\n",
        "x=-10\r\n",
        "-x"
      ],
      "execution_count": null,
      "outputs": []
    },
    {
      "cell_type": "code",
      "metadata": {
        "id": "e07g-fNrFEsp"
      },
      "source": [
        ""
      ],
      "execution_count": null,
      "outputs": []
    },
    {
      "cell_type": "markdown",
      "metadata": {
        "id": "SpeW-ELiFNp4"
      },
      "source": [
        "## 입력 값을 변수에 저장하기"
      ]
    },
    {
      "cell_type": "code",
      "metadata": {
        "id": "JPOwVZgcFTRm"
      },
      "source": [
        "#input 함수 사용 - 사용자가 입력한 값을 가져오는 함수\r\n",
        "input()"
      ],
      "execution_count": null,
      "outputs": []
    },
    {
      "cell_type": "code",
      "metadata": {
        "id": "pTzzMrPbFaJM"
      },
      "source": [
        "#input 함수의 결과를 변수에 할당하기\r\n",
        "x=input()"
      ],
      "execution_count": null,
      "outputs": []
    },
    {
      "cell_type": "code",
      "metadata": {
        "id": "wQFEWzYrF6Zl"
      },
      "source": [
        "x"
      ],
      "execution_count": null,
      "outputs": []
    },
    {
      "cell_type": "code",
      "metadata": {
        "id": "NkLhVsJFGCdM"
      },
      "source": [
        "x=input('문자열을 입력하세요:')\r\n"
      ],
      "execution_count": null,
      "outputs": []
    },
    {
      "cell_type": "code",
      "metadata": {
        "id": "-n2Mr_9aGWsR"
      },
      "source": [
        "x"
      ],
      "execution_count": null,
      "outputs": []
    },
    {
      "cell_type": "code",
      "metadata": {
        "id": "2OwbnMQ0GbeU"
      },
      "source": [
        "#두 숫자의 합 구하기\r\n",
        "a=input('첫 번째 숫자를 입력하세요:')\r\n",
        "b=input('두 번째 숫자를 입력하세요:')\r\n",
        "\r\n",
        "print(a+b)"
      ],
      "execution_count": null,
      "outputs": []
    },
    {
      "cell_type": "code",
      "metadata": {
        "id": "5mwXpC3mG6C-"
      },
      "source": [
        "#입력 값을 정수로 변환하기\r\n",
        "a=int(input('첫 번째 숫자를 입력하세요:'))\r\n",
        "b=int(input('두 번째 숫자를 입력하세요:'))\r\n",
        "\r\n",
        "print(a+b)"
      ],
      "execution_count": null,
      "outputs": []
    },
    {
      "cell_type": "markdown",
      "metadata": {
        "id": "uxSi19WtHV-L"
      },
      "source": [
        "## 입력 값을 변수 두개에 저장하기"
      ]
    },
    {
      "cell_type": "code",
      "metadata": {
        "id": "frmcuQpXHPdJ"
      },
      "source": [
        "a,b=input('문자열 두 개를 입력하세요:').split()#입력받은 값을 공백을 기준으로 분리\r\n",
        "\r\n",
        "print(a)\r\n",
        "print(b)"
      ],
      "execution_count": null,
      "outputs": []
    },
    {
      "cell_type": "code",
      "metadata": {
        "id": "VE7sWtGdHuom"
      },
      "source": [
        "#두 숫자의 합 구하기 \r\n",
        "a,b=input('숫자 두 개를 입력하세요: ').split()\r\n",
        "print(a+b)"
      ],
      "execution_count": null,
      "outputs": []
    },
    {
      "cell_type": "code",
      "metadata": {
        "id": "M4DjN7x9IHnS"
      },
      "source": [
        "#입력 값을 정수로 변환하기\r\n",
        "a,b=input('숫자 두 개를 입력하세요:').split()\r\n",
        "a=int(a) #변수를 정수로 변환한 뒤 다시 저장\r\n",
        "b=int(b)\r\n",
        "print(a+b)"
      ],
      "execution_count": null,
      "outputs": []
    },
    {
      "cell_type": "code",
      "metadata": {
        "id": "-fP1WiFvIdoL"
      },
      "source": [
        "#입력 값을 정수로 변환하기\r\n",
        "a,b=input('숫자 두 개를 입력하세요:').split()\r\n",
        "print(int(a)+int(b))"
      ],
      "execution_count": null,
      "outputs": []
    },
    {
      "cell_type": "code",
      "metadata": {
        "id": "0vivTWaqI1T1"
      },
      "source": [
        "#map을 사용하여 정수로 변환하기\r\n",
        "a,b=map(int,input('숫자 두 개를 입력하세요').split())#int 로 변환 실수는 float\r\n",
        "print(a+b)"
      ],
      "execution_count": null,
      "outputs": []
    },
    {
      "cell_type": "code",
      "metadata": {
        "id": "WEGYX-kVI23y"
      },
      "source": [
        "#입력받은 값을 콤마를 기준으로 분리하기\r\n",
        "a,b=map(int,input('숫자 두 개를 입력하세요:').split(','))#입력받은 값을 콤마를 기준으로 분리\r\n",
        "print(a+b)"
      ],
      "execution_count": null,
      "outputs": []
    },
    {
      "cell_type": "markdown",
      "metadata": {
        "id": "bJ7jEtLyJddK"
      },
      "source": [
        "\r\n",
        "## 연습문제"
      ]
    },
    {
      "cell_type": "code",
      "metadata": {
        "id": "r6WhJjsvSlEQ"
      },
      "source": [
        "a,b,c=map(int,input().split())"
      ],
      "execution_count": null,
      "outputs": []
    },
    {
      "cell_type": "code",
      "metadata": {
        "id": "D03f02CbSxIu"
      },
      "source": [
        "print(a+b+c)"
      ],
      "execution_count": null,
      "outputs": []
    },
    {
      "cell_type": "code",
      "metadata": {
        "id": "y_WeV-bcS5Ty"
      },
      "source": [
        ""
      ],
      "execution_count": null,
      "outputs": []
    },
    {
      "cell_type": "markdown",
      "metadata": {
        "id": "xQE99Q0RTvr2"
      },
      "source": [
        "# 7.출력 방법 알아보기\r\n"
      ]
    },
    {
      "cell_type": "code",
      "metadata": {
        "id": "fxUeJoZtTzTG"
      },
      "source": [
        "#값을 여러 개 출력하기\r\n",
        "print(1,2,3)"
      ],
      "execution_count": null,
      "outputs": []
    },
    {
      "cell_type": "code",
      "metadata": {
        "id": "kBoQAlMSUANt"
      },
      "source": [
        "print('Hello','Python')"
      ],
      "execution_count": null,
      "outputs": []
    },
    {
      "cell_type": "code",
      "metadata": {
        "id": "M1vtydjTUEZZ"
      },
      "source": [
        "#sep로 값 사이에 문자 넣기\r\n",
        "print(1,2,3,sep=', ')"
      ],
      "execution_count": null,
      "outputs": []
    },
    {
      "cell_type": "code",
      "metadata": {
        "id": "dKPd_OjQUKil"
      },
      "source": [
        "#sep(separator)에 빈 문자열을 지정\r\n",
        "print('Hello','Python',sep='') "
      ],
      "execution_count": null,
      "outputs": []
    },
    {
      "cell_type": "code",
      "metadata": {
        "id": "FnAUq7f9UaY-"
      },
      "source": [
        "print(1920,1080,sep='x')"
      ],
      "execution_count": null,
      "outputs": []
    },
    {
      "cell_type": "code",
      "metadata": {
        "id": "lOsZzddYUj6n"
      },
      "source": [
        "#줄바꿈(개행)\r\n",
        "print(1,2,3,sep='\\n')"
      ],
      "execution_count": null,
      "outputs": []
    },
    {
      "cell_type": "code",
      "metadata": {
        "id": "3Pk1L6h_UrfD"
      },
      "source": [
        "print('1\\n2\\n3')\r\n",
        " "
      ],
      "execution_count": null,
      "outputs": []
    },
    {
      "cell_type": "markdown",
      "metadata": {
        "id": "9Gc1QZGOUy-K"
      },
      "source": [
        "- 제어 문자  \r\n",
        "제어 문자는 화면에 출력되지는 않지만 출력 결과를 제어한다고 해서 제어 문자라 부른다.  \r\n",
        ">\\n:다음 줄로 이동하며 개행  \r\n",
        "\\t:탭 문자, 키보드의 tab 키와 같으며 여러 칸을 띄움  \r\n",
        "\\\\ \\문자 자체를 출력할 때는 \\을 두 번 써야 한다."
      ]
    },
    {
      "cell_type": "code",
      "metadata": {
        "id": "eG4bPslpVjGS"
      },
      "source": [
        "print(1)\r\n",
        "print(1)\r\n",
        "print(1)"
      ],
      "execution_count": null,
      "outputs": []
    },
    {
      "cell_type": "code",
      "metadata": {
        "id": "GhG2zcRfVycD"
      },
      "source": [
        "#end 사용하기\r\n",
        "print(1,end='')#end에 빈 문자열을 지정하면 다음 번 출력이 바로 뒤에 오게 됨 defalt =end='\\n'\r\n",
        "print(2,end='')\r\n",
        "print(3)"
      ],
      "execution_count": null,
      "outputs": []
    },
    {
      "cell_type": "markdown",
      "metadata": {
        "id": "qAPavnSTV-lO"
      },
      "source": [
        "## 연습문제"
      ]
    },
    {
      "cell_type": "code",
      "metadata": {
        "id": "Cw6pO9dzWah0"
      },
      "source": [
        "year=2000\r\n",
        "month=10\r\n",
        "day=27\r\n",
        "hour=11\r\n",
        "minute=43\r\n",
        "second=59\r\n",
        "\r\n",
        "print(year,month,day,sep='/',end=' ')\r\n",
        "print(hour,minute,second,sep=':')"
      ],
      "execution_count": null,
      "outputs": []
    },
    {
      "cell_type": "markdown",
      "metadata": {
        "id": "FrxSJAXbXL-Z"
      },
      "source": [
        "# 8.불과 비교,논리 연산자 알아보기"
      ]
    },
    {
      "cell_type": "code",
      "metadata": {
        "id": "D15wWmMuWx27"
      },
      "source": [
        "#불과 비교 연산자 이용하기\r\n"
      ],
      "execution_count": null,
      "outputs": []
    },
    {
      "cell_type": "code",
      "metadata": {
        "id": "Vg_F6DQgmDq_"
      },
      "source": [
        ""
      ],
      "execution_count": null,
      "outputs": []
    }
  ]
}