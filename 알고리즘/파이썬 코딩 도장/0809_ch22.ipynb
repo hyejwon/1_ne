{
 "cells": [
  {
   "cell_type": "markdown",
   "id": "389c657c",
   "metadata": {},
   "source": [
    "# 22.리스트와 튜플 응용하기\n",
    "## 22.1 리스트 조작하기\n",
    "리스트를 조작하는 메서드(객체에 속한 함수)\n",
    "## 22.1.1 리스트에 요소 추가하기\n",
    "- append : 요소 하나를 추가\n",
    "- extend : 리스트를 연결하여 확장\n",
    "- insert : 특정 인덱스에 요소 추가\n",
    "\n",
    "## 22.1.2  리스트에 요소 하나 추가하기"
   ]
  },
  {
   "cell_type": "code",
   "execution_count": 2,
   "id": "1a758ab8",
   "metadata": {},
   "outputs": [],
   "source": [
    "a =[10,20,30]"
   ]
  },
  {
   "cell_type": "code",
   "execution_count": 3,
   "id": "e9743b03",
   "metadata": {},
   "outputs": [
    {
     "data": {
      "text/plain": [
       "[10, 20, 30]"
      ]
     },
     "execution_count": 3,
     "metadata": {},
     "output_type": "execute_result"
    }
   ],
   "source": [
    "a"
   ]
  },
  {
   "cell_type": "code",
   "execution_count": 4,
   "id": "14b2bda6",
   "metadata": {},
   "outputs": [],
   "source": [
    "a.append(500)"
   ]
  },
  {
   "cell_type": "code",
   "execution_count": 5,
   "id": "78a140c1",
   "metadata": {},
   "outputs": [
    {
     "data": {
      "text/plain": [
       "[10, 20, 30, 500]"
      ]
     },
     "execution_count": 5,
     "metadata": {},
     "output_type": "execute_result"
    }
   ],
   "source": [
    "a"
   ]
  },
  {
   "cell_type": "code",
   "execution_count": 6,
   "id": "55521254",
   "metadata": {},
   "outputs": [
    {
     "data": {
      "text/plain": [
       "4"
      ]
     },
     "execution_count": 6,
     "metadata": {},
     "output_type": "execute_result"
    }
   ],
   "source": [
    "len(a)"
   ]
  },
  {
   "cell_type": "code",
   "execution_count": 9,
   "id": "f8f4bc49",
   "metadata": {},
   "outputs": [],
   "source": [
    "a=[]\n",
    "a.append(10)"
   ]
  },
  {
   "cell_type": "code",
   "execution_count": 10,
   "id": "85ae73b7",
   "metadata": {},
   "outputs": [
    {
     "data": {
      "text/plain": [
       "[10]"
      ]
     },
     "execution_count": 10,
     "metadata": {},
     "output_type": "execute_result"
    }
   ],
   "source": [
    "a"
   ]
  },
  {
   "cell_type": "markdown",
   "id": "91946128",
   "metadata": {},
   "source": [
    "## 22.1.3 리스트 안에 리스트 추가하기"
   ]
  },
  {
   "cell_type": "code",
   "execution_count": 11,
   "id": "70366052",
   "metadata": {},
   "outputs": [],
   "source": [
    "a = [10,20,30]"
   ]
  },
  {
   "cell_type": "code",
   "execution_count": 12,
   "id": "2244d275",
   "metadata": {},
   "outputs": [
    {
     "data": {
      "text/plain": [
       "[10, 20, 30]"
      ]
     },
     "execution_count": 12,
     "metadata": {},
     "output_type": "execute_result"
    }
   ],
   "source": [
    "a"
   ]
  },
  {
   "cell_type": "code",
   "execution_count": 13,
   "id": "b180b107",
   "metadata": {},
   "outputs": [],
   "source": [
    "a.append([500,600])"
   ]
  },
  {
   "cell_type": "code",
   "execution_count": 14,
   "id": "137bcf6b",
   "metadata": {},
   "outputs": [
    {
     "data": {
      "text/plain": [
       "[10, 20, 30, [500, 600]]"
      ]
     },
     "execution_count": 14,
     "metadata": {},
     "output_type": "execute_result"
    }
   ],
   "source": [
    "a"
   ]
  },
  {
   "cell_type": "code",
   "execution_count": 15,
   "id": "06a63707",
   "metadata": {},
   "outputs": [
    {
     "data": {
      "text/plain": [
       "4"
      ]
     },
     "execution_count": 15,
     "metadata": {},
     "output_type": "execute_result"
    }
   ],
   "source": [
    "len(a)"
   ]
  },
  {
   "cell_type": "markdown",
   "id": "17bb30c3",
   "metadata": {},
   "source": [
    "## 22.1.4 리스트 확장하기\n",
    "리스트에 요소를 여러 개 추가 `extend(리스트)`"
   ]
  },
  {
   "cell_type": "code",
   "execution_count": 16,
   "id": "74577932",
   "metadata": {},
   "outputs": [],
   "source": [
    "a = [10, 20, 30]\n",
    "a.extend([500,600])"
   ]
  },
  {
   "cell_type": "code",
   "execution_count": 17,
   "id": "eb666d0c",
   "metadata": {},
   "outputs": [
    {
     "data": {
      "text/plain": [
       "[10, 20, 30, 500, 600]"
      ]
     },
     "execution_count": 17,
     "metadata": {},
     "output_type": "execute_result"
    }
   ],
   "source": [
    "a"
   ]
  },
  {
   "cell_type": "code",
   "execution_count": 18,
   "id": "c0867ff3",
   "metadata": {},
   "outputs": [
    {
     "data": {
      "text/plain": [
       "5"
      ]
     },
     "execution_count": 18,
     "metadata": {},
     "output_type": "execute_result"
    }
   ],
   "source": [
    "len(a)"
   ]
  },
  {
   "cell_type": "markdown",
   "id": "13c0d977",
   "metadata": {},
   "source": [
    "## 22.1.5 리스트의 특정 인덱스에 요소 추가하기"
   ]
  },
  {
   "cell_type": "code",
   "execution_count": 19,
   "id": "cf149b55",
   "metadata": {},
   "outputs": [],
   "source": [
    "a = [10,20,30]\n"
   ]
  },
  {
   "cell_type": "code",
   "execution_count": 20,
   "id": "c8c53c71",
   "metadata": {},
   "outputs": [
    {
     "data": {
      "text/plain": [
       "[10, 20, 30]"
      ]
     },
     "execution_count": 20,
     "metadata": {},
     "output_type": "execute_result"
    }
   ],
   "source": [
    "a"
   ]
  },
  {
   "cell_type": "code",
   "execution_count": 21,
   "id": "438cabe2",
   "metadata": {},
   "outputs": [],
   "source": [
    "a.insert(2,500)"
   ]
  },
  {
   "cell_type": "code",
   "execution_count": 22,
   "id": "a9bc9835",
   "metadata": {},
   "outputs": [
    {
     "data": {
      "text/plain": [
       "[10, 20, 500, 30]"
      ]
     },
     "execution_count": 22,
     "metadata": {},
     "output_type": "execute_result"
    }
   ],
   "source": [
    "a"
   ]
  },
  {
   "cell_type": "code",
   "execution_count": 23,
   "id": "b068a04e",
   "metadata": {},
   "outputs": [
    {
     "data": {
      "text/plain": [
       "4"
      ]
     },
     "execution_count": 23,
     "metadata": {},
     "output_type": "execute_result"
    }
   ],
   "source": [
    "len(a)"
   ]
  },
  {
   "cell_type": "markdown",
   "id": "8b6bb111",
   "metadata": {},
   "source": [
    "- insert(0,요소):리스트의 맨 처음에 요소를 추가\n",
    "- insert(len(리스트),요소) : 리스트 끝에 요소를 추가\n"
   ]
  },
  {
   "cell_type": "code",
   "execution_count": 24,
   "id": "40fed980",
   "metadata": {},
   "outputs": [],
   "source": [
    "a = [10,20,30]"
   ]
  },
  {
   "cell_type": "code",
   "execution_count": 25,
   "id": "33d4a460",
   "metadata": {},
   "outputs": [],
   "source": [
    "a.insert(0,500)"
   ]
  },
  {
   "cell_type": "code",
   "execution_count": 26,
   "id": "73eec9d6",
   "metadata": {},
   "outputs": [
    {
     "data": {
      "text/plain": [
       "[500, 10, 20, 30]"
      ]
     },
     "execution_count": 26,
     "metadata": {},
     "output_type": "execute_result"
    }
   ],
   "source": [
    "a"
   ]
  },
  {
   "cell_type": "code",
   "execution_count": 27,
   "id": "bef25787",
   "metadata": {},
   "outputs": [],
   "source": [
    "a = [10,20,30]\n",
    "a.insert(len(a),500)"
   ]
  },
  {
   "cell_type": "code",
   "execution_count": 28,
   "id": "1b3606f6",
   "metadata": {},
   "outputs": [
    {
     "data": {
      "text/plain": [
       "[10, 20, 30, 500]"
      ]
     },
     "execution_count": 28,
     "metadata": {},
     "output_type": "execute_result"
    }
   ],
   "source": [
    "a"
   ]
  },
  {
   "cell_type": "code",
   "execution_count": 30,
   "id": "dbc0e17a",
   "metadata": {},
   "outputs": [
    {
     "data": {
      "text/plain": [
       "[10, [500, 600], 20, 30]"
      ]
     },
     "execution_count": 30,
     "metadata": {},
     "output_type": "execute_result"
    }
   ],
   "source": [
    "#insert는 요소 하나를 추가하므로 insert에 리스트를 넣으면 append 처럼 리스트 안에 리스트가 들어간다\n",
    "a = [10,20,30]\n",
    "a.insert(1,[500,600])\n",
    "a"
   ]
  },
  {
   "cell_type": "code",
   "execution_count": 31,
   "id": "b52d0aaa",
   "metadata": {},
   "outputs": [
    {
     "data": {
      "text/plain": [
       "[10, 500, 600, 20, 30]"
      ]
     },
     "execution_count": 31,
     "metadata": {},
     "output_type": "execute_result"
    }
   ],
   "source": [
    "#리스트 중간에 요소 여러개를 추가\n",
    "a = [10,20,30]\n",
    "a[1:1]=[500,600]\n",
    "a"
   ]
  },
  {
   "cell_type": "markdown",
   "id": "88a29090",
   "metadata": {},
   "source": [
    "a[1:1] = [500, 600]과 같이 시작 인덱스와 끝 인덱스를 같게 지정하면 해당 인덱스의 요소를 덮어쓰지 않으면서 요소 여러 개를 중간에 추가할 수 있습니다."
   ]
  },
  {
   "cell_type": "markdown",
   "id": "c0598c53",
   "metadata": {},
   "source": [
    "## 22.1.6 리스트에서 요소 삭제하기\n",
    "- pop : 마지막 요소 또는 특정 인덱스의 요소를 삭제\n",
    "- remove : 특정 값을 찾아서 삭제\n",
    "\n",
    "## 22.1.7 리스트에서 특정 인덱스의 요소를 삭제하기\n",
    "pop()은 리스트의 마지막 요소를 삭제한 뒤 삭제한 요소를 반환한다"
   ]
  },
  {
   "cell_type": "code",
   "execution_count": 33,
   "id": "35ecb1f6",
   "metadata": {},
   "outputs": [
    {
     "data": {
      "text/plain": [
       "30"
      ]
     },
     "execution_count": 33,
     "metadata": {},
     "output_type": "execute_result"
    }
   ],
   "source": [
    "a = [10,20,30]\n",
    "a.pop()"
   ]
  },
  {
   "cell_type": "code",
   "execution_count": 34,
   "id": "4ebeba2f",
   "metadata": {},
   "outputs": [
    {
     "data": {
      "text/plain": [
       "[10, 20]"
      ]
     },
     "execution_count": 34,
     "metadata": {},
     "output_type": "execute_result"
    }
   ],
   "source": [
    "a"
   ]
  },
  {
   "cell_type": "code",
   "execution_count": 35,
   "id": "acfb0e5c",
   "metadata": {},
   "outputs": [
    {
     "data": {
      "text/plain": [
       "20"
      ]
     },
     "execution_count": 35,
     "metadata": {},
     "output_type": "execute_result"
    }
   ],
   "source": [
    "a=[10,20,30]\n",
    "a.pop(1)"
   ]
  },
  {
   "cell_type": "code",
   "execution_count": 36,
   "id": "e60bafbe",
   "metadata": {},
   "outputs": [
    {
     "data": {
      "text/plain": [
       "[10, 30]"
      ]
     },
     "execution_count": 36,
     "metadata": {},
     "output_type": "execute_result"
    }
   ],
   "source": [
    "a"
   ]
  },
  {
   "cell_type": "code",
   "execution_count": 37,
   "id": "a1971ce1",
   "metadata": {},
   "outputs": [
    {
     "data": {
      "text/plain": [
       "[10]"
      ]
     },
     "execution_count": 37,
     "metadata": {},
     "output_type": "execute_result"
    }
   ],
   "source": [
    "#pop대신 del 사용\n",
    "del a[1]\n",
    "a"
   ]
  },
  {
   "cell_type": "markdown",
   "id": "7f247bfd",
   "metadata": {},
   "source": [
    "## 22.1.8 리스트에서 특정 값을 찾아서 삭제하기\n",
    "remove(값)은 리스트에서 특정 값을 찾아서 삭제한다\n"
   ]
  },
  {
   "cell_type": "code",
   "execution_count": 38,
   "id": "205664f1",
   "metadata": {},
   "outputs": [],
   "source": [
    "a=[10,20,30]\n",
    "a.remove(20)"
   ]
  },
  {
   "cell_type": "code",
   "execution_count": 39,
   "id": "225f0793",
   "metadata": {},
   "outputs": [
    {
     "data": {
      "text/plain": [
       "[10, 30]"
      ]
     },
     "execution_count": 39,
     "metadata": {},
     "output_type": "execute_result"
    }
   ],
   "source": [
    "a"
   ]
  },
  {
   "cell_type": "code",
   "execution_count": 41,
   "id": "081da119",
   "metadata": {},
   "outputs": [
    {
     "data": {
      "text/plain": [
       "[10, 30, 20]"
      ]
     },
     "execution_count": 41,
     "metadata": {},
     "output_type": "execute_result"
    }
   ],
   "source": [
    "#만약 리스트에 같은 값이 여러 개 있을 경우 처음 찾은 값을 삭제\n",
    "a = [10,20,30,20]\n",
    "a.remove(20)\n",
    "a"
   ]
  },
  {
   "cell_type": "markdown",
   "id": "4f6d1ce5",
   "metadata": {},
   "source": [
    "**리스트로 스택과 큐 만들기**  \n",
    "지금까지 알아본 리스트의 메서드로 스택(stack)과 큐(queue)를 만들 수 있습니다. 다음과 같이 append와 pop을 호출하는 그림을 90도 돌리면 스택의 모습이 됩니다.\n",
    "\n",
    "여기서 pop() 대신 pop(0)을 사용하면 큐가 됩니다.\n",
    "\n",
    "물론 append(), pop(0)이 아닌 insert(0, 요소), pop()을 사용해서 추가/삭제 방향을 반대로 해도 큐가 됩니다.\n",
    "\n",
    "파이썬에서 스택은 리스트를 그대로 활용해도 되지만, 큐는 좀 더 효율적으로 사용할 수 있도록 덱(deque, double ended queue)이라는 자료형을 제공합니다. 덱은 양쪽 끝에서 추가/삭제가 가능한 자료 구조입니다"
   ]
  },
  {
   "cell_type": "code",
   "execution_count": 42,
   "id": "4446ba96",
   "metadata": {},
   "outputs": [],
   "source": [
    "from collections import deque\n",
    "a=deque([10,20,30])"
   ]
  },
  {
   "cell_type": "code",
   "execution_count": 43,
   "id": "cafb51f2",
   "metadata": {},
   "outputs": [
    {
     "data": {
      "text/plain": [
       "deque([10, 20, 30])"
      ]
     },
     "execution_count": 43,
     "metadata": {},
     "output_type": "execute_result"
    }
   ],
   "source": [
    "a"
   ]
  },
  {
   "cell_type": "code",
   "execution_count": 44,
   "id": "ff25ba00",
   "metadata": {},
   "outputs": [],
   "source": [
    "a.append(500)"
   ]
  },
  {
   "cell_type": "code",
   "execution_count": 45,
   "id": "8cd28203",
   "metadata": {},
   "outputs": [
    {
     "data": {
      "text/plain": [
       "deque([10, 20, 30, 500])"
      ]
     },
     "execution_count": 45,
     "metadata": {},
     "output_type": "execute_result"
    }
   ],
   "source": [
    "a"
   ]
  },
  {
   "cell_type": "code",
   "execution_count": 46,
   "id": "00903608",
   "metadata": {},
   "outputs": [
    {
     "data": {
      "text/plain": [
       "10"
      ]
     },
     "execution_count": 46,
     "metadata": {},
     "output_type": "execute_result"
    }
   ],
   "source": [
    "a.popleft()"
   ]
  },
  {
   "cell_type": "code",
   "execution_count": 47,
   "id": "a6fb4de1",
   "metadata": {},
   "outputs": [
    {
     "data": {
      "text/plain": [
       "deque([20, 30, 500])"
      ]
     },
     "execution_count": 47,
     "metadata": {},
     "output_type": "execute_result"
    }
   ],
   "source": [
    "a"
   ]
  },
  {
   "cell_type": "markdown",
   "id": "feecb043",
   "metadata": {},
   "source": [
    "deque의 append는 덱의 오른쪽에 요소를 추가하고, popleft는 덱의 왼쪽 요소를 삭제합니다. 반대로 appendleft는 덱의 왼쪽에 요소를 추가하고, pop으로 덱의 오른쪽 요소를 삭제할 수도 있습니다."
   ]
  },
  {
   "cell_type": "markdown",
   "id": "3a9b8fed",
   "metadata": {},
   "source": [
    "**리스트로 스택 만들기**\n",
    "![](https://dojang.io/pluginfile.php/13694/mod_page/content/6/022007.png)"
   ]
  },
  {
   "cell_type": "markdown",
   "id": "11157d38",
   "metadata": {},
   "source": [
    "**리스트로 큐 만들기**\n",
    "![](https://dojang.io/pluginfile.php/13694/mod_page/content/6/022008.png)"
   ]
  },
  {
   "cell_type": "markdown",
   "id": "40e29f63",
   "metadata": {},
   "source": [
    "## 22.1.9 리스트에서 특정 값의 인덱스 구하기\n",
    "index(값)은 리스트에서 특정 인덱스를 구한다"
   ]
  },
  {
   "cell_type": "code",
   "execution_count": 49,
   "id": "bbd286ee",
   "metadata": {},
   "outputs": [
    {
     "data": {
      "text/plain": [
       "1"
      ]
     },
     "execution_count": 49,
     "metadata": {},
     "output_type": "execute_result"
    }
   ],
   "source": [
    "a = [10,20,30,15,20,40]\n",
    "a.index(20)"
   ]
  },
  {
   "cell_type": "code",
   "execution_count": 50,
   "id": "5bd3de08",
   "metadata": {},
   "outputs": [
    {
     "data": {
      "text/plain": [
       "[10, 20, 30, 15, 20, 40]"
      ]
     },
     "execution_count": 50,
     "metadata": {},
     "output_type": "execute_result"
    }
   ],
   "source": [
    "a"
   ]
  },
  {
   "cell_type": "markdown",
   "id": "60ac56a8",
   "metadata": {},
   "source": [
    "## 22.1.10 특정 값의 개수 구하기"
   ]
  },
  {
   "cell_type": "code",
   "execution_count": 51,
   "id": "dbf63db9",
   "metadata": {},
   "outputs": [
    {
     "data": {
      "text/plain": [
       "2"
      ]
     },
     "execution_count": 51,
     "metadata": {},
     "output_type": "execute_result"
    }
   ],
   "source": [
    "a = [10,20,30,15,20,40]\n",
    "a.count(20)"
   ]
  },
  {
   "cell_type": "markdown",
   "id": "dd4d0fde",
   "metadata": {},
   "source": [
    "## 22.1.11 리스트의 순서를 뒤집기"
   ]
  },
  {
   "cell_type": "code",
   "execution_count": 52,
   "id": "3c75bb48",
   "metadata": {},
   "outputs": [
    {
     "data": {
      "text/plain": [
       "[40, 20, 15, 30, 20, 10]"
      ]
     },
     "execution_count": 52,
     "metadata": {},
     "output_type": "execute_result"
    }
   ],
   "source": [
    "a = [10,20,30,15,20,40]\n",
    "a.reverse()\n",
    "a"
   ]
  },
  {
   "cell_type": "markdown",
   "id": "3589ab68",
   "metadata": {},
   "source": [
    "## 22.1.12 리스트의 요소를 정렬하기"
   ]
  },
  {
   "cell_type": "code",
   "execution_count": 53,
   "id": "e67fdb6d",
   "metadata": {},
   "outputs": [
    {
     "data": {
      "text/plain": [
       "[10, 15, 20, 20, 30, 40]"
      ]
     },
     "execution_count": 53,
     "metadata": {},
     "output_type": "execute_result"
    }
   ],
   "source": [
    "a = [10,20,30,15,20,40]\n",
    "a.sort()#오름차순\n",
    "a"
   ]
  },
  {
   "cell_type": "code",
   "execution_count": 54,
   "id": "12ee0a3f",
   "metadata": {},
   "outputs": [
    {
     "data": {
      "text/plain": [
       "[40, 30, 20, 20, 15, 10]"
      ]
     },
     "execution_count": 54,
     "metadata": {},
     "output_type": "execute_result"
    }
   ],
   "source": [
    "a.sort(reverse=True)#내림차순\n",
    "a"
   ]
  },
  {
   "cell_type": "markdown",
   "id": "9b592133",
   "metadata": {},
   "source": [
    "## 22.1.13 리스트의 모든 요소를 삭제하기"
   ]
  },
  {
   "cell_type": "code",
   "execution_count": 57,
   "id": "3751dfc1",
   "metadata": {},
   "outputs": [],
   "source": [
    "a = [10,20,30]\n",
    "a.clear()"
   ]
  },
  {
   "cell_type": "code",
   "execution_count": 58,
   "id": "f1f942d9",
   "metadata": {},
   "outputs": [
    {
     "data": {
      "text/plain": [
       "[]"
      ]
     },
     "execution_count": 58,
     "metadata": {},
     "output_type": "execute_result"
    }
   ],
   "source": [
    "a"
   ]
  },
  {
   "cell_type": "markdown",
   "id": "e4af5d01",
   "metadata": {},
   "source": [
    "## 22.1.14 리스트를 슬라이스로 조작하기"
   ]
  },
  {
   "cell_type": "code",
   "execution_count": 59,
   "id": "d5137362",
   "metadata": {},
   "outputs": [],
   "source": [
    "a = [10,20,30]\n",
    "a[len(a):] = [500]#리스트 끝에 값이 한 개 들어있는 리스트를 추가"
   ]
  },
  {
   "cell_type": "code",
   "execution_count": 60,
   "id": "24903a9e",
   "metadata": {},
   "outputs": [
    {
     "data": {
      "text/plain": [
       "[10, 20, 30, 500]"
      ]
     },
     "execution_count": 60,
     "metadata": {},
     "output_type": "execute_result"
    }
   ],
   "source": [
    "a"
   ]
  },
  {
   "cell_type": "code",
   "execution_count": 68,
   "id": "b1a6ba7b",
   "metadata": {},
   "outputs": [],
   "source": [
    "a = [10,20,30]\n",
    "a[len(a):]=[500,600]"
   ]
  },
  {
   "cell_type": "code",
   "execution_count": 69,
   "id": "8ec182d7",
   "metadata": {},
   "outputs": [
    {
     "data": {
      "text/plain": [
       "[10, 20, 30, 500, 600]"
      ]
     },
     "execution_count": 69,
     "metadata": {},
     "output_type": "execute_result"
    }
   ],
   "source": [
    "a"
   ]
  },
  {
   "cell_type": "markdown",
   "id": "7a9d3458",
   "metadata": {},
   "source": [
    "**리스트가 비어있는지 확인하기**"
   ]
  },
  {
   "cell_type": "code",
   "execution_count": 72,
   "id": "74439761",
   "metadata": {},
   "outputs": [],
   "source": [
    "seq = [10, 20, 30]"
   ]
  },
  {
   "cell_type": "code",
   "execution_count": 73,
   "id": "ce910d93",
   "metadata": {},
   "outputs": [
    {
     "data": {
      "text/plain": [
       "30"
      ]
     },
     "execution_count": 73,
     "metadata": {},
     "output_type": "execute_result"
    }
   ],
   "source": [
    "seq[-1]"
   ]
  },
  {
   "cell_type": "code",
   "execution_count": 74,
   "id": "c7da249e",
   "metadata": {},
   "outputs": [
    {
     "ename": "IndexError",
     "evalue": "list index out of range",
     "output_type": "error",
     "traceback": [
      "\u001b[0;31m---------------------------------------------------------------------------\u001b[0m",
      "\u001b[0;31mIndexError\u001b[0m                                Traceback (most recent call last)",
      "\u001b[0;32m<ipython-input-74-7700e9767d41>\u001b[0m in \u001b[0;36m<module>\u001b[0;34m\u001b[0m\n\u001b[1;32m      1\u001b[0m \u001b[0ma\u001b[0m \u001b[0;34m=\u001b[0m \u001b[0;34m[\u001b[0m\u001b[0;34m]\u001b[0m\u001b[0;34m\u001b[0m\u001b[0;34m\u001b[0m\u001b[0m\n\u001b[0;32m----> 2\u001b[0;31m \u001b[0ma\u001b[0m\u001b[0;34m[\u001b[0m\u001b[0;34m-\u001b[0m\u001b[0;36m1\u001b[0m\u001b[0;34m]\u001b[0m\u001b[0;34m\u001b[0m\u001b[0;34m\u001b[0m\u001b[0m\n\u001b[0m",
      "\u001b[0;31mIndexError\u001b[0m: list index out of range"
     ]
    }
   ],
   "source": [
    "a = []\n",
    "a[-1]"
   ]
  },
  {
   "cell_type": "code",
   "execution_count": 75,
   "id": "eaab932f",
   "metadata": {},
   "outputs": [],
   "source": [
    "seq=[]\n",
    "if seq:\n",
    "    print(seq[-1])"
   ]
  },
  {
   "cell_type": "markdown",
   "id": "b14fd3e0",
   "metadata": {},
   "source": [
    "```python\n",
    "if not len(seq):    # 리스트가 비어 있으면 True\n",
    "if len(seq):        # 리스트에 요소가 있으면 True\n",
    "\n",
    "if not seq:    # 리스트가 비어 있으면 True\n",
    "if seq:        # 리스트에 내용이 있으면 True    \n",
    "    \n",
    "    \n",
    "```"
   ]
  },
  {
   "cell_type": "markdown",
   "id": "b90aae2b",
   "metadata": {},
   "source": [
    "## 22.2 리스트의 할당과 복사 알아보기"
   ]
  },
  {
   "cell_type": "code",
   "execution_count": 76,
   "id": "4f013bc8",
   "metadata": {},
   "outputs": [],
   "source": [
    "a = [0,0,0,0,0]\n",
    "b = a"
   ]
  },
  {
   "cell_type": "code",
   "execution_count": 77,
   "id": "f3a9cf65",
   "metadata": {},
   "outputs": [
    {
     "data": {
      "text/plain": [
       "True"
      ]
     },
     "execution_count": 77,
     "metadata": {},
     "output_type": "execute_result"
    }
   ],
   "source": [
    "a is b#a 와 b 는 같은 객체"
   ]
  },
  {
   "cell_type": "code",
   "execution_count": 78,
   "id": "70405727",
   "metadata": {},
   "outputs": [
    {
     "data": {
      "text/plain": [
       "[0, 0, 99, 0, 0]"
      ]
     },
     "execution_count": 78,
     "metadata": {},
     "output_type": "execute_result"
    }
   ],
   "source": [
    "b[2]=99\n",
    "a"
   ]
  },
  {
   "cell_type": "code",
   "execution_count": 79,
   "id": "835e25f1",
   "metadata": {},
   "outputs": [
    {
     "data": {
      "text/plain": [
       "[0, 0, 99, 0, 0]"
      ]
     },
     "execution_count": 79,
     "metadata": {},
     "output_type": "execute_result"
    }
   ],
   "source": [
    "b"
   ]
  },
  {
   "cell_type": "code",
   "execution_count": 80,
   "id": "05929168",
   "metadata": {},
   "outputs": [],
   "source": [
    "#리스트 a와 b를 완전히 두 개로 만들려면 copy 메서드로 모든 요소를 복사\n",
    "a = [0,0,0,0,0]\n",
    "b=a.copy()"
   ]
  },
  {
   "cell_type": "code",
   "execution_count": 81,
   "id": "780438c8",
   "metadata": {},
   "outputs": [
    {
     "data": {
      "text/plain": [
       "[0, 0, 0, 0, 0]"
      ]
     },
     "execution_count": 81,
     "metadata": {},
     "output_type": "execute_result"
    }
   ],
   "source": [
    "b"
   ]
  },
  {
   "cell_type": "code",
   "execution_count": 82,
   "id": "834cf584",
   "metadata": {},
   "outputs": [
    {
     "data": {
      "text/plain": [
       "[0, 0, 0, 0, 0]"
      ]
     },
     "execution_count": 82,
     "metadata": {},
     "output_type": "execute_result"
    }
   ],
   "source": [
    "a"
   ]
  },
  {
   "cell_type": "code",
   "execution_count": 83,
   "id": "1ca38aab",
   "metadata": {},
   "outputs": [
    {
     "data": {
      "text/plain": [
       "False"
      ]
     },
     "execution_count": 83,
     "metadata": {},
     "output_type": "execute_result"
    }
   ],
   "source": [
    "a is b # a 와 b 는 다른 객체"
   ]
  },
  {
   "cell_type": "code",
   "execution_count": 84,
   "id": "b54e23f1",
   "metadata": {},
   "outputs": [
    {
     "data": {
      "text/plain": [
       "True"
      ]
     },
     "execution_count": 84,
     "metadata": {},
     "output_type": "execute_result"
    }
   ],
   "source": [
    "a == b #복사된 요소는 같다 "
   ]
  },
  {
   "cell_type": "code",
   "execution_count": 85,
   "id": "96008ceb",
   "metadata": {},
   "outputs": [],
   "source": [
    "b[2]=99"
   ]
  },
  {
   "cell_type": "code",
   "execution_count": 86,
   "id": "e093a457",
   "metadata": {},
   "outputs": [
    {
     "data": {
      "text/plain": [
       "[0, 0, 0, 0, 0]"
      ]
     },
     "execution_count": 86,
     "metadata": {},
     "output_type": "execute_result"
    }
   ],
   "source": [
    "a\n"
   ]
  },
  {
   "cell_type": "code",
   "execution_count": 87,
   "id": "e8b77a3c",
   "metadata": {},
   "outputs": [
    {
     "data": {
      "text/plain": [
       "[0, 0, 99, 0, 0]"
      ]
     },
     "execution_count": 87,
     "metadata": {},
     "output_type": "execute_result"
    }
   ],
   "source": [
    "b"
   ]
  },
  {
   "cell_type": "markdown",
   "id": "e537229a",
   "metadata": {},
   "source": [
    "## 22.3 반복문으로 리스트의 요소를 모두 출력 \n",
    "for 반복문은 그냥 in 뒤에 리스트를 지정하면 된다\n",
    "```python\n",
    "for 변수 in 리스트:\n",
    "    반복할 코드\n",
    " ```"
   ]
  },
  {
   "cell_type": "code",
   "execution_count": 88,
   "id": "39d50599",
   "metadata": {},
   "outputs": [
    {
     "name": "stdout",
     "output_type": "stream",
     "text": [
      "38\n",
      "21\n",
      "53\n",
      "62\n",
      "19\n"
     ]
    }
   ],
   "source": [
    "a = [38,21,53,62,19]\n",
    "for i in a:\n",
    "    print(i)"
   ]
  },
  {
   "cell_type": "code",
   "execution_count": 1,
   "id": "f89b87ce",
   "metadata": {},
   "outputs": [
    {
     "name": "stdout",
     "output_type": "stream",
     "text": [
      "38\n",
      "21\n",
      "53\n",
      "62\n",
      "19\n"
     ]
    }
   ],
   "source": [
    "for i in [38, 21, 53, 62, 19]:\n",
    "    print(i)"
   ]
  },
  {
   "cell_type": "markdown",
   "id": "3ccac6f8",
   "metadata": {},
   "source": [
    "## 22.3.2 인덱스와 요소를 함께 출력하기"
   ]
  },
  {
   "cell_type": "code",
   "execution_count": 4,
   "id": "58029feb",
   "metadata": {},
   "outputs": [
    {
     "name": "stdout",
     "output_type": "stream",
     "text": [
      "0 38\n",
      "1 21\n",
      "2 53\n",
      "3 62\n",
      "4 19\n"
     ]
    }
   ],
   "source": [
    "#for 인덱스, 요소 in enumerate(리스트)\n",
    "a = [38,21,53,62,19]\n",
    "for index,value in enumerate(a):\n",
    "    print(index,value)"
   ]
  },
  {
   "cell_type": "markdown",
   "id": "0943bd4d",
   "metadata": {},
   "source": [
    "enumerate에 리스트를 넣으면 for 반복문에서 인덱스와 요소를 동시에 꺼내올수 있다"
   ]
  },
  {
   "cell_type": "code",
   "execution_count": 5,
   "id": "43c91f74",
   "metadata": {},
   "outputs": [
    {
     "name": "stdout",
     "output_type": "stream",
     "text": [
      "1 38\n",
      "2 21\n",
      "3 53\n",
      "4 62\n",
      "5 19\n"
     ]
    }
   ],
   "source": [
    "#index를 1부터 출력\n",
    "for index, value in enumerate(a):\n",
    "    print(index + 1,value)"
   ]
  },
  {
   "cell_type": "code",
   "execution_count": 6,
   "id": "c6cb45a2",
   "metadata": {},
   "outputs": [
    {
     "name": "stdout",
     "output_type": "stream",
     "text": [
      "1 38\n",
      "2 21\n",
      "3 53\n",
      "4 62\n",
      "5 19\n"
     ]
    }
   ],
   "source": [
    "for index, value in enumerate(a,start=1):\n",
    "    print(index,value)"
   ]
  },
  {
   "cell_type": "markdown",
   "id": "c7e18012",
   "metadata": {},
   "source": [
    "**for 반복문에서 인덱스로 요소를 출력하기**"
   ]
  },
  {
   "cell_type": "code",
   "execution_count": 7,
   "id": "230cad1e",
   "metadata": {},
   "outputs": [
    {
     "name": "stdout",
     "output_type": "stream",
     "text": [
      "38\n",
      "21\n",
      "53\n",
      "62\n",
      "19\n"
     ]
    }
   ],
   "source": [
    "a = [38,21,53,62,19]\n",
    "for i in range(len(a)):\n",
    "    print(a[i])"
   ]
  },
  {
   "cell_type": "code",
   "execution_count": 8,
   "id": "69f3cb6d",
   "metadata": {},
   "outputs": [
    {
     "data": {
      "text/plain": [
       "5"
      ]
     },
     "execution_count": 8,
     "metadata": {},
     "output_type": "execute_result"
    }
   ],
   "source": [
    "len(a)"
   ]
  },
  {
   "cell_type": "markdown",
   "id": "9e6d3e46",
   "metadata": {},
   "source": [
    "## 22.3.3 while 반복문으로 요소 출력하기"
   ]
  },
  {
   "cell_type": "code",
   "execution_count": 10,
   "id": "314ac4e1",
   "metadata": {},
   "outputs": [
    {
     "name": "stdout",
     "output_type": "stream",
     "text": [
      "38\n",
      "21\n",
      "53\n",
      "62\n",
      "19\n"
     ]
    }
   ],
   "source": [
    "a = [38,21,53,62,19]\n",
    "i = 0\n",
    "while i < len(a):\n",
    "    print(a[i])\n",
    "    i+=1"
   ]
  },
  {
   "cell_type": "markdown",
   "id": "6b3c9fa6",
   "metadata": {},
   "source": [
    "while 반복문으로 리스트의 요소를 출력할 때는 변수 i를 인덱스로 활용\n",
    "\n",
    "먼저 변수 i를 0으로 만들어주고, i < len(a)처럼 i가 리스트의 길이(요소 개수) 직전까지만 반복하도록 만듭니다.\n",
    "\n",
    "즉, 리스트의 인덱스는 0부터 시작하고 마지막 인덱스는 리스트의 길이보다 1이 작으므로 <를 사용합니다. 만약 i <= len(a)처럼 <=을 사용하면 리스트의 범위를 벗어나게 되므로 주의해야 합니다."
   ]
  },
  {
   "cell_type": "code",
   "execution_count": 11,
   "id": "87a94fbe",
   "metadata": {},
   "outputs": [
    {
     "name": "stdout",
     "output_type": "stream",
     "text": [
      "38\n",
      "21\n",
      "53\n",
      "62\n",
      "19\n"
     ]
    },
    {
     "ename": "IndexError",
     "evalue": "list index out of range",
     "output_type": "error",
     "traceback": [
      "\u001b[0;31m---------------------------------------------------------------------------\u001b[0m",
      "\u001b[0;31mIndexError\u001b[0m                                Traceback (most recent call last)",
      "\u001b[0;32m<ipython-input-11-202474ae50c7>\u001b[0m in \u001b[0;36m<module>\u001b[0;34m\u001b[0m\n\u001b[1;32m      2\u001b[0m \u001b[0mi\u001b[0m \u001b[0;34m=\u001b[0m \u001b[0;36m0\u001b[0m\u001b[0;34m\u001b[0m\u001b[0;34m\u001b[0m\u001b[0m\n\u001b[1;32m      3\u001b[0m \u001b[0;32mwhile\u001b[0m \u001b[0mi\u001b[0m \u001b[0;34m<=\u001b[0m\u001b[0mlen\u001b[0m\u001b[0;34m(\u001b[0m\u001b[0ma\u001b[0m\u001b[0;34m)\u001b[0m\u001b[0;34m:\u001b[0m\u001b[0;34m\u001b[0m\u001b[0;34m\u001b[0m\u001b[0m\n\u001b[0;32m----> 4\u001b[0;31m     \u001b[0mprint\u001b[0m\u001b[0;34m(\u001b[0m\u001b[0ma\u001b[0m\u001b[0;34m[\u001b[0m\u001b[0mi\u001b[0m\u001b[0;34m]\u001b[0m\u001b[0;34m)\u001b[0m\u001b[0;34m\u001b[0m\u001b[0;34m\u001b[0m\u001b[0m\n\u001b[0m\u001b[1;32m      5\u001b[0m     \u001b[0mi\u001b[0m \u001b[0;34m+=\u001b[0m \u001b[0;36m1\u001b[0m\u001b[0;34m\u001b[0m\u001b[0;34m\u001b[0m\u001b[0m\n",
      "\u001b[0;31mIndexError\u001b[0m: list index out of range"
     ]
    }
   ],
   "source": [
    "a = [38,21,53,62,19]\n",
    "i = 0\n",
    "while i <=len(a):\n",
    "    print(a[i])\n",
    "    i += 1"
   ]
  },
  {
   "cell_type": "code",
   "execution_count": 12,
   "id": "077b50a5",
   "metadata": {},
   "outputs": [],
   "source": [
    "while i < len(a):\n",
    "    print(a[i])\n",
    "    i += 1"
   ]
  },
  {
   "cell_type": "markdown",
   "id": "5aa104c3",
   "metadata": {},
   "source": [
    "## 22.4.1 가장 작은 수와 가장 큰 수 구하기"
   ]
  },
  {
   "cell_type": "code",
   "execution_count": 1,
   "id": "e3903aae",
   "metadata": {},
   "outputs": [],
   "source": [
    "a = [38,21,53,62,19]\n",
    "smallest=a[0]"
   ]
  },
  {
   "cell_type": "code",
   "execution_count": 2,
   "id": "61982ca2",
   "metadata": {},
   "outputs": [
    {
     "data": {
      "text/plain": [
       "38"
      ]
     },
     "execution_count": 2,
     "metadata": {},
     "output_type": "execute_result"
    }
   ],
   "source": [
    "smallest"
   ]
  },
  {
   "cell_type": "code",
   "execution_count": 3,
   "id": "324b0224",
   "metadata": {},
   "outputs": [],
   "source": [
    "for i in a:\n",
    "    if i < smallest:\n",
    "        smallest = i"
   ]
  },
  {
   "cell_type": "code",
   "execution_count": 4,
   "id": "8f084b1e",
   "metadata": {},
   "outputs": [
    {
     "data": {
      "text/plain": [
       "19"
      ]
     },
     "execution_count": 4,
     "metadata": {},
     "output_type": "execute_result"
    }
   ],
   "source": [
    "smallest"
   ]
  },
  {
   "cell_type": "code",
   "execution_count": 5,
   "id": "00e55bd4",
   "metadata": {},
   "outputs": [],
   "source": [
    "a = [38,21,53,62,19]\n",
    "largest=a[0]\n",
    "for i in a:\n",
    "    if i  > largest:\n",
    "        largest = i\n",
    "        "
   ]
  },
  {
   "cell_type": "code",
   "execution_count": 6,
   "id": "3e341c13",
   "metadata": {},
   "outputs": [
    {
     "data": {
      "text/plain": [
       "62"
      ]
     },
     "execution_count": 6,
     "metadata": {},
     "output_type": "execute_result"
    }
   ],
   "source": [
    "largest"
   ]
  },
  {
   "cell_type": "code",
   "execution_count": 7,
   "id": "fc4d656b",
   "metadata": {},
   "outputs": [],
   "source": [
    "#sort 메서드\n",
    "a = [38, 21, 53, 62, 19]\n",
    "a.sort()"
   ]
  },
  {
   "cell_type": "code",
   "execution_count": 8,
   "id": "5c3aed50",
   "metadata": {},
   "outputs": [
    {
     "data": {
      "text/plain": [
       "[19, 21, 38, 53, 62]"
      ]
     },
     "execution_count": 8,
     "metadata": {},
     "output_type": "execute_result"
    }
   ],
   "source": [
    "a #오름차순"
   ]
  },
  {
   "cell_type": "code",
   "execution_count": 9,
   "id": "8efd7660",
   "metadata": {},
   "outputs": [
    {
     "data": {
      "text/plain": [
       "19"
      ]
     },
     "execution_count": 9,
     "metadata": {},
     "output_type": "execute_result"
    }
   ],
   "source": [
    "a[0]"
   ]
  },
  {
   "cell_type": "code",
   "execution_count": 10,
   "id": "f18023fd",
   "metadata": {},
   "outputs": [],
   "source": [
    "a.sort(reverse=True)"
   ]
  },
  {
   "cell_type": "code",
   "execution_count": 11,
   "id": "53058d2e",
   "metadata": {},
   "outputs": [
    {
     "data": {
      "text/plain": [
       "[62, 53, 38, 21, 19]"
      ]
     },
     "execution_count": 11,
     "metadata": {},
     "output_type": "execute_result"
    }
   ],
   "source": [
    "a"
   ]
  },
  {
   "cell_type": "code",
   "execution_count": 12,
   "id": "efeb045d",
   "metadata": {},
   "outputs": [
    {
     "data": {
      "text/plain": [
       "62"
      ]
     },
     "execution_count": 12,
     "metadata": {},
     "output_type": "execute_result"
    }
   ],
   "source": [
    "a[0]"
   ]
  },
  {
   "cell_type": "code",
   "execution_count": 14,
   "id": "ae5d1f30",
   "metadata": {},
   "outputs": [
    {
     "data": {
      "text/plain": [
       "19"
      ]
     },
     "execution_count": 14,
     "metadata": {},
     "output_type": "execute_result"
    }
   ],
   "source": [
    "#min,max 합수 \n",
    "a = [38,21,53,62,19]\n",
    "min(a)#리스트에서 가장 작은값"
   ]
  },
  {
   "cell_type": "code",
   "execution_count": 15,
   "id": "46bbc004",
   "metadata": {},
   "outputs": [
    {
     "data": {
      "text/plain": [
       "62"
      ]
     },
     "execution_count": 15,
     "metadata": {},
     "output_type": "execute_result"
    }
   ],
   "source": [
    "max(a)#리스트에서 가장 큰값"
   ]
  },
  {
   "cell_type": "markdown",
   "id": "5ae98662",
   "metadata": {},
   "source": [
    "## 22.4.2 요소의 합계 구하기"
   ]
  },
  {
   "cell_type": "code",
   "execution_count": 16,
   "id": "4f2b588f",
   "metadata": {},
   "outputs": [],
   "source": [
    "a = [10,10,10,10,10]\n",
    "x = 0\n",
    "for i in a:\n",
    "    x+=i"
   ]
  },
  {
   "cell_type": "code",
   "execution_count": 17,
   "id": "4d33e707",
   "metadata": {},
   "outputs": [
    {
     "data": {
      "text/plain": [
       "50"
      ]
     },
     "execution_count": 17,
     "metadata": {},
     "output_type": "execute_result"
    }
   ],
   "source": [
    "x"
   ]
  },
  {
   "cell_type": "markdown",
   "id": "11e3dd8d",
   "metadata": {},
   "source": [
    "변수 x 에 0을 할당하고 for 반복문으로 리스트의 요소를 모두 반복하면서\n",
    "요소를 x에 계속 더해주면 됨"
   ]
  },
  {
   "cell_type": "code",
   "execution_count": 18,
   "id": "89a5d8c2",
   "metadata": {},
   "outputs": [
    {
     "data": {
      "text/plain": [
       "50"
      ]
     },
     "execution_count": 18,
     "metadata": {},
     "output_type": "execute_result"
    }
   ],
   "source": [
    "#sum\n",
    "sum(a)"
   ]
  },
  {
   "cell_type": "code",
   "execution_count": null,
   "id": "5d5879d8",
   "metadata": {},
   "outputs": [],
   "source": []
  }
 ],
 "metadata": {
  "kernelspec": {
   "display_name": "Python 3",
   "language": "python",
   "name": "python3"
  },
  "language_info": {
   "codemirror_mode": {
    "name": "ipython",
    "version": 3
   },
   "file_extension": ".py",
   "mimetype": "text/x-python",
   "name": "python",
   "nbconvert_exporter": "python",
   "pygments_lexer": "ipython3",
   "version": "3.7.10"
  }
 },
 "nbformat": 4,
 "nbformat_minor": 5
}
