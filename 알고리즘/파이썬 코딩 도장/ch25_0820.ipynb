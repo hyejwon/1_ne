{
 "cells": [
  {
   "cell_type": "markdown",
   "id": "19464b3e",
   "metadata": {},
   "source": [
    "# 25. 딕셔너리 이용하기\n",
    "## 25.1 딕셔너리 조작하기\n",
    "## 25.1.1 딕셔너리에 키-값 쌍 추가하기\n",
    "- setdefault : 키 -값 쌍 추가\n",
    "- update : 키의 값 수정, 키가 없으면 키-값 쌍 추가"
   ]
  },
  {
   "cell_type": "markdown",
   "id": "c002e238",
   "metadata": {},
   "source": [
    "## 25.1.2 딕셔너리에 키와 기본값 저장하기"
   ]
  },
  {
   "cell_type": "code",
   "execution_count": 2,
   "id": "d8be751c",
   "metadata": {},
   "outputs": [],
   "source": [
    "x = {'a':10,'b':20,'c':30,'d':40}\n",
    "x.setdefault('e')"
   ]
  },
  {
   "cell_type": "code",
   "execution_count": 3,
   "id": "e24231ac",
   "metadata": {},
   "outputs": [
    {
     "data": {
      "text/plain": [
       "{'a': 10, 'b': 20, 'c': 30, 'd': 40, 'e': None}"
      ]
     },
     "execution_count": 3,
     "metadata": {},
     "output_type": "execute_result"
    }
   ],
   "source": [
    "x"
   ]
  },
  {
   "cell_type": "code",
   "execution_count": 4,
   "id": "84cff1e3",
   "metadata": {},
   "outputs": [
    {
     "data": {
      "text/plain": [
       "100"
      ]
     },
     "execution_count": 4,
     "metadata": {},
     "output_type": "execute_result"
    }
   ],
   "source": [
    "x.setdefault('f',100)"
   ]
  },
  {
   "cell_type": "code",
   "execution_count": 5,
   "id": "8924b5c0",
   "metadata": {},
   "outputs": [
    {
     "data": {
      "text/plain": [
       "{'a': 10, 'b': 20, 'c': 30, 'd': 40, 'e': None, 'f': 100}"
      ]
     },
     "execution_count": 5,
     "metadata": {},
     "output_type": "execute_result"
    }
   ],
   "source": [
    "x"
   ]
  },
  {
   "cell_type": "markdown",
   "id": "309d4b18",
   "metadata": {},
   "source": [
    "## 25.1.3 딕셔너리에서 키의 값 수정하기"
   ]
  },
  {
   "cell_type": "code",
   "execution_count": 6,
   "id": "4f194b21",
   "metadata": {},
   "outputs": [],
   "source": [
    "x.update(a=900,f=60)"
   ]
  },
  {
   "cell_type": "code",
   "execution_count": 7,
   "id": "ffe3bd33",
   "metadata": {},
   "outputs": [
    {
     "data": {
      "text/plain": [
       "{'a': 900, 'b': 20, 'c': 30, 'd': 40, 'e': None, 'f': 60}"
      ]
     },
     "execution_count": 7,
     "metadata": {},
     "output_type": "execute_result"
    }
   ],
   "source": [
    "x #값이 수정됨"
   ]
  },
  {
   "cell_type": "markdown",
   "id": "37a2eba5",
   "metadata": {},
   "source": [
    "update(키=값)은 키가 문자열일 때만 사용할 수 있다. 만약 키가 숫자일 경우에는 update(딕셔너리)처럼 딕셔너리를 넣어서 값을 수정할 수 있다."
   ]
  },
  {
   "cell_type": "code",
   "execution_count": 8,
   "id": "d0d86952",
   "metadata": {},
   "outputs": [],
   "source": [
    "y = {1:'one',2:'two'}\n",
    "y.update({1:'ONE',3:'THREE'})"
   ]
  },
  {
   "cell_type": "code",
   "execution_count": 11,
   "id": "c2e11ded",
   "metadata": {},
   "outputs": [
    {
     "data": {
      "text/plain": [
       "{1: 'ONE', 2: 'two', 3: 'THREE'}"
      ]
     },
     "execution_count": 11,
     "metadata": {},
     "output_type": "execute_result"
    }
   ],
   "source": [
    "y"
   ]
  },
  {
   "cell_type": "markdown",
   "id": "04999e29",
   "metadata": {},
   "source": [
    "다른 방법으로는 리스트와 튜플을 이용하는 방법 "
   ]
  },
  {
   "cell_type": "code",
   "execution_count": 12,
   "id": "d82ca93e",
   "metadata": {},
   "outputs": [],
   "source": [
    "y.update([[2,'TWO'],[4,'FOUR']])#키와 값을 리스트로 만들고 이 리스트를 다시 리스트 안에 넣어서 키-값 쌍을 나열"
   ]
  },
  {
   "cell_type": "code",
   "execution_count": 14,
   "id": "ba091c46",
   "metadata": {},
   "outputs": [
    {
     "data": {
      "text/plain": [
       "{1: 'ONE', 2: 'TWO', 3: 'THREE', 4: 'FOUR'}"
      ]
     },
     "execution_count": 14,
     "metadata": {},
     "output_type": "execute_result"
    }
   ],
   "source": [
    "y"
   ]
  },
  {
   "cell_type": "code",
   "execution_count": 17,
   "id": "a191780a",
   "metadata": {},
   "outputs": [],
   "source": [
    "y.update(zip([1,2],['one','two']))"
   ]
  },
  {
   "cell_type": "code",
   "execution_count": 18,
   "id": "31415197",
   "metadata": {},
   "outputs": [
    {
     "data": {
      "text/plain": [
       "{1: 'one', 2: 'two', 3: 'THREE', 4: 'FOUR'}"
      ]
     },
     "execution_count": 18,
     "metadata": {},
     "output_type": "execute_result"
    }
   ],
   "source": [
    "y"
   ]
  },
  {
   "cell_type": "code",
   "execution_count": 21,
   "id": "1be01ef9",
   "metadata": {},
   "outputs": [],
   "source": [
    "a=zip([1,2],['one','two'])"
   ]
  },
  {
   "cell_type": "code",
   "execution_count": 24,
   "id": "a998bb0b",
   "metadata": {},
   "outputs": [
    {
     "name": "stdout",
     "output_type": "stream",
     "text": [
      "0 (1, 'one')\n",
      "1 (2, 'two')\n"
     ]
    }
   ],
   "source": [
    "for i , obj in enumerate(a):\n",
    "    print(i,obj)"
   ]
  },
  {
   "cell_type": "markdown",
   "id": "3e060bfc",
   "metadata": {},
   "source": [
    "**setdefault와 update의 차이**  \n",
    "setdefault 는 키-값 쌍 추가만 할 수 있고, 이미 들어있는 키의 값은 수정할 수 없다. 하지만 update는 키-값 쌍 추가와 값 수정이 모두 가능하다. 다음과 같이 setdefault로 이미 들어있는 키 'a'를 90으로 저장해도 'a'의 값은 바뀌지 않는다"
   ]
  },
  {
   "cell_type": "markdown",
   "id": "0121c955",
   "metadata": {},
   "source": [
    "## 25.1.4 딕셔너리에서 키-값 쌍 삭제하기"
   ]
  },
  {
   "cell_type": "code",
   "execution_count": 31,
   "id": "01f15568",
   "metadata": {},
   "outputs": [
    {
     "data": {
      "text/plain": [
       "10"
      ]
     },
     "execution_count": 31,
     "metadata": {},
     "output_type": "execute_result"
    }
   ],
   "source": [
    "x = {'a':10,'b':20,'c':30,'d':40}\n",
    "x.pop('a') #pop(키) 딕셔너리에서 특정 키-값 쌍을 삭제한 뒤 삭제한 값을 반환"
   ]
  },
  {
   "cell_type": "code",
   "execution_count": 32,
   "id": "7c2f33b2",
   "metadata": {},
   "outputs": [
    {
     "data": {
      "text/plain": [
       "{'b': 20, 'c': 30, 'd': 40}"
      ]
     },
     "execution_count": 32,
     "metadata": {},
     "output_type": "execute_result"
    }
   ],
   "source": [
    "x"
   ]
  },
  {
   "cell_type": "code",
   "execution_count": 29,
   "id": "d877f693",
   "metadata": {},
   "outputs": [
    {
     "data": {
      "text/plain": [
       "20"
      ]
     },
     "execution_count": 29,
     "metadata": {},
     "output_type": "execute_result"
    }
   ],
   "source": [
    "x.pop('b',20)"
   ]
  },
  {
   "cell_type": "code",
   "execution_count": 34,
   "id": "7f1aac15",
   "metadata": {},
   "outputs": [],
   "source": [
    "#pop 대신 del로도 삭제 가능\n",
    "del x['b']"
   ]
  },
  {
   "cell_type": "code",
   "execution_count": 35,
   "id": "ce17285e",
   "metadata": {},
   "outputs": [
    {
     "data": {
      "text/plain": [
       "{'c': 30, 'd': 40}"
      ]
     },
     "execution_count": 35,
     "metadata": {},
     "output_type": "execute_result"
    }
   ],
   "source": [
    "x"
   ]
  },
  {
   "cell_type": "markdown",
   "id": "09e99106",
   "metadata": {},
   "source": [
    "## 25.1.5 딕셔너리에서 임의의 키-값 쌍 삭제하기"
   ]
  },
  {
   "cell_type": "code",
   "execution_count": 36,
   "id": "bb4e7161",
   "metadata": {},
   "outputs": [],
   "source": [
    "#popitem() 딕셔너리에서 임의의 키-값 쌍을 삭제한 뒤 삭제한 키-값 쌍을 튜플로 반환\n",
    "x = {'a':10, 'b':20, 'c':30, 'd':40}"
   ]
  },
  {
   "cell_type": "code",
   "execution_count": 39,
   "id": "74cdbd4e",
   "metadata": {},
   "outputs": [
    {
     "data": {
      "text/plain": [
       "('c', 30)"
      ]
     },
     "execution_count": 39,
     "metadata": {},
     "output_type": "execute_result"
    }
   ],
   "source": [
    "x.popitem()"
   ]
  },
  {
   "cell_type": "code",
   "execution_count": 40,
   "id": "653c68d2",
   "metadata": {},
   "outputs": [
    {
     "data": {
      "text/plain": [
       "{'a': 10, 'b': 20}"
      ]
     },
     "execution_count": 40,
     "metadata": {},
     "output_type": "execute_result"
    }
   ],
   "source": [
    "x"
   ]
  },
  {
   "cell_type": "markdown",
   "id": "8e5b4941",
   "metadata": {},
   "source": [
    "## 25.1.6 딕셔너리의 모든 키-값 쌍 삭제하기"
   ]
  },
  {
   "cell_type": "code",
   "execution_count": 41,
   "id": "39536abf",
   "metadata": {},
   "outputs": [],
   "source": [
    "x = {'a':10,'b':20,'c':30,'d':40}"
   ]
  },
  {
   "cell_type": "code",
   "execution_count": 44,
   "id": "25115579",
   "metadata": {},
   "outputs": [],
   "source": [
    "x.clear()"
   ]
  },
  {
   "cell_type": "code",
   "execution_count": 45,
   "id": "7213ca5a",
   "metadata": {},
   "outputs": [
    {
     "data": {
      "text/plain": [
       "{}"
      ]
     },
     "execution_count": 45,
     "metadata": {},
     "output_type": "execute_result"
    }
   ],
   "source": [
    "x"
   ]
  },
  {
   "cell_type": "markdown",
   "id": "3850dada",
   "metadata": {},
   "source": [
    "## 25.1.7 딕셔너리에서 키의 값을 가져오기"
   ]
  },
  {
   "cell_type": "code",
   "execution_count": 46,
   "id": "f3d94619",
   "metadata": {},
   "outputs": [],
   "source": [
    "x = {'a':10,'b':20,'c':30,'d':40}"
   ]
  },
  {
   "cell_type": "code",
   "execution_count": 47,
   "id": "da4105db",
   "metadata": {},
   "outputs": [
    {
     "data": {
      "text/plain": [
       "10"
      ]
     },
     "execution_count": 47,
     "metadata": {},
     "output_type": "execute_result"
    }
   ],
   "source": [
    "x.get('a')"
   ]
  },
  {
   "cell_type": "code",
   "execution_count": 48,
   "id": "4c36db48",
   "metadata": {},
   "outputs": [],
   "source": [
    "x.get('z')"
   ]
  },
  {
   "cell_type": "markdown",
   "id": "4680bf54",
   "metadata": {},
   "source": [
    "## 25.1.8 딕셔너리에서 키의 값을 가져오기\n",
    "딕셔너리는 키와 값을 가져오는 다양한 메서드를 제공\n",
    "- items: 키 -값 쌍을 모두 가져옴\n",
    "- keys: 키를 모두 가져옴\n",
    "- values: 값을 모두 가져옴"
   ]
  },
  {
   "cell_type": "code",
   "execution_count": 49,
   "id": "c2231a02",
   "metadata": {},
   "outputs": [],
   "source": [
    "x = {'a':10,'b':20,'c':30,'d':40}"
   ]
  },
  {
   "cell_type": "code",
   "execution_count": 50,
   "id": "e3ea4299",
   "metadata": {},
   "outputs": [
    {
     "data": {
      "text/plain": [
       "dict_items([('a', 10), ('b', 20), ('c', 30), ('d', 40)])"
      ]
     },
     "execution_count": 50,
     "metadata": {},
     "output_type": "execute_result"
    }
   ],
   "source": [
    "x.items()"
   ]
  },
  {
   "cell_type": "code",
   "execution_count": 53,
   "id": "6d6e3c8d",
   "metadata": {},
   "outputs": [
    {
     "data": {
      "text/plain": [
       "dict_keys(['a', 'b', 'c', 'd'])"
      ]
     },
     "execution_count": 53,
     "metadata": {},
     "output_type": "execute_result"
    }
   ],
   "source": [
    "x.keys()"
   ]
  },
  {
   "cell_type": "code",
   "execution_count": 54,
   "id": "f10358a4",
   "metadata": {},
   "outputs": [
    {
     "data": {
      "text/plain": [
       "dict_values([10, 20, 30, 40])"
      ]
     },
     "execution_count": 54,
     "metadata": {},
     "output_type": "execute_result"
    }
   ],
   "source": [
    "x.values()"
   ]
  },
  {
   "cell_type": "markdown",
   "id": "50bf9a8d",
   "metadata": {},
   "source": [
    "## 25.1.9 리스트와 튜플로 딕셔너리 만들기"
   ]
  },
  {
   "cell_type": "code",
   "execution_count": 55,
   "id": "cc8da79e",
   "metadata": {},
   "outputs": [],
   "source": [
    "#dict.fromkeys(키리스트) 키 리스트로 딕셔너리를 생성하며 값은 모두 None 으로 저장\n",
    "keys = ['a','b','c','d']\n",
    "x = dict.fromkeys(keys)"
   ]
  },
  {
   "cell_type": "code",
   "execution_count": 56,
   "id": "c9170b00",
   "metadata": {},
   "outputs": [
    {
     "data": {
      "text/plain": [
       "{'a': None, 'b': None, 'c': None, 'd': None}"
      ]
     },
     "execution_count": 56,
     "metadata": {},
     "output_type": "execute_result"
    }
   ],
   "source": [
    "x"
   ]
  },
  {
   "cell_type": "code",
   "execution_count": 57,
   "id": "55a2364d",
   "metadata": {},
   "outputs": [],
   "source": [
    "y = dict.fromkeys(keys,100)#값 100으로 지정"
   ]
  },
  {
   "cell_type": "code",
   "execution_count": 58,
   "id": "e9941c45",
   "metadata": {},
   "outputs": [
    {
     "data": {
      "text/plain": [
       "{'a': 100, 'b': 100, 'c': 100, 'd': 100}"
      ]
     },
     "execution_count": 58,
     "metadata": {},
     "output_type": "execute_result"
    }
   ],
   "source": [
    "y"
   ]
  },
  {
   "cell_type": "markdown",
   "id": "4df93634",
   "metadata": {},
   "source": [
    "**defaultdict 사용하기**"
   ]
  },
  {
   "cell_type": "code",
   "execution_count": 59,
   "id": "f8c9d5d4",
   "metadata": {},
   "outputs": [
    {
     "ename": "KeyError",
     "evalue": "'z'",
     "output_type": "error",
     "traceback": [
      "\u001b[0;31m---------------------------------------------------------------------------\u001b[0m",
      "\u001b[0;31mKeyError\u001b[0m                                  Traceback (most recent call last)",
      "\u001b[0;32m<ipython-input-59-e4c7de51e307>\u001b[0m in \u001b[0;36m<module>\u001b[0;34m\u001b[0m\n\u001b[1;32m      1\u001b[0m \u001b[0mx\u001b[0m \u001b[0;34m=\u001b[0m \u001b[0;34m{\u001b[0m\u001b[0;34m'a'\u001b[0m\u001b[0;34m:\u001b[0m\u001b[0;36m0\u001b[0m\u001b[0;34m,\u001b[0m\u001b[0;34m'b'\u001b[0m\u001b[0;34m:\u001b[0m\u001b[0;36m0\u001b[0m\u001b[0;34m,\u001b[0m\u001b[0;34m'c'\u001b[0m\u001b[0;34m:\u001b[0m\u001b[0;36m0\u001b[0m\u001b[0;34m,\u001b[0m\u001b[0;34m'd'\u001b[0m\u001b[0;34m:\u001b[0m\u001b[0;36m0\u001b[0m\u001b[0;34m}\u001b[0m\u001b[0;34m\u001b[0m\u001b[0;34m\u001b[0m\u001b[0m\n\u001b[0;32m----> 2\u001b[0;31m \u001b[0mx\u001b[0m\u001b[0;34m[\u001b[0m\u001b[0;34m'z'\u001b[0m\u001b[0;34m]\u001b[0m\u001b[0;34m\u001b[0m\u001b[0;34m\u001b[0m\u001b[0m\n\u001b[0m",
      "\u001b[0;31mKeyError\u001b[0m: 'z'"
     ]
    }
   ],
   "source": [
    "x = {'a':0,'b':0,'c':0,'d':0}\n",
    "x['z']"
   ]
  },
  {
   "cell_type": "markdown",
   "id": "29a47a04",
   "metadata": {},
   "source": [
    "위와 같은 에러가 발생하지 않게 하려면 defaultdict 사용"
   ]
  },
  {
   "cell_type": "code",
   "execution_count": 60,
   "id": "9f4d508a",
   "metadata": {},
   "outputs": [],
   "source": [
    "from collections import defaultdict\n",
    "y = defaultdict(int)"
   ]
  },
  {
   "cell_type": "code",
   "execution_count": 61,
   "id": "4d2201d5",
   "metadata": {},
   "outputs": [
    {
     "data": {
      "text/plain": [
       "defaultdict(int, {})"
      ]
     },
     "execution_count": 61,
     "metadata": {},
     "output_type": "execute_result"
    }
   ],
   "source": [
    "y"
   ]
  },
  {
   "cell_type": "code",
   "execution_count": 62,
   "id": "bb981f06",
   "metadata": {},
   "outputs": [
    {
     "data": {
      "text/plain": [
       "0"
      ]
     },
     "execution_count": 62,
     "metadata": {},
     "output_type": "execute_result"
    }
   ],
   "source": [
    "y['z']"
   ]
  },
  {
   "cell_type": "code",
   "execution_count": 63,
   "id": "45fc3f66",
   "metadata": {},
   "outputs": [
    {
     "data": {
      "text/plain": [
       "'python'"
      ]
     },
     "execution_count": 63,
     "metadata": {},
     "output_type": "execute_result"
    }
   ],
   "source": [
    "z =defaultdict(lambda:'python')\n",
    "z['a']"
   ]
  },
  {
   "cell_type": "code",
   "execution_count": 64,
   "id": "6d0ce28f",
   "metadata": {},
   "outputs": [
    {
     "data": {
      "text/plain": [
       "'python'"
      ]
     },
     "execution_count": 64,
     "metadata": {},
     "output_type": "execute_result"
    }
   ],
   "source": [
    "z[0]"
   ]
  },
  {
   "cell_type": "markdown",
   "id": "ba2fa852",
   "metadata": {},
   "source": [
    "## 25.2 반복문으로 딕셔너리의 키 - 값 쌍을 모두 출력하기 "
   ]
  },
  {
   "cell_type": "code",
   "execution_count": 65,
   "id": "dd16f260",
   "metadata": {},
   "outputs": [],
   "source": [
    "x = {'a':10,'b':20,'c':30,'d':40}"
   ]
  },
  {
   "cell_type": "code",
   "execution_count": 66,
   "id": "89b9be2f",
   "metadata": {},
   "outputs": [
    {
     "name": "stdout",
     "output_type": "stream",
     "text": [
      "a b c d "
     ]
    }
   ],
   "source": [
    "#키만 출력됨\n",
    "for i in x:\n",
    "    print(i , end=' ')"
   ]
  },
  {
   "cell_type": "markdown",
   "id": "d6b4c2cb",
   "metadata": {},
   "source": [
    "for in 뒤에 딕셔너리를 지정하고 items를 사용해야 한다\n",
    "```python\n",
    "for 키, 값 in 딕셔너리.items():\n",
    "    반복할 코드\n",
    "```"
   ]
  },
  {
   "cell_type": "code",
   "execution_count": 67,
   "id": "50cbc1f0",
   "metadata": {},
   "outputs": [
    {
     "name": "stdout",
     "output_type": "stream",
     "text": [
      "a 10\n",
      "b 20\n",
      "c 30\n",
      "d 40\n"
     ]
    }
   ],
   "source": [
    "x = {'a':10,'b':20,'c':30,'d':40}\n",
    "for key, value in x.items():\n",
    "    print(key,value)"
   ]
  },
  {
   "cell_type": "code",
   "execution_count": 68,
   "id": "57b6a0ae",
   "metadata": {},
   "outputs": [
    {
     "name": "stdout",
     "output_type": "stream",
     "text": [
      "a 10\n",
      "b 20\n",
      "c 30\n",
      "d 40\n"
     ]
    }
   ],
   "source": [
    "#직접 딕셔너리를 해도 상관 없음\n",
    "for key,value in {'a':10,'b':20,'c':30,'d':40}.items():\n",
    "    print(key,value)"
   ]
  },
  {
   "cell_type": "markdown",
   "id": "0419e197",
   "metadata": {},
   "source": [
    "## 25.2.1 딕셔너리의 키만 출력하기"
   ]
  },
  {
   "cell_type": "code",
   "execution_count": 71,
   "id": "abc1d16f",
   "metadata": {},
   "outputs": [
    {
     "name": "stdout",
     "output_type": "stream",
     "text": [
      "a b c d "
     ]
    }
   ],
   "source": [
    "for key in x.keys():\n",
    "    print(key,end=' ')"
   ]
  },
  {
   "cell_type": "markdown",
   "id": "8803b9b3",
   "metadata": {},
   "source": [
    "## 25.2.2 딕셔너리의 값만 출력하기"
   ]
  },
  {
   "cell_type": "code",
   "execution_count": 72,
   "id": "8b98f7b5",
   "metadata": {},
   "outputs": [
    {
     "name": "stdout",
     "output_type": "stream",
     "text": [
      "10 20 30 40 "
     ]
    }
   ],
   "source": [
    "for value in x.values():\n",
    "    print(value,end=' ')"
   ]
  },
  {
   "cell_type": "markdown",
   "id": "4e4c72ed",
   "metadata": {},
   "source": [
    "## 25.3 딕셔너리 표현식 사용하기\n",
    "리스트와 마찬가지로 딕셔너리도 for 반복문과 if 조건문을 사용하여 딕셔너리를 생성할 수 있다\n",
    "- {키: 값 for 키, 값 in 딕셔너리}\n",
    "- dict({키: 값 for 키 , 값 in 딕셔너리 })"
   ]
  },
  {
   "cell_type": "code",
   "execution_count": 73,
   "id": "68c28291",
   "metadata": {},
   "outputs": [],
   "source": [
    "keys = ['a','b','c','d']\n",
    "x ={key: value for key, value in dict.fromkeys(keys).items()}"
   ]
  },
  {
   "cell_type": "code",
   "execution_count": 74,
   "id": "60b86972",
   "metadata": {},
   "outputs": [
    {
     "data": {
      "text/plain": [
       "{'a': None, 'b': None, 'c': None, 'd': None}"
      ]
     },
     "execution_count": 74,
     "metadata": {},
     "output_type": "execute_result"
    }
   ],
   "source": [
    "x"
   ]
  },
  {
   "cell_type": "code",
   "execution_count": 76,
   "id": "e324428c",
   "metadata": {},
   "outputs": [
    {
     "data": {
      "text/plain": [
       "{'a': None, 'b': None, 'c': None, 'd': None}"
      ]
     },
     "execution_count": 76,
     "metadata": {},
     "output_type": "execute_result"
    }
   ],
   "source": [
    " dict.fromkeys(keys)"
   ]
  },
  {
   "cell_type": "markdown",
   "id": "bf4efce1",
   "metadata": {},
   "source": [
    "딕셔너리 표현식을 사용할 때는 for in 다음에 딕셔너리를 지정하고 items 를 사용한다.  \n",
    "그리고 키,값을 가져온 뒤에는 키:값 형식으로 변수나 값을 배치하여 딕셔너리를 생성"
   ]
  },
  {
   "cell_type": "code",
   "execution_count": 79,
   "id": "742954da",
   "metadata": {},
   "outputs": [
    {
     "data": {
      "text/plain": [
       "{'a': 0, 'b': 0, 'c': 0, 'd': 0}"
      ]
     },
     "execution_count": 79,
     "metadata": {},
     "output_type": "execute_result"
    }
   ],
   "source": [
    "{key:0 for key in dict.fromkeys(['a','b','c','d']).keys()}#키만 가져옴"
   ]
  },
  {
   "cell_type": "code",
   "execution_count": 80,
   "id": "7024695b",
   "metadata": {},
   "outputs": [
    {
     "data": {
      "text/plain": [
       "{10: 0, 20: 0, 30: 0, 40: 0}"
      ]
     },
     "execution_count": 80,
     "metadata": {},
     "output_type": "execute_result"
    }
   ],
   "source": [
    "{value:0 for value in {'a':10,'b':20,'c':30,'d':40}.values()}#값을 키로 사용"
   ]
  },
  {
   "cell_type": "code",
   "execution_count": 81,
   "id": "1423f2ba",
   "metadata": {},
   "outputs": [
    {
     "data": {
      "text/plain": [
       "{10: 'a', 20: 'b', 30: 'c', 40: 'd'}"
      ]
     },
     "execution_count": 81,
     "metadata": {},
     "output_type": "execute_result"
    }
   ],
   "source": [
    "{value:key for key, value in {'a':10,'b':20,'c':30,'d':40}.items()}#키와 값 자리를 바꿈 "
   ]
  },
  {
   "cell_type": "markdown",
   "id": "505cfd86",
   "metadata": {},
   "source": [
    "## 25.3.1 딕셔너리 표현식에서 if 조건문 사용하기"
   ]
  },
  {
   "cell_type": "code",
   "execution_count": 87,
   "id": "61261f5b",
   "metadata": {},
   "outputs": [
    {
     "ename": "RuntimeError",
     "evalue": "dictionary changed size during iteration",
     "output_type": "error",
     "traceback": [
      "\u001b[0;31m---------------------------------------------------------------------------\u001b[0m",
      "\u001b[0;31mRuntimeError\u001b[0m                              Traceback (most recent call last)",
      "\u001b[0;32m<ipython-input-87-1be8d5072ddd>\u001b[0m in \u001b[0;36m<module>\u001b[0;34m\u001b[0m\n\u001b[1;32m      1\u001b[0m \u001b[0mx\u001b[0m \u001b[0;34m=\u001b[0m \u001b[0;34m{\u001b[0m\u001b[0;34m'a'\u001b[0m\u001b[0;34m:\u001b[0m\u001b[0;36m10\u001b[0m\u001b[0;34m,\u001b[0m\u001b[0;34m'b'\u001b[0m\u001b[0;34m:\u001b[0m\u001b[0;36m20\u001b[0m\u001b[0;34m,\u001b[0m\u001b[0;34m'c'\u001b[0m\u001b[0;34m:\u001b[0m\u001b[0;36m30\u001b[0m\u001b[0;34m,\u001b[0m\u001b[0;34m'd'\u001b[0m\u001b[0;34m:\u001b[0m\u001b[0;36m40\u001b[0m\u001b[0;34m}\u001b[0m\u001b[0;34m\u001b[0m\u001b[0;34m\u001b[0m\u001b[0m\n\u001b[1;32m      2\u001b[0m \u001b[0;34m\u001b[0m\u001b[0m\n\u001b[0;32m----> 3\u001b[0;31m \u001b[0;32mfor\u001b[0m \u001b[0mkey\u001b[0m\u001b[0;34m,\u001b[0m \u001b[0mvalue\u001b[0m \u001b[0;32min\u001b[0m \u001b[0mx\u001b[0m\u001b[0;34m.\u001b[0m\u001b[0mitems\u001b[0m\u001b[0;34m(\u001b[0m\u001b[0;34m)\u001b[0m\u001b[0;34m:\u001b[0m\u001b[0;34m\u001b[0m\u001b[0;34m\u001b[0m\u001b[0m\n\u001b[0m\u001b[1;32m      4\u001b[0m     \u001b[0;32mif\u001b[0m \u001b[0mvalue\u001b[0m \u001b[0;34m==\u001b[0m \u001b[0;36m20\u001b[0m\u001b[0;34m:\u001b[0m\u001b[0;34m\u001b[0m\u001b[0;34m\u001b[0m\u001b[0m\n\u001b[1;32m      5\u001b[0m         \u001b[0;32mdel\u001b[0m \u001b[0mx\u001b[0m\u001b[0;34m[\u001b[0m\u001b[0mkey\u001b[0m\u001b[0;34m]\u001b[0m\u001b[0;34m\u001b[0m\u001b[0;34m\u001b[0m\u001b[0m\n",
      "\u001b[0;31mRuntimeError\u001b[0m: dictionary changed size during iteration"
     ]
    }
   ],
   "source": [
    "x = {'a':10,'b':20,'c':30,'d':40}\n",
    "\n",
    "for key, value in x.items():\n",
    "    if value == 20:\n",
    "        del x[key]\n",
    "\n",
    "print(x)"
   ]
  },
  {
   "cell_type": "markdown",
   "id": "04234446",
   "metadata": {},
   "source": [
    "딕셔너리 표현식에서 if  조건문을 사용하여 삭제할 값을 제외 해야한다 "
   ]
  },
  {
   "cell_type": "code",
   "execution_count": 88,
   "id": "9afe7ba5",
   "metadata": {},
   "outputs": [],
   "source": [
    "x = {'a':10,'b':20,'c':30,'d':40}\n",
    "x = {key: value for key, value in x.items() if value !=20}"
   ]
  },
  {
   "cell_type": "code",
   "execution_count": 89,
   "id": "df581fc1",
   "metadata": {},
   "outputs": [
    {
     "data": {
      "text/plain": [
       "{'a': 10, 'c': 30, 'd': 40}"
      ]
     },
     "execution_count": 89,
     "metadata": {},
     "output_type": "execute_result"
    }
   ],
   "source": [
    "x"
   ]
  },
  {
   "cell_type": "markdown",
   "id": "e9573232",
   "metadata": {},
   "source": [
    "## 25.4 딕셔너리 안에서 딕셔너리 사용하기\n",
    "딕셔너리 안에서 딕셔너리를 사용하는 중첩 딕셔너리를 알아보자. 다음과 같이 딕셔너리는 값 부분에 다시 딕셔너리가 계속 들어갈 수 있다.  \n",
    "- 딕셔너리 = {키1:{키a:값a},키2:{키b:값b}}"
   ]
  },
  {
   "cell_type": "code",
   "execution_count": 90,
   "id": "432e8c2b",
   "metadata": {},
   "outputs": [
    {
     "name": "stdout",
     "output_type": "stream",
     "text": [
      "6051.8\n"
     ]
    }
   ],
   "source": [
    "terrestrial_planet = {\n",
    "    'Mercury': {\n",
    "        'mean_radius': 2439.7,\n",
    "        'mass': 3.3022E+23,\n",
    "        'orbital_period': 87.969\n",
    "    },\n",
    "    'Venus': {\n",
    "        'mean_radius': 6051.8,\n",
    "        'mass': 4.8676E+24,\n",
    "        'orbital_period': 224.70069,\n",
    "    },\n",
    "    'Earth': {\n",
    "        'mean_radius': 6371.0,\n",
    "        'mass': 5.97219E+24,\n",
    "        'orbital_period': 365.25641,\n",
    "    },\n",
    "    'Mars': {\n",
    "        'mean_radius': 3389.5,\n",
    "        'mass': 6.4185E+23,\n",
    "        'orbital_period': 686.9600,\n",
    "    }\n",
    "}\n",
    " \n",
    "print(terrestrial_planet['Venus']['mean_radius']) "
   ]
  },
  {
   "cell_type": "markdown",
   "id": "3e3e6709",
   "metadata": {},
   "source": [
    "## 25.5 딕셔너리의 할당과 복사"
   ]
  },
  {
   "cell_type": "code",
   "execution_count": 98,
   "id": "668419b7",
   "metadata": {},
   "outputs": [],
   "source": [
    "x = {'a':0, 'b':0, 'c':0, 'd':0}"
   ]
  },
  {
   "cell_type": "code",
   "execution_count": 92,
   "id": "36111640",
   "metadata": {},
   "outputs": [],
   "source": [
    "y = x"
   ]
  },
  {
   "cell_type": "code",
   "execution_count": 93,
   "id": "1bbdeb92",
   "metadata": {},
   "outputs": [
    {
     "data": {
      "text/plain": [
       "True"
      ]
     },
     "execution_count": 93,
     "metadata": {},
     "output_type": "execute_result"
    }
   ],
   "source": [
    "x is y"
   ]
  },
  {
   "cell_type": "code",
   "execution_count": 94,
   "id": "afa3edaf",
   "metadata": {},
   "outputs": [],
   "source": [
    "y['a'] = 99"
   ]
  },
  {
   "cell_type": "code",
   "execution_count": 95,
   "id": "b987ea58",
   "metadata": {},
   "outputs": [
    {
     "data": {
      "text/plain": [
       "{'a': 99, 'b': 0, 'c': 0, 'd': 0}"
      ]
     },
     "execution_count": 95,
     "metadata": {},
     "output_type": "execute_result"
    }
   ],
   "source": [
    "y"
   ]
  },
  {
   "cell_type": "code",
   "execution_count": 97,
   "id": "1bace3e3",
   "metadata": {},
   "outputs": [
    {
     "data": {
      "text/plain": [
       "{'a': 99, 'b': 0, 'c': 0, 'd': 0}"
      ]
     },
     "execution_count": 97,
     "metadata": {},
     "output_type": "execute_result"
    }
   ],
   "source": [
    "x #딕셔너리와 마찬가지로 할당 하면 동시 반영 "
   ]
  },
  {
   "cell_type": "code",
   "execution_count": 99,
   "id": "63757d5b",
   "metadata": {},
   "outputs": [],
   "source": [
    "y = x.copy()"
   ]
  },
  {
   "cell_type": "code",
   "execution_count": 100,
   "id": "01a50614",
   "metadata": {},
   "outputs": [
    {
     "data": {
      "text/plain": [
       "False"
      ]
     },
     "execution_count": 100,
     "metadata": {},
     "output_type": "execute_result"
    }
   ],
   "source": [
    "x is y"
   ]
  },
  {
   "cell_type": "code",
   "execution_count": 101,
   "id": "c66fc900",
   "metadata": {},
   "outputs": [
    {
     "data": {
      "text/plain": [
       "True"
      ]
     },
     "execution_count": 101,
     "metadata": {},
     "output_type": "execute_result"
    }
   ],
   "source": [
    "x == y"
   ]
  },
  {
   "cell_type": "code",
   "execution_count": 102,
   "id": "ac7e500a",
   "metadata": {},
   "outputs": [],
   "source": [
    "y['a'] = 99"
   ]
  },
  {
   "cell_type": "code",
   "execution_count": 103,
   "id": "7bdcc481",
   "metadata": {},
   "outputs": [
    {
     "data": {
      "text/plain": [
       "{'a': 99, 'b': 0, 'c': 0, 'd': 0}"
      ]
     },
     "execution_count": 103,
     "metadata": {},
     "output_type": "execute_result"
    }
   ],
   "source": [
    "y"
   ]
  },
  {
   "cell_type": "code",
   "execution_count": 104,
   "id": "f0a31f23",
   "metadata": {},
   "outputs": [
    {
     "data": {
      "text/plain": [
       "{'a': 0, 'b': 0, 'c': 0, 'd': 0}"
      ]
     },
     "execution_count": 104,
     "metadata": {},
     "output_type": "execute_result"
    }
   ],
   "source": [
    "x"
   ]
  },
  {
   "cell_type": "markdown",
   "id": "7a8cb098",
   "metadata": {},
   "source": [
    "## 25.5.1 중첩 딕셔너리의 할당과 복사 알아보기"
   ]
  },
  {
   "cell_type": "code",
   "execution_count": 111,
   "id": "0fd4d248",
   "metadata": {},
   "outputs": [],
   "source": [
    "x ={'a':{'python':'2.7'},'b':{'python':3.6}}\n",
    "#y = x.copy()"
   ]
  },
  {
   "cell_type": "code",
   "execution_count": 106,
   "id": "b6190e68",
   "metadata": {},
   "outputs": [
    {
     "data": {
      "text/plain": [
       "{'a': {'python': '2.7'}, 'b': {'python': 3.6}}"
      ]
     },
     "execution_count": 106,
     "metadata": {},
     "output_type": "execute_result"
    }
   ],
   "source": [
    "y"
   ]
  },
  {
   "cell_type": "code",
   "execution_count": 107,
   "id": "f33b679b",
   "metadata": {},
   "outputs": [],
   "source": [
    "y ['a']['python']='2.7.15'"
   ]
  },
  {
   "cell_type": "code",
   "execution_count": 108,
   "id": "b8e52a74",
   "metadata": {},
   "outputs": [
    {
     "data": {
      "text/plain": [
       "{'a': {'python': '2.7.15'}, 'b': {'python': 3.6}}"
      ]
     },
     "execution_count": 108,
     "metadata": {},
     "output_type": "execute_result"
    }
   ],
   "source": [
    "x"
   ]
  },
  {
   "cell_type": "code",
   "execution_count": 109,
   "id": "5334fbde",
   "metadata": {},
   "outputs": [
    {
     "data": {
      "text/plain": [
       "{'a': {'python': '2.7.15'}, 'b': {'python': 3.6}}"
      ]
     },
     "execution_count": 109,
     "metadata": {},
     "output_type": "execute_result"
    }
   ],
   "source": [
    "y # 모두 반영됨 "
   ]
  },
  {
   "cell_type": "code",
   "execution_count": 112,
   "id": "8b0f5dcd",
   "metadata": {},
   "outputs": [],
   "source": [
    "import copy \n",
    "y=copy.deepcopy(x)\n"
   ]
  },
  {
   "cell_type": "code",
   "execution_count": 114,
   "id": "8086040c",
   "metadata": {},
   "outputs": [],
   "source": [
    "y['a']['python']='2.7.15'"
   ]
  },
  {
   "cell_type": "code",
   "execution_count": 115,
   "id": "25d1615e",
   "metadata": {},
   "outputs": [
    {
     "data": {
      "text/plain": [
       "{'a': {'python': '2.7'}, 'b': {'python': 3.6}}"
      ]
     },
     "execution_count": 115,
     "metadata": {},
     "output_type": "execute_result"
    }
   ],
   "source": [
    "x"
   ]
  },
  {
   "cell_type": "code",
   "execution_count": 116,
   "id": "2e35a781",
   "metadata": {},
   "outputs": [
    {
     "data": {
      "text/plain": [
       "{'a': {'python': '2.7.15'}, 'b': {'python': 3.6}}"
      ]
     },
     "execution_count": 116,
     "metadata": {},
     "output_type": "execute_result"
    }
   ],
   "source": [
    "y #y만 반영됨 "
   ]
  },
  {
   "cell_type": "markdown",
   "id": "02118bee",
   "metadata": {},
   "source": [
    "## 25.7 연습문제  :평균점수 \n"
   ]
  },
  {
   "cell_type": "code",
   "execution_count": 119,
   "id": "567ec783",
   "metadata": {},
   "outputs": [
    {
     "name": "stdout",
     "output_type": "stream",
     "text": [
      "89.25\n"
     ]
    }
   ],
   "source": [
    "maria = {'korea':94,'english':91,'mathematics':89,'science':83}\n",
    "average = sum(maria.values())/len(maria)\n",
    "print(average)"
   ]
  },
  {
   "cell_type": "code",
   "execution_count": 120,
   "id": "15bd1e86",
   "metadata": {},
   "outputs": [
    {
     "data": {
      "text/plain": [
       "4"
      ]
     },
     "execution_count": 120,
     "metadata": {},
     "output_type": "execute_result"
    }
   ],
   "source": [
    "len(maria)"
   ]
  },
  {
   "cell_type": "code",
   "execution_count": null,
   "id": "2c0c2b9c",
   "metadata": {},
   "outputs": [],
   "source": []
  }
 ],
 "metadata": {
  "kernelspec": {
   "display_name": "Python 3",
   "language": "python",
   "name": "python3"
  },
  "language_info": {
   "codemirror_mode": {
    "name": "ipython",
    "version": 3
   },
   "file_extension": ".py",
   "mimetype": "text/x-python",
   "name": "python",
   "nbconvert_exporter": "python",
   "pygments_lexer": "ipython3",
   "version": "3.7.10"
  }
 },
 "nbformat": 4,
 "nbformat_minor": 5
}
