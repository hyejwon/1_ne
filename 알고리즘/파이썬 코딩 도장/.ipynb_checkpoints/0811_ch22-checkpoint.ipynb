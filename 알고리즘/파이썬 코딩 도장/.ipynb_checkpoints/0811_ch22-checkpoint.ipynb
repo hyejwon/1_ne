{
 "cells": [
  {
   "cell_type": "markdown",
   "id": "3909ffc3",
   "metadata": {},
   "source": [
    "## 22.5 리스트 표현식 사용하기\n",
    "리스트 안에 for 반복문과 if 조건문을 사용할수 있다\n",
    "이렇게 리스트 안에 식, for 반복문, if 조건문 등을 지정하여 리스트를 생성하는것을 리스트 컴프리헨션 (list comprehension)이라고 한다  \n",
    "- [식 for 변수 in 리스트]\n",
    "- list(식 for 변수 in 리스트)"
   ]
  },
  {
   "cell_type": "code",
   "execution_count": 1,
   "id": "11da8765",
   "metadata": {},
   "outputs": [],
   "source": [
    "a = [i for i in range(10)]# 0부터 9까지 숫자를 생성하여 리스트 생성"
   ]
  },
  {
   "cell_type": "code",
   "execution_count": 2,
   "id": "0587ad4a",
   "metadata": {},
   "outputs": [
    {
     "data": {
      "text/plain": [
       "[0, 1, 2, 3, 4, 5, 6, 7, 8, 9]"
      ]
     },
     "execution_count": 2,
     "metadata": {},
     "output_type": "execute_result"
    }
   ],
   "source": [
    "a"
   ]
  },
  {
   "cell_type": "code",
   "execution_count": 3,
   "id": "00858edd",
   "metadata": {},
   "outputs": [],
   "source": [
    "b =list(i for i in range(10))# 0부터 9까지 숫자를 생성하여 리스트 생성"
   ]
  },
  {
   "cell_type": "code",
   "execution_count": 4,
   "id": "0299bddb",
   "metadata": {},
   "outputs": [
    {
     "data": {
      "text/plain": [
       "[0, 1, 2, 3, 4, 5, 6, 7, 8, 9]"
      ]
     },
     "execution_count": 4,
     "metadata": {},
     "output_type": "execute_result"
    }
   ],
   "source": [
    "b"
   ]
  },
  {
   "cell_type": "code",
   "execution_count": 5,
   "id": "1ab04c11",
   "metadata": {},
   "outputs": [],
   "source": [
    "c = [i+5 for i in range(10)]"
   ]
  },
  {
   "cell_type": "code",
   "execution_count": 6,
   "id": "a6f736f9",
   "metadata": {},
   "outputs": [
    {
     "data": {
      "text/plain": [
       "[5, 6, 7, 8, 9, 10, 11, 12, 13, 14]"
      ]
     },
     "execution_count": 6,
     "metadata": {},
     "output_type": "execute_result"
    }
   ],
   "source": [
    "c"
   ]
  },
  {
   "cell_type": "code",
   "execution_count": 7,
   "id": "bd54da4e",
   "metadata": {},
   "outputs": [],
   "source": [
    "d = [i * 2 for i in range(10)]"
   ]
  },
  {
   "cell_type": "code",
   "execution_count": 8,
   "id": "7e4bcfb7",
   "metadata": {},
   "outputs": [
    {
     "data": {
      "text/plain": [
       "[0, 2, 4, 6, 8, 10, 12, 14, 16, 18]"
      ]
     },
     "execution_count": 8,
     "metadata": {},
     "output_type": "execute_result"
    }
   ],
   "source": [
    "d"
   ]
  },
  {
   "cell_type": "markdown",
   "id": "e2aeb2ad",
   "metadata": {},
   "source": [
    "## 22.5.1 리스트 표현식에서 if 조건문 사용하기\n",
    "- [식 for 변수 in 리스트 if 조건식]\n",
    "- list(식 for 변수 in 리스트 if 조건식)"
   ]
  },
  {
   "cell_type": "code",
   "execution_count": 9,
   "id": "a921d36c",
   "metadata": {},
   "outputs": [],
   "source": [
    "a =[i for i in range(10) if i%2 ==0]"
   ]
  },
  {
   "cell_type": "code",
   "execution_count": 10,
   "id": "fda68602",
   "metadata": {},
   "outputs": [
    {
     "data": {
      "text/plain": [
       "[0, 2, 4, 6, 8]"
      ]
     },
     "execution_count": 10,
     "metadata": {},
     "output_type": "execute_result"
    }
   ],
   "source": [
    "a# 0~9 숫자 중 2의 배수인 숫자(짝수)로 리스트 생성"
   ]
  },
  {
   "cell_type": "code",
   "execution_count": 11,
   "id": "1ae79f73",
   "metadata": {},
   "outputs": [],
   "source": [
    "b = [i+5 for i in range(10) if i%2 ==1]\n"
   ]
  },
  {
   "cell_type": "code",
   "execution_count": 12,
   "id": "dfbb0d1c",
   "metadata": {},
   "outputs": [
    {
     "data": {
      "text/plain": [
       "[6, 8, 10, 12, 14]"
      ]
     },
     "execution_count": 12,
     "metadata": {},
     "output_type": "execute_result"
    }
   ],
   "source": [
    "b#홀수에 5를 더하여 리스트 생성"
   ]
  },
  {
   "cell_type": "markdown",
   "id": "feeb1131",
   "metadata": {},
   "source": [
    "## 22.5.2 for 반복문과 if 조건문을 여러번 사용하기\n",
    "```python\n",
    "[식 for 변수1 in 리스트1 if 조건식1     for 변수2 in 리스트2 if 조건식2     ...     for 변수n in 리스트n if 조건식n]\n",
    " \n",
    "list(식 for 변수1 in 리스트1 if 조건식1         for 변수2 in 리스트2 if 조건식2         ...         for 변수n in 리스트n if 조건식n)\n",
    "```"
   ]
  },
  {
   "cell_type": "code",
   "execution_count": 13,
   "id": "c5422634",
   "metadata": {},
   "outputs": [],
   "source": [
    "#2단부터 9단까지 구구단 생성\n",
    "a = [i * j for j in range(2,10) for i in range(1,10)]"
   ]
  },
  {
   "cell_type": "code",
   "execution_count": 14,
   "id": "7464d841",
   "metadata": {},
   "outputs": [
    {
     "data": {
      "text/plain": [
       "[2,\n",
       " 4,\n",
       " 6,\n",
       " 8,\n",
       " 10,\n",
       " 12,\n",
       " 14,\n",
       " 16,\n",
       " 18,\n",
       " 3,\n",
       " 6,\n",
       " 9,\n",
       " 12,\n",
       " 15,\n",
       " 18,\n",
       " 21,\n",
       " 24,\n",
       " 27,\n",
       " 4,\n",
       " 8,\n",
       " 12,\n",
       " 16,\n",
       " 20,\n",
       " 24,\n",
       " 28,\n",
       " 32,\n",
       " 36,\n",
       " 5,\n",
       " 10,\n",
       " 15,\n",
       " 20,\n",
       " 25,\n",
       " 30,\n",
       " 35,\n",
       " 40,\n",
       " 45,\n",
       " 6,\n",
       " 12,\n",
       " 18,\n",
       " 24,\n",
       " 30,\n",
       " 36,\n",
       " 42,\n",
       " 48,\n",
       " 54,\n",
       " 7,\n",
       " 14,\n",
       " 21,\n",
       " 28,\n",
       " 35,\n",
       " 42,\n",
       " 49,\n",
       " 56,\n",
       " 63,\n",
       " 8,\n",
       " 16,\n",
       " 24,\n",
       " 32,\n",
       " 40,\n",
       " 48,\n",
       " 56,\n",
       " 64,\n",
       " 72,\n",
       " 9,\n",
       " 18,\n",
       " 27,\n",
       " 36,\n",
       " 45,\n",
       " 54,\n",
       " 63,\n",
       " 72,\n",
       " 81]"
      ]
     },
     "execution_count": 14,
     "metadata": {},
     "output_type": "execute_result"
    }
   ],
   "source": [
    "a"
   ]
  },
  {
   "cell_type": "code",
   "execution_count": 15,
   "id": "3fec6142",
   "metadata": {},
   "outputs": [],
   "source": [
    "a = [i * j for j in range(2, 10)\n",
    "           for i in range(1, 10)]"
   ]
  },
  {
   "cell_type": "code",
   "execution_count": 16,
   "id": "8c901434",
   "metadata": {},
   "outputs": [
    {
     "data": {
      "text/plain": [
       "[2,\n",
       " 4,\n",
       " 6,\n",
       " 8,\n",
       " 10,\n",
       " 12,\n",
       " 14,\n",
       " 16,\n",
       " 18,\n",
       " 3,\n",
       " 6,\n",
       " 9,\n",
       " 12,\n",
       " 15,\n",
       " 18,\n",
       " 21,\n",
       " 24,\n",
       " 27,\n",
       " 4,\n",
       " 8,\n",
       " 12,\n",
       " 16,\n",
       " 20,\n",
       " 24,\n",
       " 28,\n",
       " 32,\n",
       " 36,\n",
       " 5,\n",
       " 10,\n",
       " 15,\n",
       " 20,\n",
       " 25,\n",
       " 30,\n",
       " 35,\n",
       " 40,\n",
       " 45,\n",
       " 6,\n",
       " 12,\n",
       " 18,\n",
       " 24,\n",
       " 30,\n",
       " 36,\n",
       " 42,\n",
       " 48,\n",
       " 54,\n",
       " 7,\n",
       " 14,\n",
       " 21,\n",
       " 28,\n",
       " 35,\n",
       " 42,\n",
       " 49,\n",
       " 56,\n",
       " 63,\n",
       " 8,\n",
       " 16,\n",
       " 24,\n",
       " 32,\n",
       " 40,\n",
       " 48,\n",
       " 56,\n",
       " 64,\n",
       " 72,\n",
       " 9,\n",
       " 18,\n",
       " 27,\n",
       " 36,\n",
       " 45,\n",
       " 54,\n",
       " 63,\n",
       " 72,\n",
       " 81]"
      ]
     },
     "execution_count": 16,
     "metadata": {},
     "output_type": "execute_result"
    }
   ],
   "source": [
    "a"
   ]
  },
  {
   "cell_type": "code",
   "execution_count": 18,
   "id": "2b2e3291",
   "metadata": {},
   "outputs": [],
   "source": [
    "j= [j for j in range(2, 10)]"
   ]
  },
  {
   "cell_type": "code",
   "execution_count": 19,
   "id": "4d3b1ffc",
   "metadata": {},
   "outputs": [
    {
     "data": {
      "text/plain": [
       "[2, 3, 4, 5, 6, 7, 8, 9]"
      ]
     },
     "execution_count": 19,
     "metadata": {},
     "output_type": "execute_result"
    }
   ],
   "source": [
    "j"
   ]
  },
  {
   "cell_type": "code",
   "execution_count": 20,
   "id": "dc0048d7",
   "metadata": {},
   "outputs": [],
   "source": [
    "i= [i for i in range(1, 10)]"
   ]
  },
  {
   "cell_type": "code",
   "execution_count": 21,
   "id": "e4333f78",
   "metadata": {},
   "outputs": [
    {
     "data": {
      "text/plain": [
       "[1, 2, 3, 4, 5, 6, 7, 8, 9]"
      ]
     },
     "execution_count": 21,
     "metadata": {},
     "output_type": "execute_result"
    }
   ],
   "source": [
    "i"
   ]
  },
  {
   "cell_type": "markdown",
   "id": "7c97f439",
   "metadata": {},
   "source": [
    "리스트 표현식에 for 가 여러개일 때 처리 순서는 뒤에서 앞으로 순"
   ]
  },
  {
   "cell_type": "markdown",
   "id": "0ceb53ff",
   "metadata": {},
   "source": [
    "## 22.6 리스트에 map 사용하기\n",
    "map 은 리스트의 요소를 지정된 함수로 처리해주는 함수\n",
    "(map은 원본 리스트를 변경하지 않고 새 리스트를 생성)"
   ]
  },
  {
   "cell_type": "code",
   "execution_count": 23,
   "id": "c1123376",
   "metadata": {},
   "outputs": [],
   "source": [
    "a = [1.2,2.5,3.7,4.6]\n",
    "for i in range(len(a)):\n",
    "    a[i] =int(a[i])\n",
    "    "
   ]
  },
  {
   "cell_type": "code",
   "execution_count": 24,
   "id": "13fed712",
   "metadata": {},
   "outputs": [
    {
     "data": {
      "text/plain": [
       "[1, 2, 3, 4]"
      ]
     },
     "execution_count": 24,
     "metadata": {},
     "output_type": "execute_result"
    }
   ],
   "source": [
    "a"
   ]
  },
  {
   "cell_type": "code",
   "execution_count": 25,
   "id": "d42de56a",
   "metadata": {},
   "outputs": [],
   "source": [
    "a = [1.2,2.5,3.7,4.6]\n",
    "a = list(map(int,a))"
   ]
  },
  {
   "cell_type": "code",
   "execution_count": 26,
   "id": "8d9b3ee0",
   "metadata": {},
   "outputs": [
    {
     "data": {
      "text/plain": [
       "[1, 2, 3, 4]"
      ]
     },
     "execution_count": 26,
     "metadata": {},
     "output_type": "execute_result"
    }
   ],
   "source": [
    "a"
   ]
  },
  {
   "cell_type": "markdown",
   "id": "e4e9851d",
   "metadata": {},
   "source": [
    "![](https://dojang.io/pluginfile.php/13699/mod_page/content/3/022019.png)"
   ]
  },
  {
   "cell_type": "markdown",
   "id": "3c2eca9f",
   "metadata": {},
   "source": [
    "map에는 리스트뿐만 아니라 모든 반복 가능한 객체를 넣을 수 있다"
   ]
  },
  {
   "cell_type": "code",
   "execution_count": 27,
   "id": "25d56300",
   "metadata": {},
   "outputs": [],
   "source": [
    "a =list(map(str,range(10)))"
   ]
  },
  {
   "cell_type": "code",
   "execution_count": 29,
   "id": "9d0fab85",
   "metadata": {},
   "outputs": [
    {
     "data": {
      "text/plain": [
       "['0', '1', '2', '3', '4', '5', '6', '7', '8', '9']"
      ]
     },
     "execution_count": 29,
     "metadata": {},
     "output_type": "execute_result"
    }
   ],
   "source": [
    "a #문자열로 변환"
   ]
  },
  {
   "cell_type": "markdown",
   "id": "f9bfa0cc",
   "metadata": {},
   "source": [
    "## 22.6.1 input().split()과 map"
   ]
  },
  {
   "cell_type": "code",
   "execution_count": 30,
   "id": "1193711f",
   "metadata": {},
   "outputs": [
    {
     "name": "stdout",
     "output_type": "stream",
     "text": [
      "10 20\n"
     ]
    }
   ],
   "source": [
    "a=input().split()"
   ]
  },
  {
   "cell_type": "code",
   "execution_count": 31,
   "id": "0d3d4af6",
   "metadata": {},
   "outputs": [
    {
     "data": {
      "text/plain": [
       "['10', '20']"
      ]
     },
     "execution_count": 31,
     "metadata": {},
     "output_type": "execute_result"
    }
   ],
   "source": [
    "a"
   ]
  },
  {
   "cell_type": "code",
   "execution_count": 34,
   "id": "98efde3f",
   "metadata": {},
   "outputs": [
    {
     "name": "stdout",
     "output_type": "stream",
     "text": [
      "10 20\n"
     ]
    }
   ],
   "source": [
    "a = map(int,input().split())\n"
   ]
  },
  {
   "cell_type": "code",
   "execution_count": 35,
   "id": "68fcf7a0",
   "metadata": {},
   "outputs": [
    {
     "data": {
      "text/plain": [
       "<map at 0x7efc23473950>"
      ]
     },
     "execution_count": 35,
     "metadata": {},
     "output_type": "execute_result"
    }
   ],
   "source": [
    "a"
   ]
  },
  {
   "cell_type": "code",
   "execution_count": 38,
   "id": "9b80f753",
   "metadata": {},
   "outputs": [
    {
     "data": {
      "text/plain": [
       "[10, 20]"
      ]
     },
     "execution_count": 38,
     "metadata": {},
     "output_type": "execute_result"
    }
   ],
   "source": [
    "list(a)"
   ]
  },
  {
   "cell_type": "markdown",
   "id": "2a624212",
   "metadata": {},
   "source": [
    "다시 10 20을 입력하면 맵 객체(map object)가 만들어집니다. 이 상태로는 안에 들어있는 값을 볼 수 없으므로 list를 사용해서 리스트로 출력했습니다. 리스트를 보면 [10, 20]처럼 정수 두 개가 들어있습니다."
   ]
  },
  {
   "cell_type": "code",
   "execution_count": 39,
   "id": "c2dc0e22",
   "metadata": {},
   "outputs": [
    {
     "name": "stdout",
     "output_type": "stream",
     "text": [
      "10 20\n"
     ]
    }
   ],
   "source": [
    "a,b=map(int,input().split())"
   ]
  },
  {
   "cell_type": "code",
   "execution_count": 40,
   "id": "9019baf0",
   "metadata": {},
   "outputs": [
    {
     "data": {
      "text/plain": [
       "10"
      ]
     },
     "execution_count": 40,
     "metadata": {},
     "output_type": "execute_result"
    }
   ],
   "source": [
    "a"
   ]
  },
  {
   "cell_type": "code",
   "execution_count": 41,
   "id": "4438488f",
   "metadata": {},
   "outputs": [
    {
     "data": {
      "text/plain": [
       "20"
      ]
     },
     "execution_count": 41,
     "metadata": {},
     "output_type": "execute_result"
    }
   ],
   "source": [
    "b"
   ]
  },
  {
   "cell_type": "code",
   "execution_count": 42,
   "id": "8d80db34",
   "metadata": {},
   "outputs": [
    {
     "name": "stdout",
     "output_type": "stream",
     "text": [
      "10 20\n"
     ]
    }
   ],
   "source": [
    "x =input().split()# input().split()의 결과는 문자열 리스트\n",
    "m =map(int,x)# 리스트의 요소를 int로 변환, 결과는 맵 객체\n",
    "a,b=m# 맵 객체는 변수 여러 개에 저장할 수 있음"
   ]
  },
  {
   "cell_type": "code",
   "execution_count": 43,
   "id": "86813b7c",
   "metadata": {},
   "outputs": [
    {
     "data": {
      "text/plain": [
       "10"
      ]
     },
     "execution_count": 43,
     "metadata": {},
     "output_type": "execute_result"
    }
   ],
   "source": [
    "a"
   ]
  },
  {
   "cell_type": "code",
   "execution_count": 44,
   "id": "120c91d2",
   "metadata": {},
   "outputs": [
    {
     "data": {
      "text/plain": [
       "20"
      ]
     },
     "execution_count": 44,
     "metadata": {},
     "output_type": "execute_result"
    }
   ],
   "source": [
    "b"
   ]
  },
  {
   "cell_type": "code",
   "execution_count": 45,
   "id": "7b2e4778",
   "metadata": {},
   "outputs": [
    {
     "data": {
      "text/plain": [
       "<map at 0x7efc202ec0d0>"
      ]
     },
     "execution_count": 45,
     "metadata": {},
     "output_type": "execute_result"
    }
   ],
   "source": [
    "m"
   ]
  },
  {
   "cell_type": "code",
   "execution_count": 49,
   "id": "4b71ad4d",
   "metadata": {},
   "outputs": [
    {
     "data": {
      "text/plain": [
       "['10', '20']"
      ]
     },
     "execution_count": 49,
     "metadata": {},
     "output_type": "execute_result"
    }
   ],
   "source": [
    "list(x)"
   ]
  },
  {
   "cell_type": "code",
   "execution_count": 50,
   "id": "06674c22",
   "metadata": {},
   "outputs": [
    {
     "data": {
      "text/plain": [
       "['10', '20']"
      ]
     },
     "execution_count": 50,
     "metadata": {},
     "output_type": "execute_result"
    }
   ],
   "source": [
    "x"
   ]
  },
  {
   "cell_type": "markdown",
   "id": "387ab6b6",
   "metadata": {},
   "source": [
    "## 22.7 튜플 응용하기\n",
    "튜플은 리스트와는 달리 내용을 변경할 수 없습니다(불변, immutable). 따라서 내용을 변경하는 append 같은 메서드는 사용할 수 없고, 요소의 정보를 구하는 메서드만 사용할 수 있습니다."
   ]
  },
  {
   "cell_type": "markdown",
   "id": "f9ab80fb",
   "metadata": {},
   "source": [
    "## 22.7.1 튜플에서 특정 값의 인덱스 구하기"
   ]
  },
  {
   "cell_type": "code",
   "execution_count": 51,
   "id": "224406e1",
   "metadata": {},
   "outputs": [
    {
     "data": {
      "text/plain": [
       "2"
      ]
     },
     "execution_count": 51,
     "metadata": {},
     "output_type": "execute_result"
    }
   ],
   "source": [
    "a = (38,21,53,62,19,53)\n",
    "a.index(53)#가장 처음 찾은 53의 인덱스를 구함"
   ]
  },
  {
   "cell_type": "markdown",
   "id": "ed3bc8e7",
   "metadata": {},
   "source": [
    "## 22.7.2 특정 값의 개수 구하기"
   ]
  },
  {
   "cell_type": "code",
   "execution_count": 52,
   "id": "31302549",
   "metadata": {},
   "outputs": [
    {
     "data": {
      "text/plain": [
       "2"
      ]
     },
     "execution_count": 52,
     "metadata": {},
     "output_type": "execute_result"
    }
   ],
   "source": [
    "a = (10,20,30,15,20,40)\n",
    "a.count(20)"
   ]
  },
  {
   "cell_type": "markdown",
   "id": "c2c2ec71",
   "metadata": {},
   "source": [
    "## 22.7.3 for 반복문으로 요소 출력하기"
   ]
  },
  {
   "cell_type": "code",
   "execution_count": 55,
   "id": "45680d60",
   "metadata": {},
   "outputs": [
    {
     "name": "stdout",
     "output_type": "stream",
     "text": [
      "38 21 53 62 19 "
     ]
    }
   ],
   "source": [
    "#리스트 동일\n",
    "a = (38,21,53,62,19)\n",
    "for i in a:\n",
    "    print(i,end=' ')\n",
    "    "
   ]
  },
  {
   "cell_type": "markdown",
   "id": "9837d1c5",
   "metadata": {},
   "source": [
    "## 22.7.4  튜플 표현식 사용하기\n",
    "- tuple(식 for 변수 in 리스트 if 조건식)"
   ]
  },
  {
   "cell_type": "code",
   "execution_count": 57,
   "id": "1ef30fc0",
   "metadata": {},
   "outputs": [],
   "source": [
    "a = tuple(i for i in range(10) if i % 2 == 0)"
   ]
  },
  {
   "cell_type": "code",
   "execution_count": 58,
   "id": "813dca31",
   "metadata": {},
   "outputs": [
    {
     "data": {
      "text/plain": [
       "(0, 2, 4, 6, 8)"
      ]
     },
     "execution_count": 58,
     "metadata": {},
     "output_type": "execute_result"
    }
   ],
   "source": [
    "a"
   ]
  },
  {
   "cell_type": "markdown",
   "id": "ae74eb1f",
   "metadata": {},
   "source": [
    "참고로 ( )(괄호) 안에 표현식을 넣으면 튜플이 아니라 제너레이터 표현식이 됩니다(제너레이터는 'Unit 40 제너레이터 사용하기'에서 설명하겠습니다)."
   ]
  },
  {
   "cell_type": "code",
   "execution_count": 59,
   "id": "6c503036",
   "metadata": {},
   "outputs": [
    {
     "data": {
      "text/plain": [
       "<generator object <genexpr> at 0x7efc202e0050>"
      ]
     },
     "execution_count": 59,
     "metadata": {},
     "output_type": "execute_result"
    }
   ],
   "source": [
    "(i for i in range(10) if i % 2 == 0)"
   ]
  },
  {
   "cell_type": "markdown",
   "id": "3da7165c",
   "metadata": {},
   "source": [
    "## 22.7.5 tuple에 map 사용하기"
   ]
  },
  {
   "cell_type": "code",
   "execution_count": 60,
   "id": "047199ed",
   "metadata": {},
   "outputs": [],
   "source": [
    "#리스트와 동일\n",
    "a = (1.2,2.5,3.7,4.6)\n",
    "a = tuple(map(int,a))"
   ]
  },
  {
   "cell_type": "code",
   "execution_count": 61,
   "id": "7cf1d83f",
   "metadata": {},
   "outputs": [
    {
     "data": {
      "text/plain": [
       "(1, 2, 3, 4)"
      ]
     },
     "execution_count": 61,
     "metadata": {},
     "output_type": "execute_result"
    }
   ],
   "source": [
    "a"
   ]
  },
  {
   "cell_type": "markdown",
   "id": "b703086f",
   "metadata": {},
   "source": [
    "## 22.7.6 튜플에서 가장 작은 수, 가장 큰 수, 합계구하기"
   ]
  },
  {
   "cell_type": "code",
   "execution_count": 62,
   "id": "371ced42",
   "metadata": {},
   "outputs": [
    {
     "data": {
      "text/plain": [
       "19"
      ]
     },
     "execution_count": 62,
     "metadata": {},
     "output_type": "execute_result"
    }
   ],
   "source": [
    "a = (38,21,53,62,19)\n",
    "min(a)"
   ]
  },
  {
   "cell_type": "code",
   "execution_count": 63,
   "id": "4ef75845",
   "metadata": {},
   "outputs": [
    {
     "data": {
      "text/plain": [
       "62"
      ]
     },
     "execution_count": 63,
     "metadata": {},
     "output_type": "execute_result"
    }
   ],
   "source": [
    "max(a)"
   ]
  },
  {
   "cell_type": "code",
   "execution_count": 64,
   "id": "d2287dc1",
   "metadata": {},
   "outputs": [
    {
     "data": {
      "text/plain": [
       "193"
      ]
     },
     "execution_count": 64,
     "metadata": {},
     "output_type": "execute_result"
    }
   ],
   "source": [
    "sum(a)"
   ]
  },
  {
   "cell_type": "markdown",
   "id": "fc2fefb2",
   "metadata": {},
   "source": [
    "## 22.9 연습문제: 리스트에서 특정 요소만 뽑아내기"
   ]
  },
  {
   "cell_type": "code",
   "execution_count": 65,
   "id": "82123dce",
   "metadata": {},
   "outputs": [
    {
     "name": "stdout",
     "output_type": "stream",
     "text": [
      "['alpha', 'bravo', 'delta', 'hotel', 'india']\n"
     ]
    }
   ],
   "source": [
    "a = ['alpha', 'bravo', 'charlie', 'delta', 'echo', 'foxtrot', 'golf', 'hotel', 'india']\n",
    "b = [ i for i in a if len(i) == 5]\n",
    " \n",
    "print(b)"
   ]
  },
  {
   "cell_type": "markdown",
   "id": "18a6a731",
   "metadata": {},
   "source": [
    "# 23. 2차원 리스트 사용하기 \n",
    "## 23.1 2차원 리스트를 만들고 요소에 접근하기"
   ]
  },
  {
   "cell_type": "markdown",
   "id": "07515295",
   "metadata": {},
   "source": [
    "- 리스트 = [[값, 값], [값, 값], [값, 값]]"
   ]
  },
  {
   "cell_type": "code",
   "execution_count": 66,
   "id": "b168ee56",
   "metadata": {},
   "outputs": [],
   "source": [
    "a = [[10, 20], [30, 40], [50, 60]]"
   ]
  },
  {
   "cell_type": "code",
   "execution_count": 67,
   "id": "28c2dec4",
   "metadata": {},
   "outputs": [
    {
     "data": {
      "text/plain": [
       "[[10, 20], [30, 40], [50, 60]]"
      ]
     },
     "execution_count": 67,
     "metadata": {},
     "output_type": "execute_result"
    }
   ],
   "source": [
    "a"
   ]
  },
  {
   "cell_type": "markdown",
   "id": "04c04b87",
   "metadata": {},
   "source": [
    "## 23.1.1 2차원 리스트의 요소에 접근하기"
   ]
  },
  {
   "cell_type": "code",
   "execution_count": null,
   "id": "d1ef47e9",
   "metadata": {},
   "outputs": [],
   "source": []
  }
 ],
 "metadata": {
  "kernelspec": {
   "display_name": "Python 3",
   "language": "python",
   "name": "python3"
  },
  "language_info": {
   "codemirror_mode": {
    "name": "ipython",
    "version": 3
   },
   "file_extension": ".py",
   "mimetype": "text/x-python",
   "name": "python",
   "nbconvert_exporter": "python",
   "pygments_lexer": "ipython3",
   "version": "3.7.10"
  }
 },
 "nbformat": 4,
 "nbformat_minor": 5
}
