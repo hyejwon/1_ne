{
 "cells": [
  {
   "cell_type": "markdown",
   "id": "8da29c5c",
   "metadata": {},
   "source": [
    "# 24 문자열 응용하기"
   ]
  },
  {
   "cell_type": "code",
   "execution_count": 1,
   "id": "6285c00c",
   "metadata": {},
   "outputs": [
    {
     "data": {
      "text/plain": [
       "'hello,python!'"
      ]
     },
     "execution_count": 1,
     "metadata": {},
     "output_type": "execute_result"
    }
   ],
   "source": [
    "'hello,world!'.replace('world','python')"
   ]
  },
  {
   "cell_type": "code",
   "execution_count": 2,
   "id": "dde6543c",
   "metadata": {},
   "outputs": [],
   "source": [
    "s='hello,world'\n",
    "s=s.replace('world','python')"
   ]
  },
  {
   "cell_type": "code",
   "execution_count": 3,
   "id": "6c96f60b",
   "metadata": {},
   "outputs": [
    {
     "data": {
      "text/plain": [
       "'hello,python'"
      ]
     },
     "execution_count": 3,
     "metadata": {},
     "output_type": "execute_result"
    }
   ],
   "source": [
    "s"
   ]
  },
  {
   "cell_type": "code",
   "execution_count": 4,
   "id": "be22afcd",
   "metadata": {},
   "outputs": [
    {
     "data": {
      "text/plain": [
       "'1ppl2'"
      ]
     },
     "execution_count": 4,
     "metadata": {},
     "output_type": "execute_result"
    }
   ],
   "source": [
    "#24.1.2\n",
    "table=str.maketrans('aeiou','12345')\n",
    "'apple'.translate(table)"
   ]
  },
  {
   "cell_type": "code",
   "execution_count": 5,
   "id": "41319754",
   "metadata": {},
   "outputs": [
    {
     "data": {
      "text/plain": [
       "['apple', 'pear', 'grape', 'pineapple', 'orange']"
      ]
     },
     "execution_count": 5,
     "metadata": {},
     "output_type": "execute_result"
    }
   ],
   "source": [
    "#24.1.3공백을 기준으로 문자열을 분리하여 리스트로 만듦\n",
    "'apple pear grape pineapple orange'.split()\n"
   ]
  },
  {
   "cell_type": "code",
   "execution_count": 6,
   "id": "23978565",
   "metadata": {},
   "outputs": [
    {
     "data": {
      "text/plain": [
       "['apple,pear,grape,pineapple,orange']"
      ]
     },
     "execution_count": 6,
     "metadata": {},
     "output_type": "execute_result"
    }
   ],
   "source": [
    "#단어만 리스트로 만들기\n",
    "'apple,pear,grape,pineapple,orange'.split(', ')"
   ]
  },
  {
   "cell_type": "markdown",
   "id": "5500460b",
   "metadata": {},
   "source": [
    "## 24.1.4 구분자 문자열과 문자열 리스트 연결하기\n",
    "join(리스트)는 구분자 문자열과 문자열 리스트의 요소를 연결하여 문자열로 만다든다."
   ]
  },
  {
   "cell_type": "code",
   "execution_count": 10,
   "id": "c7ad85a4",
   "metadata": {},
   "outputs": [
    {
     "data": {
      "text/plain": [
       "'apple pear grape pineapple orange'"
      ]
     },
     "execution_count": 10,
     "metadata": {},
     "output_type": "execute_result"
    }
   ],
   "source": [
    "#구분자 문자열이 공백\n",
    "' '.join(['apple','pear','grape','pineapple','orange'])"
   ]
  },
  {
   "cell_type": "code",
   "execution_count": 11,
   "id": "6ab9ba13",
   "metadata": {},
   "outputs": [
    {
     "data": {
      "text/plain": [
       "'apple-pear-grape-pineapple-orange'"
      ]
     },
     "execution_count": 11,
     "metadata": {},
     "output_type": "execute_result"
    }
   ],
   "source": [
    "'-'.join(['apple','pear','grape','pineapple','orange'])"
   ]
  },
  {
   "cell_type": "markdown",
   "id": "104be8a7",
   "metadata": {},
   "source": [
    "## 24.1.5 소문자를 대문자로 바꾸기\n",
    "upper()"
   ]
  },
  {
   "cell_type": "code",
   "execution_count": 12,
   "id": "3cd985a2",
   "metadata": {},
   "outputs": [
    {
     "data": {
      "text/plain": [
       "'PYTHON'"
      ]
     },
     "execution_count": 12,
     "metadata": {},
     "output_type": "execute_result"
    }
   ],
   "source": [
    "'python'.upper()"
   ]
  },
  {
   "cell_type": "markdown",
   "id": "32b8aa87",
   "metadata": {},
   "source": [
    "## 24.1.6 대문자를 소문자로 바꾸기\n"
   ]
  },
  {
   "cell_type": "code",
   "execution_count": 13,
   "id": "213fb573",
   "metadata": {},
   "outputs": [
    {
     "data": {
      "text/plain": [
       "'python'"
      ]
     },
     "execution_count": 13,
     "metadata": {},
     "output_type": "execute_result"
    }
   ],
   "source": [
    "'PYTHON'.lower()"
   ]
  },
  {
   "cell_type": "markdown",
   "id": "ca9d34e4",
   "metadata": {},
   "source": [
    "## 24.1.7 왼쪽 공백 삭제하기"
   ]
  },
  {
   "cell_type": "code",
   "execution_count": 14,
   "id": "c829387f",
   "metadata": {},
   "outputs": [
    {
     "data": {
      "text/plain": [
       "'Python    '"
      ]
     },
     "execution_count": 14,
     "metadata": {},
     "output_type": "execute_result"
    }
   ],
   "source": [
    "'    Python    '.lstrip()"
   ]
  },
  {
   "cell_type": "markdown",
   "id": "75315b8e",
   "metadata": {},
   "source": [
    "## 24.1.8 오른쪽 공백 삭제하기"
   ]
  },
  {
   "cell_type": "code",
   "execution_count": 15,
   "id": "c568eb57",
   "metadata": {},
   "outputs": [
    {
     "data": {
      "text/plain": [
       "'   Python'"
      ]
     },
     "execution_count": 15,
     "metadata": {},
     "output_type": "execute_result"
    }
   ],
   "source": [
    "'   Python   '.rstrip()"
   ]
  },
  {
   "cell_type": "markdown",
   "id": "7887cefa",
   "metadata": {},
   "source": [
    "## 24.1.9 양쪽 공백 삭제하기"
   ]
  },
  {
   "cell_type": "code",
   "execution_count": 16,
   "id": "f638c2ad",
   "metadata": {},
   "outputs": [
    {
     "data": {
      "text/plain": [
       "'Python'"
      ]
     },
     "execution_count": 16,
     "metadata": {},
     "output_type": "execute_result"
    }
   ],
   "source": [
    "'  Python  '.strip()"
   ]
  },
  {
   "cell_type": "markdown",
   "id": "5bf8512e",
   "metadata": {},
   "source": [
    "## 24.1.10 왼쪽의 특정 문자 삭제하기"
   ]
  },
  {
   "cell_type": "code",
   "execution_count": 17,
   "id": "733068f2",
   "metadata": {},
   "outputs": [
    {
     "data": {
      "text/plain": [
       "'python.'"
      ]
     },
     "execution_count": 17,
     "metadata": {},
     "output_type": "execute_result"
    }
   ],
   "source": [
    "',python.'.lstrip(',.')#문자열 왼쪽삭제"
   ]
  },
  {
   "cell_type": "markdown",
   "id": "a1a806ca",
   "metadata": {},
   "source": [
    "## 24.1.11 오른쪽의 특정 문자 삭제하기"
   ]
  },
  {
   "cell_type": "code",
   "execution_count": 18,
   "id": "31c96b83",
   "metadata": {},
   "outputs": [
    {
     "data": {
      "text/plain": [
       "' ,python'"
      ]
     },
     "execution_count": 18,
     "metadata": {},
     "output_type": "execute_result"
    }
   ],
   "source": [
    "' ,python.'.rstrip(',.')"
   ]
  },
  {
   "cell_type": "markdown",
   "id": "967c4553",
   "metadata": {},
   "source": [
    "## 24.1.12 양쪽의 특정 문자 삭제하기"
   ]
  },
  {
   "cell_type": "code",
   "execution_count": 19,
   "id": "14872d7a",
   "metadata": {},
   "outputs": [
    {
     "data": {
      "text/plain": [
       "' python'"
      ]
     },
     "execution_count": 19,
     "metadata": {},
     "output_type": "execute_result"
    }
   ],
   "source": [
    "', python.'.strip(',.')"
   ]
  },
  {
   "cell_type": "markdown",
   "id": "e4c53330",
   "metadata": {},
   "source": [
    "**구두점을 간단하게 삭제하기**  \n",
    "string 모듈의 punctation에는 모든 구두점이 들어있다. 다음과 같이 strip 메서드에 string.punctation 을 넣으면 문자열 양쪽의 모든 구두점을 간단하게 삭제할수 있다\n",
    "\n"
   ]
  },
  {
   "cell_type": "code",
   "execution_count": 22,
   "id": "792ede90",
   "metadata": {},
   "outputs": [
    {
     "data": {
      "text/plain": [
       "' python'"
      ]
     },
     "execution_count": 22,
     "metadata": {},
     "output_type": "execute_result"
    }
   ],
   "source": [
    "import string\n",
    "', python.'.strip(string.punctuation)"
   ]
  },
  {
   "cell_type": "code",
   "execution_count": 21,
   "id": "575c20e7",
   "metadata": {},
   "outputs": [
    {
     "data": {
      "text/plain": [
       "'!\"#$%&\\'()*+,-./:;<=>?@[\\\\]^_`{|}~'"
      ]
     },
     "execution_count": 21,
     "metadata": {},
     "output_type": "execute_result"
    }
   ],
   "source": [
    "string.punctuation"
   ]
  },
  {
   "cell_type": "code",
   "execution_count": 23,
   "id": "d30674b7",
   "metadata": {},
   "outputs": [
    {
     "data": {
      "text/plain": [
       "'python'"
      ]
     },
     "execution_count": 23,
     "metadata": {},
     "output_type": "execute_result"
    }
   ],
   "source": [
    "', python.'.strip(string.punctuation+' ')"
   ]
  },
  {
   "cell_type": "code",
   "execution_count": 24,
   "id": "8160b79e",
   "metadata": {},
   "outputs": [
    {
     "data": {
      "text/plain": [
       "'python'"
      ]
     },
     "execution_count": 24,
     "metadata": {},
     "output_type": "execute_result"
    }
   ],
   "source": [
    "', python.'.strip(string.punctuation).strip()"
   ]
  },
  {
   "cell_type": "markdown",
   "id": "396a6458",
   "metadata": {},
   "source": [
    "## 24.1.13 문자열을 왼쪽 정렬하기\n",
    "ljust(길이)는 문자열을 지정된 길이로 만든 뒤 왼쪽으로 정렬하며 남는 공간을 공백으로 채운다.  다음은 문자열'python'의 길이를 10으로 만든 뒤 왼쪽으로 정렬하고 남는 공간을 공백 4칸으로 채움"
   ]
  },
  {
   "cell_type": "code",
   "execution_count": 25,
   "id": "200cb3d2",
   "metadata": {},
   "outputs": [
    {
     "data": {
      "text/plain": [
       "'python    '"
      ]
     },
     "execution_count": 25,
     "metadata": {},
     "output_type": "execute_result"
    }
   ],
   "source": [
    "'python'.ljust(10)"
   ]
  },
  {
   "cell_type": "markdown",
   "id": "429b9f8c",
   "metadata": {},
   "source": [
    "## 24.1.14 문자열을 오른쪽 정렬하기\n",
    "rjust(길이)는 문자열을 지정된 길이로 만든 뒤 오른쪽으로 정렬하며 남는 공간을 공백으로 채운다"
   ]
  },
  {
   "cell_type": "code",
   "execution_count": 26,
   "id": "edf2cba0",
   "metadata": {},
   "outputs": [
    {
     "data": {
      "text/plain": [
       "'    python'"
      ]
     },
     "execution_count": 26,
     "metadata": {},
     "output_type": "execute_result"
    }
   ],
   "source": [
    "'python'.rjust(10)"
   ]
  },
  {
   "cell_type": "markdown",
   "id": "e58c0f52",
   "metadata": {},
   "source": [
    "## 24.1.15 문자열을 가운데 정렬하기"
   ]
  },
  {
   "cell_type": "code",
   "execution_count": 28,
   "id": "e7cc5086",
   "metadata": {},
   "outputs": [
    {
     "data": {
      "text/plain": [
       "'  python  '"
      ]
     },
     "execution_count": 28,
     "metadata": {},
     "output_type": "execute_result"
    }
   ],
   "source": [
    "'python'.center(10)"
   ]
  },
  {
   "cell_type": "code",
   "execution_count": 30,
   "id": "e4c48a6f",
   "metadata": {},
   "outputs": [
    {
     "data": {
      "text/plain": [
       "'   python  '"
      ]
     },
     "execution_count": 30,
     "metadata": {},
     "output_type": "execute_result"
    }
   ],
   "source": [
    "'python'.center(11) #왼쪽 공백3 오른쪽 공백2"
   ]
  },
  {
   "cell_type": "markdown",
   "id": "88ef7ef6",
   "metadata": {},
   "source": [
    "## 24.1.16 메서드 체이닝\n",
    "문자열 메서드는 처리한 결과를 반환하도록 만들어져 있다. 따라서 메서드를 계속 연결해서 호출하는 메서드 체이닝이 가능하다. 메서드 체이닝은 메서드를 줄줄이 연결한다고 해서 메서드 체이닝이라 부른다\n"
   ]
  },
  {
   "cell_type": "code",
   "execution_count": 31,
   "id": "5f71af5a",
   "metadata": {},
   "outputs": [
    {
     "data": {
      "text/plain": [
       "'    PYTHON'"
      ]
     },
     "execution_count": 31,
     "metadata": {},
     "output_type": "execute_result"
    }
   ],
   "source": [
    "'python'.rjust(10).upper()"
   ]
  },
  {
   "cell_type": "markdown",
   "id": "1e848991",
   "metadata": {},
   "source": [
    "## 24.1.17 문자열 왼쪽에 0채우기\n",
    "zfill(길이)는 지정된 길이에 맞춰서 문자열의 왼쪽에 0을 채운다"
   ]
  },
  {
   "cell_type": "code",
   "execution_count": 32,
   "id": "e53e29bc",
   "metadata": {},
   "outputs": [
    {
     "data": {
      "text/plain": [
       "'0035'"
      ]
     },
     "execution_count": 32,
     "metadata": {},
     "output_type": "execute_result"
    }
   ],
   "source": [
    "'35'.zfill(4)"
   ]
  },
  {
   "cell_type": "code",
   "execution_count": 33,
   "id": "5020e3c9",
   "metadata": {},
   "outputs": [
    {
     "data": {
      "text/plain": [
       "'0003.5'"
      ]
     },
     "execution_count": 33,
     "metadata": {},
     "output_type": "execute_result"
    }
   ],
   "source": [
    "'3.5'.zfill(6)"
   ]
  },
  {
   "cell_type": "code",
   "execution_count": 34,
   "id": "124b539b",
   "metadata": {},
   "outputs": [
    {
     "data": {
      "text/plain": [
       "'00000hello'"
      ]
     },
     "execution_count": 34,
     "metadata": {},
     "output_type": "execute_result"
    }
   ],
   "source": [
    "'hello'.zfill(10)"
   ]
  },
  {
   "cell_type": "markdown",
   "id": "a7e71ebf",
   "metadata": {},
   "source": [
    "## 24.1.18 문자열 위치 찾기\n",
    "find('찾을문자열')은 문자열에서 특정 문자열을 찾아서 인덱스를 반환하고, 문자열이 없으면 -1을 반환"
   ]
  },
  {
   "cell_type": "code",
   "execution_count": 37,
   "id": "c668c14c",
   "metadata": {},
   "outputs": [
    {
     "data": {
      "text/plain": [
       "2"
      ]
     },
     "execution_count": 37,
     "metadata": {},
     "output_type": "execute_result"
    }
   ],
   "source": [
    "'apple pineapple'.find('ple')"
   ]
  },
  {
   "cell_type": "code",
   "execution_count": 38,
   "id": "e1830af4",
   "metadata": {},
   "outputs": [
    {
     "data": {
      "text/plain": [
       "-1"
      ]
     },
     "execution_count": 38,
     "metadata": {},
     "output_type": "execute_result"
    }
   ],
   "source": [
    "'apple pineapple'.find('xy')"
   ]
  },
  {
   "cell_type": "markdown",
   "id": "2f69d78d",
   "metadata": {},
   "source": [
    "## 24.1.19 오른쪽에서부터 문자열 위치 찾기"
   ]
  },
  {
   "cell_type": "code",
   "execution_count": 39,
   "id": "556b81e9",
   "metadata": {},
   "outputs": [
    {
     "data": {
      "text/plain": [
       "12"
      ]
     },
     "execution_count": 39,
     "metadata": {},
     "output_type": "execute_result"
    }
   ],
   "source": [
    "'apple pineapple'.rfind('pl')"
   ]
  },
  {
   "cell_type": "code",
   "execution_count": 40,
   "id": "cda5c6cc",
   "metadata": {},
   "outputs": [
    {
     "data": {
      "text/plain": [
       "-1"
      ]
     },
     "execution_count": 40,
     "metadata": {},
     "output_type": "execute_result"
    }
   ],
   "source": [
    "'apple pineapple'.find('xy')"
   ]
  },
  {
   "cell_type": "markdown",
   "id": "0bd100e0",
   "metadata": {},
   "source": [
    "## 24.1.10 문자열 위치 찾기"
   ]
  },
  {
   "cell_type": "code",
   "execution_count": 42,
   "id": "a078668c",
   "metadata": {},
   "outputs": [
    {
     "data": {
      "text/plain": [
       "2"
      ]
     },
     "execution_count": 42,
     "metadata": {},
     "output_type": "execute_result"
    }
   ],
   "source": [
    "'apple pineapple'.index('pl')"
   ]
  },
  {
   "cell_type": "markdown",
   "id": "342b8a3d",
   "metadata": {},
   "source": [
    "## 24.1.21 오른쪽에서부터 문자열 위치 찾기"
   ]
  },
  {
   "cell_type": "code",
   "execution_count": 44,
   "id": "05224bb7",
   "metadata": {},
   "outputs": [
    {
     "data": {
      "text/plain": [
       "12"
      ]
     },
     "execution_count": 44,
     "metadata": {},
     "output_type": "execute_result"
    }
   ],
   "source": [
    "'apple pineapple'.rindex('ple')"
   ]
  },
  {
   "cell_type": "markdown",
   "id": "10480653",
   "metadata": {},
   "source": [
    "## 24.1.22 문자열 개수 세기"
   ]
  },
  {
   "cell_type": "code",
   "execution_count": 45,
   "id": "979d75b6",
   "metadata": {},
   "outputs": [
    {
     "data": {
      "text/plain": [
       "2"
      ]
     },
     "execution_count": 45,
     "metadata": {},
     "output_type": "execute_result"
    }
   ],
   "source": [
    "'apple pineapple'.count('pl')"
   ]
  },
  {
   "cell_type": "markdown",
   "id": "e375f2c4",
   "metadata": {},
   "source": [
    "## 24.2 문자열 서식 지정자와 포매팅 사용하기"
   ]
  },
  {
   "cell_type": "markdown",
   "id": "9975945d",
   "metadata": {},
   "source": [
    "## 24.2.1 서식 지정자로 문자열 넣기\n",
    "서식 지정자는 % 로 시작하고 자료형을 뜻하는 문자가 붙는다. %s 는 문자열이라는 뜻이며 string의 s다. 이처럼 문자열 안에 %s를 넣고 그 뒤에 %를 붙인 뒤 'james'를 지정해주면 %s 부분이 'james' 로 바뀐다"
   ]
  },
  {
   "cell_type": "code",
   "execution_count": 1,
   "id": "552f1aa5",
   "metadata": {},
   "outputs": [
    {
     "data": {
      "text/plain": [
       "'I am james.'"
      ]
     },
     "execution_count": 1,
     "metadata": {},
     "output_type": "execute_result"
    }
   ],
   "source": [
    "'I am %s.' %'james'"
   ]
  },
  {
   "cell_type": "code",
   "execution_count": 2,
   "id": "c87c8739",
   "metadata": {},
   "outputs": [
    {
     "data": {
      "text/plain": [
       "'I am maria.'"
      ]
     },
     "execution_count": 2,
     "metadata": {},
     "output_type": "execute_result"
    }
   ],
   "source": [
    "name = 'maria'\n",
    "'I am %s.'%name"
   ]
  },
  {
   "cell_type": "markdown",
   "id": "6cd15a63",
   "metadata": {},
   "source": [
    "## 24.2.2 서식 지정자로 숫자 넣기"
   ]
  },
  {
   "cell_type": "code",
   "execution_count": 3,
   "id": "180bc185",
   "metadata": {},
   "outputs": [
    {
     "data": {
      "text/plain": [
       "'I am 20 years old.'"
      ]
     },
     "execution_count": 3,
     "metadata": {},
     "output_type": "execute_result"
    }
   ],
   "source": [
    "#d는 10진 정수 decimal integer\n",
    "'I am %d years old.'%20\n"
   ]
  },
  {
   "cell_type": "markdown",
   "id": "817dd7b9",
   "metadata": {},
   "source": [
    "## 24.2.3 서식 지정자로 소수점 표현하기"
   ]
  },
  {
   "cell_type": "code",
   "execution_count": 4,
   "id": "158db060",
   "metadata": {},
   "outputs": [
    {
     "data": {
      "text/plain": [
       "'2.300000'"
      ]
     },
     "execution_count": 4,
     "metadata": {},
     "output_type": "execute_result"
    }
   ],
   "source": [
    "#%f 는 기본적으로 소수점 이하 6자리까지 표시\n",
    "'%f' %2.3"
   ]
  },
  {
   "cell_type": "code",
   "execution_count": 5,
   "id": "f3aed1fd",
   "metadata": {},
   "outputs": [
    {
     "data": {
      "text/plain": [
       "'2.30'"
      ]
     },
     "execution_count": 5,
     "metadata": {},
     "output_type": "execute_result"
    }
   ],
   "source": [
    "#%.자릿수f %숫자 소수점 이하 자릿수 지정\n",
    "'%.2f' %2.3"
   ]
  },
  {
   "cell_type": "markdown",
   "id": "44a8f546",
   "metadata": {},
   "source": [
    "## 24.2.4 서식 지정자로 문자열 정렬하기"
   ]
  },
  {
   "cell_type": "code",
   "execution_count": 6,
   "id": "903411e9",
   "metadata": {},
   "outputs": [
    {
     "data": {
      "text/plain": [
       "'    python'"
      ]
     },
     "execution_count": 6,
     "metadata": {},
     "output_type": "execute_result"
    }
   ],
   "source": [
    "#%길이s 문자열을 지정된 길이로 만든 뒤 오른쪽으로 정렬하고 남는 공간을 공백으로 채운다\n",
    "'%10s' %'python'"
   ]
  },
  {
   "cell_type": "markdown",
   "id": "e36965e0",
   "metadata": {},
   "source": [
    "**자릿수가 다른 숫자 출력하기**  \n",
    "문자열 오른쪽 정렬은 자릿수가 다른 숫자를 출력할 때 유용"
   ]
  },
  {
   "cell_type": "code",
   "execution_count": 7,
   "id": "ff032d7f",
   "metadata": {},
   "outputs": [
    {
     "data": {
      "text/plain": [
       "'       150'"
      ]
     },
     "execution_count": 7,
     "metadata": {},
     "output_type": "execute_result"
    }
   ],
   "source": [
    "#%길이d\n",
    "'%10d' %150"
   ]
  },
  {
   "cell_type": "code",
   "execution_count": 8,
   "id": "df7ba409",
   "metadata": {},
   "outputs": [
    {
     "data": {
      "text/plain": [
       "'      1500'"
      ]
     },
     "execution_count": 8,
     "metadata": {},
     "output_type": "execute_result"
    }
   ],
   "source": [
    "'%10d' %1500"
   ]
  },
  {
   "cell_type": "code",
   "execution_count": 13,
   "id": "43382dc5",
   "metadata": {},
   "outputs": [
    {
     "data": {
      "text/plain": [
       "'   2000.30'"
      ]
     },
     "execution_count": 13,
     "metadata": {},
     "output_type": "execute_result"
    }
   ],
   "source": [
    "#%길이.자릿수f\n",
    "'%10.2f' %2000.3"
   ]
  },
  {
   "cell_type": "markdown",
   "id": "2a4ed11d",
   "metadata": {},
   "source": [
    "왼쪽 정렬은 문자열 길이에 -를 붙인다"
   ]
  },
  {
   "cell_type": "code",
   "execution_count": 14,
   "id": "2f4f3d01",
   "metadata": {},
   "outputs": [
    {
     "data": {
      "text/plain": [
       "'python    '"
      ]
     },
     "execution_count": 14,
     "metadata": {},
     "output_type": "execute_result"
    }
   ],
   "source": [
    "'%-10s' %'python'"
   ]
  },
  {
   "cell_type": "markdown",
   "id": "c86e5879",
   "metadata": {},
   "source": [
    "## 24.2.5 서식 지정자로 문자열 안에 값 여러개 넣기\n",
    "- '%d %s' %(숫자,'문자열')"
   ]
  },
  {
   "cell_type": "code",
   "execution_count": 17,
   "id": "18283c3d",
   "metadata": {},
   "outputs": [
    {
     "data": {
      "text/plain": [
       "'Today is 3 April.'"
      ]
     },
     "execution_count": 17,
     "metadata": {},
     "output_type": "execute_result"
    }
   ],
   "source": [
    "'Today is %d %s.' %(3,'April')"
   ]
  },
  {
   "cell_type": "markdown",
   "id": "c4c3127b",
   "metadata": {},
   "source": [
    "## 24.2.6 format 메서드 사용하기\n",
    "-'{인덱스}'.format(값)"
   ]
  },
  {
   "cell_type": "code",
   "execution_count": 18,
   "id": "e4bd3107",
   "metadata": {},
   "outputs": [
    {
     "data": {
      "text/plain": [
       "'Hello,world!'"
      ]
     },
     "execution_count": 18,
     "metadata": {},
     "output_type": "execute_result"
    }
   ],
   "source": [
    "'Hello,{0}'.format('world!')"
   ]
  },
  {
   "cell_type": "code",
   "execution_count": 19,
   "id": "6e027bf7",
   "metadata": {},
   "outputs": [
    {
     "data": {
      "text/plain": [
       "'Hello,100'"
      ]
     },
     "execution_count": 19,
     "metadata": {},
     "output_type": "execute_result"
    }
   ],
   "source": [
    "'Hello,{0}'.format(100)"
   ]
  },
  {
   "cell_type": "markdown",
   "id": "4b890390",
   "metadata": {},
   "source": [
    "## 24.2.7 format 메서드로 값을 여러 개 넣기"
   ]
  },
  {
   "cell_type": "code",
   "execution_count": 20,
   "id": "22c5113b",
   "metadata": {},
   "outputs": [
    {
     "data": {
      "text/plain": [
       "'hello,python 3.6 script'"
      ]
     },
     "execution_count": 20,
     "metadata": {},
     "output_type": "execute_result"
    }
   ],
   "source": [
    "'hello,{0} {2} {1}'.format('python','script',3.6)"
   ]
  },
  {
   "cell_type": "markdown",
   "id": "1939af3c",
   "metadata": {},
   "source": [
    "## 24.2.8 format 메서드로 같은 값을 여러개 넣기 "
   ]
  },
  {
   "cell_type": "code",
   "execution_count": 21,
   "id": "621dde92",
   "metadata": {},
   "outputs": [
    {
     "data": {
      "text/plain": [
       "'python python script script'"
      ]
     },
     "execution_count": 21,
     "metadata": {},
     "output_type": "execute_result"
    }
   ],
   "source": [
    "'{0} {0} {1} {1}'.format('python','script')"
   ]
  },
  {
   "cell_type": "markdown",
   "id": "36ae903a",
   "metadata": {},
   "source": [
    "## 24.2.9 format 메서드에서 인덱스 생략\n",
    "{}에서 인덱스를 생략하면 format 에 지정한 순서대로 값이 들어감"
   ]
  },
  {
   "cell_type": "code",
   "execution_count": 22,
   "id": "6f3c1eae",
   "metadata": {},
   "outputs": [
    {
     "data": {
      "text/plain": [
       "'hello, python script 3.6'"
      ]
     },
     "execution_count": 22,
     "metadata": {},
     "output_type": "execute_result"
    }
   ],
   "source": [
    "'hello, {} {} {}'.format('python','script',3.6)"
   ]
  },
  {
   "cell_type": "markdown",
   "id": "3af9b221",
   "metadata": {},
   "source": [
    "## 24.2.10 format 메서드에서 인덱스 대신 이름 지정하기"
   ]
  },
  {
   "cell_type": "code",
   "execution_count": 23,
   "id": "fc927049",
   "metadata": {},
   "outputs": [
    {
     "data": {
      "text/plain": [
       "'hello, Python 3.6'"
      ]
     },
     "execution_count": 23,
     "metadata": {},
     "output_type": "execute_result"
    }
   ],
   "source": [
    "'hello, {language} {version}'.format(language='Python',version=3.6)"
   ]
  },
  {
   "cell_type": "markdown",
   "id": "c15c56ce",
   "metadata": {},
   "source": [
    "## 24.2.11 문자열 포매팅에 변수를 그대로 사용하기\n",
    "파이썬 3.6부터는 문자열을 만드는 더 간단한 방법을 제공. 다음과 같이 변수에 값을 넣고 { }에 변수 이름을 지정하면 된다."
   ]
  },
  {
   "cell_type": "code",
   "execution_count": 25,
   "id": "6a0cd6b4",
   "metadata": {},
   "outputs": [
    {
     "data": {
      "text/plain": [
       "'hello,python 3.6'"
      ]
     },
     "execution_count": 25,
     "metadata": {},
     "output_type": "execute_result"
    }
   ],
   "source": [
    "language='python'\n",
    "version= 3.6\n",
    "f'hello,{language} {version}'\n"
   ]
  },
  {
   "cell_type": "markdown",
   "id": "22ae57b3",
   "metadata": {},
   "source": [
    "## 24.2.12 format 메서드로 문자열 정렬\n",
    "문자열 포매팅도 문자열을 정렬할수 있다.  \n",
    "다음과 같이 인덱스 뒤에 :(콜론)을 붙이고 정렬할 방향과 길이를 지정해주면 된다"
   ]
  },
  {
   "cell_type": "code",
   "execution_count": 27,
   "id": "8615ce51",
   "metadata": {},
   "outputs": [
    {
     "data": {
      "text/plain": [
       "'python    '"
      ]
     },
     "execution_count": 27,
     "metadata": {},
     "output_type": "execute_result"
    }
   ],
   "source": [
    "#'{인덱스:<길이}'.format(값) 왼쪽 정렬\n",
    "'{0:<10}'.format('python')"
   ]
  },
  {
   "cell_type": "code",
   "execution_count": 28,
   "id": "019d97d5",
   "metadata": {},
   "outputs": [
    {
     "data": {
      "text/plain": [
       "'    python'"
      ]
     },
     "execution_count": 28,
     "metadata": {},
     "output_type": "execute_result"
    }
   ],
   "source": [
    "#'{인덱스:>길이}'.format(값)\n",
    "'{0:>10}'.format('python')"
   ]
  },
  {
   "cell_type": "code",
   "execution_count": 29,
   "id": "5e7ea0ff",
   "metadata": {},
   "outputs": [
    {
     "data": {
      "text/plain": [
       "'    python'"
      ]
     },
     "execution_count": 29,
     "metadata": {},
     "output_type": "execute_result"
    }
   ],
   "source": [
    "#인덱스 생략\n",
    "'{:>10}'.format('python')"
   ]
  },
  {
   "cell_type": "markdown",
   "id": "3327a876",
   "metadata": {},
   "source": [
    "## 24.2.13 숫자 개수 맞추기\n",
    "- '%0개수d' %숫자\n",
    "- '{인덱스:0개수d}'.format(숫자)"
   ]
  },
  {
   "cell_type": "code",
   "execution_count": 30,
   "id": "43e67c7a",
   "metadata": {},
   "outputs": [
    {
     "data": {
      "text/plain": [
       "'001'"
      ]
     },
     "execution_count": 30,
     "metadata": {},
     "output_type": "execute_result"
    }
   ],
   "source": [
    "'%03d' %1"
   ]
  },
  {
   "cell_type": "code",
   "execution_count": 31,
   "id": "624ad10f",
   "metadata": {},
   "outputs": [
    {
     "data": {
      "text/plain": [
       "'035'"
      ]
     },
     "execution_count": 31,
     "metadata": {},
     "output_type": "execute_result"
    }
   ],
   "source": [
    "'{0:03d}'.format(35)"
   ]
  },
  {
   "cell_type": "markdown",
   "id": "ceff649a",
   "metadata": {},
   "source": [
    "- '%개수.자릿수f' %숫자\n",
    "- '{인덱스:0개수.자릿수f}.format(숫자)"
   ]
  },
  {
   "cell_type": "code",
   "execution_count": 32,
   "id": "268315d0",
   "metadata": {},
   "outputs": [
    {
     "data": {
      "text/plain": [
       "'00003.60'"
      ]
     },
     "execution_count": 32,
     "metadata": {},
     "output_type": "execute_result"
    }
   ],
   "source": [
    "'%08.2f'%3.6\n"
   ]
  },
  {
   "cell_type": "code",
   "execution_count": 33,
   "id": "6bb00ccb",
   "metadata": {},
   "outputs": [
    {
     "data": {
      "text/plain": [
       "'00150.37'"
      ]
     },
     "execution_count": 33,
     "metadata": {},
     "output_type": "execute_result"
    }
   ],
   "source": [
    "'{0:08.2f}'.format(150.37)"
   ]
  },
  {
   "cell_type": "markdown",
   "id": "1e1acb4b",
   "metadata": {},
   "source": [
    "실수는 숫자 개수에 정수 부분, 소수점, 소수점 이하 자릿수가 모두 포함된다."
   ]
  },
  {
   "cell_type": "markdown",
   "id": "7b8042d8",
   "metadata": {},
   "source": [
    "## 24.2.14 채우기와 정렬을 조합해서 사용하기\n",
    "- '{인덱스 : [[채우기]정렬][길이][.자릿수][자료형]}"
   ]
  },
  {
   "cell_type": "code",
   "execution_count": 35,
   "id": "faca39a8",
   "metadata": {},
   "outputs": [
    {
     "data": {
      "text/plain": [
       "'1500000000'"
      ]
     },
     "execution_count": 35,
     "metadata": {},
     "output_type": "execute_result"
    }
   ],
   "source": [
    "'{0:0<10}'.format(15)"
   ]
  },
  {
   "cell_type": "code",
   "execution_count": 36,
   "id": "948022ba",
   "metadata": {},
   "outputs": [
    {
     "data": {
      "text/plain": [
       "'0000000015'"
      ]
     },
     "execution_count": 36,
     "metadata": {},
     "output_type": "execute_result"
    }
   ],
   "source": [
    "'{0:0>10}'.format(15)"
   ]
  },
  {
   "cell_type": "code",
   "execution_count": 37,
   "id": "27ad8480",
   "metadata": {},
   "outputs": [
    {
     "data": {
      "text/plain": [
       "'0000015.00'"
      ]
     },
     "execution_count": 37,
     "metadata": {},
     "output_type": "execute_result"
    }
   ],
   "source": [
    "'{0:0>10.2f}'.format(15)"
   ]
  },
  {
   "cell_type": "markdown",
   "id": "06d659f0",
   "metadata": {},
   "source": [
    "채우기 부분에 0이 아닌 다른 문자을 넣어도 된다. 공백을 넣어도 되고, 문자를 넣어도 된다. 만약 채우기 부분을 생략하면 공백이 들어간다."
   ]
  },
  {
   "cell_type": "code",
   "execution_count": 40,
   "id": "4e94908a",
   "metadata": {},
   "outputs": [
    {
     "data": {
      "text/plain": [
       "'        15'"
      ]
     },
     "execution_count": 40,
     "metadata": {},
     "output_type": "execute_result"
    }
   ],
   "source": [
    "'{0: >10}'.format(15)"
   ]
  },
  {
   "cell_type": "code",
   "execution_count": 39,
   "id": "6d925164",
   "metadata": {},
   "outputs": [
    {
     "data": {
      "text/plain": [
       "'15        '"
      ]
     },
     "execution_count": 39,
     "metadata": {},
     "output_type": "execute_result"
    }
   ],
   "source": [
    "'{0:<10}'.format(15)"
   ]
  },
  {
   "cell_type": "code",
   "execution_count": 41,
   "id": "24478bd4",
   "metadata": {},
   "outputs": [
    {
     "data": {
      "text/plain": [
       "'xxxxxxxx15'"
      ]
     },
     "execution_count": 41,
     "metadata": {},
     "output_type": "execute_result"
    }
   ],
   "source": [
    "'{0:x>10}'.format(15)"
   ]
  },
  {
   "cell_type": "markdown",
   "id": "4851ace2",
   "metadata": {},
   "source": [
    "**금액에서 천단위로 콤마 넣기**"
   ]
  },
  {
   "cell_type": "code",
   "execution_count": 43,
   "id": "c3bd5aa6",
   "metadata": {},
   "outputs": [
    {
     "data": {
      "text/plain": [
       "'1,493,500'"
      ]
     },
     "execution_count": 43,
     "metadata": {},
     "output_type": "execute_result"
    }
   ],
   "source": [
    "#format 내장 함수사용\n",
    "format(1493500,',')"
   ]
  },
  {
   "cell_type": "code",
   "execution_count": 44,
   "id": "0bfc7351",
   "metadata": {},
   "outputs": [
    {
     "data": {
      "text/plain": [
       "'           1,493,500'"
      ]
     },
     "execution_count": 44,
     "metadata": {},
     "output_type": "execute_result"
    }
   ],
   "source": [
    "'%20s' %format(1493500,',') #길이 20, 오른쪽 정렬"
   ]
  },
  {
   "cell_type": "code",
   "execution_count": 45,
   "id": "92316d91",
   "metadata": {},
   "outputs": [
    {
     "data": {
      "text/plain": [
       "'1,493,500'"
      ]
     },
     "execution_count": 45,
     "metadata": {},
     "output_type": "execute_result"
    }
   ],
   "source": [
    "'{0:,}'.format(1493500)"
   ]
  },
  {
   "cell_type": "code",
   "execution_count": 46,
   "id": "9dce1c90",
   "metadata": {},
   "outputs": [
    {
     "data": {
      "text/plain": [
       "'           1,493,500'"
      ]
     },
     "execution_count": 46,
     "metadata": {},
     "output_type": "execute_result"
    }
   ],
   "source": [
    "'{0:>20,}'.format(1493500)\n"
   ]
  },
  {
   "cell_type": "code",
   "execution_count": 48,
   "id": "8120cd5d",
   "metadata": {},
   "outputs": [
    {
     "data": {
      "text/plain": [
       "'000000000001,493,500'"
      ]
     },
     "execution_count": 48,
     "metadata": {},
     "output_type": "execute_result"
    }
   ],
   "source": [
    "'{0:0>20,}'.format(1493500)#길이 20 오른쪽으로 정렬하고 남는 공간 0으로 채우기"
   ]
  },
  {
   "cell_type": "markdown",
   "id": "f2cbcfe4",
   "metadata": {},
   "source": [
    "## 24.4 연습문제: 파일경로에서 파일명만 가져오기"
   ]
  },
  {
   "cell_type": "code",
   "execution_count": 53,
   "id": "523b15d5",
   "metadata": {},
   "outputs": [
    {
     "name": "stdout",
     "output_type": "stream",
     "text": [
      "python.exe\n"
     ]
    }
   ],
   "source": [
    "path = 'C:\\\\Users\\\\dojang\\\\AppData\\\\Local\\\\Programs\\\\Python\\\\Python36-32\\\\python.exe'\n",
    "                                      \n",
    "x=path.split('\\\\')\n",
    "filename=x[-1]                                   \n",
    " \n",
    "\n",
    "print(filename)"
   ]
  },
  {
   "cell_type": "code",
   "execution_count": null,
   "id": "ac53c4d0",
   "metadata": {},
   "outputs": [],
   "source": []
  }
 ],
 "metadata": {
  "kernelspec": {
   "display_name": "Python 3",
   "language": "python",
   "name": "python3"
  },
  "language_info": {
   "codemirror_mode": {
    "name": "ipython",
    "version": 3
   },
   "file_extension": ".py",
   "mimetype": "text/x-python",
   "name": "python",
   "nbconvert_exporter": "python",
   "pygments_lexer": "ipython3",
   "version": "3.7.10"
  }
 },
 "nbformat": 4,
 "nbformat_minor": 5
}
