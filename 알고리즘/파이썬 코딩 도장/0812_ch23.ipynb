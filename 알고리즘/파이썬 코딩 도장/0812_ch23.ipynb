{
 "cells": [
  {
   "cell_type": "markdown",
   "id": "352ae308",
   "metadata": {},
   "source": [
    "## 23.1 2차원 리스트를 만들고 요소에 접근하기"
   ]
  },
  {
   "cell_type": "code",
   "execution_count": 1,
   "id": "41b51283",
   "metadata": {},
   "outputs": [],
   "source": [
    "a = [[10, 20], [30, 40], [50, 60]]"
   ]
  },
  {
   "cell_type": "code",
   "execution_count": 2,
   "id": "fbd7a4b4",
   "metadata": {},
   "outputs": [
    {
     "data": {
      "text/plain": [
       "[[10, 20], [30, 40], [50, 60]]"
      ]
     },
     "execution_count": 2,
     "metadata": {},
     "output_type": "execute_result"
    }
   ],
   "source": [
    "a"
   ]
  },
  {
   "cell_type": "code",
   "execution_count": 3,
   "id": "1f3fa0fc",
   "metadata": {},
   "outputs": [],
   "source": [
    "a = [[10, 20],\n",
    "     [30, 40],\n",
    "     [50, 60] ]"
   ]
  },
  {
   "cell_type": "code",
   "execution_count": 4,
   "id": "c1bc3a2e",
   "metadata": {},
   "outputs": [
    {
     "data": {
      "text/plain": [
       "[[10, 20], [30, 40], [50, 60]]"
      ]
     },
     "execution_count": 4,
     "metadata": {},
     "output_type": "execute_result"
    }
   ],
   "source": [
    "a"
   ]
  },
  {
   "cell_type": "markdown",
   "id": "72845f69",
   "metadata": {},
   "source": [
    "## 23.1.1  2차원 리스트의 요소에 접근하기\n",
    "- 리스트[세로인덱스][가로인덱스]\n",
    "- 리스트[세로인덱스][가로인덱스] = 값"
   ]
  },
  {
   "cell_type": "code",
   "execution_count": 5,
   "id": "37da0776",
   "metadata": {},
   "outputs": [
    {
     "data": {
      "text/plain": [
       "10"
      ]
     },
     "execution_count": 5,
     "metadata": {},
     "output_type": "execute_result"
    }
   ],
   "source": [
    "a[0][0]"
   ]
  },
  {
   "cell_type": "code",
   "execution_count": 6,
   "id": "9f9c7ff4",
   "metadata": {},
   "outputs": [
    {
     "data": {
      "text/plain": [
       "20"
      ]
     },
     "execution_count": 6,
     "metadata": {},
     "output_type": "execute_result"
    }
   ],
   "source": [
    "a[0][1]"
   ]
  },
  {
   "cell_type": "code",
   "execution_count": 8,
   "id": "5b583ef4",
   "metadata": {},
   "outputs": [
    {
     "data": {
      "text/plain": [
       "40"
      ]
     },
     "execution_count": 8,
     "metadata": {},
     "output_type": "execute_result"
    }
   ],
   "source": [
    "a[1][1]"
   ]
  },
  {
   "cell_type": "code",
   "execution_count": 9,
   "id": "4313628a",
   "metadata": {},
   "outputs": [],
   "source": [
    "a[0][1]=1000"
   ]
  },
  {
   "cell_type": "code",
   "execution_count": 10,
   "id": "b89827ed",
   "metadata": {},
   "outputs": [
    {
     "data": {
      "text/plain": [
       "1000"
      ]
     },
     "execution_count": 10,
     "metadata": {},
     "output_type": "execute_result"
    }
   ],
   "source": [
    "a[0][1]"
   ]
  },
  {
   "cell_type": "markdown",
   "id": "d57b9fce",
   "metadata": {},
   "source": [
    "**톱니형 리스트**"
   ]
  },
  {
   "cell_type": "code",
   "execution_count": 11,
   "id": "e7ee8a21",
   "metadata": {},
   "outputs": [],
   "source": [
    "a = [[10, 20],\n",
    "     [500, 600, 700],\n",
    "     [9],\n",
    "     [30, 40],\n",
    "     [8],\n",
    "     [800, 900, 1000]]"
   ]
  },
  {
   "cell_type": "code",
   "execution_count": 12,
   "id": "148ab0b3",
   "metadata": {},
   "outputs": [],
   "source": [
    "a = []"
   ]
  },
  {
   "cell_type": "code",
   "execution_count": 14,
   "id": "9ac9f47d",
   "metadata": {},
   "outputs": [],
   "source": [
    "a.append([])\n",
    "a[0].append(10)"
   ]
  },
  {
   "cell_type": "code",
   "execution_count": 15,
   "id": "69e0e7ce",
   "metadata": {},
   "outputs": [
    {
     "data": {
      "text/plain": [
       "[[10]]"
      ]
     },
     "execution_count": 15,
     "metadata": {},
     "output_type": "execute_result"
    }
   ],
   "source": [
    "a"
   ]
  },
  {
   "cell_type": "code",
   "execution_count": 16,
   "id": "4bd7db7f",
   "metadata": {},
   "outputs": [],
   "source": [
    "a[0].append(20)"
   ]
  },
  {
   "cell_type": "code",
   "execution_count": 17,
   "id": "b22e7806",
   "metadata": {},
   "outputs": [
    {
     "data": {
      "text/plain": [
       "[[10, 20]]"
      ]
     },
     "execution_count": 17,
     "metadata": {},
     "output_type": "execute_result"
    }
   ],
   "source": [
    "a"
   ]
  },
  {
   "cell_type": "code",
   "execution_count": 18,
   "id": "5d3a9484",
   "metadata": {},
   "outputs": [],
   "source": [
    "a.append([])"
   ]
  },
  {
   "cell_type": "code",
   "execution_count": 19,
   "id": "cfb8ae18",
   "metadata": {},
   "outputs": [
    {
     "data": {
      "text/plain": [
       "[[10, 20], []]"
      ]
     },
     "execution_count": 19,
     "metadata": {},
     "output_type": "execute_result"
    }
   ],
   "source": [
    "a"
   ]
  },
  {
   "cell_type": "code",
   "execution_count": 20,
   "id": "f64a355b",
   "metadata": {},
   "outputs": [],
   "source": [
    "a[1].append(500)"
   ]
  },
  {
   "cell_type": "code",
   "execution_count": 21,
   "id": "bedcfcd5",
   "metadata": {},
   "outputs": [
    {
     "data": {
      "text/plain": [
       "[[10, 20], [500]]"
      ]
     },
     "execution_count": 21,
     "metadata": {},
     "output_type": "execute_result"
    }
   ],
   "source": [
    "a"
   ]
  },
  {
   "cell_type": "code",
   "execution_count": 22,
   "id": "0bff8883",
   "metadata": {},
   "outputs": [],
   "source": [
    "a[1].append(600)\n",
    "a[1].append(700)"
   ]
  },
  {
   "cell_type": "code",
   "execution_count": 23,
   "id": "dfda8e4d",
   "metadata": {},
   "outputs": [
    {
     "data": {
      "text/plain": [
       "[[10, 20], [500, 600, 700]]"
      ]
     },
     "execution_count": 23,
     "metadata": {},
     "output_type": "execute_result"
    }
   ],
   "source": [
    "a"
   ]
  },
  {
   "cell_type": "markdown",
   "id": "699d0e50",
   "metadata": {},
   "source": [
    "**2차원 튜플**"
   ]
  },
  {
   "cell_type": "code",
   "execution_count": 24,
   "id": "d91d7a2b",
   "metadata": {},
   "outputs": [],
   "source": [
    "a = ((10,20),(30,40),(50,60))"
   ]
  },
  {
   "cell_type": "code",
   "execution_count": 25,
   "id": "78015d0b",
   "metadata": {},
   "outputs": [],
   "source": [
    "b = ([10, 20], [30, 40], [50, 60])"
   ]
  },
  {
   "cell_type": "code",
   "execution_count": 27,
   "id": "a5dfe7bc",
   "metadata": {},
   "outputs": [],
   "source": [
    "c = [(10, 20), (30, 40), (50, 60)]  "
   ]
  },
  {
   "cell_type": "code",
   "execution_count": 28,
   "id": "8e00ca5a",
   "metadata": {},
   "outputs": [
    {
     "ename": "TypeError",
     "evalue": "'tuple' object does not support item assignment",
     "output_type": "error",
     "traceback": [
      "\u001b[0;31m---------------------------------------------------------------------------\u001b[0m",
      "\u001b[0;31mTypeError\u001b[0m                                 Traceback (most recent call last)",
      "\u001b[0;32m<ipython-input-28-9fd0f5f35e6a>\u001b[0m in \u001b[0;36m<module>\u001b[0;34m\u001b[0m\n\u001b[0;32m----> 1\u001b[0;31m \u001b[0ma\u001b[0m\u001b[0;34m[\u001b[0m\u001b[0;36m0\u001b[0m\u001b[0;34m]\u001b[0m\u001b[0;34m[\u001b[0m\u001b[0;36m0\u001b[0m\u001b[0;34m]\u001b[0m \u001b[0;34m=\u001b[0m \u001b[0;36m500\u001b[0m\u001b[0;34m\u001b[0m\u001b[0;34m\u001b[0m\u001b[0m\n\u001b[0m",
      "\u001b[0;31mTypeError\u001b[0m: 'tuple' object does not support item assignment"
     ]
    }
   ],
   "source": [
    "a[0][0] = 500"
   ]
  },
  {
   "cell_type": "code",
   "execution_count": 29,
   "id": "0f284d6d",
   "metadata": {},
   "outputs": [
    {
     "ename": "TypeError",
     "evalue": "'tuple' object does not support item assignment",
     "output_type": "error",
     "traceback": [
      "\u001b[0;31m---------------------------------------------------------------------------\u001b[0m",
      "\u001b[0;31mTypeError\u001b[0m                                 Traceback (most recent call last)",
      "\u001b[0;32m<ipython-input-29-84c6e8d462ed>\u001b[0m in \u001b[0;36m<module>\u001b[0;34m\u001b[0m\n\u001b[0;32m----> 1\u001b[0;31m \u001b[0ma\u001b[0m\u001b[0;34m[\u001b[0m\u001b[0;36m0\u001b[0m\u001b[0;34m]\u001b[0m \u001b[0;34m=\u001b[0m \u001b[0;34m(\u001b[0m\u001b[0;36m500\u001b[0m\u001b[0;34m,\u001b[0m\u001b[0;36m600\u001b[0m\u001b[0;34m)\u001b[0m\u001b[0;34m\u001b[0m\u001b[0;34m\u001b[0m\u001b[0m\n\u001b[0m",
      "\u001b[0;31mTypeError\u001b[0m: 'tuple' object does not support item assignment"
     ]
    }
   ],
   "source": [
    "a[0] = (500,600)"
   ]
  },
  {
   "cell_type": "code",
   "execution_count": 30,
   "id": "74b50c8c",
   "metadata": {},
   "outputs": [],
   "source": [
    "b[0][0] = 500 "
   ]
  },
  {
   "cell_type": "code",
   "execution_count": 31,
   "id": "160a28ac",
   "metadata": {},
   "outputs": [
    {
     "data": {
      "text/plain": [
       "([500, 20], [30, 40], [50, 60])"
      ]
     },
     "execution_count": 31,
     "metadata": {},
     "output_type": "execute_result"
    }
   ],
   "source": [
    "b"
   ]
  },
  {
   "cell_type": "code",
   "execution_count": 32,
   "id": "86207c3c",
   "metadata": {},
   "outputs": [
    {
     "ename": "TypeError",
     "evalue": "'tuple' object does not support item assignment",
     "output_type": "error",
     "traceback": [
      "\u001b[0;31m---------------------------------------------------------------------------\u001b[0m",
      "\u001b[0;31mTypeError\u001b[0m                                 Traceback (most recent call last)",
      "\u001b[0;32m<ipython-input-32-f640d64aef04>\u001b[0m in \u001b[0;36m<module>\u001b[0;34m\u001b[0m\n\u001b[0;32m----> 1\u001b[0;31m \u001b[0mb\u001b[0m\u001b[0;34m[\u001b[0m\u001b[0;36m0\u001b[0m\u001b[0;34m]\u001b[0m \u001b[0;34m=\u001b[0m \u001b[0;34m(\u001b[0m\u001b[0;36m500\u001b[0m\u001b[0;34m,\u001b[0m \u001b[0;36m600\u001b[0m\u001b[0;34m)\u001b[0m\u001b[0;34m\u001b[0m\u001b[0;34m\u001b[0m\u001b[0m\n\u001b[0m",
      "\u001b[0;31mTypeError\u001b[0m: 'tuple' object does not support item assignment"
     ]
    }
   ],
   "source": [
    "b[0] = (500, 600) "
   ]
  },
  {
   "cell_type": "code",
   "execution_count": 33,
   "id": "9e5582e6",
   "metadata": {},
   "outputs": [
    {
     "ename": "TypeError",
     "evalue": "'tuple' object does not support item assignment",
     "output_type": "error",
     "traceback": [
      "\u001b[0;31m---------------------------------------------------------------------------\u001b[0m",
      "\u001b[0;31mTypeError\u001b[0m                                 Traceback (most recent call last)",
      "\u001b[0;32m<ipython-input-33-f960e50b7215>\u001b[0m in \u001b[0;36m<module>\u001b[0;34m\u001b[0m\n\u001b[0;32m----> 1\u001b[0;31m \u001b[0mc\u001b[0m\u001b[0;34m[\u001b[0m\u001b[0;36m0\u001b[0m\u001b[0;34m]\u001b[0m\u001b[0;34m[\u001b[0m\u001b[0;36m0\u001b[0m\u001b[0;34m]\u001b[0m \u001b[0;34m=\u001b[0m \u001b[0;36m500\u001b[0m\u001b[0;34m\u001b[0m\u001b[0;34m\u001b[0m\u001b[0m\n\u001b[0m",
      "\u001b[0;31mTypeError\u001b[0m: 'tuple' object does not support item assignment"
     ]
    }
   ],
   "source": [
    "c[0][0] = 500  "
   ]
  },
  {
   "cell_type": "code",
   "execution_count": 34,
   "id": "de4ea9d7",
   "metadata": {},
   "outputs": [],
   "source": [
    "c[0] = (500, 600)"
   ]
  },
  {
   "cell_type": "code",
   "execution_count": 35,
   "id": "55fdde5a",
   "metadata": {},
   "outputs": [
    {
     "data": {
      "text/plain": [
       "[(500, 600), (30, 40), (50, 60)]"
      ]
     },
     "execution_count": 35,
     "metadata": {},
     "output_type": "execute_result"
    }
   ],
   "source": [
    "c"
   ]
  },
  {
   "cell_type": "code",
   "execution_count": 36,
   "id": "5ff13ec8",
   "metadata": {},
   "outputs": [],
   "source": [
    "a = [[10, 20], [30, 40], [50, 60]]"
   ]
  },
  {
   "cell_type": "code",
   "execution_count": 37,
   "id": "63b448f7",
   "metadata": {},
   "outputs": [
    {
     "data": {
      "text/plain": [
       "[[10, 20], [30, 40], [50, 60]]"
      ]
     },
     "execution_count": 37,
     "metadata": {},
     "output_type": "execute_result"
    }
   ],
   "source": [
    "a"
   ]
  },
  {
   "cell_type": "code",
   "execution_count": 38,
   "id": "b9e22c03",
   "metadata": {},
   "outputs": [],
   "source": [
    "from pprint import pprint"
   ]
  },
  {
   "cell_type": "code",
   "execution_count": 41,
   "id": "c454052d",
   "metadata": {},
   "outputs": [
    {
     "name": "stdout",
     "output_type": "stream",
     "text": [
      "[   [10, 20],\n",
      "    [30, 40],\n",
      "    [50, 60]]\n"
     ]
    }
   ],
   "source": [
    "pprint(a, indent=4, width=20)"
   ]
  },
  {
   "cell_type": "markdown",
   "id": "5bc59992",
   "metadata": {},
   "source": [
    "## 23.2.1 for 반복문을 한 번만 사용하기"
   ]
  },
  {
   "cell_type": "code",
   "execution_count": 42,
   "id": "66c07d12",
   "metadata": {},
   "outputs": [
    {
     "name": "stdout",
     "output_type": "stream",
     "text": [
      "10 20\n",
      "30 40\n",
      "50 60\n"
     ]
    }
   ],
   "source": [
    "a = [[10,20],[30,40],[50,60]]\n",
    "for x,y in a:# 리스트의 가로 한 줄(안쪽 리스트)에서 요소 두 개를 꺼냄\n",
    "    print(x,y)"
   ]
  },
  {
   "cell_type": "code",
   "execution_count": 45,
   "id": "ba7184cd",
   "metadata": {},
   "outputs": [
    {
     "name": "stdout",
     "output_type": "stream",
     "text": [
      "10 20\n",
      "30 40\n",
      "50 60\n"
     ]
    }
   ],
   "source": [
    "for i,j in a:\n",
    "    print(i,j)"
   ]
  },
  {
   "cell_type": "markdown",
   "id": "7cf99e15",
   "metadata": {},
   "source": [
    "![](https://dojang.io/pluginfile.php/13706/mod_page/content/3/023003.png)"
   ]
  },
  {
   "cell_type": "markdown",
   "id": "366dc588",
   "metadata": {},
   "source": [
    "## 23.2.2  for 반복문을 두 번 사용하기"
   ]
  },
  {
   "cell_type": "code",
   "execution_count": 46,
   "id": "9e5a176d",
   "metadata": {},
   "outputs": [
    {
     "data": {
      "text/plain": [
       "[[10, 20], [30, 40], [50, 60]]"
      ]
     },
     "execution_count": 46,
     "metadata": {},
     "output_type": "execute_result"
    }
   ],
   "source": [
    "a"
   ]
  },
  {
   "cell_type": "code",
   "execution_count": 47,
   "id": "b408c41d",
   "metadata": {},
   "outputs": [
    {
     "name": "stdout",
     "output_type": "stream",
     "text": [
      "10 20 \n",
      "30 40 \n",
      "50 60 \n"
     ]
    }
   ],
   "source": [
    "for i in a:\n",
    "    for j in i:\n",
    "        print(j,end=' ')\n",
    "    print()"
   ]
  },
  {
   "cell_type": "markdown",
   "id": "a4fdd84b",
   "metadata": {},
   "source": [
    "![](https://dojang.io/pluginfile.php/13706/mod_page/content/3/023004.png)"
   ]
  },
  {
   "cell_type": "markdown",
   "id": "e55b0d64",
   "metadata": {},
   "source": [
    "## 23.2.3 for 와 range 사용하기"
   ]
  },
  {
   "cell_type": "code",
   "execution_count": 48,
   "id": "b2b00a46",
   "metadata": {},
   "outputs": [
    {
     "name": "stdout",
     "output_type": "stream",
     "text": [
      "10 20 \n",
      "30 40 \n",
      "50 60 \n"
     ]
    }
   ],
   "source": [
    "for i in range(len(a)):\n",
    "    for j in range(len(a[i])):\n",
    "        print(a[i][j], end=' ')\n",
    "    print()"
   ]
  },
  {
   "cell_type": "code",
   "execution_count": 49,
   "id": "62e8a2f4",
   "metadata": {},
   "outputs": [
    {
     "data": {
      "text/plain": [
       "3"
      ]
     },
     "execution_count": 49,
     "metadata": {},
     "output_type": "execute_result"
    }
   ],
   "source": [
    "len(a)"
   ]
  },
  {
   "cell_type": "code",
   "execution_count": 50,
   "id": "e816308c",
   "metadata": {},
   "outputs": [
    {
     "data": {
      "text/plain": [
       "2"
      ]
     },
     "execution_count": 50,
     "metadata": {},
     "output_type": "execute_result"
    }
   ],
   "source": [
    "len(a[i])"
   ]
  },
  {
   "cell_type": "markdown",
   "id": "3fd5d950",
   "metadata": {},
   "source": [
    "for range에 세로 크기와 가로 크기를 넣으면 인덱스로 사용할 수 있습니다. 여기서 주의할 점은 len으로 2차원 리스트 a의 크기를 구하면 리스트 안에 들어있는 모든 요소의 개수가 아니라 안쪽 리스트의 개수(세로 크기)가 나온다는 점입니다. 즉, len(a)는 6이 아니라 3입니다. 그리고 len으로 안쪽 리스트 a[i]의 크기를 구해야 안쪽 리스트에 들어있는 요소의 개수(가로 크기)가 나옵니다. 즉, len(a[i])는 2입니다."
   ]
  },
  {
   "cell_type": "markdown",
   "id": "f8520910",
   "metadata": {},
   "source": [
    "## 23.2.4 while 반복문을 한 번 사용하기"
   ]
  },
  {
   "cell_type": "code",
   "execution_count": 51,
   "id": "ac8a0040",
   "metadata": {},
   "outputs": [],
   "source": [
    "a = [[10, 20], [30, 40], [50, 60]]"
   ]
  },
  {
   "cell_type": "code",
   "execution_count": 56,
   "id": "ee722eb5",
   "metadata": {},
   "outputs": [
    {
     "data": {
      "text/plain": [
       "30"
      ]
     },
     "execution_count": 56,
     "metadata": {},
     "output_type": "execute_result"
    }
   ],
   "source": [
    "a[1][0]"
   ]
  },
  {
   "cell_type": "code",
   "execution_count": 52,
   "id": "7c443eaf",
   "metadata": {},
   "outputs": [
    {
     "name": "stdout",
     "output_type": "stream",
     "text": [
      "10 20\n",
      "30 40\n",
      "50 60\n"
     ]
    }
   ],
   "source": [
    "i = 0\n",
    "while i<len(a):\n",
    "    x,y= a[i]\n",
    "    print(x,y)\n",
    "    i +=1"
   ]
  },
  {
   "cell_type": "markdown",
   "id": "ebf4c065",
   "metadata": {},
   "source": [
    "## 23.2.5  while 반복문을 두 번 사용하기"
   ]
  },
  {
   "cell_type": "code",
   "execution_count": 53,
   "id": "a4c04496",
   "metadata": {},
   "outputs": [
    {
     "name": "stdout",
     "output_type": "stream",
     "text": [
      "10 20 \n",
      "30 40 \n",
      "50 60 \n"
     ]
    }
   ],
   "source": [
    "i = 0\n",
    "while i < len(a): #세로크기\n",
    "    j = 0\n",
    "    while j < len(a[i]): #가로 크기\n",
    "        print(a[i][j],end =' ')\n",
    "        j += 1 #가로 인덱스 증가\n",
    "    print()\n",
    "    i+=1"
   ]
  },
  {
   "cell_type": "markdown",
   "id": "cbe1ef38",
   "metadata": {},
   "source": [
    "## 23.3.1  for 반복문으로 1차원 리스트 만들기"
   ]
  },
  {
   "cell_type": "code",
   "execution_count": 57,
   "id": "78f189af",
   "metadata": {},
   "outputs": [],
   "source": [
    "a = []\n",
    "for i in range(10):\n",
    "    a.append(0)"
   ]
  },
  {
   "cell_type": "code",
   "execution_count": 58,
   "id": "98129404",
   "metadata": {},
   "outputs": [
    {
     "data": {
      "text/plain": [
       "[0, 0, 0, 0, 0, 0, 0, 0, 0, 0]"
      ]
     },
     "execution_count": 58,
     "metadata": {},
     "output_type": "execute_result"
    }
   ],
   "source": [
    "a"
   ]
  },
  {
   "cell_type": "markdown",
   "id": "d421b22d",
   "metadata": {},
   "source": [
    "## 23.3.2 for 반복문으로 2차원 리스트 만들기"
   ]
  },
  {
   "cell_type": "code",
   "execution_count": 59,
   "id": "6705fa9c",
   "metadata": {},
   "outputs": [],
   "source": [
    "a = []\n",
    "\n",
    "for i in range(3):\n",
    "    line=[] #안쪽 리스트로 사용할 빈 리스트 생성\n",
    "    for j in range(2):\n",
    "        line.append(0)# 안쪽 리스트에 0 추가\n",
    "    a.append(line)#전체 리스트에 안쪽 리스트를 추가"
   ]
  },
  {
   "cell_type": "code",
   "execution_count": 60,
   "id": "70a1b0c4",
   "metadata": {},
   "outputs": [
    {
     "data": {
      "text/plain": [
       "[[0, 0], [0, 0], [0, 0]]"
      ]
     },
     "execution_count": 60,
     "metadata": {},
     "output_type": "execute_result"
    }
   ],
   "source": [
    "a"
   ]
  },
  {
   "cell_type": "markdown",
   "id": "d998cabd",
   "metadata": {},
   "source": [
    "## 23.3.3  리스트 표현식으로 2차원 리스트 만들기"
   ]
  },
  {
   "cell_type": "code",
   "execution_count": 61,
   "id": "c514e4cc",
   "metadata": {},
   "outputs": [],
   "source": [
    "a = [[0 for j in range(2)] for i in range(3)]"
   ]
  },
  {
   "cell_type": "code",
   "execution_count": 62,
   "id": "c1e83fd3",
   "metadata": {},
   "outputs": [
    {
     "data": {
      "text/plain": [
       "[[0, 0], [0, 0], [0, 0]]"
      ]
     },
     "execution_count": 62,
     "metadata": {},
     "output_type": "execute_result"
    }
   ],
   "source": [
    "a"
   ]
  },
  {
   "cell_type": "code",
   "execution_count": 63,
   "id": "1baa6021",
   "metadata": {},
   "outputs": [],
   "source": [
    "a = [[0]*2 for i in range(3)]"
   ]
  },
  {
   "cell_type": "code",
   "execution_count": 64,
   "id": "76997b36",
   "metadata": {},
   "outputs": [
    {
     "data": {
      "text/plain": [
       "[0, 0]"
      ]
     },
     "execution_count": 64,
     "metadata": {},
     "output_type": "execute_result"
    }
   ],
   "source": [
    "[0]*2 "
   ]
  },
  {
   "cell_type": "code",
   "execution_count": 65,
   "id": "cd8349c4",
   "metadata": {},
   "outputs": [
    {
     "data": {
      "text/plain": [
       "[[0, 0], [0, 0], [0, 0]]"
      ]
     },
     "execution_count": 65,
     "metadata": {},
     "output_type": "execute_result"
    }
   ],
   "source": [
    "a"
   ]
  },
  {
   "cell_type": "markdown",
   "id": "350c78f0",
   "metadata": {},
   "source": [
    "## 23.3.4  톱니형 리스트 만들기"
   ]
  },
  {
   "cell_type": "code",
   "execution_count": 66,
   "id": "be230be6",
   "metadata": {},
   "outputs": [],
   "source": [
    "\n"
   ]
  },
  {
   "cell_type": "code",
   "execution_count": 2,
   "id": "0ac5eb83",
   "metadata": {},
   "outputs": [
    {
     "name": "stdout",
     "output_type": "stream",
     "text": [
      "[[0, 0, 0], [0], [0, 0, 0], [0, 0], [0, 0, 0, 0, 0]]\n"
     ]
    }
   ],
   "source": [
    "a = [3,1,3,2,5] #가로 크기를 저장한 리스트\n",
    "b = []\n",
    "for i in a:\n",
    "    line= []\n",
    "    for j in range(i):\n",
    "        line.append(0)\n",
    "    b.append(line)\n",
    "\n",
    "print(b)"
   ]
  },
  {
   "cell_type": "code",
   "execution_count": 3,
   "id": "7b8ccec6",
   "metadata": {},
   "outputs": [],
   "source": [
    "a = [[0]*i for i in [3,1,3,2,5]]"
   ]
  },
  {
   "cell_type": "code",
   "execution_count": 4,
   "id": "2739c955",
   "metadata": {},
   "outputs": [
    {
     "data": {
      "text/plain": [
       "[[0, 0, 0], [0], [0, 0, 0], [0, 0], [0, 0, 0, 0, 0]]"
      ]
     },
     "execution_count": 4,
     "metadata": {},
     "output_type": "execute_result"
    }
   ],
   "source": [
    "a"
   ]
  },
  {
   "cell_type": "code",
   "execution_count": 5,
   "id": "c15cfd2f",
   "metadata": {},
   "outputs": [],
   "source": [
    "students = [['john', 'C', 19],['maria', 'A', 25],['andrew', 'B', 7]\n",
    "]"
   ]
  },
  {
   "cell_type": "code",
   "execution_count": 6,
   "id": "9a56440f",
   "metadata": {},
   "outputs": [
    {
     "data": {
      "text/plain": [
       "[['john', 'C', 19], ['maria', 'A', 25], ['andrew', 'B', 7]]"
      ]
     },
     "execution_count": 6,
     "metadata": {},
     "output_type": "execute_result"
    }
   ],
   "source": [
    "students"
   ]
  },
  {
   "cell_type": "code",
   "execution_count": 7,
   "id": "6f32b895",
   "metadata": {},
   "outputs": [
    {
     "name": "stdout",
     "output_type": "stream",
     "text": [
      "[['maria', 'A', 25], ['andrew', 'B', 7], ['john', 'C', 19]]\n"
     ]
    }
   ],
   "source": [
    "print(sorted(students, key=lambda student: student[1]))#안쪽 리스트의 인덱스 1을 기준으로 정렬"
   ]
  },
  {
   "cell_type": "code",
   "execution_count": 8,
   "id": "af0b6860",
   "metadata": {},
   "outputs": [
    {
     "name": "stdout",
     "output_type": "stream",
     "text": [
      "[['andrew', 'B', 7], ['john', 'C', 19], ['maria', 'A', 25]]\n"
     ]
    }
   ],
   "source": [
    "print(sorted(students, key=lambda student: student[2]))  # 안쪽 리스트의 인덱스 2를 기준으로 정렬"
   ]
  },
  {
   "cell_type": "markdown",
   "id": "73930aa3",
   "metadata": {},
   "source": [
    "## 23.4 2차원 리스트의 할당과 복사 알아보기"
   ]
  },
  {
   "cell_type": "code",
   "execution_count": 16,
   "id": "12a36339",
   "metadata": {},
   "outputs": [],
   "source": [
    "a = [[10,20],[30,40]]\n",
    "b = a\n",
    "b[0][0] = 500\n"
   ]
  },
  {
   "cell_type": "code",
   "execution_count": 17,
   "id": "5d0f90a6",
   "metadata": {},
   "outputs": [
    {
     "data": {
      "text/plain": [
       "[[500, 20], [30, 40]]"
      ]
     },
     "execution_count": 17,
     "metadata": {},
     "output_type": "execute_result"
    }
   ],
   "source": [
    "b"
   ]
  },
  {
   "cell_type": "code",
   "execution_count": 18,
   "id": "a77d6b3c",
   "metadata": {},
   "outputs": [
    {
     "data": {
      "text/plain": [
       "[[500, 20], [30, 40]]"
      ]
     },
     "execution_count": 18,
     "metadata": {},
     "output_type": "execute_result"
    }
   ],
   "source": [
    "a"
   ]
  },
  {
   "cell_type": "code",
   "execution_count": 12,
   "id": "eca9848b",
   "metadata": {},
   "outputs": [],
   "source": [
    "a=b"
   ]
  },
  {
   "cell_type": "code",
   "execution_count": 13,
   "id": "c3424e01",
   "metadata": {},
   "outputs": [],
   "source": [
    "del a"
   ]
  },
  {
   "cell_type": "code",
   "execution_count": 14,
   "id": "518141ac",
   "metadata": {},
   "outputs": [],
   "source": [
    "del b"
   ]
  },
  {
   "cell_type": "code",
   "execution_count": 19,
   "id": "a306d925",
   "metadata": {},
   "outputs": [],
   "source": [
    "a = [[10, 20], [30, 40]]"
   ]
  },
  {
   "cell_type": "code",
   "execution_count": 20,
   "id": "175ef54f",
   "metadata": {},
   "outputs": [],
   "source": [
    "b =a.copy()"
   ]
  },
  {
   "cell_type": "code",
   "execution_count": 21,
   "id": "cea50511",
   "metadata": {},
   "outputs": [
    {
     "data": {
      "text/plain": [
       "[[10, 20], [30, 40]]"
      ]
     },
     "execution_count": 21,
     "metadata": {},
     "output_type": "execute_result"
    }
   ],
   "source": [
    "b"
   ]
  },
  {
   "cell_type": "code",
   "execution_count": 22,
   "id": "efd2662f",
   "metadata": {},
   "outputs": [],
   "source": [
    "b[0][0]=500"
   ]
  },
  {
   "cell_type": "code",
   "execution_count": 23,
   "id": "1da51036",
   "metadata": {},
   "outputs": [
    {
     "data": {
      "text/plain": [
       "[[500, 20], [30, 40]]"
      ]
     },
     "execution_count": 23,
     "metadata": {},
     "output_type": "execute_result"
    }
   ],
   "source": [
    "b"
   ]
  },
  {
   "cell_type": "code",
   "execution_count": 24,
   "id": "0028422e",
   "metadata": {},
   "outputs": [
    {
     "data": {
      "text/plain": [
       "[[500, 20], [30, 40]]"
      ]
     },
     "execution_count": 24,
     "metadata": {},
     "output_type": "execute_result"
    }
   ],
   "source": [
    "a"
   ]
  },
  {
   "cell_type": "markdown",
   "id": "d7f415b4",
   "metadata": {},
   "source": [
    "2차원 이상의 다차원 리스트는 리스트를 완전히 복사하려면 copy 메서드 대신 copy 모듈의 deepcopy 함수를 사용해야 합니다."
   ]
  },
  {
   "cell_type": "code",
   "execution_count": 25,
   "id": "839ec087",
   "metadata": {},
   "outputs": [],
   "source": [
    "a = [[10, 20], [30, 40]]"
   ]
  },
  {
   "cell_type": "code",
   "execution_count": 26,
   "id": "6dec8294",
   "metadata": {},
   "outputs": [],
   "source": [
    "import copy"
   ]
  },
  {
   "cell_type": "code",
   "execution_count": 27,
   "id": "1a2444c6",
   "metadata": {},
   "outputs": [],
   "source": [
    "b =copy.deepcopy(a)"
   ]
  },
  {
   "cell_type": "code",
   "execution_count": 28,
   "id": "e8a39f60",
   "metadata": {},
   "outputs": [],
   "source": [
    "b[0][0]=500"
   ]
  },
  {
   "cell_type": "code",
   "execution_count": 29,
   "id": "d769162b",
   "metadata": {},
   "outputs": [
    {
     "data": {
      "text/plain": [
       "[[500, 20], [30, 40]]"
      ]
     },
     "execution_count": 29,
     "metadata": {},
     "output_type": "execute_result"
    }
   ],
   "source": [
    "b"
   ]
  },
  {
   "cell_type": "code",
   "execution_count": 30,
   "id": "7f647148",
   "metadata": {},
   "outputs": [
    {
     "data": {
      "text/plain": [
       "[[10, 20], [30, 40]]"
      ]
     },
     "execution_count": 30,
     "metadata": {},
     "output_type": "execute_result"
    }
   ],
   "source": [
    "a"
   ]
  },
  {
   "cell_type": "markdown",
   "id": "5d28641c",
   "metadata": {},
   "source": [
    "이제 리스트 b의 요소를 변경해도 리스트 a에는 영향을 미치지 않습니다. copy.deepcopy 함수는 중첩된 리스트(튜플)에 들어있는 모든 리스트(튜플)를 복사하는 깊은 복사(deep copy)를 해줍니다."
   ]
  },
  {
   "cell_type": "markdown",
   "id": "e39ddcb9",
   "metadata": {},
   "source": [
    "## 23.6 연습문제:3차원 리스트 만들기"
   ]
  },
  {
   "cell_type": "code",
   "execution_count": 31,
   "id": "e7e97605",
   "metadata": {},
   "outputs": [],
   "source": [
    "a=[[[0 for col in range(3)] for row in range(4)]for depth in range(2)]"
   ]
  },
  {
   "cell_type": "code",
   "execution_count": 32,
   "id": "33c52815",
   "metadata": {},
   "outputs": [
    {
     "data": {
      "text/plain": [
       "[[[0, 0, 0], [0, 0, 0], [0, 0, 0], [0, 0, 0]],\n",
       " [[0, 0, 0], [0, 0, 0], [0, 0, 0], [0, 0, 0]]]"
      ]
     },
     "execution_count": 32,
     "metadata": {},
     "output_type": "execute_result"
    }
   ],
   "source": [
    "a"
   ]
  },
  {
   "cell_type": "code",
   "execution_count": 33,
   "id": "1a3928b2",
   "metadata": {},
   "outputs": [
    {
     "data": {
      "text/plain": [
       "0"
      ]
     },
     "execution_count": 33,
     "metadata": {},
     "output_type": "execute_result"
    }
   ],
   "source": [
    "a[0][0][0]"
   ]
  },
  {
   "cell_type": "code",
   "execution_count": 34,
   "id": "47214e6e",
   "metadata": {},
   "outputs": [
    {
     "data": {
      "text/plain": [
       "[[0, 0, 0], [0, 0, 0], [0, 0, 0], [0, 0, 0]]"
      ]
     },
     "execution_count": 34,
     "metadata": {},
     "output_type": "execute_result"
    }
   ],
   "source": [
    "[[0 for col in range(3)] for row in range(4)]"
   ]
  },
  {
   "cell_type": "markdown",
   "id": "c0cfa3b2",
   "metadata": {},
   "source": [
    "# 24 문자열 응용하기\n",
    "## 24.1.1  문자열 바꾸기"
   ]
  },
  {
   "cell_type": "code",
   "execution_count": 35,
   "id": "923be270",
   "metadata": {},
   "outputs": [
    {
     "data": {
      "text/plain": [
       "'hello,python'"
      ]
     },
     "execution_count": 35,
     "metadata": {},
     "output_type": "execute_result"
    }
   ],
   "source": [
    "'hello,world'.replace('world','python')"
   ]
  },
  {
   "cell_type": "code",
   "execution_count": 36,
   "id": "f6dd346d",
   "metadata": {},
   "outputs": [],
   "source": [
    "s = 'hello,world'\n",
    "s =  s.replace('world','python')"
   ]
  },
  {
   "cell_type": "code",
   "execution_count": 37,
   "id": "7328cce6",
   "metadata": {},
   "outputs": [
    {
     "data": {
      "text/plain": [
       "'hello,python'"
      ]
     },
     "execution_count": 37,
     "metadata": {},
     "output_type": "execute_result"
    }
   ],
   "source": [
    "s"
   ]
  },
  {
   "cell_type": "markdown",
   "id": "ef18bc95",
   "metadata": {},
   "source": [
    "## 24.1.2  문자 바꾸기"
   ]
  },
  {
   "cell_type": "code",
   "execution_count": null,
   "id": "e8b5fd36",
   "metadata": {},
   "outputs": [],
   "source": []
  }
 ],
 "metadata": {
  "kernelspec": {
   "display_name": "Python 3",
   "language": "python",
   "name": "python3"
  },
  "language_info": {
   "codemirror_mode": {
    "name": "ipython",
    "version": 3
   },
   "file_extension": ".py",
   "mimetype": "text/x-python",
   "name": "python",
   "nbconvert_exporter": "python",
   "pygments_lexer": "ipython3",
   "version": "3.7.10"
  }
 },
 "nbformat": 4,
 "nbformat_minor": 5
}
