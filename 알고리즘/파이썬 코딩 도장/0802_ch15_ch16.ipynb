{
 "cells": [
  {
   "cell_type": "markdown",
   "metadata": {},
   "source": [
    "# 15. elif 를 사용하여 여러 방향으로 분기"
   ]
  },
  {
   "cell_type": "markdown",
   "metadata": {},
   "source": [
    "elif는 조건식을 여러 개 지정하여 각 조건 마다 다른 코드를 실행할 수 있다.\n",
    "## 15.1 elif 사용하기\n",
    "elif 는 else 인 상태에서 조건식을 지정할 대 사용하며 else if 라는 뜻이다.\n",
    "물론 if, else 와 마찬가지로 조건식 끝에 :(콜론)을 붙여야 하고, elif단독으로 사용할 수 없다"
   ]
  },
  {
   "cell_type": "code",
   "execution_count": 1,
   "metadata": {},
   "outputs": [
    {
     "name": "stdout",
     "output_type": "stream",
     "text": [
      "20입니다\n"
     ]
    }
   ],
   "source": [
    "x = 20\n",
    "if x == 10:\n",
    "    print('10입니다.')\n",
    "elif x == 20:\n",
    "    print('20입니다')"
   ]
  },
  {
   "cell_type": "markdown",
   "metadata": {},
   "source": [
    "## 15.1.1 if,elif,else 를 모두 사용\n",
    "elif 와 else는 단독으로 사용할 수 없으며 if, else 형태로 사용하거나, if,elif,else 형태로 사용한다. 이번에는 if, elif, else 모두 사용"
   ]
  },
  {
   "cell_type": "code",
   "execution_count": 2,
   "metadata": {},
   "outputs": [
    {
     "name": "stdout",
     "output_type": "stream",
     "text": [
      "10도 20도 아니다\n"
     ]
    }
   ],
   "source": [
    "x = 30\n",
    "\n",
    "if x == 10: #x가 10일 때\n",
    "    print('10입니다.')\n",
    "elif x == 20:#x가 20일 때\n",
    "    print('20입니다')\n",
    "else:#앞의 조건식에 모두 만족하지 않을 때\n",
    "    print('10도 20도 아니다')"
   ]
  },
  {
   "cell_type": "markdown",
   "metadata": {},
   "source": [
    "if , elif 의 조건식이 모두 거짓일 때만 else 코드가 실행된다\n",
    "if 와 else 는 한 번만 사용할 수 있지만, elif 는 여러번 사용할 수 있다. \n"
   ]
  },
  {
   "cell_type": "code",
   "execution_count": 3,
   "metadata": {},
   "outputs": [
    {
     "ename": "SyntaxError",
     "evalue": "invalid syntax (<ipython-input-3-83d8e8f7a0b8>, line 5)",
     "output_type": "error",
     "traceback": [
      "\u001b[0;36m  File \u001b[0;32m\"<ipython-input-3-83d8e8f7a0b8>\"\u001b[0;36m, line \u001b[0;32m5\u001b[0m\n\u001b[0;31m    elif x == 20:    # elif 앞에 else가 오면 잘못된 문법\u001b[0m\n\u001b[0m       ^\u001b[0m\n\u001b[0;31mSyntaxError\u001b[0m\u001b[0;31m:\u001b[0m invalid syntax\n"
     ]
    }
   ],
   "source": [
    "if x == 10:\n",
    "    print('10입니다.')\n",
    "else:\n",
    "    print('10도 20도 아닙니다.')\n",
    "elif x == 20:    # elif 앞에 else가 오면 잘못된 문법\n",
    "    print('20입니다.')"
   ]
  },
  {
   "cell_type": "markdown",
   "metadata": {},
   "source": [
    "## 15.1.2 음료수 자판기 만들기\n",
    "1번은 콜라 2번은 사이다 3번은 환타"
   ]
  },
  {
   "cell_type": "code",
   "execution_count": 6,
   "metadata": {},
   "outputs": [
    {
     "name": "stdout",
     "output_type": "stream",
     "text": [
      "2\n",
      "사이다\n"
     ]
    }
   ],
   "source": [
    "button = int(input())\n",
    "\n",
    "if button == 1:\n",
    "    print('콜라')\n",
    "elif button == 2:\n",
    "    print('사이다')\n",
    "elif button == 3:\n",
    "    print('환타')\n",
    "else:\n",
    "    print('제공하지 않는 메뉴')"
   ]
  },
  {
   "cell_type": "code",
   "execution_count": 7,
   "metadata": {},
   "outputs": [
    {
     "name": "stdout",
     "output_type": "stream",
     "text": [
      "5\n",
      "아무것도 해당하지 않음\n"
     ]
    }
   ],
   "source": [
    "#연습문제\n",
    "x = int(input())\n",
    "if 11 <= x <= 20:\n",
    "    print('11~20')\n",
    "elif 21 <= x <= 30:\n",
    "    print('21~30')\n",
    "else:\n",
    "    print('아무것도 해당하지 않음')"
   ]
  },
  {
   "cell_type": "code",
   "execution_count": 10,
   "metadata": {},
   "outputs": [
    {
     "data": {
      "text/plain": [
       "100"
      ]
     },
     "execution_count": 10,
     "metadata": {},
     "output_type": "execute_result"
    }
   ],
   "source": [
    "len(range(100))"
   ]
  },
  {
   "cell_type": "markdown",
   "metadata": {},
   "source": [
    "# 16 for 반복문  \n",
    "## 16.1 for 와 range 사용하기"
   ]
  },
  {
   "cell_type": "code",
   "execution_count": 8,
   "metadata": {},
   "outputs": [
    {
     "name": "stdout",
     "output_type": "stream",
     "text": [
      "hello,world!\n",
      "hello,world!\n",
      "hello,world!\n",
      "hello,world!\n",
      "hello,world!\n",
      "hello,world!\n",
      "hello,world!\n",
      "hello,world!\n",
      "hello,world!\n",
      "hello,world!\n",
      "hello,world!\n",
      "hello,world!\n",
      "hello,world!\n",
      "hello,world!\n",
      "hello,world!\n",
      "hello,world!\n",
      "hello,world!\n",
      "hello,world!\n",
      "hello,world!\n",
      "hello,world!\n",
      "hello,world!\n",
      "hello,world!\n",
      "hello,world!\n",
      "hello,world!\n",
      "hello,world!\n",
      "hello,world!\n",
      "hello,world!\n",
      "hello,world!\n",
      "hello,world!\n",
      "hello,world!\n",
      "hello,world!\n",
      "hello,world!\n",
      "hello,world!\n",
      "hello,world!\n",
      "hello,world!\n",
      "hello,world!\n",
      "hello,world!\n",
      "hello,world!\n",
      "hello,world!\n",
      "hello,world!\n",
      "hello,world!\n",
      "hello,world!\n",
      "hello,world!\n",
      "hello,world!\n",
      "hello,world!\n",
      "hello,world!\n",
      "hello,world!\n",
      "hello,world!\n",
      "hello,world!\n",
      "hello,world!\n",
      "hello,world!\n",
      "hello,world!\n",
      "hello,world!\n",
      "hello,world!\n",
      "hello,world!\n",
      "hello,world!\n",
      "hello,world!\n",
      "hello,world!\n",
      "hello,world!\n",
      "hello,world!\n",
      "hello,world!\n",
      "hello,world!\n",
      "hello,world!\n",
      "hello,world!\n",
      "hello,world!\n",
      "hello,world!\n",
      "hello,world!\n",
      "hello,world!\n",
      "hello,world!\n",
      "hello,world!\n",
      "hello,world!\n",
      "hello,world!\n",
      "hello,world!\n",
      "hello,world!\n",
      "hello,world!\n",
      "hello,world!\n",
      "hello,world!\n",
      "hello,world!\n",
      "hello,world!\n",
      "hello,world!\n",
      "hello,world!\n",
      "hello,world!\n",
      "hello,world!\n",
      "hello,world!\n",
      "hello,world!\n",
      "hello,world!\n",
      "hello,world!\n",
      "hello,world!\n",
      "hello,world!\n",
      "hello,world!\n",
      "hello,world!\n",
      "hello,world!\n",
      "hello,world!\n",
      "hello,world!\n",
      "hello,world!\n",
      "hello,world!\n",
      "hello,world!\n",
      "hello,world!\n",
      "hello,world!\n",
      "hello,world!\n"
     ]
    }
   ],
   "source": [
    "for i in range(100):\n",
    "    print('hello,world!')"
   ]
  },
  {
   "cell_type": "markdown",
   "metadata": {},
   "source": [
    "![](https://dojang.io/pluginfile.php/13592/mod_page/content/4/016001.png)"
   ]
  },
  {
   "cell_type": "markdown",
   "metadata": {},
   "source": [
    "![](https://dojang.io/pluginfile.php/13592/mod_page/content/4/016002.png)\n",
    "\n",
    "for 변수 in range(횟수) -> 반복할 코드로 순환하는 것을 루프"
   ]
  },
  {
   "cell_type": "markdown",
   "metadata": {},
   "source": [
    "## 16.1.1 반복문에서 변수의 변화 알아보기\n"
   ]
  },
  {
   "cell_type": "code",
   "execution_count": 11,
   "metadata": {},
   "outputs": [
    {
     "name": "stdout",
     "output_type": "stream",
     "text": [
      "hello world! 0\n",
      "hello world! 1\n",
      "hello world! 2\n",
      "hello world! 3\n",
      "hello world! 4\n",
      "hello world! 5\n",
      "hello world! 6\n",
      "hello world! 7\n",
      "hello world! 8\n",
      "hello world! 9\n",
      "hello world! 10\n",
      "hello world! 11\n",
      "hello world! 12\n",
      "hello world! 13\n",
      "hello world! 14\n",
      "hello world! 15\n",
      "hello world! 16\n",
      "hello world! 17\n",
      "hello world! 18\n",
      "hello world! 19\n",
      "hello world! 20\n",
      "hello world! 21\n",
      "hello world! 22\n",
      "hello world! 23\n",
      "hello world! 24\n",
      "hello world! 25\n",
      "hello world! 26\n",
      "hello world! 27\n",
      "hello world! 28\n",
      "hello world! 29\n",
      "hello world! 30\n",
      "hello world! 31\n",
      "hello world! 32\n",
      "hello world! 33\n",
      "hello world! 34\n",
      "hello world! 35\n",
      "hello world! 36\n",
      "hello world! 37\n",
      "hello world! 38\n",
      "hello world! 39\n",
      "hello world! 40\n",
      "hello world! 41\n",
      "hello world! 42\n",
      "hello world! 43\n",
      "hello world! 44\n",
      "hello world! 45\n",
      "hello world! 46\n",
      "hello world! 47\n",
      "hello world! 48\n",
      "hello world! 49\n",
      "hello world! 50\n",
      "hello world! 51\n",
      "hello world! 52\n",
      "hello world! 53\n",
      "hello world! 54\n",
      "hello world! 55\n",
      "hello world! 56\n",
      "hello world! 57\n",
      "hello world! 58\n",
      "hello world! 59\n",
      "hello world! 60\n",
      "hello world! 61\n",
      "hello world! 62\n",
      "hello world! 63\n",
      "hello world! 64\n",
      "hello world! 65\n",
      "hello world! 66\n",
      "hello world! 67\n",
      "hello world! 68\n",
      "hello world! 69\n",
      "hello world! 70\n",
      "hello world! 71\n",
      "hello world! 72\n",
      "hello world! 73\n",
      "hello world! 74\n",
      "hello world! 75\n",
      "hello world! 76\n",
      "hello world! 77\n",
      "hello world! 78\n",
      "hello world! 79\n",
      "hello world! 80\n",
      "hello world! 81\n",
      "hello world! 82\n",
      "hello world! 83\n",
      "hello world! 84\n",
      "hello world! 85\n",
      "hello world! 86\n",
      "hello world! 87\n",
      "hello world! 88\n",
      "hello world! 89\n",
      "hello world! 90\n",
      "hello world! 91\n",
      "hello world! 92\n",
      "hello world! 93\n",
      "hello world! 94\n",
      "hello world! 95\n",
      "hello world! 96\n",
      "hello world! 97\n",
      "hello world! 98\n",
      "hello world! 99\n"
     ]
    }
   ],
   "source": [
    "for i in range(100):\n",
    "    print('hello world!',i)"
   ]
  },
  {
   "cell_type": "markdown",
   "metadata": {},
   "source": [
    "> 반복문의 변수 i \n",
    "> 변수 i 를 루프 인덱스라고 도 부르며 index 의 첫 머리글자를 따서 i를 주로 사용합니다"
   ]
  },
  {
   "cell_type": "markdown",
   "metadata": {},
   "source": [
    "## 16.2 for 와 range 응용"
   ]
  },
  {
   "cell_type": "markdown",
   "metadata": {},
   "source": [
    "## 16.2.1 시작하는 숫자와 끝나는 숫자 지정하기\n",
    "range에 횟수만 지정하면 숫자가 0부터 시작하지만, 다음과 같이 시작하는 숫자와 끝나는 숫자를 지정해서 반복할 수도 있습니다."
   ]
  },
  {
   "cell_type": "code",
   "execution_count": 12,
   "metadata": {},
   "outputs": [
    {
     "name": "stdout",
     "output_type": "stream",
     "text": [
      "hello,world\n",
      "hello,world\n",
      "hello,world\n",
      "hello,world\n",
      "hello,world\n",
      "hello,world\n",
      "hello,world\n"
     ]
    }
   ],
   "source": [
    "for i in range(5,12): #5부터 11까지 반복\n",
    "    print('hello,world')"
   ]
  },
  {
   "cell_type": "markdown",
   "metadata": {},
   "source": [
    "## 16.2.2 증가폭 사용하기"
   ]
  },
  {
   "cell_type": "code",
   "execution_count": 13,
   "metadata": {},
   "outputs": [
    {
     "name": "stdout",
     "output_type": "stream",
     "text": [
      "Hello, world! 0\n",
      "Hello, world! 2\n",
      "Hello, world! 4\n",
      "Hello, world! 6\n",
      "Hello, world! 8\n"
     ]
    }
   ],
   "source": [
    "for i in range(0,10,2):#0부터 8까지 2씩 증가\n",
    "    print('Hello, world!', i)\n",
    "    "
   ]
  },
  {
   "cell_type": "markdown",
   "metadata": {},
   "source": [
    "## 16.2.3 숫자를 감소시키기"
   ]
  },
  {
   "cell_type": "code",
   "execution_count": 14,
   "metadata": {},
   "outputs": [],
   "source": [
    "for i in range(10,0):\n",
    "    print('hello,world',i)"
   ]
  },
  {
   "cell_type": "markdown",
   "metadata": {},
   "source": [
    "range(10, 0)과 같이 시작하는 숫자를 큰 숫자로 지정하고 끝나는 숫자를 작은 숫자로 지정하면 숫자가 감소할 것 같은데, 실행을 해보면 아무것도 출력되지 않습니다. 왜냐하면 range는 숫자가 증가하는 기본 값이 양수 1이기 때문입니다."
   ]
  },
  {
   "cell_type": "code",
   "execution_count": 15,
   "metadata": {},
   "outputs": [
    {
     "name": "stdout",
     "output_type": "stream",
     "text": [
      "hello,world 10\n",
      "hello,world 9\n",
      "hello,world 8\n",
      "hello,world 7\n",
      "hello,world 6\n",
      "hello,world 5\n",
      "hello,world 4\n",
      "hello,world 3\n",
      "hello,world 2\n",
      "hello,world 1\n"
     ]
    }
   ],
   "source": [
    "for i in range(10,0,-1):\n",
    "    print('hello,world',i)"
   ]
  },
  {
   "cell_type": "markdown",
   "metadata": {},
   "source": [
    "range는 그냥 증가, 감소에 상관없이 끝나는 숫자는 생성되는 숫자에 포함되지 않는다는 점만 기억하면 됩니다."
   ]
  },
  {
   "cell_type": "code",
   "execution_count": 16,
   "metadata": {},
   "outputs": [
    {
     "name": "stdout",
     "output_type": "stream",
     "text": [
      "hello,world 9\n",
      "hello,world 8\n",
      "hello,world 7\n",
      "hello,world 6\n",
      "hello,world 5\n",
      "hello,world 4\n",
      "hello,world 3\n",
      "hello,world 2\n",
      "hello,world 1\n",
      "hello,world 0\n"
     ]
    }
   ],
   "source": [
    "for i in reversed(range(10)):#숫자의 순서를 반대로 뒤집음\n",
    "    print('hello,world',i)"
   ]
  },
  {
   "cell_type": "code",
   "execution_count": 18,
   "metadata": {},
   "outputs": [
    {
     "name": "stdout",
     "output_type": "stream",
     "text": [
      "0 1 2 3 4 5 6 7 8 9 "
     ]
    }
   ],
   "source": [
    "for i in range(10):\n",
    "    print(i, end=' ')\n",
    "    i =10"
   ]
  },
  {
   "cell_type": "markdown",
   "metadata": {},
   "source": [
    "변수 i는 반복할 때마다 다음 값으로 덮어써지기 때문에 값을 할당해도 변수에 영향을 주지 못합니다."
   ]
  },
  {
   "cell_type": "markdown",
   "metadata": {},
   "source": [
    "## 16.2.4 입력한 횟수대로 반복하기"
   ]
  },
  {
   "cell_type": "code",
   "execution_count": 20,
   "metadata": {},
   "outputs": [
    {
     "name": "stdout",
     "output_type": "stream",
     "text": [
      "반복할 횟수를 입력하세요:3\n",
      "hello, world! 0\n",
      "hello, world! 1\n",
      "hello, world! 2\n"
     ]
    }
   ],
   "source": [
    "count = int(input('반복할 횟수를 입력하세요:'))\n",
    "\n",
    "for i in range(count):\n",
    "    print('hello, world!', i )"
   ]
  },
  {
   "cell_type": "markdown",
   "metadata": {},
   "source": [
    "먼저 input으로 입력 값을 받아서 count 변수에 저장합니다(이때 반드시 int를 사용하여 input에서 나온 문자열을 정수로 변환해줍니다). 그리고 반복문에서는 for i in range(count):와 같이 range에 count를 넣어주면 입력받은 숫자만큼 반복됩니다."
   ]
  },
  {
   "cell_type": "markdown",
   "metadata": {},
   "source": [
    "## 16.3 시퀀스 객체로 반복"
   ]
  },
  {
   "cell_type": "markdown",
   "metadata": {},
   "source": [
    "for는 리스트, 튜플, 문자열 등 시퀀스 객체로 반복할 수 있습니다.\n",
    "\n",
    "다음과 같이 for에 range 대신 리스트를 넣으면 리스트의 요소를 꺼내면서 반복합니다."
   ]
  },
  {
   "cell_type": "code",
   "execution_count": 21,
   "metadata": {},
   "outputs": [
    {
     "name": "stdout",
     "output_type": "stream",
     "text": [
      "10\n",
      "20\n",
      "30\n",
      "40\n",
      "50\n"
     ]
    }
   ],
   "source": [
    "a = [10,20,30,40,50]\n",
    "for i in a:\n",
    "    print(i)"
   ]
  },
  {
   "cell_type": "code",
   "execution_count": 22,
   "metadata": {},
   "outputs": [
    {
     "name": "stdout",
     "output_type": "stream",
     "text": [
      "apple\n",
      "orange\n",
      "grape\n"
     ]
    }
   ],
   "source": [
    "fruits = ('apple','orange','grape')\n",
    "for fruit in fruits:\n",
    "    print(fruit)"
   ]
  },
  {
   "cell_type": "code",
   "execution_count": 23,
   "metadata": {},
   "outputs": [
    {
     "name": "stdout",
     "output_type": "stream",
     "text": [
      "P y t h o n "
     ]
    }
   ],
   "source": [
    "for letter in 'Python':\n",
    "    print(letter,end = ' ')"
   ]
  },
  {
   "cell_type": "code",
   "execution_count": 24,
   "metadata": {},
   "outputs": [
    {
     "name": "stdout",
     "output_type": "stream",
     "text": [
      "n o h t y P "
     ]
    }
   ],
   "source": [
    "for letter in reversed('Python'):\n",
    "    print(letter, end=' ')"
   ]
  },
  {
   "cell_type": "code",
   "execution_count": 27,
   "metadata": {},
   "outputs": [
    {
     "name": "stdout",
     "output_type": "stream",
     "text": [
      "490 -170 250 1020 80 620 210 "
     ]
    }
   ],
   "source": [
    "#연습문제\n",
    "x = [49, -17, 25, 102, 8, 62, 21]\n",
    "for i in x:\n",
    "    print(i*10,end=' ')"
   ]
  },
  {
   "cell_type": "code",
   "execution_count": null,
   "metadata": {},
   "outputs": [],
   "source": []
  }
 ],
 "metadata": {
  "kernelspec": {
   "display_name": "Python 3",
   "language": "python",
   "name": "python3"
  },
  "language_info": {
   "codemirror_mode": {
    "name": "ipython",
    "version": 3
   },
   "file_extension": ".py",
   "mimetype": "text/x-python",
   "name": "python",
   "nbconvert_exporter": "python",
   "pygments_lexer": "ipython3",
   "version": "3.6.9"
  }
 },
 "nbformat": 4,
 "nbformat_minor": 5
}
