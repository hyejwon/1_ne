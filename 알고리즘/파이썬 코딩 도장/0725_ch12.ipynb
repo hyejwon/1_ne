{
 "cells": [
  {
   "cell_type": "markdown",
   "id": "c9996acc",
   "metadata": {},
   "source": [
    "# 12  딕셔너리 사용하기"
   ]
  },
  {
   "cell_type": "code",
   "execution_count": 1,
   "id": "3a0191c5",
   "metadata": {},
   "outputs": [],
   "source": [
    "lux = [490,334,550,18.72]"
   ]
  },
  {
   "cell_type": "markdown",
   "id": "b4ff4fb1",
   "metadata": {},
   "source": [
    "파이썬에서는 연관된 값을 묶어서 저장하는 용도로 딕셔너리라는 자료형을 제공한다.\n",
    "게임 캐릭터의 능력치를 딕셔너리에 저장해보자"
   ]
  },
  {
   "cell_type": "code",
   "execution_count": 2,
   "id": "87998acb",
   "metadata": {},
   "outputs": [],
   "source": [
    "lux = {'health' :490, 'mana' : 334, 'melee' : 550 , 'armor': 18.72}"
   ]
  },
  {
   "cell_type": "markdown",
   "id": "5d326440",
   "metadata": {},
   "source": [
    "## 12.1 딕셔너리 만들기\n",
    "딕셔너리는 {} 중괄호 안에 키:값 형식으로 저장하며 각 키와 값은 , 콤마로 구분해준다\n",
    "- 딕셔너리 = {키1: 값1, 키2: 값2}\n",
    "키와 값이 4개씩 들어있는 딕셔너리를 만들어 보자"
   ]
  },
  {
   "cell_type": "code",
   "execution_count": 3,
   "id": "76d508bc",
   "metadata": {},
   "outputs": [
    {
     "data": {
      "text/plain": [
       "{'health': 490, 'mana': 334, 'melee': 550, 'armor': 18.72}"
      ]
     },
     "execution_count": 3,
     "metadata": {},
     "output_type": "execute_result"
    }
   ],
   "source": [
    "lux"
   ]
  },
  {
   "cell_type": "code",
   "execution_count": 4,
   "id": "f7d6f07a",
   "metadata": {},
   "outputs": [],
   "source": [
    "lux = {'health' :490,'health' :800, 'mana' : 334, 'melee' : 550 , 'armor': 18.72}"
   ]
  },
  {
   "cell_type": "code",
   "execution_count": 5,
   "id": "802adf23",
   "metadata": {},
   "outputs": [
    {
     "data": {
      "text/plain": [
       "800"
      ]
     },
     "execution_count": 5,
     "metadata": {},
     "output_type": "execute_result"
    }
   ],
   "source": [
    "lux['health'] # 키 이름이 중복되면 뒤에 있는 값만 사용"
   ]
  },
  {
   "cell_type": "markdown",
   "id": "110b8f36",
   "metadata": {},
   "source": [
    "## 12.1.2 딕셔너리 키의 자료형"
   ]
  },
  {
   "cell_type": "code",
   "execution_count": 6,
   "id": "59bd1f9a",
   "metadata": {},
   "outputs": [],
   "source": [
    "x = {100: 'hundred', False : 0, 3.5: [3.5,3.5]}"
   ]
  },
  {
   "cell_type": "code",
   "execution_count": 7,
   "id": "08616803",
   "metadata": {},
   "outputs": [
    {
     "data": {
      "text/plain": [
       "{100: 'hundred', False: 0, 3.5: [3.5, 3.5]}"
      ]
     },
     "execution_count": 7,
     "metadata": {},
     "output_type": "execute_result"
    }
   ],
   "source": [
    "x"
   ]
  },
  {
   "cell_type": "markdown",
   "id": "0009678f",
   "metadata": {},
   "source": [
    "딕셔너리의 키는 무낮열 뿐만 아니라 정수 실수 불도 사용할 수 있으며 자료형을 섞어서 사용\n",
    "키에는 리스트와 딕셔너리를 사용할 수 없다"
   ]
  },
  {
   "cell_type": "code",
   "execution_count": 8,
   "id": "f25fd8bf",
   "metadata": {},
   "outputs": [
    {
     "ename": "TypeError",
     "evalue": "unhashable type: 'list'",
     "output_type": "error",
     "traceback": [
      "\u001b[0;31m---------------------------------------------------------------------------\u001b[0m",
      "\u001b[0;31mTypeError\u001b[0m                                 Traceback (most recent call last)",
      "\u001b[0;32m<ipython-input-8-4aeb9894852f>\u001b[0m in \u001b[0;36m<module>\u001b[0;34m\u001b[0m\n\u001b[0;32m----> 1\u001b[0;31m \u001b[0mx\u001b[0m\u001b[0;34m=\u001b[0m\u001b[0;34m{\u001b[0m\u001b[0;34m[\u001b[0m\u001b[0;36m10\u001b[0m\u001b[0;34m,\u001b[0m\u001b[0;36m20\u001b[0m\u001b[0;34m]\u001b[0m\u001b[0;34m:\u001b[0m\u001b[0;36m100\u001b[0m\u001b[0;34m}\u001b[0m\u001b[0;34m\u001b[0m\u001b[0;34m\u001b[0m\u001b[0m\n\u001b[0m",
      "\u001b[0;31mTypeError\u001b[0m: unhashable type: 'list'"
     ]
    }
   ],
   "source": [
    "x={[10,20]:100}"
   ]
  },
  {
   "cell_type": "markdown",
   "id": "ed3973c7",
   "metadata": {},
   "source": [
    "## 12.1.3 빈 딕셔너리 만들기"
   ]
  },
  {
   "cell_type": "markdown",
   "id": "0cacbde3",
   "metadata": {},
   "source": [
    "빈 딕셔너리를 만들 때는  {} 만 지정하거나 dict 를 사용하면 된다. 보통은 {} 를 주로 사용한다\n",
    "- 딕셔너리 = {}\n",
    "- 딕셔너리 = dict()"
   ]
  },
  {
   "cell_type": "code",
   "execution_count": 9,
   "id": "28bf7866",
   "metadata": {},
   "outputs": [],
   "source": [
    "x={}\n"
   ]
  },
  {
   "cell_type": "code",
   "execution_count": 10,
   "id": "736b0ed9",
   "metadata": {},
   "outputs": [
    {
     "data": {
      "text/plain": [
       "{}"
      ]
     },
     "execution_count": 10,
     "metadata": {},
     "output_type": "execute_result"
    }
   ],
   "source": [
    "x"
   ]
  },
  {
   "cell_type": "code",
   "execution_count": 11,
   "id": "5207ab49",
   "metadata": {},
   "outputs": [],
   "source": [
    "y= dict()"
   ]
  },
  {
   "cell_type": "code",
   "execution_count": 12,
   "id": "40435d7c",
   "metadata": {},
   "outputs": [
    {
     "data": {
      "text/plain": [
       "{}"
      ]
     },
     "execution_count": 12,
     "metadata": {},
     "output_type": "execute_result"
    }
   ],
   "source": [
    "y"
   ]
  },
  {
   "cell_type": "markdown",
   "id": "931a68a9",
   "metadata": {},
   "source": [
    "## 12.1.4 dict 로 딕셔너리 만들기\n",
    "dict 는 다음과 같이 키와 값을 연결하거나 리스트 튜플 딕셔너리로 딕셔너리를 만들 때 사용한다\n",
    "- 딕셔너리 = dict(키1=값1, 키2=값2)\n",
    "- 딕셔너리 = dict(zip([키1, 키2], [값1,값2]))\n",
    "- 딕셔너리 = dict([(키1,값1),(키2,값2)])\n",
    "- 딕셔너리 = dict({키1: 값1, 키2: 값2})"
   ]
  },
  {
   "cell_type": "code",
   "execution_count": 13,
   "id": "49cd9294",
   "metadata": {},
   "outputs": [],
   "source": [
    "lux1 =  dict(health=490,mana=334,melee= 550 , armor=18.72) #키=값 형식으로 딕셔너리를 만듦"
   ]
  },
  {
   "cell_type": "code",
   "execution_count": 14,
   "id": "330b129f",
   "metadata": {},
   "outputs": [
    {
     "data": {
      "text/plain": [
       "{'health': 490, 'mana': 334, 'melee': 550, 'armor': 18.72}"
      ]
     },
     "execution_count": 14,
     "metadata": {},
     "output_type": "execute_result"
    }
   ],
   "source": [
    "lux1"
   ]
  },
  {
   "cell_type": "markdown",
   "id": "5e50c6de",
   "metadata": {},
   "source": [
    "두 번째 방법은 dict 에서 zip 함수를 이용 "
   ]
  },
  {
   "cell_type": "code",
   "execution_count": 15,
   "id": "141ed82f",
   "metadata": {},
   "outputs": [],
   "source": [
    "lux2 = dict(zip(['health', 'mana', 'melee', 'armor'],[490,334,550,18.72]))"
   ]
  },
  {
   "cell_type": "code",
   "execution_count": 16,
   "id": "e230092f",
   "metadata": {},
   "outputs": [
    {
     "data": {
      "text/plain": [
       "{'health': 490, 'mana': 334, 'melee': 550, 'armor': 18.72}"
      ]
     },
     "execution_count": 16,
     "metadata": {},
     "output_type": "execute_result"
    }
   ],
   "source": [
    "lux2"
   ]
  },
  {
   "cell_type": "code",
   "execution_count": 23,
   "id": "b8018037",
   "metadata": {},
   "outputs": [],
   "source": [
    "lux3 =dict([('health',490),('mana',334),('melee',550),('armor',18.72)]) # (키,값)형식의 튜플ㄹ로 딕셔너리를 만듦"
   ]
  },
  {
   "cell_type": "code",
   "execution_count": 24,
   "id": "d1f29638",
   "metadata": {},
   "outputs": [
    {
     "data": {
      "text/plain": [
       "{'health': 490, 'mana': 334, 'melee': 550, 'armor': 18.72}"
      ]
     },
     "execution_count": 24,
     "metadata": {},
     "output_type": "execute_result"
    }
   ],
   "source": [
    "lux3"
   ]
  },
  {
   "cell_type": "code",
   "execution_count": 25,
   "id": "613c0f78",
   "metadata": {},
   "outputs": [],
   "source": [
    "lux4=dict({'health':490,'mana':334,'melee':550,'armor':18.72})"
   ]
  },
  {
   "cell_type": "code",
   "execution_count": 26,
   "id": "f8036a0f",
   "metadata": {},
   "outputs": [
    {
     "data": {
      "text/plain": [
       "{'health': 490, 'mana': 334, 'melee': 550, 'armor': 18.72}"
      ]
     },
     "execution_count": 26,
     "metadata": {},
     "output_type": "execute_result"
    }
   ],
   "source": [
    "lux4"
   ]
  },
  {
   "cell_type": "markdown",
   "id": "32a1e65e",
   "metadata": {},
   "source": [
    "## 12.2 딕셔너리의 키에 접근하고 값 할당하기\n",
    "딕셔너리의 키에 접근할 때는 딕셔너리 뒤에 [] 를 사용하며 []안에 키를 지정해주면 된다"
   ]
  },
  {
   "cell_type": "markdown",
   "id": "af6c39de",
   "metadata": {},
   "source": [
    "- 딕셔너리[키]"
   ]
  },
  {
   "cell_type": "code",
   "execution_count": 27,
   "id": "d64694dd",
   "metadata": {},
   "outputs": [
    {
     "data": {
      "text/plain": [
       "490"
      ]
     },
     "execution_count": 27,
     "metadata": {},
     "output_type": "execute_result"
    }
   ],
   "source": [
    "lux={'health':490,'mana':334,'melee':550,'armor':18.72}\n",
    "lux['health']"
   ]
  },
  {
   "cell_type": "code",
   "execution_count": 28,
   "id": "ce943021",
   "metadata": {},
   "outputs": [
    {
     "data": {
      "text/plain": [
       "18.72"
      ]
     },
     "execution_count": 28,
     "metadata": {},
     "output_type": "execute_result"
    }
   ],
   "source": [
    "lux['armor']"
   ]
  },
  {
   "cell_type": "markdown",
   "id": "efa572e3",
   "metadata": {},
   "source": [
    "## 12.2.1 딕셔너리의 키에 값 할당하기"
   ]
  },
  {
   "cell_type": "code",
   "execution_count": 29,
   "id": "ff290352",
   "metadata": {},
   "outputs": [
    {
     "data": {
      "text/plain": [
       "{'health': 490, 'mana': 334, 'melee': 550, 'armor': 18.72}"
      ]
     },
     "execution_count": 29,
     "metadata": {},
     "output_type": "execute_result"
    }
   ],
   "source": [
    "lux"
   ]
  },
  {
   "cell_type": "code",
   "execution_count": 30,
   "id": "95cf59f2",
   "metadata": {},
   "outputs": [
    {
     "data": {
      "text/plain": [
       "{'health': 2037, 'mana': 1184, 'melee': 550, 'armor': 18.72}"
      ]
     },
     "execution_count": 30,
     "metadata": {},
     "output_type": "execute_result"
    }
   ],
   "source": [
    "lux['health'] = 2037\n",
    "lux['mana'] = 1184\n",
    "lux"
   ]
  },
  {
   "cell_type": "markdown",
   "id": "6736871d",
   "metadata": {},
   "source": [
    "딕셔너리에서 키의 값을 출력할 때와 마찬가지로  [  ] 에 키를 지정한 뒤 값을 할당하면 된다  \n",
    "특히 딕셔너리는 없는 키에 값을 할당하면 해당 키가 추가되고 값이 할당"
   ]
  },
  {
   "cell_type": "code",
   "execution_count": 31,
   "id": "c5fb40c0",
   "metadata": {},
   "outputs": [
    {
     "data": {
      "text/plain": [
       "{'health': 2037,\n",
       " 'mana': 1184,\n",
       " 'melee': 550,\n",
       " 'armor': 18.72,\n",
       " 'mana_regen': 3.28}"
      ]
     },
     "execution_count": 31,
     "metadata": {},
     "output_type": "execute_result"
    }
   ],
   "source": [
    "lux['mana_regen'] = 3.28\n",
    "lux"
   ]
  },
  {
   "cell_type": "markdown",
   "id": "2883bc86",
   "metadata": {},
   "source": [
    "## 12.2.2 딕셔너리에 키가 있는지 확인하기 \n",
    "딕셔너리에서 키가 있는지 확인하고 싶다면 in 연산자를 사용\n",
    "- 키 in 딕셔너리"
   ]
  },
  {
   "cell_type": "code",
   "execution_count": 32,
   "id": "7437de55",
   "metadata": {},
   "outputs": [
    {
     "data": {
      "text/plain": [
       "True"
      ]
     },
     "execution_count": 32,
     "metadata": {},
     "output_type": "execute_result"
    }
   ],
   "source": [
    "lux = {'health':490, 'mana':334,'melee':550, 'armor':18.72}\n",
    "'health' in lux"
   ]
  },
  {
   "cell_type": "code",
   "execution_count": 33,
   "id": "0f2eb22a",
   "metadata": {},
   "outputs": [
    {
     "data": {
      "text/plain": [
       "False"
      ]
     },
     "execution_count": 33,
     "metadata": {},
     "output_type": "execute_result"
    }
   ],
   "source": [
    "'attack_speed' in lux"
   ]
  },
  {
   "cell_type": "markdown",
   "id": "c3144223",
   "metadata": {},
   "source": [
    "- 키 not in 딕셔너리"
   ]
  },
  {
   "cell_type": "code",
   "execution_count": 35,
   "id": "2c5e587b",
   "metadata": {},
   "outputs": [
    {
     "data": {
      "text/plain": [
       "True"
      ]
     },
     "execution_count": 35,
     "metadata": {},
     "output_type": "execute_result"
    }
   ],
   "source": [
    "'attack_speed' not in lux"
   ]
  },
  {
   "cell_type": "markdown",
   "id": "7b4f7d81",
   "metadata": {},
   "source": [
    "> 해시   \n",
    ">\n",
    "> 딕셔너리는 해시 기법을 이용해서 데이터를 저장한다 보통 딕셔너리와 값은 키-값 형태의 자료형을 해시,해시맵, 해시테이블 등으로 부르기도 한다\n"
   ]
  },
  {
   "cell_type": "markdown",
   "id": "30577256",
   "metadata": {},
   "source": [
    "## 12.2.3 딕셔너리의 키 개수 구하기\n",
    "- len(딕셔너리)"
   ]
  },
  {
   "cell_type": "code",
   "execution_count": 36,
   "id": "d7e9f460",
   "metadata": {},
   "outputs": [],
   "source": [
    "lux={'health':490, 'mana':334,'melee':550,'armor':18.72}"
   ]
  },
  {
   "cell_type": "code",
   "execution_count": 37,
   "id": "79c9abd4",
   "metadata": {},
   "outputs": [
    {
     "data": {
      "text/plain": [
       "4"
      ]
     },
     "execution_count": 37,
     "metadata": {},
     "output_type": "execute_result"
    }
   ],
   "source": [
    "len(lux)"
   ]
  },
  {
   "cell_type": "markdown",
   "id": "73ed6ca5",
   "metadata": {},
   "source": [
    "# 13. if 조건문으로 특정 조건일 때 코드 실행하기"
   ]
  },
  {
   "cell_type": "markdown",
   "id": "bbd32277",
   "metadata": {},
   "source": [
    "조건문을 사용하면 조건에 따라 다른 코드를 실행할 수 있다"
   ]
  },
  {
   "cell_type": "markdown",
   "id": "76a3ec53",
   "metadata": {},
   "source": [
    "> 의사코드\n",
    ">\n",
    ">프로그래밍이나 컴퓨터 이론을 공부하다 보면 의사 코드(pseudo code)라는 말을 접하게 된다. 의사 코드는 실제 프로그래밍 언어가 아닌 사람의 언어로 프로그래밍 언어를 표현한 것 \n",
    "\n",
    "```\n",
    "x=10\n",
    "변수 x 에 10 할당\n",
    "```\n",
    ">앞에서 if 조건문을 설명할 때 \"if 비가 온다면\",\"우산을 가지고 나간다.\" 도 일종의 의사 코드\n"
   ]
  },
  {
   "cell_type": "markdown",
   "id": "656119be",
   "metadata": {},
   "source": [
    "## 13.1 if 조건문 사용하기\n",
    "```\n",
    "if 조건식:\n",
    "    코드\n",
    "```"
   ]
  },
  {
   "cell_type": "code",
   "execution_count": 40,
   "id": "ac2e79c4",
   "metadata": {},
   "outputs": [
    {
     "name": "stdout",
     "output_type": "stream",
     "text": [
      "10 입니다.\n"
     ]
    }
   ],
   "source": [
    "x = 10\n",
    "if x==10:\n",
    "    print('10 입니다.')"
   ]
  },
  {
   "cell_type": "markdown",
   "id": "fe15fa17",
   "metadata": {},
   "source": [
    "## 13.1.2 if 조건문을 사용할 때 주의할 점\n",
    "if 조건문을 사용할 때 주의할 점이 있는데 파이썬에서는 = 을 할당으로 사용하고 있으므로 값을 비교할 때는 = 을 두 개 붙여서 ==로 사용해야한다."
   ]
  },
  {
   "cell_type": "markdown",
   "id": "2d848ebf",
   "metadata": {},
   "source": [
    "## 13.1.3 if 조건문에서 코드를 생략"
   ]
  },
  {
   "cell_type": "code",
   "execution_count": 41,
   "id": "d825d403",
   "metadata": {},
   "outputs": [],
   "source": [
    "x = 10\n",
    "if x ==10:\n",
    "    pass"
   ]
  },
  {
   "cell_type": "markdown",
   "id": "22fb2eac",
   "metadata": {},
   "source": [
    "if 조건문에 조건식만 작성하고 코드를 생략  \n",
    "if 다음줄에 pass 라는 키워드를 넣었다. 여기서 pass 는 아무 일도 하지 않고 넘어간다는 뜻. 파이썬에서는 if 다음 줄에 아무 코드도 넣지 않으면 에러가 발생하므로 if 조건문의 형태를 유지하기 위해 pass 를 사용한다  \n",
    "pass 는 아무 일도 하지 않는 코드라서 의미가 없을 것 같지만 나중에 작성해야 할 코드를 표시ㅏㄹ 때 사용할 수 있다.\n",
    "즉 다음과 같이 pass 만 넣고 나중에 할 일은 주석으로 남겨놓는 방식"
   ]
  },
  {
   "cell_type": "code",
   "execution_count": 42,
   "id": "8da8d453",
   "metadata": {},
   "outputs": [],
   "source": [
    "if x ==10:\n",
    "    pass #TODO : x 가 10일 때 처리가 필요함"
   ]
  },
  {
   "cell_type": "markdown",
   "id": "0a1ab805",
   "metadata": {},
   "source": [
    "> TODO\n",
    ">\n",
    ">TODO 는 해야 할 일이라는 뜻인데 보통 주석에 넣는다. 이렇게 TODO를 넣어 두면 검색으로 쉽게 찾을 수 있다\n",
    ">그래서 프로그래머들은 주석에 TODO 이외에도 FIXME, BUG, NOTE 등과 같이 코드는 아니지만 일관된 주석을 사용"
   ]
  },
  {
   "cell_type": "markdown",
   "id": "7e19fd52",
   "metadata": {},
   "source": [
    "## 13.2 if 조건문과 들여쓰기"
   ]
  },
  {
   "cell_type": "code",
   "execution_count": 43,
   "id": "7cf77038",
   "metadata": {},
   "outputs": [
    {
     "ename": "IndentationError",
     "evalue": "unexpected indent (<ipython-input-43-1a2477cfeec8>, line 4)",
     "output_type": "error",
     "traceback": [
      "\u001b[0;36m  File \u001b[0;32m\"<ipython-input-43-1a2477cfeec8>\"\u001b[0;36m, line \u001b[0;32m4\u001b[0m\n\u001b[0;31m    print('10입니다')\u001b[0m\n\u001b[0m    ^\u001b[0m\n\u001b[0;31mIndentationError\u001b[0m\u001b[0;31m:\u001b[0m unexpected indent\n"
     ]
    }
   ],
   "source": [
    "#잘못된 들여쓰기\n",
    "x =10 \n",
    "if x==10:\n",
    "    print('x에 들어있는 숫자는')\n",
    "        print('10입니다')"
   ]
  },
  {
   "cell_type": "code",
   "execution_count": 44,
   "id": "104e4183",
   "metadata": {},
   "outputs": [
    {
     "name": "stdout",
     "output_type": "stream",
     "text": [
      "x에 들어있는 숫자는\n",
      "10입니다\n"
     ]
    }
   ],
   "source": [
    "x =10 \n",
    "if x==10:\n",
    "    print('x에 들어있는 숫자는')\n",
    "    print('10입니다')"
   ]
  },
  {
   "cell_type": "markdown",
   "id": "6d5e5e0f",
   "metadata": {},
   "source": [
    "if 다음에 오는 코드들은 반드시 들여쓰기 깊이가 같아야 한다"
   ]
  },
  {
   "cell_type": "code",
   "execution_count": 45,
   "id": "a4af2241",
   "metadata": {},
   "outputs": [
    {
     "name": "stdout",
     "output_type": "stream",
     "text": [
      "x에 들어있는 숫자는\n",
      "10입니다\n"
     ]
    }
   ],
   "source": [
    "x =10 \n",
    "if x==10:\n",
    "    print('x에 들어있는 숫자는')\n",
    "print('10입니다')"
   ]
  },
  {
   "cell_type": "code",
   "execution_count": 47,
   "id": "0e49a04f",
   "metadata": {},
   "outputs": [
    {
     "name": "stdout",
     "output_type": "stream",
     "text": [
      "10입니다\n"
     ]
    }
   ],
   "source": [
    "#x 가 5라면?\n",
    "x =5\n",
    "if x==10:\n",
    "    print('x에 들어있는 숫자는')\n",
    "print('10입니다')"
   ]
  },
  {
   "cell_type": "markdown",
   "id": "c5e6db24",
   "metadata": {},
   "source": [
    "`print('10입니다')` 는 실행이 되었다 그 이유는 들여쓰기가 없어서 if 와는 상관없는 코드가 되었기 때문이다.  \n",
    "즉 들여쓰기가 되지 않는 코드는 항상 실행된다. 이런 코드는 일단 실행이 되기 때문에 잘못된 부분을 찾기가 쉽지않다"
   ]
  },
  {
   "cell_type": "code",
   "execution_count": 48,
   "id": "65668ee8",
   "metadata": {},
   "outputs": [
    {
     "name": "stdout",
     "output_type": "stream",
     "text": [
      "10입니다.\n"
     ]
    }
   ],
   "source": [
    "x = 5\n",
    "if x ==10: #x 가 5라서 조건식이 만족하지 않음\n",
    "    print('x 에 들어있는 숫자는')\n",
    "print('10입니다.') #위의 if 와는 상관없는 코드"
   ]
  },
  {
   "cell_type": "markdown",
   "id": "c743434b",
   "metadata": {},
   "source": [
    "파이썬에서 : 가 나오면 그 다음 줄부터는 무조건 들여쓰기를 한다는 점만 기억"
   ]
  },
  {
   "cell_type": "markdown",
   "id": "6492457e",
   "metadata": {},
   "source": [
    "## 13.3 중첩 if 조건문 사용하기"
   ]
  },
  {
   "cell_type": "markdown",
   "id": "b10b5596",
   "metadata": {},
   "source": [
    "다음은 변수의 값이 10 이상이면 '10 이상입니다' 를 출력한 뒤 15이면 '15입니다' 20이면 '20입니다'\n"
   ]
  },
  {
   "cell_type": "code",
   "execution_count": 50,
   "id": "19fc1e8d",
   "metadata": {},
   "outputs": [
    {
     "name": "stdout",
     "output_type": "stream",
     "text": [
      "10 이상입니다\n",
      "15입니다\n"
     ]
    }
   ],
   "source": [
    "x= 15\n",
    "if x >=10:\n",
    "    print('10 이상입니다')\n",
    "    \n",
    "    if x == 15:\n",
    "        print('15입니다')\n",
    "        \n",
    "    if x == 20:\n",
    "        print('20입니다.')"
   ]
  },
  {
   "cell_type": "markdown",
   "id": "ee309f22",
   "metadata": {},
   "source": [
    "```python\n",
    "    if x == 15:\n",
    "        print('15입니다')\n",
    "        \n",
    "    if x == 20:\n",
    "        print('20입니다.')\n",
    "```\n",
    "위 두줄은 처음에 나온 \n",
    "```python\n",
    "if x >=10:\n",
    "    print('10 이상입니다')\n",
    "```\n",
    "에 속한 코드이다 즉 위 조건식이 만족해야 실행되는 코드"
   ]
  },
  {
   "cell_type": "markdown",
   "id": "3480b025",
   "metadata": {},
   "source": [
    "## 13.4 사용자가 입력한 값에 if 조건문 사용하기\n",
    "이번에는 input을 사용하여 사용자가 입력한 값을 변수에 저장하고  if 조건문으로 값을 비교"
   ]
  },
  {
   "cell_type": "code",
   "execution_count": 54,
   "id": "f5af8573",
   "metadata": {},
   "outputs": [
    {
     "name": "stdout",
     "output_type": "stream",
     "text": [
      "10\n",
      "10입니다.\n"
     ]
    }
   ],
   "source": [
    "x = int(input())\n",
    "\n",
    "if x ==10:\n",
    "    print('10입니다.')\n",
    "\n",
    "if x ==20:\n",
    "    print('20입니다.')\n",
    "    "
   ]
  },
  {
   "cell_type": "code",
   "execution_count": null,
   "id": "f640db82",
   "metadata": {},
   "outputs": [],
   "source": []
  }
 ],
 "metadata": {
  "kernelspec": {
   "display_name": "Python 3",
   "language": "python",
   "name": "python3"
  },
  "language_info": {
   "codemirror_mode": {
    "name": "ipython",
    "version": 3
   },
   "file_extension": ".py",
   "mimetype": "text/x-python",
   "name": "python",
   "nbconvert_exporter": "python",
   "pygments_lexer": "ipython3",
   "version": "3.7.10"
  }
 },
 "nbformat": 4,
 "nbformat_minor": 5
}
