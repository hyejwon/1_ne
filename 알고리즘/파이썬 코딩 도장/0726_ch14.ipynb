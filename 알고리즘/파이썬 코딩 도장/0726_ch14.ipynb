{
 "cells": [
  {
   "cell_type": "markdown",
   "id": "bf1be41b",
   "metadata": {},
   "source": [
    "# 14 else 를 사용하여 두 방향으로 분기하기\n",
    "if 조건문은 분기(branch)를 위한 문법입니다. 즉, 분기는 \"둘 이상으로 갈라지다\"라는 뜻으로 프로그램의 흐름을 둘 이상으로 나누는 것을 말합니다. 이는 마치 도로의 분기점과 같죠."
   ]
  },
  {
   "cell_type": "markdown",
   "id": "967fbcbd",
   "metadata": {},
   "source": [
    "## 14.1 else 사용하기"
   ]
  },
  {
   "cell_type": "code",
   "execution_count": 1,
   "id": "51595098",
   "metadata": {},
   "outputs": [
    {
     "name": "stdout",
     "output_type": "stream",
     "text": [
      "x는 10이 아닙니다\n"
     ]
    }
   ],
   "source": [
    "x = 5\n",
    "if x ==10:\n",
    "    print('x는 10입니다')\n",
    "    \n",
    "else:\n",
    "    print('x는 10이 아닙니다')"
   ]
  },
  {
   "cell_type": "markdown",
   "id": "fe2b3aea",
   "metadata": {},
   "source": [
    "## 14.1.1  if와 else의 기본 형태와 실행 흐름 알아보기"
   ]
  },
  {
   "cell_type": "markdown",
   "id": "9632ad45",
   "metadata": {},
   "source": [
    "> 참고\n",
    ">\n",
    "> 변수 x에 10이 들어있으면 y에 x를 할당하고, 아니면 y에 0을 할당하는 코드는 다음과 같이 만들 수 있습니다.\n"
   ]
  },
  {
   "cell_type": "code",
   "execution_count": 3,
   "id": "5eada06a",
   "metadata": {},
   "outputs": [],
   "source": [
    "x = 5\n",
    "if x ==10:\n",
    "    y =x\n",
    "else:\n",
    "    y =0"
   ]
  },
  {
   "cell_type": "code",
   "execution_count": 4,
   "id": "7abc9174",
   "metadata": {},
   "outputs": [
    {
     "data": {
      "text/plain": [
       "0"
      ]
     },
     "execution_count": 4,
     "metadata": {},
     "output_type": "execute_result"
    }
   ],
   "source": [
    "y"
   ]
  },
  {
   "cell_type": "code",
   "execution_count": 5,
   "id": "f2c7a24e",
   "metadata": {},
   "outputs": [],
   "source": [
    "#조건부 표현식\n",
    "x = 5\n",
    "y = x if x ==10 else 0"
   ]
  },
  {
   "cell_type": "code",
   "execution_count": 6,
   "id": "a3e0359c",
   "metadata": {},
   "outputs": [
    {
     "data": {
      "text/plain": [
       "0"
      ]
     },
     "execution_count": 6,
     "metadata": {},
     "output_type": "execute_result"
    }
   ],
   "source": [
    "y"
   ]
  },
  {
   "cell_type": "markdown",
   "id": "674a5576",
   "metadata": {},
   "source": [
    "## 14.2 else와 들여쓰기"
   ]
  },
  {
   "cell_type": "code",
   "execution_count": 1,
   "id": "881727c5",
   "metadata": {},
   "outputs": [
    {
     "name": "stdout",
     "output_type": "stream",
     "text": [
      "10입니다.\n",
      "10이 아닙니다.\n"
     ]
    }
   ],
   "source": [
    "x = 10\n",
    " \n",
    "if x == 10:    # x가 10이라 조건식이 참\n",
    "    print('10입니다.')\n",
    "else:\n",
    "    print('x에 들어있는 숫자는')\n",
    " \n",
    "print('10이 아닙니다.')"
   ]
  },
  {
   "cell_type": "code",
   "execution_count": 2,
   "id": "105cdaa7",
   "metadata": {},
   "outputs": [
    {
     "name": "stdout",
     "output_type": "stream",
     "text": [
      "10입니다.\n"
     ]
    }
   ],
   "source": [
    "x = 10\n",
    " \n",
    "if x == 10:    # x가 10이라 조건식이 참\n",
    "    print('10입니다.')\n",
    "else:\n",
    "    print('x에 들어있는 숫자는')\n",
    " \n",
    "    print('10이 아닙니다.')"
   ]
  },
  {
   "cell_type": "markdown",
   "id": "9a0aa5ce",
   "metadata": {},
   "source": [
    "## 14.3 if 조건문의 동작 방식 알아보기"
   ]
  },
  {
   "cell_type": "code",
   "execution_count": 3,
   "id": "646d548d",
   "metadata": {},
   "outputs": [
    {
     "name": "stdout",
     "output_type": "stream",
     "text": [
      "참\n"
     ]
    }
   ],
   "source": [
    "if True:\n",
    "    print('참')\n",
    "else:\n",
    "    print('거짓')"
   ]
  },
  {
   "cell_type": "code",
   "execution_count": 5,
   "id": "a49355c0",
   "metadata": {},
   "outputs": [
    {
     "name": "stdout",
     "output_type": "stream",
     "text": [
      "거짓\n"
     ]
    }
   ],
   "source": [
    "if False:\n",
    "    print('참')\n",
    "else:\n",
    "    print('거짓')"
   ]
  },
  {
   "cell_type": "code",
   "execution_count": 6,
   "id": "acb18113",
   "metadata": {},
   "outputs": [
    {
     "name": "stdout",
     "output_type": "stream",
     "text": [
      "거짓\n"
     ]
    }
   ],
   "source": [
    "if None:\n",
    "    print('참')\n",
    "else:\n",
    "    print('거짓')"
   ]
  },
  {
   "cell_type": "markdown",
   "id": "64186e5e",
   "metadata": {},
   "source": [
    "## 14.3.1 if 조건문에 숫자 지정하기"
   ]
  },
  {
   "cell_type": "code",
   "execution_count": 7,
   "id": "d69d2030",
   "metadata": {},
   "outputs": [
    {
     "name": "stdout",
     "output_type": "stream",
     "text": [
      "거짓\n"
     ]
    }
   ],
   "source": [
    "if 0:\n",
    "    print('참')\n",
    "else:\n",
    "    print('거짓') "
   ]
  },
  {
   "cell_type": "code",
   "execution_count": 8,
   "id": "e7582f5a",
   "metadata": {},
   "outputs": [
    {
     "name": "stdout",
     "output_type": "stream",
     "text": [
      "참\n"
     ]
    }
   ],
   "source": [
    "if 1:\n",
    "    print('참')\n",
    "else:\n",
    "    print('거짓')"
   ]
  },
  {
   "cell_type": "code",
   "execution_count": 9,
   "id": "63dbbab7",
   "metadata": {},
   "outputs": [
    {
     "name": "stdout",
     "output_type": "stream",
     "text": [
      "참\n"
     ]
    }
   ],
   "source": [
    "if 0x1F:    # 16진수\n",
    "    print('참')    # 0x1F는 참\n",
    "else:\n",
    "    print('거짓')"
   ]
  },
  {
   "cell_type": "code",
   "execution_count": 10,
   "id": "960f5e90",
   "metadata": {},
   "outputs": [
    {
     "name": "stdout",
     "output_type": "stream",
     "text": [
      "참\n"
     ]
    }
   ],
   "source": [
    "if 0b1000:    # 2진수\n",
    "    print('참')    # 0b1000은 참\n",
    "else:\n",
    "    print('거짓')\n",
    " "
   ]
  },
  {
   "cell_type": "code",
   "execution_count": 11,
   "id": "9d5364cd",
   "metadata": {},
   "outputs": [
    {
     "name": "stdout",
     "output_type": "stream",
     "text": [
      "참\n"
     ]
    }
   ],
   "source": [
    "if 13.5:    # 실수\n",
    "    print('참')    # 13.5는 참\n",
    "else:\n",
    "    print('거짓')"
   ]
  },
  {
   "cell_type": "markdown",
   "id": "43a461ff",
   "metadata": {},
   "source": [
    "## 14.3.2 if 조건문에 문자열 지정하기"
   ]
  },
  {
   "cell_type": "code",
   "execution_count": 12,
   "id": "c9de10cc",
   "metadata": {},
   "outputs": [
    {
     "name": "stdout",
     "output_type": "stream",
     "text": [
      "참\n"
     ]
    }
   ],
   "source": [
    "if 'Hello':\n",
    "    print('참')\n",
    "else:\n",
    "    print('거짓')\n"
   ]
  },
  {
   "cell_type": "code",
   "execution_count": 13,
   "id": "6c17a153",
   "metadata": {},
   "outputs": [
    {
     "name": "stdout",
     "output_type": "stream",
     "text": [
      "거짓\n"
     ]
    }
   ],
   "source": [
    "if '':    # 빈 문자열\n",
    "    print('참')\n",
    "else:\n",
    "    print('거짓') "
   ]
  },
  {
   "cell_type": "code",
   "execution_count": 14,
   "id": "736cb648",
   "metadata": {},
   "outputs": [
    {
     "name": "stdout",
     "output_type": "stream",
     "text": [
      "참\n"
     ]
    }
   ],
   "source": [
    "if not 0:\n",
    "    print('참')"
   ]
  },
  {
   "cell_type": "code",
   "execution_count": 15,
   "id": "ad89b246",
   "metadata": {},
   "outputs": [
    {
     "name": "stdout",
     "output_type": "stream",
     "text": [
      "참\n"
     ]
    }
   ],
   "source": [
    "if not None:\n",
    "    print('참')"
   ]
  },
  {
   "cell_type": "code",
   "execution_count": 16,
   "id": "6e454ff8",
   "metadata": {},
   "outputs": [
    {
     "name": "stdout",
     "output_type": "stream",
     "text": [
      "참\n"
     ]
    }
   ],
   "source": [
    "if not '':\n",
    "    print('참')"
   ]
  },
  {
   "cell_type": "markdown",
   "id": "e06e24c4",
   "metadata": {},
   "source": [
    "## 14.4 조건식을 여러 개 지정하기"
   ]
  },
  {
   "cell_type": "code",
   "execution_count": 17,
   "id": "1fa26fa1",
   "metadata": {},
   "outputs": [
    {
     "name": "stdout",
     "output_type": "stream",
     "text": [
      "참\n"
     ]
    }
   ],
   "source": [
    "x = 10\n",
    "y = 20\n",
    "\n",
    "if x ==10 and y ==20: #x가 10이면서 y가 20일 때\n",
    "    print('참')\n",
    "else:\n",
    "    print('거짓')"
   ]
  },
  {
   "cell_type": "markdown",
   "id": "444bcc73",
   "metadata": {},
   "source": [
    "## 14.4.1 중첩 if 조건문과 논리 연산자"
   ]
  },
  {
   "cell_type": "code",
   "execution_count": 18,
   "id": "7aa3a41c",
   "metadata": {},
   "outputs": [
    {
     "name": "stdout",
     "output_type": "stream",
     "text": [
      "20보다 작은 양수\n"
     ]
    }
   ],
   "source": [
    "#중첩 if 조건문\n",
    "if x >0:\n",
    "    if x <20:\n",
    "        print('20보다 작은 양수')"
   ]
  },
  {
   "cell_type": "code",
   "execution_count": 19,
   "id": "53c379da",
   "metadata": {},
   "outputs": [
    {
     "name": "stdout",
     "output_type": "stream",
     "text": [
      "20보다 작은 양수\n"
     ]
    }
   ],
   "source": [
    "if x > 0 and x < 20:\n",
    "    print('20보다 작은 양수')"
   ]
  },
  {
   "cell_type": "code",
   "execution_count": 20,
   "id": "d5534926",
   "metadata": {},
   "outputs": [
    {
     "name": "stdout",
     "output_type": "stream",
     "text": [
      "20보다 작은 양수입니다.\n"
     ]
    }
   ],
   "source": [
    "if 0 < x < 20:\n",
    "    print('20보다 작은 양수입니다.')"
   ]
  },
  {
   "cell_type": "code",
   "execution_count": null,
   "id": "e1aef568",
   "metadata": {},
   "outputs": [],
   "source": []
  }
 ],
 "metadata": {
  "kernelspec": {
   "display_name": "Python 3",
   "language": "python",
   "name": "python3"
  },
  "language_info": {
   "codemirror_mode": {
    "name": "ipython",
    "version": 3
   },
   "file_extension": ".py",
   "mimetype": "text/x-python",
   "name": "python",
   "nbconvert_exporter": "python",
   "pygments_lexer": "ipython3",
   "version": "3.7.10"
  }
 },
 "nbformat": 4,
 "nbformat_minor": 5
}
