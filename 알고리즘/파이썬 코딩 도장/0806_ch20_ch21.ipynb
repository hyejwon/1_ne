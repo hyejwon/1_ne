{
 "cells": [
  {
   "cell_type": "markdown",
   "id": "a2c40084",
   "metadata": {},
   "source": [
    "# 20.FizzBuzz 문제\n",
    "fizzbuzz는 매우 간단한 프로그래밍 문제이며 규칙은 다음과 같다\n",
    "- 1에서 100까지 출력\n",
    "- 3의 배수는 Fizz 출력\n",
    "- 5의 배수는 Buzz 출력\n",
    "- 3과 5의 공배수는 FizzBuss 출력"
   ]
  },
  {
   "cell_type": "markdown",
   "id": "5662a70d",
   "metadata": {},
   "source": [
    "## 20.1 1부터 100까지 숫자 출력하기\n"
   ]
  },
  {
   "cell_type": "code",
   "execution_count": 1,
   "id": "9db0d570",
   "metadata": {},
   "outputs": [
    {
     "name": "stdout",
     "output_type": "stream",
     "text": [
      "1\n",
      "2\n",
      "3\n",
      "4\n",
      "5\n",
      "6\n",
      "7\n",
      "8\n",
      "9\n",
      "10\n",
      "11\n",
      "12\n",
      "13\n",
      "14\n",
      "15\n",
      "16\n",
      "17\n",
      "18\n",
      "19\n",
      "20\n",
      "21\n",
      "22\n",
      "23\n",
      "24\n",
      "25\n",
      "26\n",
      "27\n",
      "28\n",
      "29\n",
      "30\n",
      "31\n",
      "32\n",
      "33\n",
      "34\n",
      "35\n",
      "36\n",
      "37\n",
      "38\n",
      "39\n",
      "40\n",
      "41\n",
      "42\n",
      "43\n",
      "44\n",
      "45\n",
      "46\n",
      "47\n",
      "48\n",
      "49\n",
      "50\n",
      "51\n",
      "52\n",
      "53\n",
      "54\n",
      "55\n",
      "56\n",
      "57\n",
      "58\n",
      "59\n",
      "60\n",
      "61\n",
      "62\n",
      "63\n",
      "64\n",
      "65\n",
      "66\n",
      "67\n",
      "68\n",
      "69\n",
      "70\n",
      "71\n",
      "72\n",
      "73\n",
      "74\n",
      "75\n",
      "76\n",
      "77\n",
      "78\n",
      "79\n",
      "80\n",
      "81\n",
      "82\n",
      "83\n",
      "84\n",
      "85\n",
      "86\n",
      "87\n",
      "88\n",
      "89\n",
      "90\n",
      "91\n",
      "92\n",
      "93\n",
      "94\n",
      "95\n",
      "96\n",
      "97\n",
      "98\n",
      "99\n",
      "100\n"
     ]
    }
   ],
   "source": [
    "for i in range(1,101):\n",
    "    print(i)"
   ]
  },
  {
   "cell_type": "markdown",
   "id": "267c4a3d",
   "metadata": {},
   "source": [
    "## 20.2 3의 배수일 때와 5의 배수일 때  처리"
   ]
  },
  {
   "cell_type": "code",
   "execution_count": 2,
   "id": "a0d34286",
   "metadata": {},
   "outputs": [
    {
     "name": "stdout",
     "output_type": "stream",
     "text": [
      "1\n",
      "2\n",
      "Fizz\n",
      "4\n",
      "Buzz\n",
      "Fizz\n",
      "7\n",
      "8\n",
      "Fizz\n",
      "Buzz\n",
      "11\n",
      "Fizz\n",
      "13\n",
      "14\n",
      "Fizz\n",
      "16\n",
      "17\n",
      "Fizz\n",
      "19\n",
      "Buzz\n",
      "Fizz\n",
      "22\n",
      "23\n",
      "Fizz\n",
      "Buzz\n",
      "26\n",
      "Fizz\n",
      "28\n",
      "29\n",
      "Fizz\n",
      "31\n",
      "32\n",
      "Fizz\n",
      "34\n",
      "Buzz\n",
      "Fizz\n",
      "37\n",
      "38\n",
      "Fizz\n",
      "Buzz\n",
      "41\n",
      "Fizz\n",
      "43\n",
      "44\n",
      "Fizz\n",
      "46\n",
      "47\n",
      "Fizz\n",
      "49\n",
      "Buzz\n",
      "Fizz\n",
      "52\n",
      "53\n",
      "Fizz\n",
      "Buzz\n",
      "56\n",
      "Fizz\n",
      "58\n",
      "59\n",
      "Fizz\n",
      "61\n",
      "62\n",
      "Fizz\n",
      "64\n",
      "Buzz\n",
      "Fizz\n",
      "67\n",
      "68\n",
      "Fizz\n",
      "Buzz\n",
      "71\n",
      "Fizz\n",
      "73\n",
      "74\n",
      "Fizz\n",
      "76\n",
      "77\n",
      "Fizz\n",
      "79\n",
      "Buzz\n",
      "Fizz\n",
      "82\n",
      "83\n",
      "Fizz\n",
      "Buzz\n",
      "86\n",
      "Fizz\n",
      "88\n",
      "89\n",
      "Fizz\n",
      "91\n",
      "92\n",
      "Fizz\n",
      "94\n",
      "Buzz\n",
      "Fizz\n",
      "97\n",
      "98\n",
      "Fizz\n",
      "Buzz\n"
     ]
    }
   ],
   "source": [
    "for i in range(1,101):\n",
    "    if i%3==0:\n",
    "        print('Fizz')\n",
    "    elif i%5==0:\n",
    "        print('Buzz')\n",
    "    else:\n",
    "        print(i)"
   ]
  },
  {
   "cell_type": "markdown",
   "id": "b36297f5",
   "metadata": {},
   "source": [
    "## 20.3 3과 5의 공배수 처리하기\n",
    "3의 배수와 5의 배수는 출력했지만 3과 5의 공배수를 출력하지는 못했다.\n",
    "3과 5의 공배수는 어떻게 출력해야할까 ?  \n",
    "공배수는 다음과 같이 논리 연산자 and 를 사용하면 된다"
   ]
  },
  {
   "cell_type": "code",
   "execution_count": 3,
   "id": "51b27f13",
   "metadata": {},
   "outputs": [
    {
     "name": "stdout",
     "output_type": "stream",
     "text": [
      "1\n",
      "2\n",
      "Fizz\n",
      "4\n",
      "Buzz\n",
      "Fizz\n",
      "7\n",
      "8\n",
      "Fizz\n",
      "Buzz\n",
      "11\n",
      "Fizz\n",
      "13\n",
      "14\n",
      "FizzBuzz\n",
      "16\n",
      "17\n",
      "Fizz\n",
      "19\n",
      "Buzz\n",
      "Fizz\n",
      "22\n",
      "23\n",
      "Fizz\n",
      "Buzz\n",
      "26\n",
      "Fizz\n",
      "28\n",
      "29\n",
      "FizzBuzz\n",
      "31\n",
      "32\n",
      "Fizz\n",
      "34\n",
      "Buzz\n",
      "Fizz\n",
      "37\n",
      "38\n",
      "Fizz\n",
      "Buzz\n",
      "41\n",
      "Fizz\n",
      "43\n",
      "44\n",
      "FizzBuzz\n",
      "46\n",
      "47\n",
      "Fizz\n",
      "49\n",
      "Buzz\n",
      "Fizz\n",
      "52\n",
      "53\n",
      "Fizz\n",
      "Buzz\n",
      "56\n",
      "Fizz\n",
      "58\n",
      "59\n",
      "FizzBuzz\n",
      "61\n",
      "62\n",
      "Fizz\n",
      "64\n",
      "Buzz\n",
      "Fizz\n",
      "67\n",
      "68\n",
      "Fizz\n",
      "Buzz\n",
      "71\n",
      "Fizz\n",
      "73\n",
      "74\n",
      "FizzBuzz\n",
      "76\n",
      "77\n",
      "Fizz\n",
      "79\n",
      "Buzz\n",
      "Fizz\n",
      "82\n",
      "83\n",
      "Fizz\n",
      "Buzz\n",
      "86\n",
      "Fizz\n",
      "88\n",
      "89\n",
      "FizzBuzz\n",
      "91\n",
      "92\n",
      "Fizz\n",
      "94\n",
      "Buzz\n",
      "Fizz\n",
      "97\n",
      "98\n",
      "Fizz\n",
      "Buzz\n"
     ]
    }
   ],
   "source": [
    "for i in range(1,101):\n",
    "    if i %3 ==0 and i %5==0:\n",
    "        print('FizzBuzz')\n",
    "    elif i % 3 == 0:\n",
    "        print('Fizz')\n",
    "    elif i % 5 == 0:\n",
    "        print('Buzz')\n",
    "    else:\n",
    "        print(i)"
   ]
  },
  {
   "cell_type": "code",
   "execution_count": 5,
   "id": "c1af524b",
   "metadata": {},
   "outputs": [
    {
     "name": "stdout",
     "output_type": "stream",
     "text": [
      "1\n",
      "2\n",
      "Fizz\n",
      "4\n",
      "Buzz\n",
      "Fizz\n",
      "7\n",
      "8\n",
      "Fizz\n",
      "Buzz\n",
      "11\n",
      "Fizz\n",
      "13\n",
      "14\n",
      "Fizz\n",
      "16\n",
      "17\n",
      "Fizz\n",
      "19\n",
      "Buzz\n",
      "Fizz\n",
      "22\n",
      "23\n",
      "Fizz\n",
      "Buzz\n",
      "26\n",
      "Fizz\n",
      "28\n",
      "29\n",
      "Fizz\n",
      "31\n",
      "32\n",
      "Fizz\n",
      "34\n",
      "Buzz\n",
      "Fizz\n",
      "37\n",
      "38\n",
      "Fizz\n",
      "Buzz\n",
      "41\n",
      "Fizz\n",
      "43\n",
      "44\n",
      "Fizz\n",
      "46\n",
      "47\n",
      "Fizz\n",
      "49\n",
      "Buzz\n",
      "Fizz\n",
      "52\n",
      "53\n",
      "Fizz\n",
      "Buzz\n",
      "56\n",
      "Fizz\n",
      "58\n",
      "59\n",
      "Fizz\n",
      "61\n",
      "62\n",
      "Fizz\n",
      "64\n",
      "Buzz\n",
      "Fizz\n",
      "67\n",
      "68\n",
      "Fizz\n",
      "Buzz\n",
      "71\n",
      "Fizz\n",
      "73\n",
      "74\n",
      "Fizz\n",
      "76\n",
      "77\n",
      "Fizz\n",
      "79\n",
      "Buzz\n",
      "Fizz\n",
      "82\n",
      "83\n",
      "Fizz\n",
      "Buzz\n",
      "86\n",
      "Fizz\n",
      "88\n",
      "89\n",
      "Fizz\n",
      "91\n",
      "92\n",
      "Fizz\n",
      "94\n",
      "Buzz\n",
      "Fizz\n",
      "97\n",
      "98\n",
      "Fizz\n",
      "Buzz\n"
     ]
    }
   ],
   "source": [
    "for i in range(1,101):\n",
    "    if i % 3 == 0:                     # i가 30이면\n",
    "        print('Fizz')                  # Fizz를 출력하고 그냥 넘어가버림\n",
    "    elif i % 5 == 0:\n",
    "        print('Buzz')\n",
    "    elif i % 3 == 0 and i % 5 == 0:    # 3과 5의 공배수는 검사하지 못함\n",
    "        print('FizzBuzz')\n",
    "    else:\n",
    "        print(i)"
   ]
  },
  {
   "cell_type": "markdown",
   "id": "1712180c",
   "metadata": {},
   "source": [
    "## 20.4 논리 연산자를 사용하지 않고 3과 5의 공배수 처리하기 "
   ]
  },
  {
   "cell_type": "code",
   "execution_count": 6,
   "id": "a05a5ffb",
   "metadata": {},
   "outputs": [
    {
     "name": "stdout",
     "output_type": "stream",
     "text": [
      "1\n",
      "2\n",
      "Fizz\n",
      "4\n",
      "Buzz\n",
      "Fizz\n",
      "7\n",
      "8\n",
      "Fizz\n",
      "Buzz\n",
      "11\n",
      "Fizz\n",
      "13\n",
      "14\n",
      "FizzBuzz\n",
      "16\n",
      "17\n",
      "Fizz\n",
      "19\n",
      "Buzz\n",
      "Fizz\n",
      "22\n",
      "23\n",
      "Fizz\n",
      "Buzz\n",
      "26\n",
      "Fizz\n",
      "28\n",
      "29\n",
      "FizzBuzz\n",
      "31\n",
      "32\n",
      "Fizz\n",
      "34\n",
      "Buzz\n",
      "Fizz\n",
      "37\n",
      "38\n",
      "Fizz\n",
      "Buzz\n",
      "41\n",
      "Fizz\n",
      "43\n",
      "44\n",
      "FizzBuzz\n",
      "46\n",
      "47\n",
      "Fizz\n",
      "49\n",
      "Buzz\n",
      "Fizz\n",
      "52\n",
      "53\n",
      "Fizz\n",
      "Buzz\n",
      "56\n",
      "Fizz\n",
      "58\n",
      "59\n",
      "FizzBuzz\n",
      "61\n",
      "62\n",
      "Fizz\n",
      "64\n",
      "Buzz\n",
      "Fizz\n",
      "67\n",
      "68\n",
      "Fizz\n",
      "Buzz\n",
      "71\n",
      "Fizz\n",
      "73\n",
      "74\n",
      "FizzBuzz\n",
      "76\n",
      "77\n",
      "Fizz\n",
      "79\n",
      "Buzz\n",
      "Fizz\n",
      "82\n",
      "83\n",
      "Fizz\n",
      "Buzz\n",
      "86\n",
      "Fizz\n",
      "88\n",
      "89\n",
      "FizzBuzz\n",
      "91\n",
      "92\n",
      "Fizz\n",
      "94\n",
      "Buzz\n",
      "Fizz\n",
      "97\n",
      "98\n",
      "Fizz\n",
      "Buzz\n"
     ]
    }
   ],
   "source": [
    "for i in range(1,101):\n",
    "    if i % 15 == 0:\n",
    "        print('FizzBuzz')\n",
    "    elif i % 3 == 0:\n",
    "        print('Fizz')\n",
    "    elif i % 5 == 0:\n",
    "        print('Buzz')\n",
    "    else:\n",
    "        print(i)"
   ]
  },
  {
   "cell_type": "markdown",
   "id": "74a2a24a",
   "metadata": {},
   "source": [
    ">참고 | 가독성\n",
    "읽기 쉽고 이해하기 쉬운 코드를 가독성이 좋다고 말합니다. 코드를 복잡하게 작성할 수록 프로그래밍 실력이 뛰어나다고 착각하기 쉽지만 정반대입니다. 즉, 복잡한 로직을 간단하고 쉽게 작성할 수록 프로그래밍 실력이 뛰어나다고 할 수 있습니다.\n",
    ">\n",
    ">프로그래밍은 만드는 것으로 끝나지 않고, 항상 유지보수가 뒤따릅니다. 특히 규모가 큰 프로젝트는 여러 사람이 협업하여 기능을 만들고 내가 작성한 코드를 다른 사람이 수정하거나, 내가 다른 사람의 코드를 수정하기도 합니다(실무에서는 내가 다른 사람의 코드를 수정해야 하는 일이 대부분입니다). 따라서 다른 사람이 내 코드를 유지보수하기 쉽도록 코드를 작성해야 하고, 내가 만든 코드를 나중에 내가 봤을 때도 이해하기 쉽도록 작성해야 합니다."
   ]
  },
  {
   "cell_type": "markdown",
   "id": "c679d735",
   "metadata": {},
   "source": [
    "## 20.5 코드 단축하기"
   ]
  },
  {
   "cell_type": "code",
   "execution_count": 7,
   "id": "80486b97",
   "metadata": {},
   "outputs": [
    {
     "name": "stdout",
     "output_type": "stream",
     "text": [
      "1\n",
      "2\n",
      "Fizz\n",
      "4\n",
      "Buzz\n",
      "Fizz\n",
      "7\n",
      "8\n",
      "Fizz\n",
      "Buzz\n",
      "11\n",
      "Fizz\n",
      "13\n",
      "14\n",
      "FizzBuzz\n",
      "16\n",
      "17\n",
      "Fizz\n",
      "19\n",
      "Buzz\n",
      "Fizz\n",
      "22\n",
      "23\n",
      "Fizz\n",
      "Buzz\n",
      "26\n",
      "Fizz\n",
      "28\n",
      "29\n",
      "FizzBuzz\n",
      "31\n",
      "32\n",
      "Fizz\n",
      "34\n",
      "Buzz\n",
      "Fizz\n",
      "37\n",
      "38\n",
      "Fizz\n",
      "Buzz\n",
      "41\n",
      "Fizz\n",
      "43\n",
      "44\n",
      "FizzBuzz\n",
      "46\n",
      "47\n",
      "Fizz\n",
      "49\n",
      "Buzz\n",
      "Fizz\n",
      "52\n",
      "53\n",
      "Fizz\n",
      "Buzz\n",
      "56\n",
      "Fizz\n",
      "58\n",
      "59\n",
      "FizzBuzz\n",
      "61\n",
      "62\n",
      "Fizz\n",
      "64\n",
      "Buzz\n",
      "Fizz\n",
      "67\n",
      "68\n",
      "Fizz\n",
      "Buzz\n",
      "71\n",
      "Fizz\n",
      "73\n",
      "74\n",
      "FizzBuzz\n",
      "76\n",
      "77\n",
      "Fizz\n",
      "79\n",
      "Buzz\n",
      "Fizz\n",
      "82\n",
      "83\n",
      "Fizz\n",
      "Buzz\n",
      "86\n",
      "Fizz\n",
      "88\n",
      "89\n",
      "FizzBuzz\n",
      "91\n",
      "92\n",
      "Fizz\n",
      "94\n",
      "Buzz\n",
      "Fizz\n",
      "97\n",
      "98\n",
      "Fizz\n",
      "Buzz\n"
     ]
    }
   ],
   "source": [
    "for i in range(1,101):\n",
    "    print('Fizz'*(i % 3 == 0)+'Buzz'*(i % 5 == 0) or i )"
   ]
  },
  {
   "cell_type": "markdown",
   "id": "0862c373",
   "metadata": {},
   "source": [
    "코드 골프 방식으로 작성  \n",
    "코드 골프란 골프에서 따온 말인데, 실제 골프 경기는 더 적은 타수로 승부를 겨룬다. 마찬가지로 코드 골프도 소스 코드의 문자 수를 최대한 줄여서 작성하는 놀이(실무에서는 비추)\n"
   ]
  },
  {
   "cell_type": "code",
   "execution_count": 8,
   "id": "a0d94dfa",
   "metadata": {},
   "outputs": [
    {
     "data": {
      "text/plain": [
       "'FizzBuzz'"
      ]
     },
     "execution_count": 8,
     "metadata": {},
     "output_type": "execute_result"
    }
   ],
   "source": [
    "'Fizz'+'Buzz'"
   ]
  },
  {
   "cell_type": "code",
   "execution_count": 9,
   "id": "85d8d337",
   "metadata": {},
   "outputs": [
    {
     "data": {
      "text/plain": [
       "'Fizz'"
      ]
     },
     "execution_count": 9,
     "metadata": {},
     "output_type": "execute_result"
    }
   ],
   "source": [
    "'Fizz'*True"
   ]
  },
  {
   "cell_type": "code",
   "execution_count": 10,
   "id": "b2984fb3",
   "metadata": {},
   "outputs": [
    {
     "data": {
      "text/plain": [
       "''"
      ]
     },
     "execution_count": 10,
     "metadata": {},
     "output_type": "execute_result"
    }
   ],
   "source": [
    "'Fizz'*False"
   ]
  },
  {
   "cell_type": "code",
   "execution_count": 17,
   "id": "13f8cffc",
   "metadata": {},
   "outputs": [
    {
     "data": {
      "text/plain": [
       "'Fizz'"
      ]
     },
     "execution_count": 17,
     "metadata": {},
     "output_type": "execute_result"
    }
   ],
   "source": [
    "#3의 배수일 때 'Fizz'를 출력\n",
    "i = 3\n",
    "'Fizz'*(i % 3 == 0)"
   ]
  },
  {
   "cell_type": "code",
   "execution_count": 15,
   "id": "91c10a42",
   "metadata": {},
   "outputs": [
    {
     "data": {
      "text/plain": [
       "'Buzz'"
      ]
     },
     "execution_count": 15,
     "metadata": {},
     "output_type": "execute_result"
    }
   ],
   "source": [
    "#5의 배수일 때 'Buzz'를 출력\n",
    "i = 5\n",
    "'Buzz'* (i % 5 == 0)"
   ]
  },
  {
   "cell_type": "code",
   "execution_count": 21,
   "id": "8151a37d",
   "metadata": {},
   "outputs": [
    {
     "data": {
      "text/plain": [
       "''"
      ]
     },
     "execution_count": 21,
     "metadata": {},
     "output_type": "execute_result"
    }
   ],
   "source": [
    "#3과 5의 공배수일 때는 문자열 덧셈 사용\n",
    "i=13\n",
    "'Fizz' * (i % 3 == 0) + 'Buzz' * (i % 5 == 0)"
   ]
  },
  {
   "cell_type": "code",
   "execution_count": 22,
   "id": "a0c28b0e",
   "metadata": {},
   "outputs": [
    {
     "name": "stdout",
     "output_type": "stream",
     "text": [
      "13\n"
     ]
    }
   ],
   "source": [
    "#3또는 5의 배수가 아닐 때는 or 연산자 사용 \n",
    "print('Fizz' * (i % 3 == 0) + 'Buzz' * (i % 5 == 0) or i)"
   ]
  },
  {
   "cell_type": "markdown",
   "id": "4f2f9a66",
   "metadata": {},
   "source": [
    "## 20.7 연습문제"
   ]
  },
  {
   "cell_type": "code",
   "execution_count": 23,
   "id": "7c2d7da6",
   "metadata": {},
   "outputs": [
    {
     "name": "stdout",
     "output_type": "stream",
     "text": [
      "1\n",
      "Fizz\n",
      "3\n",
      "Fizz\n",
      "5\n",
      "Fizz\n",
      "7\n",
      "Fizz\n",
      "9\n",
      "Fizz\n",
      "Buzz\n",
      "Fizz\n",
      "13\n",
      "Fizz\n",
      "15\n",
      "Fizz\n",
      "17\n",
      "Fizz\n",
      "19\n",
      "Fizz\n",
      "21\n",
      "FizzBuzz\n",
      "23\n",
      "Fizz\n",
      "25\n",
      "Fizz\n",
      "27\n",
      "Fizz\n",
      "29\n",
      "Fizz\n",
      "31\n",
      "Fizz\n",
      "Buzz\n",
      "Fizz\n",
      "35\n",
      "Fizz\n",
      "37\n",
      "Fizz\n",
      "39\n",
      "Fizz\n",
      "41\n",
      "Fizz\n",
      "43\n",
      "FizzBuzz\n",
      "45\n",
      "Fizz\n",
      "47\n",
      "Fizz\n",
      "49\n",
      "Fizz\n",
      "51\n",
      "Fizz\n",
      "53\n",
      "Fizz\n",
      "Buzz\n",
      "Fizz\n",
      "57\n",
      "Fizz\n",
      "59\n",
      "Fizz\n",
      "61\n",
      "Fizz\n",
      "63\n",
      "Fizz\n",
      "65\n",
      "FizzBuzz\n",
      "67\n",
      "Fizz\n",
      "69\n",
      "Fizz\n",
      "71\n",
      "Fizz\n",
      "73\n",
      "Fizz\n",
      "75\n",
      "Fizz\n",
      "Buzz\n",
      "Fizz\n",
      "79\n",
      "Fizz\n",
      "81\n",
      "Fizz\n",
      "83\n",
      "Fizz\n",
      "85\n",
      "Fizz\n",
      "87\n",
      "FizzBuzz\n",
      "89\n",
      "Fizz\n",
      "91\n",
      "Fizz\n",
      "93\n",
      "Fizz\n",
      "95\n",
      "Fizz\n",
      "97\n",
      "Fizz\n",
      "Buzz\n",
      "Fizz\n"
     ]
    }
   ],
   "source": [
    "for i in range(1,101):\n",
    "    if i % 2 == 0 and i % 11 == 0:\n",
    "        print('FizzBuzz')\n",
    "    elif i % 2 == 0:\n",
    "        print('Fizz')\n",
    "    elif i % 11 == 0:\n",
    "        print('Buzz')\n",
    "    else:\n",
    "        print(i)"
   ]
  },
  {
   "cell_type": "markdown",
   "id": "244b3c41",
   "metadata": {},
   "source": [
    "# 21. 터틀 그래픽스로 그림 그리기"
   ]
  },
  {
   "cell_type": "code",
   "execution_count": 24,
   "id": "845566ba",
   "metadata": {},
   "outputs": [],
   "source": [
    "import turtle as t\n",
    "t.shape('turtle')"
   ]
  },
  {
   "cell_type": "code",
   "execution_count": 25,
   "id": "b3d754cb",
   "metadata": {},
   "outputs": [],
   "source": [
    "t.forward(100) #거북이를 100픽셀 전진 "
   ]
  },
  {
   "cell_type": "code",
   "execution_count": 26,
   "id": "d6f06f75",
   "metadata": {},
   "outputs": [],
   "source": [
    "t.right(90) #방향 90도 "
   ]
  },
  {
   "cell_type": "code",
   "execution_count": 27,
   "id": "d8aa5fc6",
   "metadata": {},
   "outputs": [],
   "source": [
    "t.forward(100)"
   ]
  },
  {
   "cell_type": "code",
   "execution_count": 28,
   "id": "8b09bab7",
   "metadata": {},
   "outputs": [],
   "source": [
    "t.right(90)"
   ]
  },
  {
   "cell_type": "code",
   "execution_count": 29,
   "id": "9b6a7e0a",
   "metadata": {},
   "outputs": [],
   "source": [
    "t.forward(100)"
   ]
  },
  {
   "cell_type": "code",
   "execution_count": 30,
   "id": "cbbacede",
   "metadata": {},
   "outputs": [],
   "source": [
    "t.right(90)"
   ]
  },
  {
   "cell_type": "code",
   "execution_count": 31,
   "id": "93428ffd",
   "metadata": {},
   "outputs": [],
   "source": [
    "t.forward(100)"
   ]
  },
  {
   "cell_type": "code",
   "execution_count": 32,
   "id": "05f090ce",
   "metadata": {},
   "outputs": [],
   "source": [
    "t.fd(100)"
   ]
  },
  {
   "cell_type": "code",
   "execution_count": 33,
   "id": "6de3ea8a",
   "metadata": {},
   "outputs": [],
   "source": [
    "t.rt(90)"
   ]
  },
  {
   "cell_type": "code",
   "execution_count": 34,
   "id": "172e56fa",
   "metadata": {},
   "outputs": [],
   "source": [
    "t.fd(100)\n",
    "t.rt(90)\n",
    "t.fd(100)\n",
    "t.rt(90)\n",
    "t.fd(100)"
   ]
  },
  {
   "cell_type": "markdown",
   "id": "0c0dc4b4",
   "metadata": {},
   "source": [
    "## 21.2 다각형 그리기"
   ]
  },
  {
   "cell_type": "code",
   "execution_count": 35,
   "id": "8b04a5a9",
   "metadata": {},
   "outputs": [],
   "source": [
    "import turtle as t\n",
    " \n",
    "t.shape('turtle')\n",
    "for i in range(4):    # 사각형이므로 4번 반복\n",
    "    t.forward(100)\n",
    "    t.right(90)"
   ]
  },
  {
   "cell_type": "markdown",
   "id": "0f65da71",
   "metadata": {},
   "source": [
    "## 21.2.1 오각형 그리기"
   ]
  },
  {
   "cell_type": "code",
   "execution_count": 36,
   "id": "65c39a18",
   "metadata": {},
   "outputs": [],
   "source": [
    "for i in range(5):\n",
    "    t.forward(100)\n",
    "    t.right(360/5)"
   ]
  },
  {
   "cell_type": "markdown",
   "id": "5ac9898f",
   "metadata": {},
   "source": [
    "## 21.2.2 다각형 그리기"
   ]
  },
  {
   "cell_type": "code",
   "execution_count": 37,
   "id": "fa565e66",
   "metadata": {},
   "outputs": [
    {
     "name": "stdout",
     "output_type": "stream",
     "text": [
      "10\n"
     ]
    }
   ],
   "source": [
    "import turtle as t\n",
    "\n",
    "n = int(input()) #사용자의 입력을 받음\n",
    "t.shape('turtle')\n",
    "for i in range(n):\n",
    "    t.forward(100)\n",
    "    t.right(360/n)"
   ]
  },
  {
   "cell_type": "code",
   "execution_count": 42,
   "id": "5f017bbe",
   "metadata": {},
   "outputs": [],
   "source": [
    "n = 6\n",
    "t.shape('turtle')\n",
    "t.color('red')\n",
    "t.begin_fill()\n",
    "for i in range(n):\n",
    "    t.forward(100)\n",
    "    t.right(360/n)\n",
    "t.end_fill()"
   ]
  },
  {
   "cell_type": "markdown",
   "id": "e11244b1",
   "metadata": {},
   "source": [
    "## 21.3 복잡한 도형 그리기"
   ]
  },
  {
   "cell_type": "code",
   "execution_count": 44,
   "id": "25b6fada",
   "metadata": {},
   "outputs": [],
   "source": [
    "import turtle as t\n",
    "t.shape('turtle')\n",
    "t.circle(120)#반지름 120"
   ]
  },
  {
   "cell_type": "markdown",
   "id": "cb8204ee",
   "metadata": {},
   "source": [
    "## 21.3.1 원을 반복해서 그리기"
   ]
  },
  {
   "cell_type": "code",
   "execution_count": 47,
   "id": "c1e962bb",
   "metadata": {},
   "outputs": [],
   "source": [
    "n = 100\n",
    "t.shape('turtle')\n",
    "t.speed('fastest')\n",
    "for i in range(n):\n",
    "    t.circle(120)\n",
    "    t.right(360/n)"
   ]
  },
  {
   "cell_type": "markdown",
   "id": "5932fe3e",
   "metadata": {},
   "source": [
    "## 21.3.2 선으로 복잡한 무늬 그리기"
   ]
  },
  {
   "cell_type": "code",
   "execution_count": 50,
   "id": "acddc2a6",
   "metadata": {},
   "outputs": [],
   "source": [
    "t.color('red')\n",
    "for i in range(300):\n",
    "    t.forward(i)\n",
    "    t.right(91)"
   ]
  },
  {
   "cell_type": "code",
   "execution_count": 49,
   "id": "502b9aec",
   "metadata": {},
   "outputs": [
    {
     "data": {
      "text/plain": [
       "'arrow'"
      ]
     },
     "execution_count": 49,
     "metadata": {},
     "output_type": "execute_result"
    }
   ],
   "source": [
    "import turtle as t\n",
    "\n",
    "t.shape('arrow')    # 화살표 모양 사용\n",
    "t.shape()           # 현재 모양 알아내기\n",
    "\n"
   ]
  },
  {
   "cell_type": "markdown",
   "id": "df3991e1",
   "metadata": {},
   "source": [
    "## 21.5 연습문제"
   ]
  },
  {
   "cell_type": "code",
   "execution_count": 54,
   "id": "660b1cd1",
   "metadata": {},
   "outputs": [],
   "source": [
    "import turtle as t\n",
    "n = 5\n",
    "t.shape('turtle')\n",
    "for i in range(n):\n",
    "    t.forward(100)\n",
    "    t.right((360/n)*2)\n",
    "    t.forward(100)\n",
    "    t.left(360/n)\n",
    "    "
   ]
  },
  {
   "cell_type": "code",
   "execution_count": 55,
   "id": "266d1f7d",
   "metadata": {},
   "outputs": [],
   "source": [
    "import turtle as t"
   ]
  },
  {
   "cell_type": "code",
   "execution_count": null,
   "id": "6db55013",
   "metadata": {},
   "outputs": [],
   "source": []
  }
 ],
 "metadata": {
  "kernelspec": {
   "display_name": "Python 3",
   "language": "python",
   "name": "python3"
  },
  "language_info": {
   "codemirror_mode": {
    "name": "ipython",
    "version": 3
   },
   "file_extension": ".py",
   "mimetype": "text/x-python",
   "name": "python",
   "nbconvert_exporter": "python",
   "pygments_lexer": "ipython3",
   "version": "3.7.10"
  }
 },
 "nbformat": 4,
 "nbformat_minor": 5
}
