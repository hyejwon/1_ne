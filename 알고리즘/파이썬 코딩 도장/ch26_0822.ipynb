{
 "cells": [
  {
   "cell_type": "markdown",
   "id": "3d00cfe0",
   "metadata": {},
   "source": [
    "# 26.1 세트 사용하기  \n",
    "파이썬은 집합을 표현하는 세트라는 자료형을 제공한다  세트는 합집합 교집합 차집합등의 연산이 가능  \n",
    "## 26.1 세트 만들기\n",
    "- 세트 = {값1, 값2, 값3}"
   ]
  },
  {
   "cell_type": "code",
   "execution_count": 1,
   "id": "a2294c76",
   "metadata": {},
   "outputs": [],
   "source": [
    "fruits= {'strawberry', 'grape', 'orange', 'pineapple', 'cherry'}"
   ]
  },
  {
   "cell_type": "code",
   "execution_count": 6,
   "id": "f001066b",
   "metadata": {},
   "outputs": [
    {
     "data": {
      "text/plain": [
       "{'cherry', 'grape', 'orange', 'pineapple', 'strawberry'}"
      ]
     },
     "execution_count": 6,
     "metadata": {},
     "output_type": "execute_result"
    }
   ],
   "source": [
    "fruits"
   ]
  },
  {
   "cell_type": "code",
   "execution_count": 8,
   "id": "62738969",
   "metadata": {},
   "outputs": [
    {
     "data": {
      "text/plain": [
       "{'cherry', 'orange'}"
      ]
     },
     "execution_count": 8,
     "metadata": {},
     "output_type": "execute_result"
    }
   ],
   "source": [
    "#중복될 수 없다\n",
    "fruits = {'orange','orange','cherry'}\n",
    "fruits"
   ]
  },
  {
   "cell_type": "code",
   "execution_count": 9,
   "id": "29d31d26",
   "metadata": {},
   "outputs": [],
   "source": [
    "#세트는 리스트,튜플,딕셔너리와는 달리 [ ] 로 특정 요소만 출력할 수는 없다\n",
    "fruits= {'strawberry', 'grape', 'orange', 'pineapple', 'cherry'}"
   ]
  },
  {
   "cell_type": "code",
   "execution_count": 10,
   "id": "4ce510cb",
   "metadata": {},
   "outputs": [
    {
     "ename": "TypeError",
     "evalue": "'set' object is not subscriptable",
     "output_type": "error",
     "traceback": [
      "\u001b[0;31m---------------------------------------------------------------------------\u001b[0m",
      "\u001b[0;31mTypeError\u001b[0m                                 Traceback (most recent call last)",
      "\u001b[0;32m<ipython-input-10-e0c03951ca61>\u001b[0m in \u001b[0;36m<module>\u001b[0;34m\u001b[0m\n\u001b[0;32m----> 1\u001b[0;31m \u001b[0mprint\u001b[0m\u001b[0;34m(\u001b[0m\u001b[0mfruits\u001b[0m\u001b[0;34m[\u001b[0m\u001b[0;36m0\u001b[0m\u001b[0;34m]\u001b[0m\u001b[0;34m)\u001b[0m\u001b[0;34m\u001b[0m\u001b[0;34m\u001b[0m\u001b[0m\n\u001b[0m",
      "\u001b[0;31mTypeError\u001b[0m: 'set' object is not subscriptable"
     ]
    }
   ],
   "source": [
    "print(fruits[0])"
   ]
  },
  {
   "cell_type": "code",
   "execution_count": 11,
   "id": "8b9c2ebe",
   "metadata": {},
   "outputs": [
    {
     "ename": "TypeError",
     "evalue": "'set' object is not subscriptable",
     "output_type": "error",
     "traceback": [
      "\u001b[0;31m---------------------------------------------------------------------------\u001b[0m",
      "\u001b[0;31mTypeError\u001b[0m                                 Traceback (most recent call last)",
      "\u001b[0;32m<ipython-input-11-4890032afaf5>\u001b[0m in \u001b[0;36m<module>\u001b[0;34m\u001b[0m\n\u001b[0;32m----> 1\u001b[0;31m \u001b[0mfruits\u001b[0m\u001b[0;34m[\u001b[0m\u001b[0;34m'grape'\u001b[0m\u001b[0;34m]\u001b[0m\u001b[0;34m\u001b[0m\u001b[0;34m\u001b[0m\u001b[0m\n\u001b[0m",
      "\u001b[0;31mTypeError\u001b[0m: 'set' object is not subscriptable"
     ]
    }
   ],
   "source": [
    "fruits['grape']"
   ]
  },
  {
   "cell_type": "markdown",
   "id": "9b102b9d",
   "metadata": {},
   "source": [
    "## 26.1.1 세트에 특정 값이 있는지 확인하기\n",
    "- 값 in 세트"
   ]
  },
  {
   "cell_type": "code",
   "execution_count": 12,
   "id": "054e39b2",
   "metadata": {},
   "outputs": [
    {
     "data": {
      "text/plain": [
       "True"
      ]
     },
     "execution_count": 12,
     "metadata": {},
     "output_type": "execute_result"
    }
   ],
   "source": [
    "fruits = {'strawberry','grape','orange','pineapple','cherry'}\n",
    "'orange' in fruits"
   ]
  },
  {
   "cell_type": "code",
   "execution_count": 13,
   "id": "64d83be0",
   "metadata": {},
   "outputs": [
    {
     "data": {
      "text/plain": [
       "False"
      ]
     },
     "execution_count": 13,
     "metadata": {},
     "output_type": "execute_result"
    }
   ],
   "source": [
    "'peach' in fruits\n"
   ]
  },
  {
   "cell_type": "markdown",
   "id": "08af380a",
   "metadata": {},
   "source": [
    "- 값 not in 세트"
   ]
  },
  {
   "cell_type": "code",
   "execution_count": 14,
   "id": "39b5b6fc",
   "metadata": {},
   "outputs": [
    {
     "data": {
      "text/plain": [
       "True"
      ]
     },
     "execution_count": 14,
     "metadata": {},
     "output_type": "execute_result"
    }
   ],
   "source": [
    "'peach' not in fruits"
   ]
  },
  {
   "cell_type": "code",
   "execution_count": 15,
   "id": "074cb46a",
   "metadata": {},
   "outputs": [
    {
     "data": {
      "text/plain": [
       "False"
      ]
     },
     "execution_count": 15,
     "metadata": {},
     "output_type": "execute_result"
    }
   ],
   "source": [
    "'strawberry' not in fruits"
   ]
  },
  {
   "cell_type": "markdown",
   "id": "12792f9e",
   "metadata": {},
   "source": [
    "## 26.1.2 set를 사용하여 세트를 만들기\n",
    "- set(반복가능한 객체)"
   ]
  },
  {
   "cell_type": "code",
   "execution_count": 18,
   "id": "fc7a7719",
   "metadata": {},
   "outputs": [],
   "source": [
    "a = set('apple') #유일한 문자만 세트로 만듦"
   ]
  },
  {
   "cell_type": "code",
   "execution_count": 17,
   "id": "84692abe",
   "metadata": {},
   "outputs": [
    {
     "data": {
      "text/plain": [
       "{'a', 'e', 'l', 'p'}"
      ]
     },
     "execution_count": 17,
     "metadata": {},
     "output_type": "execute_result"
    }
   ],
   "source": [
    "a"
   ]
  },
  {
   "cell_type": "code",
   "execution_count": 19,
   "id": "c549d345",
   "metadata": {},
   "outputs": [],
   "source": [
    "b = set(range(5))"
   ]
  },
  {
   "cell_type": "code",
   "execution_count": 20,
   "id": "0d93e3b6",
   "metadata": {},
   "outputs": [
    {
     "data": {
      "text/plain": [
       "{0, 1, 2, 3, 4}"
      ]
     },
     "execution_count": 20,
     "metadata": {},
     "output_type": "execute_result"
    }
   ],
   "source": [
    "b"
   ]
  },
  {
   "cell_type": "code",
   "execution_count": 24,
   "id": "0ffff2db",
   "metadata": {},
   "outputs": [
    {
     "data": {
      "text/plain": [
       "set"
      ]
     },
     "execution_count": 24,
     "metadata": {},
     "output_type": "execute_result"
    }
   ],
   "source": [
    "#빈 세트 \n",
    "c =set\n",
    "c"
   ]
  },
  {
   "cell_type": "markdown",
   "id": "ed411aa5",
   "metadata": {},
   "source": [
    "- type(객체)"
   ]
  },
  {
   "cell_type": "code",
   "execution_count": 22,
   "id": "5c356878",
   "metadata": {},
   "outputs": [],
   "source": [
    "c = {}"
   ]
  },
  {
   "cell_type": "code",
   "execution_count": 25,
   "id": "65eb21e5",
   "metadata": {},
   "outputs": [
    {
     "data": {
      "text/plain": [
       "type"
      ]
     },
     "execution_count": 25,
     "metadata": {},
     "output_type": "execute_result"
    }
   ],
   "source": [
    "type(c)"
   ]
  },
  {
   "cell_type": "code",
   "execution_count": 26,
   "id": "135bd5b2",
   "metadata": {},
   "outputs": [
    {
     "data": {
      "text/plain": [
       "{'녕', '세', '안', '요', '하'}"
      ]
     },
     "execution_count": 26,
     "metadata": {},
     "output_type": "execute_result"
    }
   ],
   "source": [
    "#한글 문자열을 세트로 만들기\n",
    "set('안녕하세요')"
   ]
  },
  {
   "cell_type": "code",
   "execution_count": 27,
   "id": "c4842048",
   "metadata": {},
   "outputs": [
    {
     "ename": "TypeError",
     "evalue": "unhashable type: 'set'",
     "output_type": "error",
     "traceback": [
      "\u001b[0;31m---------------------------------------------------------------------------\u001b[0m",
      "\u001b[0;31mTypeError\u001b[0m                                 Traceback (most recent call last)",
      "\u001b[0;32m<ipython-input-27-b260fc54ec66>\u001b[0m in \u001b[0;36m<module>\u001b[0;34m\u001b[0m\n\u001b[1;32m      1\u001b[0m \u001b[0;31m#세트 안에 세트 넣기\u001b[0m\u001b[0;34m\u001b[0m\u001b[0;34m\u001b[0m\u001b[0;34m\u001b[0m\u001b[0m\n\u001b[0;32m----> 2\u001b[0;31m \u001b[0ma\u001b[0m \u001b[0;34m=\u001b[0m \u001b[0;34m{\u001b[0m\u001b[0;34m{\u001b[0m\u001b[0;36m1\u001b[0m\u001b[0;34m,\u001b[0m\u001b[0;36m2\u001b[0m\u001b[0;34m}\u001b[0m\u001b[0;34m,\u001b[0m\u001b[0;34m{\u001b[0m\u001b[0;36m3\u001b[0m\u001b[0;34m,\u001b[0m\u001b[0;36m4\u001b[0m\u001b[0;34m}\u001b[0m\u001b[0;34m}\u001b[0m\u001b[0;34m\u001b[0m\u001b[0;34m\u001b[0m\u001b[0m\n\u001b[0m",
      "\u001b[0;31mTypeError\u001b[0m: unhashable type: 'set'"
     ]
    }
   ],
   "source": [
    "#세트 안에 세트 넣기 ->불가\n",
    "a = {{1,2},{3,4}}"
   ]
  },
  {
   "cell_type": "code",
   "execution_count": 29,
   "id": "480858f4",
   "metadata": {},
   "outputs": [
    {
     "data": {
      "text/plain": [
       "frozenset({0, 1, 2, 3, 4, 5, 6, 7, 8, 9})"
      ]
     },
     "execution_count": 29,
     "metadata": {},
     "output_type": "execute_result"
    }
   ],
   "source": [
    "#프로즌 세트\n",
    "\n",
    "#프로즌세트 = frozenset(반복가능한객체)\n",
    "\n",
    "a = frozenset(range(10))\n",
    "a"
   ]
  },
  {
   "cell_type": "code",
   "execution_count": 31,
   "id": "0d235e39",
   "metadata": {},
   "outputs": [
    {
     "data": {
      "text/plain": [
       "frozenset({frozenset({3, 4}), frozenset({1, 2})})"
      ]
     },
     "execution_count": 31,
     "metadata": {},
     "output_type": "execute_result"
    }
   ],
   "source": [
    "#프로즌 세트는 중첩이 가능 \n",
    "frozenset({frozenset({1, 2}), frozenset({3, 4})})"
   ]
  },
  {
   "cell_type": "markdown",
   "id": "e257bcf9",
   "metadata": {},
   "source": [
    "## 26.2 집합 연산 사용하기\n",
    "합집합\n",
    "- 세트1 | 세트2\n",
    "- set.union(세트1,세트2)"
   ]
  },
  {
   "cell_type": "code",
   "execution_count": 32,
   "id": "72896876",
   "metadata": {},
   "outputs": [
    {
     "data": {
      "text/plain": [
       "{1, 2, 3, 4, 5, 6}"
      ]
     },
     "execution_count": 32,
     "metadata": {},
     "output_type": "execute_result"
    }
   ],
   "source": [
    "a = {1,2,3,4}\n",
    "b = {3,4,5,6}\n",
    "a | b"
   ]
  },
  {
   "cell_type": "code",
   "execution_count": 33,
   "id": "245af21b",
   "metadata": {},
   "outputs": [
    {
     "data": {
      "text/plain": [
       "{1, 2, 3, 4, 5, 6}"
      ]
     },
     "execution_count": 33,
     "metadata": {},
     "output_type": "execute_result"
    }
   ],
   "source": [
    "set.union(a,b)"
   ]
  },
  {
   "cell_type": "markdown",
   "id": "c3d09990",
   "metadata": {},
   "source": [
    "교집합  \n",
    "- a & b\n",
    "- set.intersection(세트1,세트2)"
   ]
  },
  {
   "cell_type": "code",
   "execution_count": 34,
   "id": "4d183233",
   "metadata": {},
   "outputs": [
    {
     "data": {
      "text/plain": [
       "{3, 4}"
      ]
     },
     "execution_count": 34,
     "metadata": {},
     "output_type": "execute_result"
    }
   ],
   "source": [
    "a&b"
   ]
  },
  {
   "cell_type": "code",
   "execution_count": 35,
   "id": "37aade2d",
   "metadata": {},
   "outputs": [
    {
     "data": {
      "text/plain": [
       "{3, 4}"
      ]
     },
     "execution_count": 35,
     "metadata": {},
     "output_type": "execute_result"
    }
   ],
   "source": [
    "set.intersection(a,b)"
   ]
  },
  {
   "cell_type": "markdown",
   "id": "bed8af03",
   "metadata": {},
   "source": [
    "차집합  \n",
    "- 세트1 - 세트2\n",
    "- set.difference(a,b)"
   ]
  },
  {
   "cell_type": "code",
   "execution_count": 36,
   "id": "8765cd91",
   "metadata": {},
   "outputs": [
    {
     "data": {
      "text/plain": [
       "{1, 2}"
      ]
     },
     "execution_count": 36,
     "metadata": {},
     "output_type": "execute_result"
    }
   ],
   "source": [
    "a-b"
   ]
  },
  {
   "cell_type": "code",
   "execution_count": 37,
   "id": "ad4c3bd5",
   "metadata": {},
   "outputs": [
    {
     "data": {
      "text/plain": [
       "{1, 2}"
      ]
     },
     "execution_count": 37,
     "metadata": {},
     "output_type": "execute_result"
    }
   ],
   "source": [
    "set.difference(a,b)"
   ]
  },
  {
   "cell_type": "markdown",
   "id": "ec42b33e",
   "metadata": {},
   "source": [
    "대칭차집합  \n",
    "- 세트1 ^ 세트2\n",
    "- set.symmetric_difference(세트1,세트2)"
   ]
  },
  {
   "cell_type": "code",
   "execution_count": 38,
   "id": "e532f1cf",
   "metadata": {},
   "outputs": [
    {
     "data": {
      "text/plain": [
       "{1, 2, 5, 6}"
      ]
     },
     "execution_count": 38,
     "metadata": {},
     "output_type": "execute_result"
    }
   ],
   "source": [
    "a^b"
   ]
  },
  {
   "cell_type": "code",
   "execution_count": 39,
   "id": "a4bb1c2b",
   "metadata": {},
   "outputs": [
    {
     "data": {
      "text/plain": [
       "{1, 2, 5, 6}"
      ]
     },
     "execution_count": 39,
     "metadata": {},
     "output_type": "execute_result"
    }
   ],
   "source": [
    "set.symmetric_difference(a,b)"
   ]
  },
  {
   "cell_type": "markdown",
   "id": "089d6026",
   "metadata": {},
   "source": [
    "## 26.2.1 집합 연산 후 할당 연산자 사용하기\n",
    "- 세트1 |= 세트2\n",
    "- 세트1.update(세트2)"
   ]
  },
  {
   "cell_type": "code",
   "execution_count": 40,
   "id": "8ff55fa0",
   "metadata": {},
   "outputs": [],
   "source": [
    "a = {1, 2, 3, 4}"
   ]
  },
  {
   "cell_type": "code",
   "execution_count": 41,
   "id": "f9c864ac",
   "metadata": {},
   "outputs": [],
   "source": [
    "a |= {5}"
   ]
  },
  {
   "cell_type": "code",
   "execution_count": 42,
   "id": "6bd4deff",
   "metadata": {},
   "outputs": [
    {
     "data": {
      "text/plain": [
       "{1, 2, 3, 4, 5}"
      ]
     },
     "execution_count": 42,
     "metadata": {},
     "output_type": "execute_result"
    }
   ],
   "source": [
    "a"
   ]
  },
  {
   "cell_type": "code",
   "execution_count": 43,
   "id": "03ae951b",
   "metadata": {},
   "outputs": [],
   "source": [
    "a = {1, 2, 3, 4}"
   ]
  },
  {
   "cell_type": "code",
   "execution_count": 44,
   "id": "3d931e8d",
   "metadata": {},
   "outputs": [],
   "source": [
    "a.update({5})"
   ]
  },
  {
   "cell_type": "code",
   "execution_count": 45,
   "id": "6abf7320",
   "metadata": {},
   "outputs": [
    {
     "data": {
      "text/plain": [
       "{1, 2, 3, 4, 5}"
      ]
     },
     "execution_count": 45,
     "metadata": {},
     "output_type": "execute_result"
    }
   ],
   "source": [
    "a"
   ]
  },
  {
   "cell_type": "markdown",
   "id": "44f877e2",
   "metadata": {},
   "source": [
    "&=  \n",
    "- 세트1 &= 세트2\n",
    "- 세트1.intersection_update(세트2)"
   ]
  },
  {
   "cell_type": "code",
   "execution_count": 46,
   "id": "46f12774",
   "metadata": {},
   "outputs": [],
   "source": [
    "a = {1,2,3,4}\n",
    "a &= {0,1,2,3,4}"
   ]
  },
  {
   "cell_type": "code",
   "execution_count": 47,
   "id": "51907b1e",
   "metadata": {},
   "outputs": [
    {
     "data": {
      "text/plain": [
       "{1, 2, 3, 4}"
      ]
     },
     "execution_count": 47,
     "metadata": {},
     "output_type": "execute_result"
    }
   ],
   "source": [
    "a"
   ]
  },
  {
   "cell_type": "code",
   "execution_count": 48,
   "id": "8df0ac41",
   "metadata": {},
   "outputs": [],
   "source": [
    "a = {1, 2, 3, 4}"
   ]
  },
  {
   "cell_type": "code",
   "execution_count": 49,
   "id": "4049f9a2",
   "metadata": {},
   "outputs": [],
   "source": [
    "a.intersection_update({0,1,2,3,4})"
   ]
  },
  {
   "cell_type": "code",
   "execution_count": 50,
   "id": "c0feacb3",
   "metadata": {},
   "outputs": [
    {
     "data": {
      "text/plain": [
       "{1, 2, 3, 4}"
      ]
     },
     "execution_count": 50,
     "metadata": {},
     "output_type": "execute_result"
    }
   ],
   "source": [
    "a"
   ]
  },
  {
   "cell_type": "markdown",
   "id": "c8517474",
   "metadata": {},
   "source": [
    "-=  \n",
    "- 세트1 -= 세트2\n",
    "- 세트1.difference_update(세트2)"
   ]
  },
  {
   "cell_type": "code",
   "execution_count": 51,
   "id": "0153afb4",
   "metadata": {},
   "outputs": [],
   "source": [
    "a = {1,2,3,4}\n",
    "a -= {3}"
   ]
  },
  {
   "cell_type": "code",
   "execution_count": 52,
   "id": "6527138b",
   "metadata": {},
   "outputs": [
    {
     "data": {
      "text/plain": [
       "{1, 2, 4}"
      ]
     },
     "execution_count": 52,
     "metadata": {},
     "output_type": "execute_result"
    }
   ],
   "source": [
    "a"
   ]
  },
  {
   "cell_type": "code",
   "execution_count": 53,
   "id": "f8bfd0fb",
   "metadata": {},
   "outputs": [],
   "source": [
    "a = {1,2,3,4}"
   ]
  },
  {
   "cell_type": "code",
   "execution_count": 54,
   "id": "52e1c3a1",
   "metadata": {},
   "outputs": [],
   "source": [
    "a.difference_update({3})"
   ]
  },
  {
   "cell_type": "code",
   "execution_count": 55,
   "id": "00bd6061",
   "metadata": {},
   "outputs": [
    {
     "data": {
      "text/plain": [
       "{1, 2, 4}"
      ]
     },
     "execution_count": 55,
     "metadata": {},
     "output_type": "execute_result"
    }
   ],
   "source": [
    "a"
   ]
  },
  {
   "cell_type": "markdown",
   "id": "f86cdc3e",
   "metadata": {},
   "source": [
    "^=  \n",
    "- 세트1 ^= 세트2\n",
    "- 세트1.symmetric_difference_update(세트2)"
   ]
  },
  {
   "cell_type": "code",
   "execution_count": 56,
   "id": "ea47aed4",
   "metadata": {},
   "outputs": [
    {
     "data": {
      "text/plain": [
       "{1, 2, 5, 6}"
      ]
     },
     "execution_count": 56,
     "metadata": {},
     "output_type": "execute_result"
    }
   ],
   "source": [
    "a = {1,2,3,4}\n",
    "a ^= {3,4,5,6}\n",
    "a"
   ]
  },
  {
   "cell_type": "code",
   "execution_count": 57,
   "id": "3dcda87c",
   "metadata": {},
   "outputs": [],
   "source": [
    "a.symmetric_difference_update({3,4,5,6})"
   ]
  },
  {
   "cell_type": "code",
   "execution_count": 58,
   "id": "3c388f98",
   "metadata": {},
   "outputs": [
    {
     "data": {
      "text/plain": [
       "{1, 2, 3, 4}"
      ]
     },
     "execution_count": 58,
     "metadata": {},
     "output_type": "execute_result"
    }
   ],
   "source": [
    "a"
   ]
  },
  {
   "cell_type": "markdown",
   "id": "605a34c3",
   "metadata": {},
   "source": [
    "## 26.2.2 부분집합과 상위집합 확인하기\n",
    "세트는 부분집합, 진부분집합, 상위집합, 진상위집합과 같이 속하는 관계를 표현할 수도 있습니다. 현재 세트가 다른 세트의 (진)부분집합 또는 (진)상위집합인지 확인할 때는 세트 자료형에 부등호와 등호 사용합니다.\n",
    "\n",
    "<=은 현재 세트가 다른 세트의 부분집합(subset)인지 확인하며 issubset 메서드와 같습니다. 다음은 세트 {1, 2, 3, 4}가 {1, 2, 3, 4}의 부분집합이므로 참입니다(등호가 있으므로 두 세트가 같을 때도 참입니다).\n",
    "\n",
    "- 현재세트 <= 다른세트\n",
    "- 현재세트.issubset(다른세트)"
   ]
  },
  {
   "cell_type": "code",
   "execution_count": 59,
   "id": "dbdda650",
   "metadata": {},
   "outputs": [
    {
     "data": {
      "text/plain": [
       "True"
      ]
     },
     "execution_count": 59,
     "metadata": {},
     "output_type": "execute_result"
    }
   ],
   "source": [
    "a = {1,2,3,4}\n",
    "a <= {1,2,3,4}"
   ]
  },
  {
   "cell_type": "code",
   "execution_count": 60,
   "id": "26d9b2a3",
   "metadata": {},
   "outputs": [
    {
     "data": {
      "text/plain": [
       "True"
      ]
     },
     "execution_count": 60,
     "metadata": {},
     "output_type": "execute_result"
    }
   ],
   "source": [
    "a.issubset({1, 2, 3, 4, 5})"
   ]
  },
  {
   "cell_type": "code",
   "execution_count": 61,
   "id": "6ab0beb8",
   "metadata": {},
   "outputs": [
    {
     "data": {
      "text/plain": [
       "True"
      ]
     },
     "execution_count": 61,
     "metadata": {},
     "output_type": "execute_result"
    }
   ],
   "source": [
    "#진부분집합\n",
    "a= {1,2,3,4}\n",
    "a < {1,2,3,4,5}"
   ]
  },
  {
   "cell_type": "code",
   "execution_count": 63,
   "id": "b43634c0",
   "metadata": {},
   "outputs": [
    {
     "data": {
      "text/plain": [
       "True"
      ]
     },
     "execution_count": 63,
     "metadata": {},
     "output_type": "execute_result"
    }
   ],
   "source": [
    "#상위집합\n",
    "a = {1,2,3,4}\n",
    "a >= {1,2,3,4}"
   ]
  },
  {
   "cell_type": "code",
   "execution_count": 64,
   "id": "9ffb3bc6",
   "metadata": {},
   "outputs": [
    {
     "data": {
      "text/plain": [
       "True"
      ]
     },
     "execution_count": 64,
     "metadata": {},
     "output_type": "execute_result"
    }
   ],
   "source": [
    "a.issuperset({1, 2, 3, 4})"
   ]
  },
  {
   "cell_type": "code",
   "execution_count": 65,
   "id": "b751f3cb",
   "metadata": {},
   "outputs": [
    {
     "data": {
      "text/plain": [
       "True"
      ]
     },
     "execution_count": 65,
     "metadata": {},
     "output_type": "execute_result"
    }
   ],
   "source": [
    "a= {1,2,3,4}\n",
    "a>{1,2,3}"
   ]
  },
  {
   "cell_type": "markdown",
   "id": "6145f477",
   "metadata": {},
   "source": [
    "## 26.2.3 세트가 같은지 다른지 확인하기"
   ]
  },
  {
   "cell_type": "code",
   "execution_count": 66,
   "id": "4d0a944e",
   "metadata": {},
   "outputs": [],
   "source": [
    "a = {1,2,3,4}\n",
    "a = {1,2,3,4}"
   ]
  },
  {
   "cell_type": "code",
   "execution_count": 67,
   "id": "86607e94",
   "metadata": {},
   "outputs": [
    {
     "data": {
      "text/plain": [
       "True"
      ]
     },
     "execution_count": 67,
     "metadata": {},
     "output_type": "execute_result"
    }
   ],
   "source": [
    "a == {4,2,1,3}"
   ]
  },
  {
   "cell_type": "code",
   "execution_count": 69,
   "id": "d2b05fbf",
   "metadata": {},
   "outputs": [
    {
     "data": {
      "text/plain": [
       "True"
      ]
     },
     "execution_count": 69,
     "metadata": {},
     "output_type": "execute_result"
    }
   ],
   "source": [
    "a = {1,2,3,4}\n",
    "a != {1,2,3}"
   ]
  },
  {
   "cell_type": "markdown",
   "id": "4c1fca75",
   "metadata": {},
   "source": [
    "## 26.2.4 세트가 겹치지 않는지 확인하기"
   ]
  },
  {
   "cell_type": "code",
   "execution_count": 70,
   "id": "8c34210d",
   "metadata": {},
   "outputs": [
    {
     "data": {
      "text/plain": [
       "True"
      ]
     },
     "execution_count": 70,
     "metadata": {},
     "output_type": "execute_result"
    }
   ],
   "source": [
    "a = {1,2,3,4}\n",
    "a.isdisjoint({5,6,7,8})"
   ]
  },
  {
   "cell_type": "code",
   "execution_count": 71,
   "id": "be165b91",
   "metadata": {},
   "outputs": [
    {
     "data": {
      "text/plain": [
       "False"
      ]
     },
     "execution_count": 71,
     "metadata": {},
     "output_type": "execute_result"
    }
   ],
   "source": [
    "a.isdisjoint({3,4,5,6})"
   ]
  },
  {
   "cell_type": "markdown",
   "id": "08c09667",
   "metadata": {},
   "source": [
    "## 26.3 세트 조작하기\n",
    "## 26.3.1 세트에 요소 추가하기"
   ]
  },
  {
   "cell_type": "code",
   "execution_count": 73,
   "id": "31cc6214",
   "metadata": {},
   "outputs": [],
   "source": [
    "a = {1,2,3,4}\n",
    "a.add(5)"
   ]
  },
  {
   "cell_type": "code",
   "execution_count": 74,
   "id": "7b4a1d01",
   "metadata": {},
   "outputs": [
    {
     "data": {
      "text/plain": [
       "{1, 2, 3, 4, 5}"
      ]
     },
     "execution_count": 74,
     "metadata": {},
     "output_type": "execute_result"
    }
   ],
   "source": [
    "a"
   ]
  },
  {
   "cell_type": "markdown",
   "id": "8ba143bb",
   "metadata": {},
   "source": [
    "## 26.3.2 세트에서 특정 요소를 삭제하기"
   ]
  },
  {
   "cell_type": "code",
   "execution_count": 75,
   "id": "27b70c1e",
   "metadata": {},
   "outputs": [],
   "source": [
    "a.remove(3)"
   ]
  },
  {
   "cell_type": "code",
   "execution_count": 76,
   "id": "bab4beab",
   "metadata": {},
   "outputs": [
    {
     "data": {
      "text/plain": [
       "{1, 2, 4, 5}"
      ]
     },
     "execution_count": 76,
     "metadata": {},
     "output_type": "execute_result"
    }
   ],
   "source": [
    "a"
   ]
  },
  {
   "cell_type": "code",
   "execution_count": 77,
   "id": "6c43e491",
   "metadata": {},
   "outputs": [],
   "source": [
    "a.discard(2)"
   ]
  },
  {
   "cell_type": "code",
   "execution_count": 78,
   "id": "19378288",
   "metadata": {},
   "outputs": [
    {
     "data": {
      "text/plain": [
       "{1, 4, 5}"
      ]
     },
     "execution_count": 78,
     "metadata": {},
     "output_type": "execute_result"
    }
   ],
   "source": [
    "a"
   ]
  },
  {
   "cell_type": "code",
   "execution_count": 81,
   "id": "83de2258",
   "metadata": {},
   "outputs": [],
   "source": [
    "a.discard(3)#특정 요소를 삭제하고 요소가 없으면 그냥 넘어감"
   ]
  },
  {
   "cell_type": "code",
   "execution_count": 80,
   "id": "b7591c55",
   "metadata": {},
   "outputs": [
    {
     "data": {
      "text/plain": [
       "{1, 4, 5}"
      ]
     },
     "execution_count": 80,
     "metadata": {},
     "output_type": "execute_result"
    }
   ],
   "source": [
    "a"
   ]
  },
  {
   "cell_type": "markdown",
   "id": "1ce8e46d",
   "metadata": {},
   "source": [
    "## 26.3.3 세트에서 임의의 요소 삭제하기"
   ]
  },
  {
   "cell_type": "code",
   "execution_count": 82,
   "id": "1f569354",
   "metadata": {},
   "outputs": [
    {
     "data": {
      "text/plain": [
       "1"
      ]
     },
     "execution_count": 82,
     "metadata": {},
     "output_type": "execute_result"
    }
   ],
   "source": [
    "a = {1,2,3,4}\n",
    "a.pop()"
   ]
  },
  {
   "cell_type": "code",
   "execution_count": 83,
   "id": "b09aaadd",
   "metadata": {},
   "outputs": [
    {
     "data": {
      "text/plain": [
       "{2, 3, 4}"
      ]
     },
     "execution_count": 83,
     "metadata": {},
     "output_type": "execute_result"
    }
   ],
   "source": [
    "a"
   ]
  },
  {
   "cell_type": "markdown",
   "id": "164c9082",
   "metadata": {},
   "source": [
    "## 26.3.3 세트에서 모든 요소 삭제하기"
   ]
  },
  {
   "cell_type": "code",
   "execution_count": 84,
   "id": "bf7940eb",
   "metadata": {},
   "outputs": [],
   "source": [
    "a.clear()"
   ]
  },
  {
   "cell_type": "code",
   "execution_count": 85,
   "id": "309f01c4",
   "metadata": {},
   "outputs": [
    {
     "data": {
      "text/plain": [
       "set()"
      ]
     },
     "execution_count": 85,
     "metadata": {},
     "output_type": "execute_result"
    }
   ],
   "source": [
    "a"
   ]
  },
  {
   "cell_type": "markdown",
   "id": "a69a6411",
   "metadata": {},
   "source": [
    "## 26.3.5 세트의 요소 개수 구하기"
   ]
  },
  {
   "cell_type": "code",
   "execution_count": 86,
   "id": "669d513c",
   "metadata": {},
   "outputs": [
    {
     "data": {
      "text/plain": [
       "4"
      ]
     },
     "execution_count": 86,
     "metadata": {},
     "output_type": "execute_result"
    }
   ],
   "source": [
    "a= {1,2,3,4}\n",
    "len(a)"
   ]
  },
  {
   "cell_type": "markdown",
   "id": "f86aba18",
   "metadata": {},
   "source": [
    "## 26.4 세트의 할당과 복사"
   ]
  },
  {
   "cell_type": "code",
   "execution_count": 87,
   "id": "cc08ca99",
   "metadata": {},
   "outputs": [],
   "source": [
    "a = {1,2,3,4}\n",
    "b=a"
   ]
  },
  {
   "cell_type": "code",
   "execution_count": 88,
   "id": "8ddec92c",
   "metadata": {},
   "outputs": [
    {
     "data": {
      "text/plain": [
       "{1, 2, 3, 4}"
      ]
     },
     "execution_count": 88,
     "metadata": {},
     "output_type": "execute_result"
    }
   ],
   "source": [
    "a"
   ]
  },
  {
   "cell_type": "code",
   "execution_count": 89,
   "id": "d91b2005",
   "metadata": {},
   "outputs": [
    {
     "data": {
      "text/plain": [
       "{1, 2, 3, 4}"
      ]
     },
     "execution_count": 89,
     "metadata": {},
     "output_type": "execute_result"
    }
   ],
   "source": [
    "b"
   ]
  },
  {
   "cell_type": "code",
   "execution_count": 90,
   "id": "6e6696b2",
   "metadata": {},
   "outputs": [
    {
     "data": {
      "text/plain": [
       "True"
      ]
     },
     "execution_count": 90,
     "metadata": {},
     "output_type": "execute_result"
    }
   ],
   "source": [
    "a is b"
   ]
  },
  {
   "cell_type": "code",
   "execution_count": 91,
   "id": "8bb1e021",
   "metadata": {},
   "outputs": [],
   "source": [
    "b.add(5)"
   ]
  },
  {
   "cell_type": "code",
   "execution_count": 92,
   "id": "dc727783",
   "metadata": {},
   "outputs": [
    {
     "data": {
      "text/plain": [
       "{1, 2, 3, 4, 5}"
      ]
     },
     "execution_count": 92,
     "metadata": {},
     "output_type": "execute_result"
    }
   ],
   "source": [
    "a"
   ]
  },
  {
   "cell_type": "code",
   "execution_count": 93,
   "id": "2260e925",
   "metadata": {},
   "outputs": [
    {
     "data": {
      "text/plain": [
       "{1, 2, 3, 4, 5}"
      ]
     },
     "execution_count": 93,
     "metadata": {},
     "output_type": "execute_result"
    }
   ],
   "source": [
    "b"
   ]
  },
  {
   "cell_type": "code",
   "execution_count": 94,
   "id": "d77050a0",
   "metadata": {},
   "outputs": [],
   "source": [
    "a ={1,2,3,4}\n",
    "b = a.copy()"
   ]
  },
  {
   "cell_type": "code",
   "execution_count": 95,
   "id": "5836670e",
   "metadata": {},
   "outputs": [
    {
     "data": {
      "text/plain": [
       "False"
      ]
     },
     "execution_count": 95,
     "metadata": {},
     "output_type": "execute_result"
    }
   ],
   "source": [
    "a is b"
   ]
  },
  {
   "cell_type": "code",
   "execution_count": 96,
   "id": "f6f64d93",
   "metadata": {},
   "outputs": [
    {
     "data": {
      "text/plain": [
       "True"
      ]
     },
     "execution_count": 96,
     "metadata": {},
     "output_type": "execute_result"
    }
   ],
   "source": [
    "a == b"
   ]
  },
  {
   "cell_type": "code",
   "execution_count": 97,
   "id": "1f0cbbdc",
   "metadata": {},
   "outputs": [],
   "source": [
    "a = {1,2,3,4}\n",
    "b =a.copy()\n",
    "b.add(5)"
   ]
  },
  {
   "cell_type": "code",
   "execution_count": 98,
   "id": "504bde21",
   "metadata": {},
   "outputs": [
    {
     "data": {
      "text/plain": [
       "{1, 2, 3, 4}"
      ]
     },
     "execution_count": 98,
     "metadata": {},
     "output_type": "execute_result"
    }
   ],
   "source": [
    "a"
   ]
  },
  {
   "cell_type": "code",
   "execution_count": 99,
   "id": "9b6d6049",
   "metadata": {},
   "outputs": [
    {
     "data": {
      "text/plain": [
       "{1, 2, 3, 4, 5}"
      ]
     },
     "execution_count": 99,
     "metadata": {},
     "output_type": "execute_result"
    }
   ],
   "source": [
    "b"
   ]
  },
  {
   "cell_type": "markdown",
   "id": "968c4414",
   "metadata": {},
   "source": [
    "## 26.5 반복문으로 세트의 요소를 모두 출력하기"
   ]
  },
  {
   "cell_type": "code",
   "execution_count": 100,
   "id": "9ff4d859",
   "metadata": {},
   "outputs": [
    {
     "name": "stdout",
     "output_type": "stream",
     "text": [
      "1\n",
      "2\n",
      "3\n",
      "4\n"
     ]
    }
   ],
   "source": [
    "a = {1,2,3,4}\n",
    "\n",
    "for i in a:\n",
    "    print(i)"
   ]
  },
  {
   "cell_type": "code",
   "execution_count": 101,
   "id": "954218b5",
   "metadata": {},
   "outputs": [
    {
     "name": "stdout",
     "output_type": "stream",
     "text": [
      "1\n",
      "2\n",
      "3\n",
      "4\n"
     ]
    }
   ],
   "source": [
    "for i in {1,2,3,4}:\n",
    "    print(i)"
   ]
  },
  {
   "cell_type": "markdown",
   "id": "ac73ec9b",
   "metadata": {},
   "source": [
    "## 26.6 세트 표현식 사용하기\n",
    "- {식 for 변수 in 반복가능한객체}\n",
    "- set(식 for 변수 in 반복가능한객체)"
   ]
  },
  {
   "cell_type": "code",
   "execution_count": 102,
   "id": "2fa04792",
   "metadata": {},
   "outputs": [],
   "source": [
    "a = {i for i in 'apple'}"
   ]
  },
  {
   "cell_type": "code",
   "execution_count": 103,
   "id": "6798ca0d",
   "metadata": {},
   "outputs": [
    {
     "data": {
      "text/plain": [
       "{'a', 'e', 'l', 'p'}"
      ]
     },
     "execution_count": 103,
     "metadata": {},
     "output_type": "execute_result"
    }
   ],
   "source": [
    "a #중복된 문자 제거"
   ]
  },
  {
   "cell_type": "markdown",
   "id": "005d1d18",
   "metadata": {},
   "source": [
    "## 26.6.1 세트 표현식에 if 조건문 사용하기\n",
    "- {식 for 변수 in 세트 if 조건식}\n",
    "- set(식 for 변수 in 세트 if 조건식)"
   ]
  },
  {
   "cell_type": "code",
   "execution_count": 104,
   "id": "d511e67a",
   "metadata": {},
   "outputs": [],
   "source": [
    "a = {i for i in 'pineapple' if i not in 'apl'} "
   ]
  },
  {
   "cell_type": "code",
   "execution_count": 105,
   "id": "0677b6be",
   "metadata": {},
   "outputs": [
    {
     "data": {
      "text/plain": [
       "{'e', 'i', 'n'}"
      ]
     },
     "execution_count": 105,
     "metadata": {},
     "output_type": "execute_result"
    }
   ],
   "source": [
    "a #문자열 'pineapple'에서 'a,'p','l'을 제외한 문자들로 세트 생성"
   ]
  },
  {
   "cell_type": "markdown",
   "id": "fe21fb89",
   "metadata": {},
   "source": [
    "if i not in 'apl'은 {i for i in 'pineapple' if i != 'a' and i != 'p' and i != 'l'}과 같이 문자를 하나씩 비교하고 and로 연결하는 if 조건문과 같습니다."
   ]
  },
  {
   "cell_type": "markdown",
   "id": "6c298c1a",
   "metadata": {},
   "source": [
    "## 26.8 연습문제: 공배수 구하기"
   ]
  },
  {
   "cell_type": "code",
   "execution_count": 107,
   "id": "04d495fe",
   "metadata": {},
   "outputs": [
    {
     "name": "stdout",
     "output_type": "stream",
     "text": [
      "{75, 45, 15, 90, 60, 30}\n"
     ]
    }
   ],
   "source": [
    "a = {i for i in range(1,101) if i %3 ==0}\n",
    "b ={i for i in range(1,101) if i %5 ==0}\n",
    "print(a&b)"
   ]
  },
  {
   "cell_type": "code",
   "execution_count": null,
   "id": "373de9ed",
   "metadata": {},
   "outputs": [],
   "source": []
  }
 ],
 "metadata": {
  "kernelspec": {
   "display_name": "Python 3",
   "language": "python",
   "name": "python3"
  },
  "language_info": {
   "codemirror_mode": {
    "name": "ipython",
    "version": 3
   },
   "file_extension": ".py",
   "mimetype": "text/x-python",
   "name": "python",
   "nbconvert_exporter": "python",
   "pygments_lexer": "ipython3",
   "version": "3.7.10"
  }
 },
 "nbformat": 4,
 "nbformat_minor": 5
}
