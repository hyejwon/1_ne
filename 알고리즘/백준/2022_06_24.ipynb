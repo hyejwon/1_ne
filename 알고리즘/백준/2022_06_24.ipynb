{
  "nbformat": 4,
  "nbformat_minor": 0,
  "metadata": {
    "colab": {
      "name": "2022_06_24.ipynb",
      "private_outputs": true,
      "provenance": []
    },
    "kernelspec": {
      "name": "python3",
      "display_name": "Python 3"
    },
    "language_info": {
      "name": "python"
    }
  },
  "cells": [
    {
      "cell_type": "code",
      "execution_count": null,
      "metadata": {
        "id": "ohUTUW1cwMJh"
      },
      "outputs": [],
      "source": [
        "\"\"\"\n",
        "4963.섬의 개수 \n",
        "\"\"\"\n",
        "import sys\n",
        "read = sys.stdin.readline\n",
        "sys.setrecursionlimit(10000)\n",
        "\n",
        "def dfs(x, y):\n",
        "  dx = [1, 1, -1, -1, 1, -1, 0, 0] #대각선 구현하기\n",
        "  dy = [0, 1, 0, 1, -1, -1, 1, -1] #대각선 좌표 구현 \n",
        "\n",
        "  field[x][y] = 0\n",
        "  for i in range(8):\n",
        "    nx = x + dx[i]\n",
        "    ny = y + dy[i]\n",
        "    if 0 <= nx < h and 0 <= ny < w and field[nx][ny] == 1:\n",
        "      dfs(nx, ny)\n",
        "\n",
        "while True:\n",
        "  w, h = map(int, read().split())\n",
        "  if w == 0 and h == 0:\n",
        "    break\n",
        "  field = []\n",
        "  count = 0\n",
        "  for _ in range(h):\n",
        "    field.append(list(map(int, read().split())))\n",
        "  for i in range(h):\n",
        "    for j in range(w):\n",
        "      if field[i][j] == 1:\n",
        "        dfs(i, j)\n",
        "        count += 1\n",
        "  \n",
        "  print(count)\n",
        "\n",
        "\n",
        "\n",
        "\n"
      ]
    }
  ]
}