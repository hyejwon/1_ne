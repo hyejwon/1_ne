{
 "cells": [
  {
   "cell_type": "markdown",
   "id": "29342c9e",
   "metadata": {},
   "source": [
    "## 2810\n",
    "십년이면 강산이 변한다.\n",
    "\n",
    "강산이네 동네에 드디어 극장이 생겼고, 강산이는 극장에 놀러갔다. 매점에서 콜라를 산 뒤, 자리에 앉은 강산이는 큰 혼란에 빠졌다. 양쪽 컵홀더를 이미 옆 사람들이 차지했기 때문에 콜라를 꽂을 컵 홀더가 없었기 때문이다. 영화를 보는 내내 콜라를 손에 들고 있던 강산이는 극장에 다시 왔을 때는 꼭 콜라를 컵 홀더에 놓겠다는 다짐을 한 후 집에 돌아갔다.\n",
    "\n",
    "극장의 한 줄에는 자리가 N개가 있다. 서로 인접한 좌석 사이에는 컵홀더가 하나씩 있고, 양 끝 좌석에는 컵홀더가 하나씩 더 있다. 또, 이 극장에는 커플석이 있다. 커플석 사이에는 컵홀더가 없다.\n",
    "\n",
    "극장의 한 줄의 정보가 주어진다. 이때, 이 줄에 사람들이 모두 앉았을 때, 컵홀더에 컵을 꽂을 수 있는 최대 사람의 수를 구하는 프로그램을 작성하시오. 모든 사람은 컵을 한 개만 들고 있고, 자신의 좌석의 양 옆에 있는 컵홀더에만 컵을 꽂을 수 있다.\n",
    "\n",
    "S는 일반 좌석, L은 커플석을 의미하며, L은 항상 두개씩 쌍으로 주어진다.\n",
    "\n",
    "어떤 좌석의 배치가 SLLLLSSLL일때, 컵홀더를 *로 표시하면 아래와 같다.\n"
   ]
  },
  {
   "cell_type": "code",
   "execution_count": 1,
   "id": "c98376fb",
   "metadata": {},
   "outputs": [
    {
     "name": "stdout",
     "output_type": "stream",
     "text": [
      "3\n",
      "SSS\n",
      "3\n"
     ]
    }
   ],
   "source": [
    "N = int(input())\n",
    "member = input()\n",
    "\n",
    "count = member.count('LL')\n",
    "\n",
    "if (count <= 1):\n",
    "    print(len(member))\n",
    "\n",
    "else:\n",
    "    print(len(member) - count + 1)"
   ]
  },
  {
   "cell_type": "markdown",
   "id": "bb2c911a",
   "metadata": {},
   "source": [
    "## 19564"
   ]
  },
  {
   "cell_type": "markdown",
   "id": "d88fc90b",
   "metadata": {},
   "source": [
    "muse는 네이버 카페에 글을 올리려고 한다. 하지만 키보드가 고장나서, 어떤 키를 누르든 abcdefghijklmnopqrstuvwxyz가 입력된다!\n",
    "\n",
    "muse는 글을 올리고 싶지만, 원하는 글을 쓰기 위해서는 아래와 같은 작업을 해야 한다.\n",
    "\n",
    "abcdefghijklmnopqrstuvwxyz를 $K$번 반복해서 입력한다.\n",
    "원하는 글자를 마우스로 지워, 최종 글을 완성한다.\n",
    "muse는 많은 글자를 지우는 일이 귀찮기 때문에, $K$를 최소화하려 한다. muse가 원하는 글을 입력하려면 abcdefghijklmnopqrstuvwxyz를 몇 번 입력해야 하는지 구해 주자."
   ]
  },
  {
   "cell_type": "code",
   "execution_count": 3,
   "id": "8510fd21",
   "metadata": {},
   "outputs": [],
   "source": [
    "s = 'polymath'"
   ]
  },
  {
   "cell_type": "code",
   "execution_count": 4,
   "id": "7aecc858",
   "metadata": {},
   "outputs": [],
   "source": [
    "a= 'abcdefghijklmnopqrstuvwxyz'"
   ]
  },
  {
   "cell_type": "code",
   "execution_count": 7,
   "id": "1bbb9044",
   "metadata": {},
   "outputs": [],
   "source": [
    "a = list(a)"
   ]
  },
  {
   "cell_type": "code",
   "execution_count": null,
   "id": "8b66f2bc",
   "metadata": {},
   "outputs": [],
   "source": [
    "a.remove(i)"
   ]
  },
  {
   "cell_type": "code",
   "execution_count": 8,
   "id": "cecaded7",
   "metadata": {},
   "outputs": [],
   "source": [
    "for i in s:\n",
    "    a.remove(i)"
   ]
  },
  {
   "cell_type": "code",
   "execution_count": 9,
   "id": "19df31ab",
   "metadata": {},
   "outputs": [
    {
     "data": {
      "text/plain": [
       "['b',\n",
       " 'c',\n",
       " 'd',\n",
       " 'e',\n",
       " 'f',\n",
       " 'g',\n",
       " 'i',\n",
       " 'j',\n",
       " 'k',\n",
       " 'n',\n",
       " 'q',\n",
       " 'r',\n",
       " 's',\n",
       " 'u',\n",
       " 'v',\n",
       " 'w',\n",
       " 'x',\n",
       " 'z']"
      ]
     },
     "execution_count": 9,
     "metadata": {},
     "output_type": "execute_result"
    }
   ],
   "source": [
    "a"
   ]
  },
  {
   "cell_type": "code",
   "execution_count": null,
   "id": "9079bce7",
   "metadata": {},
   "outputs": [],
   "source": [
    "a=''\n",
    "while "
   ]
  }
 ],
 "metadata": {
  "kernelspec": {
   "display_name": "Python 3",
   "language": "python",
   "name": "python3"
  },
  "language_info": {
   "codemirror_mode": {
    "name": "ipython",
    "version": 3
   },
   "file_extension": ".py",
   "mimetype": "text/x-python",
   "name": "python",
   "nbconvert_exporter": "python",
   "pygments_lexer": "ipython3",
   "version": "3.8.8"
  }
 },
 "nbformat": 4,
 "nbformat_minor": 5
}
