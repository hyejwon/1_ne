{
 "cells": [
  {
   "cell_type": "code",
   "execution_count": 3,
   "id": "2feb3099",
   "metadata": {},
   "outputs": [
    {
     "name": "stdout",
     "output_type": "stream",
     "text": [
      "x의 값을 입력하세요.: 40\n",
      "1부터40까지 정수의 합은 820 입니다.\n"
     ]
    }
   ],
   "source": [
    "#함수 사이에 인수 주고받기\n",
    "#1부터 n까지의 정수의 합 구하기\n",
    "def sum_1ton(n:int):\n",
    "    \"\"\"1부터 n까지 정수의 합\"\"\"\n",
    "    \n",
    "    s = 0\n",
    "    while n >0:\n",
    "        s += n\n",
    "        n -=1\n",
    "        \n",
    "    return s\n",
    "\n",
    "x = int(input('x의 값을 입력하세요.: '))\n",
    "print(f'1부터{x}까지 정수의 합은 {sum_1ton(x)} 입니다.')"
   ]
  },
  {
   "cell_type": "code",
   "execution_count": null,
   "id": "012a3629",
   "metadata": {},
   "outputs": [],
   "source": []
  },
  {
   "cell_type": "code",
   "execution_count": null,
   "id": "8f302a66",
   "metadata": {},
   "outputs": [],
   "source": []
  },
  {
   "cell_type": "code",
   "execution_count": 4,
   "id": "2e44c0f6",
   "metadata": {},
   "outputs": [
    {
     "name": "stdout",
     "output_type": "stream",
     "text": [
      "x= [11, 22, 33, 44, 55]\n",
      "업데이트할 인덱스를 선택하세요.: 3\n",
      "새로운 값을 입력하세요.: 4\n",
      "x=[11, 22, 33, 4, 55]\n"
     ]
    }
   ],
   "source": [
    "#리스트에서 임의의 원솟값을 업데이트하기\n",
    "\n",
    "def change(lst,idx,val):\n",
    "    \"\"\"lst[idx]의 값을 val로 업데이트\"\"\"\n",
    "    \n",
    "    lst[idx] = val\n",
    "    \n",
    "x = [11,22,33,44,55]\n",
    "\n",
    "print('x=',x)\n",
    "\n",
    "index = int(input('업데이트할 인덱스를 선택하세요.: '))\n",
    "value = int(input('새로운 값을 입력하세요.: '))\n",
    "\n",
    "change(x,index,value)\n",
    "print(f'x={x}')"
   ]
  },
  {
   "cell_type": "code",
   "execution_count": 6,
   "id": "080e91ee",
   "metadata": {},
   "outputs": [
    {
     "name": "stdout",
     "output_type": "stream",
     "text": [
      "2\n",
      "3\n",
      "5\n",
      "7\n",
      "11\n",
      "13\n",
      "17\n",
      "19\n",
      "23\n",
      "29\n",
      "31\n",
      "37\n",
      "41\n",
      "43\n",
      "47\n",
      "53\n",
      "59\n",
      "61\n",
      "67\n",
      "71\n",
      "73\n",
      "79\n",
      "83\n",
      "89\n",
      "97\n",
      "101\n",
      "103\n",
      "107\n",
      "109\n",
      "113\n",
      "127\n",
      "131\n",
      "137\n",
      "139\n",
      "149\n",
      "151\n",
      "157\n",
      "163\n",
      "167\n",
      "173\n",
      "179\n",
      "181\n",
      "191\n",
      "193\n",
      "197\n",
      "199\n",
      "211\n",
      "223\n",
      "227\n",
      "229\n",
      "233\n",
      "239\n",
      "241\n",
      "251\n",
      "257\n",
      "263\n",
      "269\n",
      "271\n",
      "277\n",
      "281\n",
      "283\n",
      "293\n",
      "307\n",
      "311\n",
      "313\n",
      "317\n",
      "331\n",
      "337\n",
      "347\n",
      "349\n",
      "353\n",
      "359\n",
      "367\n",
      "373\n",
      "379\n",
      "383\n",
      "389\n",
      "397\n",
      "401\n",
      "409\n",
      "419\n",
      "421\n",
      "431\n",
      "433\n",
      "439\n",
      "443\n",
      "449\n",
      "457\n",
      "461\n",
      "463\n",
      "467\n",
      "479\n",
      "487\n",
      "491\n",
      "499\n",
      "503\n",
      "509\n",
      "521\n",
      "523\n",
      "541\n",
      "547\n",
      "557\n",
      "563\n",
      "569\n",
      "571\n",
      "577\n",
      "587\n",
      "593\n",
      "599\n",
      "601\n",
      "607\n",
      "613\n",
      "617\n",
      "619\n",
      "631\n",
      "641\n",
      "643\n",
      "647\n",
      "653\n",
      "659\n",
      "661\n",
      "673\n",
      "677\n",
      "683\n",
      "691\n",
      "701\n",
      "709\n",
      "719\n",
      "727\n",
      "733\n",
      "739\n",
      "743\n",
      "751\n",
      "757\n",
      "761\n",
      "769\n",
      "773\n",
      "787\n",
      "797\n",
      "809\n",
      "811\n",
      "821\n",
      "823\n",
      "827\n",
      "829\n",
      "839\n",
      "853\n",
      "857\n",
      "859\n",
      "863\n",
      "877\n",
      "881\n",
      "883\n",
      "887\n",
      "907\n",
      "911\n",
      "919\n",
      "929\n",
      "937\n",
      "941\n",
      "947\n",
      "953\n",
      "967\n",
      "971\n",
      "977\n",
      "983\n",
      "991\n",
      "997\n",
      "나눗셈을 한 횟수는 1\n"
     ]
    }
   ],
   "source": [
    "#1000이하의 소수를 나열하기\n",
    "\n",
    "counter = 0\n",
    "\n",
    "for n in range(2,1001):\n",
    "    for i in range(2,n):\n",
    "        counter =+1\n",
    "        if n % i == 0:\n",
    "            break\n",
    "    else:\n",
    "        print(n)\n",
    "            \n",
    "print(f'나눗셈을 한 횟수는 {counter}')            \n"
   ]
  },
  {
   "cell_type": "code",
   "execution_count": 14,
   "id": "d54993fe",
   "metadata": {},
   "outputs": [
    {
     "name": "stdout",
     "output_type": "stream",
     "text": [
      "2\n",
      "3\n"
     ]
    }
   ],
   "source": [
    "for i in range(2,4):\n",
    "    print(i)"
   ]
  },
  {
   "cell_type": "code",
   "execution_count": 11,
   "id": "aded405e",
   "metadata": {},
   "outputs": [
    {
     "data": {
      "text/plain": [
       "2"
      ]
     },
     "execution_count": 11,
     "metadata": {},
     "output_type": "execute_result"
    }
   ],
   "source": [
    "i"
   ]
  },
  {
   "cell_type": "code",
   "execution_count": null,
   "id": "bdd98ce5",
   "metadata": {},
   "outputs": [],
   "source": []
  }
 ],
 "metadata": {
  "kernelspec": {
   "display_name": "Python 3",
   "language": "python",
   "name": "python3"
  },
  "language_info": {
   "codemirror_mode": {
    "name": "ipython",
    "version": 3
   },
   "file_extension": ".py",
   "mimetype": "text/x-python",
   "name": "python",
   "nbconvert_exporter": "python",
   "pygments_lexer": "ipython3",
   "version": "3.7.10"
  }
 },
 "nbformat": 4,
 "nbformat_minor": 5
}
