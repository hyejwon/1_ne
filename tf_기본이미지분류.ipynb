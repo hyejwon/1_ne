{
  "nbformat": 4,
  "nbformat_minor": 0,
  "metadata": {
    "colab": {
      "name": "tf_기본이미지분류.ipynb",
      "private_outputs": true,
      "provenance": [],
      "collapsed_sections": [],
      "authorship_tag": "ABX9TyNYfTIV0U6YV/tWV4Ctbd4w",
      "include_colab_link": true
    },
    "kernelspec": {
      "name": "python3",
      "display_name": "Python 3"
    }
  },
  "cells": [
    {
      "cell_type": "markdown",
      "metadata": {
        "id": "view-in-github",
        "colab_type": "text"
      },
      "source": [
        "<a href=\"https://colab.research.google.com/github/hyejwon/1_ne/blob/main/tf_%EA%B8%B0%EB%B3%B8%EC%9D%B4%EB%AF%B8%EC%A7%80%EB%B6%84%EB%A5%98.ipynb\" target=\"_parent\"><img src=\"https://colab.research.google.com/assets/colab-badge.svg\" alt=\"Open In Colab\"/></a>"
      ]
    },
    {
      "cell_type": "code",
      "metadata": {
        "id": "z_fMMXUxWKlw"
      },
      "source": [
        "#tensorflow와 tf.keras를 임포트\r\n",
        "import tensorflow as tf\r\n",
        "from tensorflow import keras\r\n"
      ],
      "execution_count": null,
      "outputs": []
    },
    {
      "cell_type": "code",
      "metadata": {
        "id": "k5ykAanzbRiT"
      },
      "source": [
        "#헬퍼(helper)라이브러리를 임포트\r\n",
        "import numpy as np\r\n",
        "import matplotlib.pyplot as plt\r\n",
        "\r\n",
        "print(tf.__version__)"
      ],
      "execution_count": null,
      "outputs": []
    },
    {
      "cell_type": "code",
      "metadata": {
        "id": "upgK8BUUbhgs"
      },
      "source": [
        "#패션 MNIST 데이터셋 임포트 하기\r\n",
        "fashion_mnist = keras.datasets.fashion_mnist\r\n",
        "(train_images,train_labels),(test_images,test_labels)=fashion_mnist.load_data()\r\n"
      ],
      "execution_count": null,
      "outputs": []
    },
    {
      "cell_type": "code",
      "metadata": {
        "id": "aGm91IM8caIf"
      },
      "source": [
        "class_names=['T-shirt/top','Trouser','Pullover','Dress','Coat','Sandal','Shirt','Sneaker','Bag','Ankle boot']"
      ],
      "execution_count": null,
      "outputs": []
    },
    {
      "cell_type": "code",
      "metadata": {
        "id": "7pe9F6yzcp-W"
      },
      "source": [
        "#데이터 탐색\r\n",
        "train_images.shape#60,000개의 이미지 28x28 픽셀"
      ],
      "execution_count": null,
      "outputs": []
    },
    {
      "cell_type": "code",
      "metadata": {
        "id": "BTfG83hGdKZP"
      },
      "source": [
        "len(train_labels)"
      ],
      "execution_count": null,
      "outputs": []
    },
    {
      "cell_type": "code",
      "metadata": {
        "id": "SEk2ghYrdb9D"
      },
      "source": [
        "train_labels"
      ],
      "execution_count": null,
      "outputs": []
    },
    {
      "cell_type": "code",
      "metadata": {
        "id": "IxxEg2xudghp"
      },
      "source": [
        "test_images.shape"
      ],
      "execution_count": null,
      "outputs": []
    },
    {
      "cell_type": "code",
      "metadata": {
        "id": "lhx0fE_Pdqfi"
      },
      "source": [
        "len(test_labels)"
      ],
      "execution_count": null,
      "outputs": []
    },
    {
      "cell_type": "code",
      "metadata": {
        "id": "si_TL2Oldso9"
      },
      "source": [
        "#데이터 전처리\r\n",
        "plt.figure()\r\n",
        "plt.imshow(train_images[0])#훈련 세트에 있는 첫 번째 이미지 \r\n",
        "plt.colorbar()\r\n",
        "plt.show()"
      ],
      "execution_count": null,
      "outputs": []
    },
    {
      "cell_type": "code",
      "metadata": {
        "id": "UdZlpGeZd6EO"
      },
      "source": [
        "#신경망 모델에 주입하기 전에 이 값의 범위를 0~1사이로 조정\r\n",
        "#훈련 세트와 테스트 세트를 동일한 방식으로 전처리하는 것이 중요\r\n",
        "train_images=train_images/255.0\r\n",
        "test_images=test_images/255.0\r\n"
      ],
      "execution_count": null,
      "outputs": []
    },
    {
      "cell_type": "code",
      "metadata": {
        "id": "755svrRpeNjt"
      },
      "source": [
        "#훈련 세트에서 처음 25개 이미지와 그 아래 클래스 이름 출력\r\n",
        "#데이터 포맷이 올바른지 확인하고 네트워크 구성과 훈련할 준비를 마침\r\n",
        "plt.figure(figsize=(10,10))#그림의 사이즈 figsize =(가로 인치,세로인치)\r\n",
        "for i in range(25):#0부터 24까지 반복\r\n",
        "    plt.subplot(5,5,i+1)#subplot(행,열,인덱스)\r\n",
        "    plt.xticks([])\r\n",
        "    plt.yticks([])\r\n",
        "    plt.grid(False)\r\n",
        "    plt.imshow(train_images[i],cmap=plt.cm.binary)\r\n",
        "    plt.xlabel(class_names[train_labels[i]])\r\n",
        "plt.show()"
      ],
      "execution_count": null,
      "outputs": []
    },
    {
      "cell_type": "code",
      "metadata": {
        "id": "JAVmSMNMfKOt"
      },
      "source": [
        "#모델 구성\r\n",
        "#층 설정\r\n",
        "model=keras.Sequential([\r\n",
        "    keras.layers.Flatten(input_shape=(28,28)),#2차원 배열의 이미지 포맷을 28*28=784픽셀의 1차원 배열로 변환, 학습 가중치 없음\r\n",
        "    keras.layers.Dense(128,activation='relu'),#full-connected 128개의 노드 \r\n",
        "    keras.layers.Dense(10,activation='softmax')#10개 노드의 소프트 맥스 층 \r\n",
        "])"
      ],
      "execution_count": null,
      "outputs": []
    },
    {
      "cell_type": "code",
      "metadata": {
        "id": "6G0gT_cthcvG"
      },
      "source": [
        "#모델 컴파일\r\n",
        "#모델을 훈련하기 전에 필요한 몇 가지 설정이 모델 컴파일 단계에서 추가\r\n",
        "#손실함수(Loss function)-훈련 하는 동안 모델의 오차를 측정 \r\n",
        "#옵티마이저(Optimizer)-데이터와 손실 함수를 바탕으로 모델의 업데이트 방법을 결정합니다.\r\n",
        "#지표(Metrics)-훈련 단계와 테스트 단계를 모니터링 하기 위해 사용합니다. 다음 예에서는 올바르게 분류된 \r\n",
        "#이미지의 비율인 정확도를 사용\r\n",
        "model.compile(optimizer='adam',\r\n",
        "              loss='sparse_categorical_crossentropy',\r\n",
        "              metrics=['accuracy'])\r\n"
      ],
      "execution_count": null,
      "outputs": []
    },
    {
      "cell_type": "code",
      "metadata": {
        "id": "uuBr74DLkdcE"
      },
      "source": [
        "#모델 훈련\r\n",
        "#신경망 모델을 훈련하는 단계는 다음과 같음\r\n",
        "#1.훈련 데이터를 모델에 주입 - 이 예에서는 train_images와 train_labels 배열\r\n",
        "#2.모델이 이미지와 레이블을 매핑하는 방법을 배움\r\n",
        "#3.테스트 세트에 대한 모델의 예측을 만듦- 이 예에서는 test_images 배열이다. 이 예측이 test_labels 배열의 레이블과 맞는지 확인\r\n",
        "#훈련을 시작하기 위해 model.fit 메서드를 호출하면 모델이 훈련 데이터를 학습\r\n",
        "\r\n",
        "model.fit(train_images,train_labels,epochs=5) "
      ],
      "execution_count": null,
      "outputs": []
    },
    {
      "cell_type": "code",
      "metadata": {
        "id": "v8dTnDGOlCHT"
      },
      "source": [
        "#정확도 평가 - 테스트 세트에서 모델의 성능을 비교 \r\n",
        "test_loss,test_acc=model.evaluate(test_images,test_labels,verbose=2)#verbose 0 = silent,1 = progress bar, 2 = one line per epoch.\r\n",
        "print('\\n테스트 정확도:',test_acc) #test 정확도가 train 보다 낮음 -overfitting"
      ],
      "execution_count": null,
      "outputs": []
    },
    {
      "cell_type": "code",
      "metadata": {
        "id": "ZMmJ5skWng4D"
      },
      "source": [
        "#예측 만들기\r\n",
        "predictions=model.predict(test_images)"
      ],
      "execution_count": null,
      "outputs": []
    },
    {
      "cell_type": "code",
      "metadata": {
        "id": "-dFkTMywn2m4"
      },
      "source": [
        "predictions[0] #테스트 세트에 있는 각 이미지의 레이블 예측 - 첫번째 예측 확인"
      ],
      "execution_count": null,
      "outputs": []
    },
    {
      "cell_type": "code",
      "metadata": {
        "id": "a_hj-YYDn139"
      },
      "source": [
        "np.argmax(predictions[0])#최대값의 인덱스 넘버 "
      ],
      "execution_count": null,
      "outputs": []
    },
    {
      "cell_type": "code",
      "metadata": {
        "id": "Ej4kXVI0o8Hi"
      },
      "source": [
        "#10개 클래스에 대한 예측을 모두 그래프로 표현\r\n",
        "def plot_image(i,predictions_array,true_label,img):\r\n",
        "    predictions_array,true_label,img=predictions_array[i],true_label[i],img[i]\r\n",
        "    plt.grid(False)\r\n",
        "    plt.xticks([])\r\n",
        "    plt.yticks([])\r\n",
        "    \r\n",
        "    plt.imshow(img,cmap=plt.cm.binary)\r\n",
        "\r\n",
        "    predicted_label=np.argmax(predictions_array)\r\n",
        "    if predicted_label == true_label:\r\n",
        "        color = 'blue'\r\n",
        "    else:\r\n",
        "        color = 'red'\r\n",
        "    plt.xlabel(\"{}{:2.0f}% ({})\".format(class_names[predicted_label],\r\n",
        "                                        100*np.max(predictions_array),\r\n",
        "                                        class_names[true_label]),\r\n",
        "                                        color=color)\r\n",
        "\r\n",
        "def plot_value_array(i,predictions_array,true_label):\r\n",
        "    predictions_array, true_label = predictions_array[i],true_label[i]\r\n",
        "    plt.grid(False)\r\n",
        "    plt.xticks([])\r\n",
        "    plt.yticks([])\r\n",
        "    thisplot = plt.bar(range(10),predictions_array,color=\"#777777\")\r\n",
        "    plt.ylim([0,1])\r\n",
        "    predicted_label = np.argmax(predictions_array)\r\n",
        "\r\n",
        "    thisplot[predicted_label].set_color('red')\r\n",
        "    thisplot[true_label].set_color('blue')\r\n"
      ],
      "execution_count": null,
      "outputs": []
    },
    {
      "cell_type": "code",
      "metadata": {
        "id": "sMLcu8Rupo_m"
      },
      "source": [
        "#0번째 원소의 이미지,예측,신뢰도 점수 배열을 확인해 보겠습니다.\n",
        "i=0\n",
        "plt.figure(figsize=(6,3))\n",
        "plt.subplot(1,2,1)\n",
        "plot_image(i,predictions,test_labels,test_images)\n",
        "plt.subplot(1,2,2)\n",
        "plot_value_array(i,predictions,test_labels)\n",
        "plt.show()"
      ],
      "execution_count": null,
      "outputs": []
    },
    {
      "cell_type": "code",
      "metadata": {
        "id": "N1w6HfZopqd2"
      },
      "source": [
        "i=12\n",
        "plt.figure(figsize=(6,3))\n",
        "plt.subplot(1,2,1)\n",
        "plot_image(i,predictions,test_labels,test_images)\n",
        "plt.subplot(1,2,2,)\n",
        "plot_value_array(i,predictions,test_labels)\n",
        "plt.show()"
      ],
      "execution_count": null,
      "outputs": []
    },
    {
      "cell_type": "code",
      "metadata": {
        "id": "R6Gr4Aa5sGtz"
      },
      "source": [
        "#처음 x개의 테스트 이미지와 예측 레이블, 진짜 레이블을 출력합니다.\n",
        "#올바른 예측은 파랑색으로 잘못된 예측은 빨강색으로 나타냅니다.\n",
        "num_rows = 5\n",
        "num_cols = 3\n",
        "num_images = num_rows*num_cols # 15\n",
        "plt.figure(figsize=(2*2*num_cols,2*num_rows))\n",
        "for i in range(num_images):#0,1,2,..,14 \n",
        "    plt.subplot(num_rows,2*num_cols,2*i+1)\n",
        "    plot_image(i,predictions,test_labels,test_images)\n",
        "    plt.subplot(num_rows,2*num_cols,2*i+2)\n",
        "    plot_value_array(i,predictions,test_labels)\n",
        "plt.show()\n"
      ],
      "execution_count": null,
      "outputs": []
    },
    {
      "cell_type": "code",
      "metadata": {
        "id": "NyuKoNEat609"
      },
      "source": [
        "# 테스트 세트에서 이미지 하나를 선택\n",
        "img=test_images[0]\n",
        "\n",
        "print(img.shape)"
      ],
      "execution_count": null,
      "outputs": []
    },
    {
      "cell_type": "code",
      "metadata": {
        "id": "N0-voBpFuZ97"
      },
      "source": [
        "#tf.keras 모델은 한 번에 샘플의 묶음 또는 배치(batch)로 예측을 만드는데 최적화, 하나의 이미지를 사용할 때에도 2차원 배열로 만들어야 함 \n",
        "img=(np.expand_dims(img,0)) # 차원 추가 np.expend_dims\n",
        "print(img.shape)"
      ],
      "execution_count": null,
      "outputs": []
    },
    {
      "cell_type": "code",
      "metadata": {
        "id": "D0nDNcyxvJ1S"
      },
      "source": [
        "#위 이미지의 예측 생성\n",
        "predictions_single = model.predict(img)\n",
        "\n",
        "print(predictions_single)"
      ],
      "execution_count": null,
      "outputs": []
    },
    {
      "cell_type": "code",
      "metadata": {
        "id": "I1Ab_ND4vf7E"
      },
      "source": [
        "plot_value_array(0,predictions_single,test_labels)\n",
        "_=plt.xticks(range(10),class_names,rotation=45) #_ 파이썬 언더스코어"
      ],
      "execution_count": null,
      "outputs": []
    },
    {
      "cell_type": "code",
      "metadata": {
        "id": "TtTCkqGcvxkr"
      },
      "source": [
        "np.argmax(predictions_single[0])"
      ],
      "execution_count": null,
      "outputs": []
    },
    {
      "cell_type": "code",
      "metadata": {
        "id": "n3KjTS8tz2hB"
      },
      "source": [
        "predictions_single"
      ],
      "execution_count": null,
      "outputs": []
    },
    {
      "cell_type": "code",
      "metadata": {
        "id": "DNLX8DR90KVM"
      },
      "source": [
        ""
      ],
      "execution_count": null,
      "outputs": []
    }
  ]
}