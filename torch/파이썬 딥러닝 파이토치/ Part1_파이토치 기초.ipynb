{
 "cells": [
  {
   "cell_type": "markdown",
   "id": "15dc8aa0",
   "metadata": {},
   "source": [
    "### 4.2 Autograd\n",
    "파이토치를 이용해 코드를 작성할 때 Back Proparation을 이용해 파라미터를 업데이트하는 방법은 Autograd 방식으로 쉽게 구현할 수 있도록 설정되어 있다. 이번 예제에서는 간단한 딥러닝 모델을 설계하고 방정식 내에 존재하는 파라미터를 어떻게 업데이트할 수 있는지 알아보겠다"
   ]
  },
  {
   "cell_type": "code",
   "execution_count": 1,
   "id": "57386e70",
   "metadata": {},
   "outputs": [],
   "source": [
    "#GPU 설정하기 \n",
    "import torch \n",
    "if torch.cuda.is_available():\n",
    "    DEVICE = torch.device('cuda')\n",
    "else:\n",
    "    DEVICE = torch.device('cpu')"
   ]
  },
  {
   "cell_type": "code",
   "execution_count": 2,
   "id": "55673058",
   "metadata": {},
   "outputs": [
    {
     "data": {
      "text/plain": [
       "device(type='cuda')"
      ]
     },
     "execution_count": 2,
     "metadata": {},
     "output_type": "execute_result"
    }
   ],
   "source": [
    "DEVICE"
   ]
  },
  {
   "cell_type": "code",
   "execution_count": 3,
   "id": "012af45d",
   "metadata": {},
   "outputs": [],
   "source": [
    "BATCH_SIZE=64\n",
    "INPUT_SIZE=1000\n",
    "HIDDEN_SIZE =100\n",
    "OUTPUT_SIZE=10"
   ]
  },
  {
   "cell_type": "markdown",
   "id": "fb8daee8",
   "metadata": {},
   "source": [
    "BATCH_SIZE : 딥러닝 모델에서 파라미터를 업데이트 할 때 계산되는 데이터의 갯수 BATCH_SIZE 만큼 데이터를 이용해 OUTPUT을 계산하고 BATCH_SIZE 수만큼 출력된 결괏갑에 대한 오찻값을 계산 BATCH_SIZE 수만큼 계산된 오찻값을 평균해 BackPropagation 을 적용하고 이를 바탕으로 파라미터를 업데이트한다.  \n",
    "이 예제에서 이용하는 BATCH_SIZE 는 64 이며 이는 input 으로 이용되는 데이터가 64개 \n",
    "\n",
    "INPUT_SIZE : 딥러닝 모델에서 Input 의 크기이자 입력층의 노드 수 "
   ]
  }
 ],
 "metadata": {
  "kernelspec": {
   "display_name": "Python 3",
   "language": "python",
   "name": "python3"
  },
  "language_info": {
   "codemirror_mode": {
    "name": "ipython",
    "version": 3
   },
   "file_extension": ".py",
   "mimetype": "text/x-python",
   "name": "python",
   "nbconvert_exporter": "python",
   "pygments_lexer": "ipython3",
   "version": "3.7.10"
  }
 },
 "nbformat": 4,
 "nbformat_minor": 5
}
