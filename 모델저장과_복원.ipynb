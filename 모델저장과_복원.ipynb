{
  "nbformat": 4,
  "nbformat_minor": 0,
  "metadata": {
    "colab": {
      "name": "모델저장과 복원.ipynb",
      "private_outputs": true,
      "provenance": [],
      "collapsed_sections": [],
      "authorship_tag": "ABX9TyMjvbxIeoLRg0FZlKLAy2xt",
      "include_colab_link": true
    },
    "kernelspec": {
      "name": "python3",
      "display_name": "Python 3"
    }
  },
  "cells": [
    {
      "cell_type": "markdown",
      "metadata": {
        "id": "view-in-github",
        "colab_type": "text"
      },
      "source": [
        "<a href=\"https://colab.research.google.com/github/hyejwon/1_ne/blob/main/%EB%AA%A8%EB%8D%B8%EC%A0%80%EC%9E%A5%EA%B3%BC_%EB%B3%B5%EC%9B%90.ipynb\" target=\"_parent\"><img src=\"https://colab.research.google.com/assets/colab-badge.svg\" alt=\"Open In Colab\"/></a>"
      ]
    },
    {
      "cell_type": "markdown",
      "metadata": {
        "id": "lD_rTGesK7q_"
      },
      "source": [
        "## 모델 저장과 복원  \r\n",
        "\r\n",
        "훈련하는 도중이나 훈련이 끝난 후에 모델을 저장할 수 있습니다. 모델을 중지된 지점부터 다시 훈련할 수 있어 한 번에 오랫동안 훈련하지 않아도 됩니다. 또 모델을 저장하면 다른 사람에게 공유할 수 있고 작업을 재현할 수 있습니다. 연구한 모델과 기법을 공개할 때 많은 머신 러닝 기술자들이 다음과 같은 것들을 제공합니다:\r\n",
        "\r\n",
        "모델을 만드는 코드  \r\n",
        "모델의 훈련된 가중치 또는 파라미터\r\n",
        "이런 데이터를 공유하면 다른 사람들이 모델의 작동 방식을 이해하고 새로운 데이터로 모델을 실험하는데 도움이 됩니다.\r\n",
        "\r\n",
        "주의: 신뢰할 수 없는 코드는 조심하세요. 텐서플로 모델은 프로그램 코드입니다. 자세한 내용은 텐서플로를 안전하게 사용하기 문서를 참고하세요.\r\n",
        "\r\n",
        "저장 방식  \r\n",
        "사용하는 API에 따라서 여러가지 방법으로 텐서플로 모델을 저장할 수 있습니다. 이 문서는 텐서플로 모델을 만들고 훈련하기 위한 고수준 API인 tf.keras를 사용합니다. 다른 방법들에 대해서는 텐서플로의 저장과 복원 문서와 즉시 실행(eager execution) 문서의 저장하기 섹션을 참고하세요."
      ]
    },
    {
      "cell_type": "markdown",
      "metadata": {
        "id": "argryU-4LUqv"
      },
      "source": [
        "\r\n",
        "### 설정\r\n",
        "#### 설치와 임포트\r\n"
      ]
    },
    {
      "cell_type": "code",
      "metadata": {
        "id": "pJx8frxnLgS-"
      },
      "source": [
        "import os \r\n",
        "import tensorflow as tf\r\n",
        "from tensorflow import keras\r\n",
        "\r\n",
        "print(tf.version.VERSION)"
      ],
      "execution_count": null,
      "outputs": []
    },
    {
      "cell_type": "code",
      "metadata": {
        "id": "pyUefNveOHEy"
      },
      "source": [
        "!pip install pyyaml h5py"
      ],
      "execution_count": null,
      "outputs": []
    },
    {
      "cell_type": "code",
      "metadata": {
        "id": "32E79rstLu_v"
      },
      "source": [
        "### 예제 데이터 셋 불러오기\r\n",
        "(train_images,train_labels),(test_images,test_labels)=tf.keras.datasets.mnist.load_data()\r\n",
        "\r\n",
        "train_labels = train_labels[:1000] #처음 1,000개만 사용\r\n",
        "test_labels = test_labels[:1000]\r\n",
        "\r\n",
        "train_images = train_images[:1000].reshape(-1,28*28)/255.0\r\n",
        "test_images = train_images[:1000].reshape(-1,28*28)/255.0 #flatten\r\n"
      ],
      "execution_count": null,
      "outputs": []
    },
    {
      "cell_type": "markdown",
      "metadata": {
        "id": "IxDSz9SjMvAs"
      },
      "source": [
        "### 모델 정의\r\n"
      ]
    },
    {
      "cell_type": "code",
      "metadata": {
        "id": "camUPZjpM-ac"
      },
      "source": [
        "#간단한 Sequential 모델\r\n",
        "\r\n",
        "def create_model():\r\n",
        "    model = tf.keras.models.Sequential([\r\n",
        "        keras.layers.Dense(512,activation='relu', input_shape=(784,)),\r\n",
        "        keras.layers.Dropout(0.2),\r\n",
        "        keras.layers.Dense(10)\r\n",
        "    ])\r\n",
        "\r\n",
        "    model.compile(optimizer='adam',\r\n",
        "                  loss=tf.losses.SparseCategoricalCrossentropy(from_logits=True),\r\n",
        "                  metrics=['accuracy'])\r\n",
        "    return model\r\n",
        "\r\n",
        "#모델 객체를 만든다\r\n",
        "model = create_model()\r\n",
        "\r\n",
        "#모델 구조를 출력\r\n",
        "model.summary()"
      ],
      "execution_count": null,
      "outputs": []
    },
    {
      "cell_type": "markdown",
      "metadata": {
        "id": "BnDcT2dmOCvx"
      },
      "source": [
        "\r\n",
        "## 훈련하는 동안 체크포인트 저장하기\r\n",
        "훈련 중간과 훈련 마지막에 체크포인트를 자동으로 저장하도록 하는 것이 많이 사용하는 방법.  \r\n",
        "다시 훈련하지 않고 모델을 재사용하거나 훈련 과정이 중지된 경우 이어서 훈련을 진행할 수 있다. ```tf.keras.callbacks.ModelCheckpoint``` 은 이런 작업을 수행하는 콜백이다. 이 콜백은 체크포인트 작업을 조정할 수 있도록 여러가지 매개변수를 제공  \r\n",
        "### 체크포인트 콜백 사용하기\r\n",
        "```ModelCheckpoint``` 만들기\r\n",
        "\r\n",
        "이 코드는 텐서플로 체크포인트 파일을 만들고 에포크가 종료될 때 마다 업데이트 "
      ]
    },
    {
      "cell_type": "code",
      "metadata": {
        "id": "Dt1SbHOGlCUX"
      },
      "source": [
        "checkpoint_path=\"training_1/cp.ckpt\"\r\n",
        "checkpoint_dir=os.path.dirname(checkpoint_path)\r\n",
        "\r\n",
        "#모델의 가중치를 저장하는 콜백 만들기 \r\n",
        "cp_callback = tf.keras.callbacks.ModelCheckpoint(filepath=checkpoint_path,\r\n",
        "                                                 save_weights_only=True,\r\n",
        "                                                 verbose=1)\r\n",
        "\r\n",
        "#새로운 콜백으로 모델 훈련하기\r\n",
        "model.fit(train_images,\r\n",
        "          train_labels,\r\n",
        "          epochs=10,\r\n",
        "          validation_data=(test_images,test_labels),\r\n",
        "          callbacks=[cp_callback]) #콜백을 훈련에 전달\r\n",
        "\r\n",
        "#옵티마이저의 상태를 저장하는 것과 관련되어 경고가 발생할 수 있다.\r\n",
        "#이 경고는(그리고 이 노트북의 다른 비슷한 경고는) 이전 사용 방식을 권장하지 않기 위함이며 무시해도 좋다\r\n"
      ],
      "execution_count": null,
      "outputs": []
    },
    {
      "cell_type": "code",
      "metadata": {
        "id": "sl2z3KTUmGHd"
      },
      "source": [
        "!ls {checkpoint_dir}"
      ],
      "execution_count": null,
      "outputs": []
    },
    {
      "cell_type": "markdown",
      "metadata": {
        "id": "fbx1AXp3mNng"
      },
      "source": [
        "훈련하지 않은 새로운 모델을 만들기. 가중치만 복원할 땐 원본 모델과 동일한 구조로 모델을 만들어야 한다. 여기서는 동일한 구조로 모델을 만들었으므로 다른 객체이지만 가중치를 공유할 수있다.  \r\n",
        "훈련하지 않은 새 모델을 만들고 테스트 세트에서 평가. 훈련되지 않은 모델의 성능은 무작위로 선택하는 정도의 수준(~10% 정확도)"
      ]
    },
    {
      "cell_type": "code",
      "metadata": {
        "id": "Ew9Z9Bkzm8gr"
      },
      "source": [
        "#기본 모델 객체를 만든다\r\n",
        "model = create_model()\r\n",
        "\r\n",
        "#모델을 평가\r\n",
        "loss, acc = model.evaluate(test_images,test_labels,verbose=2)\r\n",
        "print(\"훈련되지 않은 모델의 정확도:{:5.2f}%\".format(100*acc))"
      ],
      "execution_count": null,
      "outputs": []
    },
    {
      "cell_type": "markdown",
      "metadata": {
        "id": "oPKgbZm6nRgn"
      },
      "source": [
        "체크포인트에서 가중치를 로드하고 다시 평가"
      ]
    },
    {
      "cell_type": "code",
      "metadata": {
        "id": "6le55I_mnVuA"
      },
      "source": [
        "#가중치 로드 \r\n",
        "model.load_weights(checkpoint_path)\r\n",
        "\r\n",
        "#모델 재평가\r\n",
        "loss,acc = model.evaluate(test_images, test_labels, verbose=2)\r\n",
        "print(\"복원된 모델의 정확도:{:5.2f}%\".format(100*acc))"
      ],
      "execution_count": null,
      "outputs": []
    },
    {
      "cell_type": "code",
      "metadata": {
        "id": "dzLWh4aqs0qN"
      },
      "source": [
        ""
      ],
      "execution_count": null,
      "outputs": []
    },
    {
      "cell_type": "markdown",
      "metadata": {
        "id": "C5VDiq3RnptH"
      },
      "source": [
        "### 체크포인트 콜백 매개변수\r\n",
        "이 콜백 함수는 몇 가지 매개변수를 제공 체크포인트 이름을 고유하게 만들거나 체크포인트 주기를 조정  \r\n",
        "\r\n",
        "새로운 모델을 훈련하고 다섯 번의 에포크마다 고유한 이름으로 체크포인트를 저장"
      ]
    },
    {
      "cell_type": "code",
      "metadata": {
        "id": "SDTdmoOPoKul"
      },
      "source": [
        "#파일 이름에 에포크 번호를 포함시킨다('str.format'포맷)\r\n",
        "checkpoint_path=\"training_2/cp-{epoch:04d}.ckpt\"#포매팅 :십진수 정수 4자리 표현 나머지 자리는 0으로 메꿈\r\n",
        "checkpoint_dir= os.path.dirname(checkpoint_path)\r\n",
        "\r\n",
        "#다섯 번째 에포크마다 가중치를 저장하기 위한 콜백을 만든다\r\n",
        "cp_callback = tf.keras.callbacks.ModelCheckpoint(\r\n",
        "    filepath=checkpoint_path,\r\n",
        "    verbose=1,\r\n",
        "    save_weights_only=True,\r\n",
        "    period=5)\r\n",
        "\r\n",
        "#새로운 모델 객체를 만든다.\r\n",
        "model = create_model()\r\n",
        "\r\n",
        "#'checkpoint_path' 포맷을 사용하는 가중치를 저장한다\r\n",
        "model.save_weights(checkpoint_path.format(epoch=0))\r\n",
        "\r\n",
        "#새로운 콜백을 사용하여 모델을 훈련\r\n",
        "model.fit(train_images,\r\n",
        "          train_labels,\r\n",
        "          epochs=50,\r\n",
        "          callbacks=[cp_callback],\r\n",
        "          validation_data=(test_images,test_labels),\r\n",
        "          verbose=0)"
      ],
      "execution_count": null,
      "outputs": []
    },
    {
      "cell_type": "code",
      "metadata": {
        "id": "QlFlbT5CqdP8"
      },
      "source": [
        "ls {checkpoint_dir}"
      ],
      "execution_count": null,
      "outputs": []
    },
    {
      "cell_type": "code",
      "metadata": {
        "id": "DvYuYu3Fqm5g"
      },
      "source": [
        "latest = tf.train.latest_checkpoint(checkpoint_dir)\r\n",
        "latest"
      ],
      "execution_count": null,
      "outputs": []
    },
    {
      "cell_type": "markdown",
      "metadata": {
        "id": "2R6QyU4Yq53y"
      },
      "source": [
        "텐서플로는 기본적으로 최근 5개의 체크포인트만 저장한다.  \r\n",
        "모델을 초기화하고 최근 체크포인트를 로드하여 테스트 "
      ]
    },
    {
      "cell_type": "code",
      "metadata": {
        "id": "3QAtkQNbrBdt"
      },
      "source": [
        "#새로운 모델 객체를 만든다.\r\n",
        "model = create_model()\r\n",
        "\r\n",
        "#이전에 저장한 가중치를 로드한다\r\n",
        "model.load_weights(latest)\r\n",
        "\r\n",
        "#모델을 재평가\r\n",
        "loss, acc = model.evaluate(test_images, test_labels, verbose=2)\r\n",
        "print(\"복원된 모델의 정확도 : {:5.2f}%\".format(100*acc))"
      ],
      "execution_count": null,
      "outputs": []
    },
    {
      "cell_type": "markdown",
      "metadata": {
        "id": "4UP2nzQsrd94"
      },
      "source": [
        "### 수동으로 가중치 저장하기  \r\n",
        "앞에서 가중치를 모델에 로드하는 방법을 보았다. 수동으로 가중치를 저장하는 것도 쉽다.\r\n",
        "```Model.save_weights``` 메서드를 사용한다. ```tf.keras``` 는, 특히 ```save_weights```는 .ckpt확장자를 가진 텐서플로 체크포인트 포맷을 사용"
      ]
    },
    {
      "cell_type": "code",
      "metadata": {
        "id": "0PGVn4FeteRx"
      },
      "source": [
        "#가중치를 저장\r\n",
        "model.save_weights('./checkpoints/my_checkpoint')\r\n",
        "\r\n",
        "#새로운 모델 객체를 만듦\r\n",
        "model = create_model()\r\n",
        "\r\n",
        "#가중치를 복원\r\n",
        "model.load_weights('./checkpoints/my_checkpoint')\r\n",
        "\r\n",
        "#모델 평가\r\n",
        "loss, acc = model.evaluate(test_images, test_labels, verbose=2)\r\n",
        "print(\"복원된 모델의 정확도:{:5.2f}%\".format(100*acc))"
      ],
      "execution_count": null,
      "outputs": []
    },
    {
      "cell_type": "markdown",
      "metadata": {
        "id": "Pu4P3DIdueWb"
      },
      "source": [
        "## 전체 모델 저장하기\r\n",
        "model.save 메서드를 호출하여 모델의 구조,가중치,훈련 설정을 하나의 파일/폴더에 저장한다. 모델을 저장하기 때문에 원본 파이썬 코드 * 가 없어도 사용할수 있다. 옵티마이저 상태가 복원되므로 정확히 중지한 시점에서 다시 훈련을 시작할 수 있다.  \r\n",
        "\r\n",
        "두개의 포맷(SavedModel과 HDF5)으로 모델을 저장할 수 있다. 텐서플로의 SavedModel 포맷은 TF2.x에서 기본 파일 포맷이다. 하지만 HDF5 포맷으로 저장할 수도 있다. 두 파일 포맷으로 전체 모델을 저장하는 방법은 아래에서 자세히 설명  \r\n",
        "\r\n",
        "전체 모델을 저장하는 기능은 매우 유용하다. TensorFlow.js 로 모델을 로드한 다음 웹브라우저에서 모델을 훈련하고 실행할 수 있다.(Saved Model,HDF5). 또는 모바일 장치에 맞도록 변환한 다음 TensorFlow Lite 를 사용하여 실행할 수 있다.(Saved Model, HDF5)  \r\n",
        "\r\n",
        "*사용자 정의 객체(예를 들면 상속으로 만든 클래스나 층)는 저장하고 로드하는데 특별한 주의가 필요\r\n",
        "\r\n",
        "### SavedModel 포맷\r\n",
        "\r\n",
        "SavedModel 포맷을 모델을 직렬화 하는 다른 방법이다. 이 포맷으로 저장한 모델은 ```tf.keras.models.load_model``` 로 복원할 수 있고 텐서플로 서빙과 호환된다. SavedModel 가이드에서 SavedModel를 서빙하고 점검하는 자세한 방법을 제공 이 섹션에서는 모델을 저장하고 복원하는 방법을 안내"
      ]
    },
    {
      "cell_type": "code",
      "metadata": {
        "id": "ou50d1R3wv43"
      },
      "source": [
        "#새로운 모델 객체를 만들고 훈련\r\n",
        "model = create_model()\r\n",
        "model.fit(train_images, train_labels, epochs=5)\r\n",
        "\r\n",
        "#SavedModel로 전체 모델을 저장\r\n",
        "!mkdir - p saved_model\r\n",
        "model.save('saved_model/my_model')"
      ],
      "execution_count": null,
      "outputs": []
    },
    {
      "cell_type": "code",
      "metadata": {
        "id": "42-GSfMlxHwr"
      },
      "source": [
        "#SavedModel 포맷은 프로토콜 버퍼 이진파일과 텐서플로 체크포인트를 담고있는 디렉토리\r\n",
        "#my model 디렉토리\r\n",
        "!ls saved_model\r\n",
        "\r\n",
        "#assets 폴더, saved_model.pb, variables 폴더\r\n",
        "!ls saved_model/my_model"
      ],
      "execution_count": null,
      "outputs": []
    },
    {
      "cell_type": "code",
      "metadata": {
        "id": "WnBAZrtmxXC9"
      },
      "source": [
        "#저장된 모델로부터 새로운 케라스 모델을 로드\r\n",
        "\r\n",
        "new_model = tf.keras.models.load_model('saved_model/my_model')\r\n",
        "\r\n",
        "#모델 구조를 확인\r\n",
        "new_model.summary()"
      ],
      "execution_count": null,
      "outputs": []
    },
    {
      "cell_type": "markdown",
      "metadata": {
        "id": "Q6EEmd1Vx1M9"
      },
      "source": [
        "복원된 모델은 원본 모델과 동일한 매개변수로 컴파일되어 있음. 이 모델을 평가하고 예측에 사용"
      ]
    },
    {
      "cell_type": "code",
      "metadata": {
        "id": "7Zm0dJd4x_Nk"
      },
      "source": [
        "#복원된 모델을 평가\r\n",
        "loss, acc = new_model.evaluate(test_images, test_labels, verbose=2)\r\n",
        "print('복원된 모델의 정확도: {:5.2f}%'.format(100*acc))\r\n",
        "\r\n",
        "print(new_model.predict(test_images).shape)"
      ],
      "execution_count": null,
      "outputs": []
    },
    {
      "cell_type": "markdown",
      "metadata": {
        "id": "gx_0mPreyUrJ"
      },
      "source": [
        "### HDF5 파일로 저장하기 "
      ]
    },
    {
      "cell_type": "code",
      "metadata": {
        "id": "WYToZhS2ydTE"
      },
      "source": [
        "#새로운 모델 객체를 만들고 훈련\r\n",
        "model = create_model()\r\n",
        "model.fit(train_images,train_labels,epochs=5)\r\n",
        "\r\n",
        "#전체 모델을 HDF5 파일로 저장한다\r\n",
        "#'.h5' 확장자는 이 모델이 HDF5로 저장되었다는 것을 나타낸다\r\n",
        "\r\n",
        "model.save('my_model.h5')"
      ],
      "execution_count": null,
      "outputs": []
    },
    {
      "cell_type": "code",
      "metadata": {
        "id": "6a4B0ECby2yk"
      },
      "source": [
        "#가중치와 옵티마이저를 포함하여 정확히 동일한 모델을 다시 생성\r\n",
        "\r\n",
        "new_model = tf.keras.models.load_model('my_model.h5')\r\n",
        "\r\n",
        "#모델 구조를 출력한다\r\n",
        "new_model.summary()"
      ],
      "execution_count": null,
      "outputs": []
    },
    {
      "cell_type": "markdown",
      "metadata": {
        "id": "2ggEdhdtzFTV"
      },
      "source": [
        "정확도를 확인"
      ]
    },
    {
      "cell_type": "code",
      "metadata": {
        "id": "B5H9-OVxzIDJ"
      },
      "source": [
        "loss, acc = new_model.evaluate(test_images, test_labels, verbose=2)\r\n",
        "print('복원된 모델의 정확도:{:5.2f}%'.format(100*acc))\r\n"
      ],
      "execution_count": null,
      "outputs": []
    },
    {
      "cell_type": "code",
      "metadata": {
        "id": "1RCqyltYzWLT"
      },
      "source": [
        ""
      ],
      "execution_count": null,
      "outputs": []
    }
  ]
}