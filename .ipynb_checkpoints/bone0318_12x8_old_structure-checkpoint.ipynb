{
 "cells": [
  {
   "cell_type": "code",
   "execution_count": null,
   "metadata": {},
   "outputs": [
    {
     "name": "stderr",
     "output_type": "stream",
     "text": [
      "Using TensorFlow backend.\n"
     ]
    }
   ],
   "source": [
    "from __future__ import division\n",
    "\n",
    "\n",
    "import numpy as np\n",
    "from scipy.sparse import coo_matrix\n",
    "from scipy.sparse.linalg import spsolve\n",
    "from matplotlib import colors\n",
    "import matplotlib.pyplot as plt\n",
    "\n",
    "import numpy as np\n",
    "import matplotlib.pyplot as plt\n",
    "from scipy.stats import norm\n",
    "\n",
    "import numpy as np\n",
    "import matplotlib.pyplot as plt\n",
    "from scipy.stats import norm\n",
    "\n",
    "import keras\n",
    "from keras.preprocessing.image import ImageDataGenerator\n",
    "from  keras import callbacks\n",
    "from keras.callbacks import EarlyStopping\n",
    "from keras.layers import Input, Dense, Lambda, Flatten, Reshape, Layer, merge, BatchNormalization\n",
    "from keras.layers import Conv2D, Conv2DTranspose, MaxPooling2D, Dropout, UpSampling2D, Activation\n",
    "from keras.models import Model\n",
    "from keras import backend as K\n",
    "from keras import metrics\n",
    "#from keras.datasets import mnist\n",
    "from keras.layers.advanced_activations import LeakyReLU\n",
    "import tensorflow as tf\n",
    "import math\n",
    "import time"
   ]
  },
  {
   "cell_type": "code",
   "execution_count": 2,
   "metadata": {},
   "outputs": [
    {
     "name": "stdout",
     "output_type": "stream",
     "text": [
      "data loading.....\n",
      "data processing.....\n",
      "train, val = 10000 1000\n",
      "train_batch, val_batch = 9984 992\n"
     ]
    }
   ],
   "source": [
    "np.random.seed(1337)\n",
    "\n",
    "\n",
    "\n",
    "\n",
    "#img_rows, img_cols, img_chns = 28, 28, 1\n",
    "img_rows, img_cols, img_chns = 12, 12, 1\n",
    "upscale = 8\n",
    "batch_size = 32\n",
    "epochs = 10\n",
    "val_ratio = 1/11\n",
    "resume_mode = 0  # 0: restart, 1: check point, 2: final \n",
    "verbose = 1 # 0: non output, 1: batch, 2: epoch\n",
    "pre_upscale = False\n",
    "if pre_upscale:\n",
    "    input_train = low_img_train\n",
    "    input_val = low_img_val\n",
    "\n",
    "if K.image_data_format() == 'channels_first':\n",
    "    original_img_size = (img_chns, img_rows, img_cols)\n",
    "    input_size = (img_chns, img_rows, img_cols)\n",
    "    # disp_size = (6, img_rows + 1, img_cols + 1)\n",
    "    # se_size = (4, img_rows, img_cols)\n",
    "\n",
    "else:\n",
    "    original_img_size = (img_rows*upscale, img_cols*upscale, img_chns)\n",
    "    input_size = (img_rows, img_cols, img_chns)\n",
    "    disp_size = (img_rows+1, img_cols+1, 6)\n",
    "    se_size = (img_rows, img_cols, 4)\n",
    "\n",
    "\n",
    "\n",
    "nY = img_rows*img_cols\n",
    "\n",
    "print('data loading.....')\n",
    "\n",
    "folder = '12x8'\n",
    "\n",
    "low_img = np.load('./%s/low.npy' % folder)\n",
    "high_img = np.load('./%s/high.npy'% folder)\n",
    "#print(low_img[0])\n",
    "# low_img = (low_img - 0.01)*(1.00/0.99)\n",
    "# high_img = (high_img - 0.01)*(1.00/0.99)\n",
    "#print(low_img[0])\n",
    "\n",
    "dx1 = np.load('./%s/dx1.npy'% folder)\n",
    "dx2 = np.load('./%s/dx2.npy'% folder)\n",
    "dx3 = np.load('./%s/dx3.npy'% folder)\n",
    "dy1 = np.load('./%s/dy1.npy'% folder)\n",
    "dy2 = np.load('./%s/dy2.npy'% folder)\n",
    "dy3 = np.load('./%s/dy3.npy'% folder)\n",
    "\n",
    "se1 = np.load('./%s/se1.npy'% folder)\n",
    "se2 = np.load('./%s/se2.npy'% folder)\n",
    "se3 = np.load('./%s/se3.npy'% folder)\n",
    "se_sum = np.load('./%s/se_sum.npy'% folder)\n",
    "\n",
    "\n",
    "low_img_val = np.load('./%s/low_val.npy' % folder)\n",
    "high_img_val = np.load('./%s/high_val.npy'% folder)\n",
    "dx1_val = np.load('./%s/dx1_val.npy'% folder)\n",
    "dx2_val = np.load('./%s/dx2_val.npy'% folder)\n",
    "dx3_val = np.load('./%s/dx3_val.npy'% folder)\n",
    "dy1_val = np.load('./%s/dy1_val.npy'% folder)\n",
    "dy2_val = np.load('./%s/dy2_val.npy'% folder)\n",
    "dy3_val = np.load('./%s/dy3_val.npy'% folder)\n",
    "\n",
    "se1_val = np.load('./%s/se1_val.npy'% folder)\n",
    "se2_val = np.load('./%s/se2_val.npy'% folder)\n",
    "se3_val = np.load('./%s/se3_val.npy'% folder)\n",
    "se_sum_val = np.load('./%s/se_sum_val.npy'% folder)\n",
    "\n",
    "low_img = np.concatenate((low_img,low_img_val),axis=0)\n",
    "high_img = np.concatenate((high_img,high_img_val),axis=0)\n",
    "dx1 = np.concatenate((dx1,dx1_val),axis=0)\n",
    "dx2 = np.concatenate((dx2,dx2_val),axis=0)\n",
    "dx3 = np.concatenate((dx3,dx3_val),axis=0)\n",
    "dy1 = np.concatenate((dy1,dy1_val),axis=0)\n",
    "dy2 = np.concatenate((dy2,dy2_val),axis=0)\n",
    "dy3 = np.concatenate((dy3,dy3_val),axis=0)\n",
    "\n",
    "se1 = np.concatenate((se1,se1_val),axis=0)\n",
    "se2 = np.concatenate((se2,se2_val),axis=0)\n",
    "se3 = np.concatenate((se3,se3_val),axis=0)\n",
    "se_sum = np.concatenate((se_sum,se_sum_val),axis=0)\n",
    "\n",
    "del low_img_val, high_img_val, dx1_val, dx2_val, dx3_val\n",
    "del dy1_val, dy2_val, dy3_val\n",
    "del se1_val, se2_val, se3_val, se_sum_val\n",
    "\n",
    "print('data processing.....')\n",
    "\n",
    "# low_img = low_img[0:1000, :]\n",
    "# high_img = high_img[0:1000, :]\n",
    "\n",
    "\n",
    "nData = low_img.shape[0]\n",
    "val_num = int(val_ratio * nData)\n",
    "train_num = nData - val_num\n",
    "\n",
    "\n",
    "# trian_num = 96\n",
    "print('train, val =', train_num, val_num)\n",
    "# val_num = 5000\n",
    "# train_num = 25000\n",
    "\n",
    "# batch_train_num = (train_num) // (batch_size / val_ratio)\n",
    "# batch_val_num = (val_num) // (batch_size / val_ratio)\n",
    "\n",
    "val_num = (val_num // batch_size) * batch_size\n",
    "train_num = (train_num // batch_size) *batch_size\n",
    "\n",
    "print('train_batch, val_batch =', train_num, val_num)\n",
    "\n",
    "\n",
    "\n",
    "low_img_train = low_img[0:train_num, :]\n",
    "high_img_train = high_img[0:train_num:, :]\n",
    "\n",
    "dx1_train = dx1[0:train_num:, :]\n",
    "dx2_train = dx2[0:train_num:, :]\n",
    "dx3_train = dx3[0:train_num:, :]\n",
    "dy1_train = dy1[0:train_num:, :]\n",
    "dy2_train = dy2[0:train_num:, :]\n",
    "dy3_train = dy3[0:train_num:, :]\n",
    "se1_train = se1[0:train_num:, :]\n",
    "se2_train = se2[0:train_num:, :]\n",
    "se3_train = se3[0:train_num:, :]\n",
    "se_sum_train = se_sum[0:train_num:, :]\n",
    "\n",
    "low_img_val = low_img[train_num:train_num+val_num, :]\n",
    "high_img_val = high_img[train_num:train_num+val_num, :]\n",
    "\n",
    "dx1_val = dx1[train_num:train_num+val_num, :]\n",
    "dx2_val = dx2[train_num:train_num+val_num, :]\n",
    "dx3_val = dx3[train_num:train_num+val_num, :]\n",
    "dy1_val = dy1[train_num:train_num+val_num, :]\n",
    "dy2_val = dy2[train_num:train_num+val_num, :]\n",
    "dy3_val = dy3[train_num:train_num+val_num, :]\n",
    "\n",
    "se1_val = se1[train_num:train_num+val_num, :]\n",
    "se2_val = se2[train_num:train_num+val_num, :]\n",
    "se3_val = se3[train_num:train_num+val_num, :]\n",
    "se_sum_val = se_sum[train_num:train_num+val_num, :]\n",
    "\n",
    "\n",
    "del low_img, high_img, dx1, dx2, dx3, dy1,dy2, dy3, se1, se2, se3, se_sum"
   ]
  },
  {
   "cell_type": "code",
   "execution_count": 3,
   "metadata": {},
   "outputs": [
    {
     "name": "stdout",
     "output_type": "stream",
     "text": [
      "data reading finished\n"
     ]
    }
   ],
   "source": [
    "# np.save('low_img_train8.npy',low_img_train.astype(np.float32))\n",
    "# np.save('high_img_train8.npy',high_img_train.astype(np.float32))\n",
    "# np.save('disp_train8.npy',disp_train.astype(np.float32))\n",
    "# np.save('se_train8.npy',se_train.astype(np.float32))\n",
    "\n",
    "# np.save('low_img_val.npy',low_img_val.astype(np.float32))\n",
    "# np.save('high_img_val.npy',high_img_val.astype(np.float32))\n",
    "# np.save('disp_val.npy',disp_val.astype(np.float32))\n",
    "# np.save('se_val.npy',se_val.astype(np.float32))\n",
    "\n",
    "# low_img_train = np.load('low_img_train.npy')\n",
    "# high_img_train = np.load('high_img_train.npy')\n",
    "# disp_train_x = np.load('disp_train_x.npy')\n",
    "# disp_train_y = np.load('disp_train_y.npy')\n",
    "# se_train = np.load('se_train.npy')\n",
    "\n",
    "# low_img_val = np.load('low_img_val.npy')\n",
    "# high_img_val = np.load('high_img_val.npy')\n",
    "# disp_val = np.load('disp_val.npy')\n",
    "# se_val = np.load('se_val.npy')\n",
    "\n",
    "# up_img_train = np.load('up_img_train.npy')\n",
    "# up_img_val = np.load('up_img_val.npy')\n",
    "\n",
    "\n",
    "\n",
    "print('data reading finished')"
   ]
  },
  {
   "cell_type": "code",
   "execution_count": 4,
   "metadata": {},
   "outputs": [
    {
     "name": "stdout",
     "output_type": "stream",
     "text": [
      "disp dim: (9984, 13, 13, 3)\n"
     ]
    }
   ],
   "source": [
    "def data_reshape(img,rows = img_rows,cols=img_cols,ch=1):\n",
    "    return img.reshape((img.shape[0],rows,cols,ch))\n",
    "\n",
    "low_img_train = data_reshape(low_img_train,ch=1)\n",
    "high_img_train = data_reshape(high_img_train,img_rows*upscale, img_cols*upscale,1)\n",
    "\n",
    "low_img_val = data_reshape(low_img_val,ch=1)\n",
    "high_img_val = data_reshape(high_img_val,img_rows*upscale, img_cols*upscale,1)\n",
    "\n",
    "dx1_train = data_reshape(dx1_train,img_rows+1, img_cols+1,1)\n",
    "dx2_train = data_reshape(dx2_train,img_rows+1, img_cols+1,1)\n",
    "dx3_train = data_reshape(dx3_train,img_rows+1, img_cols+1,1)\n",
    "dy1_train = data_reshape(dy1_train,img_rows+1, img_cols+1,1)\n",
    "dy2_train = data_reshape(dy2_train,img_rows+1, img_cols+1,1)\n",
    "dy3_train = data_reshape(dy3_train,img_rows+1, img_cols+1,1)\n",
    "\n",
    "dx1_val = data_reshape(dx1_val,img_rows+1, img_cols+1,1)\n",
    "dx2_val = data_reshape(dx2_val,img_rows+1, img_cols+1,1)\n",
    "dx3_val = data_reshape(dx3_val,img_rows+1, img_cols+1,1)\n",
    "dy1_val = data_reshape(dy1_val,img_rows+1, img_cols+1,1)\n",
    "dy2_val = data_reshape(dy2_val,img_rows+1, img_cols+1,1)\n",
    "dy3_val = data_reshape(dy3_val,img_rows+1, img_cols+1,1)\n",
    "\n",
    "se1_train = data_reshape(se1_train,ch=1)\n",
    "se2_train = data_reshape(se2_train,ch=1)\n",
    "se3_train = data_reshape(se3_train,ch=1)\n",
    "se_sum_train = data_reshape(se_sum_train,ch=1)\n",
    "\n",
    "se1_val = data_reshape(se1_val,ch=1)\n",
    "se2_val = data_reshape(se2_val,ch=1)\n",
    "se3_val = data_reshape(se3_val,ch=1)\n",
    "se_sum_val = data_reshape(se_sum_val,ch=1)\n",
    "\n",
    "#disp_train = np.concatenate((dx1_train,dx2_train,dx3_train,dy1_train,dy2_train,dy3_train),axis=3)\n",
    "disp_train_x = np.concatenate((dx1_train,dx2_train,dx3_train),axis=3)\n",
    "disp_train_y = np.concatenate((dy1_train,dy2_train,dy3_train),axis=3)\n",
    "\n",
    "disp_val = np.concatenate((dx1_val,dx2_val,dx3_val,dy1_val,dy2_val,dy3_val),axis=3)\n",
    "\n",
    "se_train =np.concatenate((se1_train, se2_train, se3_train, se_sum_train),axis=3)\n",
    "se_val =np.concatenate((se1_val, se2_val, se3_val, se_sum_val),axis=3)\n",
    "\n",
    "del dx1_train, dx2_train, dx3_train, dy1_train, dy2_train, dy3_train\n",
    "del dx1_val, dx2_val, dx3_val, dy1_val, dy2_val, dy3_val\n",
    "\n",
    "print('disp dim:',disp_train_x.shape)\n",
    "# disp_train = data_reshape(disp_train,ch=6)\n",
    "# disp_val = data_reshape(disp_val,ch=6)\n",
    "\n",
    "\n",
    "# low = low_img_train\n",
    "# high = high_img_train\n",
    "\n",
    "\n",
    "\n",
    "\n",
    "\n"
   ]
  },
  {
   "cell_type": "code",
   "execution_count": 5,
   "metadata": {
    "collapsed": true
   },
   "outputs": [],
   "source": [
    "low_img_train = low_img_train.astype(np.float32)\n",
    "high_img_train = high_img_train.astype(np.float32)\n",
    "disp_train_x = disp_train_x.astype(np.float32)\n",
    "disp_train_y = disp_train_y.astype(np.float32)\n",
    "se_train = se_train.astype(np.float32)\n",
    "\n",
    "low_img_val = low_img_val.astype(np.float32)\n",
    "high_img_val = high_img_val.astype(np.float32)\n",
    "disp_val = disp_val.astype(np.float32)\n",
    "se_val = se_val.astype(np.float32)\n"
   ]
  },
  {
   "cell_type": "code",
   "execution_count": 6,
   "metadata": {},
   "outputs": [
    {
     "name": "stdout",
     "output_type": "stream",
     "text": [
      "(992, 12, 12, 1)\n",
      "(992, 96, 96, 1)\n",
      "(992, 13, 13, 6)\n",
      "(992, 12, 12, 4)\n"
     ]
    }
   ],
   "source": [
    "print(low_img_val.shape)\n",
    "print(high_img_val.shape)\n",
    "print(disp_val.shape)\n",
    "print(se_val.shape)"
   ]
  },
  {
   "cell_type": "code",
   "execution_count": 7,
   "metadata": {
    "collapsed": true
   },
   "outputs": [],
   "source": [
    "from scipy.ndimage import rotate\n",
    "import math\n",
    "\n",
    "# plt.imshow(low[500].reshape(img_rows, img_cols), cmap='Greys', vmin=0, vmax=1)\n",
    "# plt.show()\n",
    "\n",
    "def rot_augment(img):\n",
    "    img90 = np.rot90(img,k=1,axes=(1,2))\n",
    "    img180 = np.rot90(img,k=2,axes=(1,2))\n",
    "    img270 = np.rot90(img,k=3,axes=(1,2))\n",
    "\n",
    "    return np.concatenate((img, img90, img180, img270), axis=0)\n",
    "    # return img\n",
    "\n",
    "def flip_augment(img):\n",
    "    fl=img[:,:,::-1,:]\n",
    "#     plt.imshow(img[0,:,:,0])\n",
    "#     plt.show()\n",
    "#     plt.imshow(fl[0,:,:,0])\n",
    "#     plt.show()\n",
    "\n",
    "    return np.concatenate((img,fl),axis=0)\n",
    "\n",
    "def flip_augment_vector(img):\n",
    "    fl=-img[:,:,::-1,:]\n",
    "    return np.concatenate((img,fl),axis=0)\n",
    "\n",
    "def augment(img):\n",
    "    return flip_augment(rot_augment(img))\n",
    "    #return rot_augment(img)\n",
    "\n",
    "def rot_vector(vx,vy,k):\n",
    "    vx = np.rot90(vx,k,axes=(1,2))\n",
    "    vy = np.rot90(vy,k,axes=(1,2))\n",
    "\n",
    "    th = -(2*3.141592)*(k*90/360)\n",
    "    print('th=',th)\n",
    "    vx_rot = vx*math.cos(th)-vy*math.sin(th)\n",
    "    vy_rot = vx*math.sin(th)+vy*math.cos(th)\n",
    "    \n",
    "    return vx_rot, vy_rot\n",
    "\n",
    "def rot_augment_vector(vx, vy):\n",
    "#     vx = rotate(vx,angle=90,axes=(2,1))\n",
    "#     vy = rotate(vy,angle=90,axes=(2,1))\n",
    "\n",
    "    vx90, vy90 = rot_vector(vx,vy,1)\n",
    "    vx180, vy180 = rot_vector(vx,vy,2)\n",
    "    vx270, vy270 = rot_vector(vx,vy,3)\n",
    "\n",
    "    vx = np.concatenate((vx,vx90,vx180,vx270),axis=0)\n",
    "    vy = np.concatenate((vy,vy90,vy180,vy270),axis=0)\n",
    "    \n",
    "    return flip_augment(vx), flip_augment(vy)\n",
    "    #return vx, vy\n",
    "    \n",
    "# low_img_train = rot_argument(low_img_train)\n",
    "# high_img_train = rot_argument(high_img_train)\n",
    "# disp_train = rot_argument(disp_train)\n",
    "\n",
    "\n"
   ]
  },
  {
   "cell_type": "code",
   "execution_count": 8,
   "metadata": {},
   "outputs": [
    {
     "name": "stdout",
     "output_type": "stream",
     "text": [
      "th= -1.570796\n",
      "th= -3.141592\n",
      "th= -4.712388000000001\n",
      "data augment end\n"
     ]
    }
   ],
   "source": [
    "low_img_train = augment(low_img_train)\n",
    "high_img_train = augment(high_img_train)\n",
    "#disp_train = augment(disp_train)\n",
    "disp_train_x, disp_train_y = rot_augment_vector(disp_train_x, disp_train_y)\n",
    "disp_train = np.concatenate((disp_train_x,disp_train_y),axis=3)\n",
    "se_train = augment(se_train)\n",
    "if pre_upscale: up_img_train = augment(up_img_train)\n",
    "\n",
    "\n",
    "# low_img_val = low_img_val.reshape((low_img_val.shape[0], img_rows, img_cols,1))\n",
    "# high_img_val = high_img_val.reshape((high_img_val.shape[0], img_rows*upscale, img_cols*upscale,1))\n",
    "# disp_val = data_reshape(disp_val,img_rows+1, img_cols+1, ch=6)\n",
    "# se_val = data_reshape(se_val,img_rows,img_cols,ch=4)\n",
    "\n",
    "\n",
    "print('data augment end')"
   ]
  },
  {
   "cell_type": "code",
   "execution_count": 9,
   "metadata": {},
   "outputs": [
    {
     "name": "stdout",
     "output_type": "stream",
     "text": [
      "min, max 30.092 -30.092\n",
      "disp x size (79872, 13, 13, 3)\n"
     ]
    },
    {
     "data": {
      "image/png": "[encoded data removed]",
      "text/plain": [
       "<matplotlib.figure.Figure at 0x266063bbb38>"
      ]
     },
     "metadata": {},
     "output_type": "display_data"
    },
    {
     "data": {
      "image/png": "[encoded data removed]",
      "text/plain": [
       "<matplotlib.figure.Figure at 0x266064606a0>"
      ]
     },
     "metadata": {},
     "output_type": "display_data"
    },
    {
     "data": {
      "image/png": "[encoded data removed]",
      "text/plain": [
       "<matplotlib.figure.Figure at 0x266064c4048>"
      ]
     },
     "metadata": {},
     "output_type": "display_data"
    },
    {
     "data": {
      "image/png": "[encoded data removed]",
      "text/plain": [
       "<matplotlib.figure.Figure at 0x2660da7cf98>"
      ]
     },
     "metadata": {},
     "output_type": "display_data"
    },
    {
     "data": {
      "image/png": "[encoded data removed]",
      "text/plain": [
       "<matplotlib.figure.Figure at 0x2660daf9e48>"
      ]
     },
     "metadata": {},
     "output_type": "display_data"
    },
    {
     "data": {
      "image/png": "[encoded data removed]",
      "text/plain": [
       "<matplotlib.figure.Figure at 0x2660649f438>"
      ]
     },
     "metadata": {},
     "output_type": "display_data"
    },
    {
     "data": {
      "image/png": "[encoded data removed]",
      "text/plain": [
       "<matplotlib.figure.Figure at 0x2660dcd8f98>"
      ]
     },
     "metadata": {},
     "output_type": "display_data"
    },
    {
     "data": {
      "image/png": "[encoded data removed]",
      "text/plain": [
       "<matplotlib.figure.Figure at 0x2660dc6abe0>"
      ]
     },
     "metadata": {},
     "output_type": "display_data"
    },
    {
     "data": {
      "image/png": "[encoded data removed]",
      "text/plain": [
       "<matplotlib.figure.Figure at 0x266064efdd8>"
      ]
     },
     "metadata": {},
     "output_type": "display_data"
    },
    {
     "data": {
      "image/png": "[encoded data removed]",
      "text/plain": [
       "<matplotlib.figure.Figure at 0x2660dc7bac8>"
      ]
     },
     "metadata": {},
     "output_type": "display_data"
    },
    {
     "data": {
      "image/png": "[encoded data removed]",
      "text/plain": [
       "<matplotlib.figure.Figure at 0x266064e2198>"
      ]
     },
     "metadata": {},
     "output_type": "display_data"
    },
    {
     "data": {
      "image/png": "[encoded data removed]",
      "text/plain": [
       "<matplotlib.figure.Figure at 0x26606531668>"
      ]
     },
     "metadata": {},
     "output_type": "display_data"
    },
    {
     "data": {
      "image/png": "[encoded data removed]",
      "text/plain": [
       "<matplotlib.figure.Figure at 0x2660da5ad68>"
      ]
     },
     "metadata": {},
     "output_type": "display_data"
    },
    {
     "data": {
      "image/png": "[encoded data removed]",
      "text/plain": [
       "<matplotlib.figure.Figure at 0x2660652e9e8>"
      ]
     },
     "metadata": {},
     "output_type": "display_data"
    },
    {
     "data": {
      "image/png": "[encoded data removed]",
      "text/plain": [
       "<matplotlib.figure.Figure at 0x26606517e80>"
      ]
     },
     "metadata": {},
     "output_type": "display_data"
    },
    {
     "data": {
      "image/png": "[encoded data removed]",
      "text/plain": [
       "<matplotlib.figure.Figure at 0x266064b5ba8>"
      ]
     },
     "metadata": {},
     "output_type": "display_data"
    }
   ],
   "source": [
    "print('min, max', disp_train_x.max(), disp_train_x.min())\n",
    "print('disp x size',disp_train_x.shape)\n",
    "\n",
    "for i in range(8):\n",
    "    plt.imshow(disp_train_x[i*10000,:,:,0])\n",
    "    plt.show()\n",
    "    plt.imshow(disp_train_y[i*10000,:,:,0])\n",
    "    plt.show()"
   ]
  },
  {
   "cell_type": "code",
   "execution_count": 10,
   "metadata": {},
   "outputs": [
    {
     "name": "stdout",
     "output_type": "stream",
     "text": [
      "train, val = 79872 992\n",
      "train_batch, val_batch = 79872 992\n",
      "data cutting...end\n"
     ]
    }
   ],
   "source": [
    "# 데이터 자르기\n",
    "\n",
    "# val_num = int(val_ratio * nData)\n",
    "\n",
    "# def CutData():\n",
    "    \n",
    "train_num = low_img_train.shape[0]\n",
    "val_num = low_img_val.shape[0]\n",
    "\n",
    "\n",
    "# trian_num = 96\n",
    "print('train, val =', train_num, val_num)\n",
    "# val_num = 5000\n",
    "# train_num = 25000\n",
    "\n",
    "# batch_train_num = (train_num) // (batch_size / val_ratio)\n",
    "# batch_val_num = (val_num) // (batch_size / val_ratio)\n",
    "\n",
    "val_num = (val_num // batch_size) * batch_size\n",
    "train_num = (train_num // batch_size) *batch_size\n",
    "\n",
    "print('train_batch, val_batch =', train_num, val_num)\n",
    "\n",
    "\n",
    "low_img_train = low_img_train[0:train_num, :,:,:]\n",
    "high_img_train = high_img_train[0:train_num:, :,:,:]\n",
    "disp_train = disp_train[0:train_num, :,:,:]\n",
    "se_train = se_train[0:train_num, :,:,:]\n",
    "if pre_upscale: up_img_train = up_img_train[0:train_num, :,:,:]\n",
    "\n",
    "\n",
    "low_img_val = low_img_val[0:val_num, :,:,:]\n",
    "high_img_val = high_img_val[0:val_num:, :,:,:]\n",
    "disp_val = disp_val[0:val_num, :,:,:]\n",
    "se_val = se_val[0:val_num, :,:,:]\n",
    "if pre_upscale: up_img_val = up_img_val[0:val_num, :,:,:]\n",
    "\n",
    "print('data cutting...end')"
   ]
  },
  {
   "cell_type": "code",
   "execution_count": 11,
   "metadata": {
    "collapsed": true
   },
   "outputs": [],
   "source": [
    "\n",
    "# from skimage import data, color\n",
    "# from skimage.transform import rescale, resize, downscale_local_mean\n",
    "# print('high size', high_img_train.shape)\n",
    "\n",
    "# del up_img_train\n",
    "# up_img_train=np.zeros((train_num,img_rows*upscale, img_cols*upscale,1),np.float32)\n",
    "\n",
    "# for i in range(train_num):\n",
    "#     down = downscale_local_mean(high_img_train[i,:,:,0],(upscale,upscale))\n",
    "#     up = rescale(down, upscale, order=3)\n",
    "#     up_img_train[i,:,:,0] = up\n",
    "#     if i % 100 == 0 : print('down&up scaling',i)\n",
    "#     plt.imshow(down, cmap='Greys', vmin=0, vmax=1)\n",
    "#     plt.show()\n",
    "#     plt.imshow(up, cmap='Greys', vmin=0, vmax=1)\n",
    "#     plt.show()\n",
    "    \n",
    "    \n"
   ]
  },
  {
   "cell_type": "code",
   "execution_count": 12,
   "metadata": {
    "collapsed": true
   },
   "outputs": [],
   "source": [
    "\n",
    "#del up_img_train\n",
    "# up_img_val=np.zeros((val_num,img_rows*upscale, img_cols*upscale,1),np.float32)\n",
    "\n",
    "# for i in range(val_num):\n",
    "#     down = downscale_local_mean(high_img_val[i,:,:,0],(upscale,upscale))\n",
    "#     up = rescale(down, upscale, order=3)\n",
    "#     up_img_val[i,:,:,0] = up\n",
    "#     if i % 100 == 0 : print('down&up scaling',i)\n",
    "#     plt.imshow(down, cmap='Greys', vmin=0, vmax=1)\n",
    "#     plt.show()\n",
    "#     plt.imshow(up, cmap='Greys', vmin=0, vmax=1)\n",
    "#     plt.show()\n",
    "    "
   ]
  },
  {
   "cell_type": "code",
   "execution_count": 13,
   "metadata": {},
   "outputs": [
    {
     "data": {
      "image/png": "[encoded data removed]",
      "text/plain": [
       "<matplotlib.figure.Figure at 0x2660ee674e0>"
      ]
     },
     "metadata": {},
     "output_type": "display_data"
    },
    {
     "data": {
      "image/png": "[encoded data removed]",
      "text/plain": [
       "<matplotlib.figure.Figure at 0x2660eedd5c0>"
      ]
     },
     "metadata": {},
     "output_type": "display_data"
    }
   ],
   "source": [
    "\n",
    "plt.imshow(high_img_train[100].reshape(img_rows*upscale, img_cols*upscale), cmap='Greys', vmin=0, vmax=1)\n",
    "plt.show()\n",
    "plt.imshow(low_img_train[100].reshape(img_rows, img_cols), cmap='Greys', vmin=0, vmax=1)\n",
    "plt.show()\n",
    "if pre_upscale:\n",
    "    plt.imshow(up_img_train[0].reshape(img_rows*upscale, img_cols*upscale), cmap='Greys', vmin=0, vmax=1)\n",
    "    plt.show()"
   ]
  },
  {
   "cell_type": "code",
   "execution_count": 14,
   "metadata": {},
   "outputs": [
    {
     "name": "stdout",
     "output_type": "stream",
     "text": [
      "1.01587 0.0\n",
      "1.0 0.0\n"
     ]
    }
   ],
   "source": [
    "print(low_img_train.max(),low_img_train.min())\n",
    "print(high_img_train.max(),high_img_train.min())\n",
    "\n",
    "# low_img_train = np.clip(low_img_train,0,1)\n",
    "# high_img_train = np.clip(high_img_train,0,1)"
   ]
  },
  {
   "cell_type": "code",
   "execution_count": 17,
   "metadata": {},
   "outputs": [
    {
     "name": "stdout",
     "output_type": "stream",
     "text": [
      "data processing finished\n",
      "\n"
     ]
    }
   ],
   "source": [
    " #low_img_train = low_img[0:96, :]\n",
    "# high_img_train = high_img[0:96:, :]\n",
    "\n",
    "\n",
    "print('data processing finished\\n')\n",
    "x = Input(batch_shape=(batch_size,) + input_size)\n",
    "y = Input(batch_shape=(batch_size,) + original_img_size)\n",
    "disp = Input(batch_shape=(batch_size,) + disp_size)\n",
    "se = Input(batch_shape=(batch_size,) + se_size)\n",
    "\n",
    "act_f = 'relu'\n",
    "ker_num = int(64)\n",
    "\n",
    "conv0 = Conv2D(6, 2, activation = act_f, padding = 'valid', kernel_initializer = 'he_normal')(disp)\n",
    "conv01 = BatchNormalization()(conv0)\n",
    "\n",
    "merge_disp_se = keras.layers.concatenate([conv01,se], axis = 3)\n",
    "\n",
    "conv02 = Conv2D(ker_num, 3, activation = act_f, padding = 'same', kernel_initializer = 'he_normal')(merge_disp_se)\n",
    "conv03 = BatchNormalization()(conv02)\n",
    "# up_disp = UpSampling2D(size = (3,3))(conv0)\n",
    "\n",
    "\n",
    "conv1 = Conv2D(ker_num, 3, activation = act_f, padding = 'same', kernel_initializer = 'he_normal')(UpSampling2D(size = (upscale,upscale))(x))\n",
    "conv11 = BatchNormalization()(conv1)\n",
    "conv12 = Conv2D(ker_num, 3, activation = act_f, padding = 'same', kernel_initializer = 'he_normal')(conv11)\n",
    "conv13 = BatchNormalization()(conv12)\n",
    "conv14 = Conv2D(ker_num, 3, activation = act_f, padding = 'same', kernel_initializer = 'he_normal')(conv13)\n",
    "conv15 = BatchNormalization()(conv14)\n",
    "pool1 = MaxPooling2D(pool_size=(2, 2))(conv15)\n",
    "\n",
    "conv2 = Conv2D(ker_num*2, 3, activation = act_f, padding = 'same', kernel_initializer = 'he_normal')(pool1)\n",
    "conv21 = BatchNormalization()(conv2)\n",
    "conv22 = Conv2D(ker_num*2, 3, activation = act_f, padding = 'same', kernel_initializer = 'he_normal')(conv21)\n",
    "conv23 = BatchNormalization()(conv22)\n",
    "conv24 = Conv2D(ker_num*3, 3, activation = act_f, padding = 'same', kernel_initializer = 'he_normal')(conv23)\n",
    "conv25 = BatchNormalization()(conv24)\n",
    "pool2 = MaxPooling2D(pool_size=(2, 2))(conv25)\n",
    "\n",
    "# conca =  keras.layers.concatenate([pool24,up_disp], axis = 3)\n",
    "\n",
    "conv3 = Conv2D(ker_num*4, 3, activation = act_f, padding = 'same', kernel_initializer = 'he_normal')(pool2)#(pool24)\n",
    "conv31 = BatchNormalization()(conv3)\n",
    "conv32 = Conv2D(ker_num*4, 3, activation = act_f, padding = 'same', kernel_initializer = 'he_normal')(conv31)\n",
    "conv33 = BatchNormalization()(conv32)\n",
    "conv34 = Conv2D(ker_num*4, 3, activation = act_f, padding = 'same', kernel_initializer = 'he_normal')(conv33)\n",
    "conv35 = BatchNormalization()(conv34)\n",
    "pool3 = MaxPooling2D(pool_size=(2, 2))(conv35)\n",
    "\n",
    "\n",
    "merge6 = keras.layers.concatenate([conv03,pool3], axis = 3)\n",
    "conv4 = Conv2D(ker_num*8, 3, activation = act_f, padding = 'same', kernel_initializer = 'he_normal')(merge6)\n",
    "conv41 = BatchNormalization()(conv4)\n",
    "conv42 = Conv2D(ker_num*8, 3, activation = act_f, padding = 'same', kernel_initializer = 'he_normal')(conv41)\n",
    "conv43 = BatchNormalization()(conv42)\n",
    "conv44 = Conv2D(ker_num*8, 3, activation = act_f, padding = 'same', kernel_initializer = 'he_normal')(conv43)\n",
    "conv45 = BatchNormalization()(conv44)\n",
    "\n",
    "# drop4 = Dropout(0.0)(conv4)\n",
    "\n",
    "# pool44 = MaxPooling2D(pool_size=(2, 2))(conv43)\n",
    "# flat1 = Reshape((1,1,1),name='reshape')(xv)\n",
    "\n",
    "# flat_merge = keras.layers.concatenate([flat1, pool44], axis=3, name='conca1')\n",
    "# flat_merge_reshape = Reshape((1,1,513))(flat_merge)\n",
    "\n",
    "\n",
    "# up6 = Conv2D(512, 2, activation = act_f, padding = 'same', kernel_initializer = 'he_normal')(UpSampling2D(size = (2,2))(conv43))\n",
    "# merge6 = keras.layers.concatenate([conv43,up6], axis = 3)\n",
    "# conv61 = BatchNormalization()(merge6)\n",
    "# conv62 = Conv2D(256, 3, activation = act_f, padding = 'same', kernel_initializer = 'he_normal')(conv61)\n",
    "# conv63 = BatchNormalization()(conv62)\n",
    "# conv64 = Conv2D(256, 3, activation = act_f, padding = 'same', kernel_initializer = 'he_normal')(conv63)\n",
    "# conv65 = BatchNormalization()(conv64)\n",
    "\n",
    "\n",
    "up7 = Conv2D(ker_num*4, 3, activation = act_f, padding = 'same', kernel_initializer = 'he_normal')(UpSampling2D(size = (2,2))(conv45))\n",
    "merge7 = keras.layers.concatenate([conv35,up7], axis = 3)\n",
    "conv71 = BatchNormalization()(merge7)\n",
    "conv72 = Conv2D(ker_num*4, 3, activation = act_f, padding = 'same', kernel_initializer = 'he_normal')(conv71)\n",
    "conv73 = BatchNormalization()(conv72)\n",
    "conv74 = Conv2D(ker_num*4, 3, activation = act_f, padding = 'same', kernel_initializer = 'he_normal')(conv73)\n",
    "conv75 = BatchNormalization()(conv74)\n",
    "conv76 = Conv2D(ker_num*4, 3, activation = act_f, padding = 'same', kernel_initializer = 'he_normal')(conv75)\n",
    "conv77 = BatchNormalization()(conv76)\n",
    "\n",
    "\n",
    "up8 = Conv2D(ker_num*2, 2, activation=act_f, padding='same', kernel_initializer='he_normal')(UpSampling2D(size=(2, 2))(conv77))\n",
    "merge8 = keras.layers.concatenate([conv25, up8], axis=3)\n",
    "conv8 = BatchNormalization()(merge8)\n",
    "conv81 = Conv2D(ker_num*2, 3, activation=act_f, padding='same', kernel_initializer='he_normal')(conv8)\n",
    "conv82 = BatchNormalization()(conv81)\n",
    "conv83 = Conv2D(ker_num*2, 3, activation=act_f, padding='same', kernel_initializer='he_normal')(conv82)\n",
    "conv84 = BatchNormalization()(conv83)\n",
    "conv85 = Conv2D(ker_num*2, 3, activation=act_f, padding='same', kernel_initializer='he_normal')(conv84)\n",
    "conv86 = BatchNormalization()(conv85)\n",
    "\n",
    "up9 = Conv2D(ker_num, 2, activation=act_f, padding='same', kernel_initializer='he_normal')(UpSampling2D(size=(2, 2))(conv86))\n",
    "merge9 = keras.layers.concatenate([conv15, up9], axis=3)\n",
    "conv9 = BatchNormalization()(merge9)\n",
    "conv91 = Conv2D(ker_num, 3, activation=act_f, padding='same', kernel_initializer='he_normal')(conv9)\n",
    "conv92 = BatchNormalization()(conv91)\n",
    "conv93 = Conv2D(ker_num, 3, activation=act_f, padding='same', kernel_initializer='he_normal')(conv92)\n",
    "conv94 = BatchNormalization()(conv93)\n",
    "conv95 = Conv2D(ker_num, 3, activation=act_f, padding='same', kernel_initializer='he_normal')(conv94)\n",
    "conv96 = BatchNormalization()(conv95)\n",
    "conv97 = Conv2D(2, 3, activation=act_f, padding='same', kernel_initializer='he_normal')(conv96)\n",
    "conv98 = BatchNormalization()(conv97)\n",
    "\n",
    "conv10 = Conv2D(1, 1, activation='sigmoid')(conv98)\n",
    "vae = Model([x, disp, se], conv10)"
   ]
  },
  {
   "cell_type": "code",
   "execution_count": 18,
   "metadata": {
    "collapsed": true,
    "scrolled": false
   },
   "outputs": [],
   "source": [
    "if resume_mode == 2:\n",
    "    print('load final weight')\n",
    "    vae.load_weights('model_weight.h5')\n",
    "if resume_mode == 1:\n",
    "    print('load check point')\n",
    "    vae.load_weights('check.h5')\n",
    "#vae.load_weights('check.h5')\n",
    "vae.compile(optimizer='adam',#''rmsprop',\n",
    "            #loss=vae_loss4,\n",
    "            loss='mae',\n",
    "            #metrics=['mae', 'acc'],\n",
    "            )\n",
    "#vae.summary()"
   ]
  },
  {
   "cell_type": "code",
   "execution_count": 19,
   "metadata": {},
   "outputs": [
    {
     "name": "stdout",
     "output_type": "stream",
     "text": [
      "(79872, 13, 13, 6)\n",
      "(79872, 12, 12, 4)\n",
      "(79872, 12, 12, 1)\n",
      "(79872, 96, 96, 1)\n",
      "(992, 13, 13, 6)\n",
      "(992, 12, 12, 4)\n",
      "(992, 96, 96, 1)\n",
      "(992, 12, 12, 1)\n"
     ]
    }
   ],
   "source": [
    "print(disp_train.shape)\n",
    "#print(up_img_train.shape)\n",
    "print(se_train.shape)\n",
    "print(low_img_train.shape)\n",
    "print(high_img_train.shape)\n",
    "\n",
    "print(disp_val.shape)\n",
    "#print(up_img_val.shape)\n",
    "print(se_val.shape)\n",
    "print(high_img_val.shape)\n",
    "print(low_img_val.shape)"
   ]
  },
  {
   "cell_type": "code",
   "execution_count": 20,
   "metadata": {},
   "outputs": [
    {
     "name": "stdout",
     "output_type": "stream",
     "text": [
      "Train on 79872 samples, validate on 992 samples\n",
      "Epoch 1/50\n",
      "79840/79872 [============================>.] - ETA: 0s - loss: 0.0921Epoch 00000: val_loss improved from inf to 0.07004, saving model to check.h5\n",
      "79872/79872 [==============================] - 1887s - loss: 0.0921 - val_loss: 0.0700\n",
      "Epoch 2/50\n",
      "79840/79872 [============================>.] - ETA: 0s - loss: 0.0674Epoch 00001: val_loss improved from 0.07004 to 0.06476, saving model to check.h5\n",
      "79872/79872 [==============================] - 1876s - loss: 0.0674 - val_loss: 0.0648\n",
      "Epoch 3/50\n",
      "79840/79872 [============================>.] - ETA: 0s - loss: 0.0600Epoch 00002: val_loss improved from 0.06476 to 0.06254, saving model to check.h5\n",
      "79872/79872 [==============================] - 1870s - loss: 0.0600 - val_loss: 0.0625\n",
      "Epoch 4/50\n",
      "79840/79872 [============================>.] - ETA: 0s - loss: 0.0548Epoch 00003: val_loss improved from 0.06254 to 0.06101, saving model to check.h5\n",
      "79872/79872 [==============================] - 1864s - loss: 0.0548 - val_loss: 0.0610\n",
      "Epoch 5/50\n",
      "79840/79872 [============================>.] - ETA: 0s - loss: 0.0508Epoch 00004: val_loss improved from 0.06101 to 0.06044, saving model to check.h5\n",
      "79872/79872 [==============================] - 1863s - loss: 0.0508 - val_loss: 0.0604\n",
      "Epoch 6/50\n",
      "79840/79872 [============================>.] - ETA: 0s - loss: 0.0477Epoch 00005: val_loss improved from 0.06044 to 0.05879, saving model to check.h5\n",
      "79872/79872 [==============================] - 1872s - loss: 0.0477 - val_loss: 0.0588\n",
      "Epoch 7/50\n",
      "79840/79872 [============================>.] - ETA: 0s - loss: 0.0452Epoch 00006: val_loss did not improve\n",
      "79872/79872 [==============================] - 1869s - loss: 0.0452 - val_loss: 0.0595\n",
      "Epoch 8/50\n",
      "79840/79872 [============================>.] - ETA: 0s - loss: 0.0432Epoch 00007: val_loss improved from 0.05879 to 0.05834, saving model to check.h5\n",
      "79872/79872 [==============================] - 1868s - loss: 0.0432 - val_loss: 0.0583\n",
      "Epoch 9/50\n",
      "79840/79872 [============================>.] - ETA: 0s - loss: 0.0415Epoch 00008: val_loss did not improve\n",
      "79872/79872 [==============================] - 1864s - loss: 0.0415 - val_loss: 0.0588\n",
      "Epoch 10/50\n",
      "79840/79872 [============================>.] - ETA: 0s - loss: 0.0400Epoch 00009: val_loss improved from 0.05834 to 0.05752, saving model to check.h5\n",
      "79872/79872 [==============================] - 1864s - loss: 0.0400 - val_loss: 0.0575\n",
      "Epoch 11/50\n",
      "79840/79872 [============================>.] - ETA: 0s - loss: 0.0387Epoch 00010: val_loss did not improve\n",
      "79872/79872 [==============================] - 1866s - loss: 0.0387 - val_loss: 0.0586\n",
      "Epoch 12/50\n",
      "79840/79872 [============================>.] - ETA: 0s - loss: 0.0377Epoch 00011: val_loss did not improve\n",
      "79872/79872 [==============================] - 1868s - loss: 0.0377 - val_loss: 0.0577\n",
      "Epoch 13/50\n",
      "79840/79872 [============================>.] - ETA: 0s - loss: 0.0367Epoch 00012: val_loss did not improve\n",
      "79872/79872 [==============================] - 1866s - loss: 0.0367 - val_loss: 0.0577\n",
      "Epoch 14/50\n",
      "79840/79872 [============================>.] - ETA: 0s - loss: 0.0358Epoch 00013: val_loss did not improve\n",
      "79872/79872 [==============================] - 1868s - loss: 0.0358 - val_loss: 0.0595\n",
      "Epoch 15/50\n",
      "79840/79872 [============================>.] - ETA: 0s - loss: 0.0350Epoch 00014: val_loss did not improve\n",
      "79872/79872 [==============================] - 1866s - loss: 0.0350 - val_loss: 0.0589\n",
      "Epoch 16/50\n",
      "79840/79872 [============================>.] - ETA: 0s - loss: 0.0343Epoch 00015: val_loss did not improve\n",
      "79872/79872 [==============================] - 1864s - loss: 0.0343 - val_loss: 0.0577\n",
      "Epoch 17/50\n",
      "79840/79872 [============================>.] - ETA: 0s - loss: 0.0336Epoch 00016: val_loss improved from 0.05752 to 0.05738, saving model to check.h5\n",
      "79872/79872 [==============================] - 1865s - loss: 0.0336 - val_loss: 0.0574\n",
      "Epoch 18/50\n",
      "79840/79872 [============================>.] - ETA: 0s - loss: 0.0330Epoch 00017: val_loss improved from 0.05738 to 0.05730, saving model to check.h5\n",
      "79872/79872 [==============================] - 1863s - loss: 0.0330 - val_loss: 0.0573\n",
      "Epoch 19/50\n",
      "79840/79872 [============================>.] - ETA: 0s - loss: 0.0325Epoch 00018: val_loss did not improve\n",
      "79872/79872 [==============================] - 1860s - loss: 0.0325 - val_loss: 0.0579\n",
      "Epoch 20/50\n",
      "79840/79872 [============================>.] - ETA: 0s - loss: 0.0319Epoch 00019: val_loss did not improve\n",
      "79872/79872 [==============================] - 1860s - loss: 0.0319 - val_loss: 0.0589\n",
      "Epoch 21/50\n",
      "79840/79872 [============================>.] - ETA: 0s - loss: 0.0315Epoch 00020: val_loss did not improve\n",
      "79872/79872 [==============================] - 1860s - loss: 0.0315 - val_loss: 0.0578\n",
      "Epoch 22/50\n",
      "79840/79872 [============================>.] - ETA: 0s - loss: 0.0310Epoch 00021: val_loss did not improve\n",
      "79872/79872 [==============================] - 1859s - loss: 0.0310 - val_loss: 0.0597\n",
      "Epoch 23/50\n",
      "79840/79872 [============================>.] - ETA: 0s - loss: 0.0306Epoch 00022: val_loss did not improve\n",
      "79872/79872 [==============================] - 1859s - loss: 0.0306 - val_loss: 0.0580\n",
      "Epoch 24/50\n",
      "79840/79872 [============================>.] - ETA: 0s - loss: 0.0302Epoch 00023: val_loss did not improve\n",
      "79872/79872 [==============================] - 1859s - loss: 0.0302 - val_loss: 0.0589\n",
      "Epoch 25/50\n",
      "79840/79872 [============================>.] - ETA: 0s - loss: 0.0298Epoch 00024: val_loss improved from 0.05730 to 0.05713, saving model to check.h5\n",
      "79872/79872 [==============================] - 1858s - loss: 0.0298 - val_loss: 0.0571\n",
      "Epoch 26/50\n",
      "79840/79872 [============================>.] - ETA: 0s - loss: 0.0295Epoch 00025: val_loss did not improve\n",
      "79872/79872 [==============================] - 1857s - loss: 0.0295 - val_loss: 0.0580\n",
      "Epoch 27/50\n",
      "79840/79872 [============================>.] - ETA: 0s - loss: 0.0291Epoch 00026: val_loss did not improve\n",
      "79872/79872 [==============================] - 1857s - loss: 0.0291 - val_loss: 0.0575\n",
      "Epoch 28/50\n",
      "79840/79872 [============================>.] - ETA: 0s - loss: 0.0288Epoch 00027: val_loss did not improve\n",
      "79872/79872 [==============================] - 1856s - loss: 0.0288 - val_loss: 0.0575\n",
      "Epoch 29/50\n",
      "79840/79872 [============================>.] - ETA: 0s - loss: 0.0286Epoch 00028: val_loss did not improve\n",
      "79872/79872 [==============================] - 1855s - loss: 0.0286 - val_loss: 0.0595\n",
      "Epoch 30/50\n",
      "79840/79872 [============================>.] - ETA: 0s - loss: 0.0283Epoch 00029: val_loss did not improve\n",
      "79872/79872 [==============================] - 1856s - loss: 0.0283 - val_loss: 0.0576\n",
      "Epoch 31/50\n",
      "79840/79872 [============================>.] - ETA: 0s - loss: 0.0280Epoch 00030: val_loss did not improve\n",
      "79872/79872 [==============================] - 1856s - loss: 0.0280 - val_loss: 0.0595\n",
      "Epoch 32/50\n",
      "79840/79872 [============================>.] - ETA: 0s - loss: 0.0277Epoch 00031: val_loss improved from 0.05713 to 0.05710, saving model to check.h5\n",
      "79872/79872 [==============================] - 1855s - loss: 0.0277 - val_loss: 0.0571\n",
      "Epoch 33/50\n",
      "79840/79872 [============================>.] - ETA: 0s - loss: 0.0275Epoch 00032: val_loss did not improve\n",
      "79872/79872 [==============================] - 1855s - loss: 0.0275 - val_loss: 0.0585\n",
      "Epoch 34/50\n",
      "79840/79872 [============================>.] - ETA: 0s - loss: 0.0272Epoch 00033: val_loss did not improve\n",
      "79872/79872 [==============================] - 1854s - loss: 0.0272 - val_loss: 0.0579\n",
      "Epoch 35/50\n",
      "79840/79872 [============================>.] - ETA: 0s - loss: 0.0270Epoch 00034: val_loss did not improve\n",
      "79872/79872 [==============================] - 1854s - loss: 0.0270 - val_loss: 0.0590\n",
      "Epoch 36/50\n",
      "79840/79872 [============================>.] - ETA: 0s - loss: 0.0268Epoch 00035: val_loss did not improve\n",
      "79872/79872 [==============================] - 1855s - loss: 0.0268 - val_loss: 0.0581\n",
      "Epoch 37/50\n",
      "79840/79872 [============================>.] - ETA: 0s - loss: 0.0266Epoch 00036: val_loss did not improve\n",
      "79872/79872 [==============================] - 1854s - loss: 0.0266 - val_loss: 0.0584\n",
      "Epoch 38/50\n",
      "79840/79872 [============================>.] - ETA: 0s - loss: 0.0264Epoch 00037: val_loss did not improve\n",
      "79872/79872 [==============================] - 1853s - loss: 0.0264 - val_loss: 0.0575\n",
      "Epoch 39/50\n",
      "79840/79872 [============================>.] - ETA: 0s - loss: 0.0262Epoch 00038: val_loss did not improve\n",
      "79872/79872 [==============================] - 1853s - loss: 0.0262 - val_loss: 0.0590\n",
      "Epoch 40/50\n",
      "79840/79872 [============================>.] - ETA: 0s - loss: 0.0260Epoch 00039: val_loss did not improve\n",
      "79872/79872 [==============================] - 1853s - loss: 0.0260 - val_loss: 0.0575\n",
      "Epoch 41/50\n",
      "79840/79872 [============================>.] - ETA: 0s - loss: 0.0259Epoch 00040: val_loss did not improve\n",
      "79872/79872 [==============================] - 1853s - loss: 0.0259 - val_loss: 0.0581\n",
      "Epoch 42/50\n",
      "79840/79872 [============================>.] - ETA: 0s - loss: 0.0257Epoch 00041: val_loss did not improve\n",
      "79872/79872 [==============================] - 1853s - loss: 0.0257 - val_loss: 0.0575\n",
      "Epoch 43/50\n",
      "79840/79872 [============================>.] - ETA: 0s - loss: 0.0255Epoch 00042: val_loss did not improve\n",
      "79872/79872 [==============================] - 1850s - loss: 0.0255 - val_loss: 0.0585\n",
      "Epoch 44/50\n",
      "79840/79872 [============================>.] - ETA: 0s - loss: 0.0253Epoch 00043: val_loss did not improve\n",
      "79872/79872 [==============================] - 1855s - loss: 0.0253 - val_loss: 0.0579\n",
      "Epoch 45/50\n",
      "79840/79872 [============================>.] - ETA: 0s - loss: 0.0252Epoch 00044: val_loss did not improve\n",
      "79872/79872 [==============================] - 1862s - loss: 0.0252 - val_loss: 0.0579\n",
      "Epoch 46/50\n",
      "79840/79872 [============================>.] - ETA: 0s - loss: 0.0250Epoch 00045: val_loss did not improve\n",
      "79872/79872 [==============================] - 1860s - loss: 0.0250 - val_loss: 0.0581\n",
      "Epoch 47/50\n",
      "79840/79872 [============================>.] - ETA: 0s - loss: 0.0249Epoch 00046: val_loss did not improve\n",
      "79872/79872 [==============================] - 1860s - loss: 0.0249 - val_loss: 0.0578\n",
      "Epoch 48/50\n",
      "79840/79872 [============================>.] - ETA: 0s - loss: 0.0248Epoch 00047: val_loss did not improve\n",
      "79872/79872 [==============================] - 1861s - loss: 0.0248 - val_loss: 0.0579\n",
      "Epoch 49/50\n",
      "79840/79872 [============================>.] - ETA: 0s - loss: 0.0246Epoch 00048: val_loss did not improve\n",
      "79872/79872 [==============================] - 1863s - loss: 0.0246 - val_loss: 0.0583\n",
      "Epoch 50/50\n",
      "79840/79872 [============================>.] - ETA: 0s - loss: 0.0245Epoch 00049: val_loss did not improve\n",
      "79872/79872 [==============================] - 1862s - loss: 0.0245 - val_loss: 0.0581\n"
     ]
    }
   ],
   "source": [
    "csv_logger = callbacks.CSVLogger('log.txt',append=True)\n",
    "early_stopping = EarlyStopping(monitor='val_loss', patience=10)\n",
    "\n",
    "checkpoint = callbacks.ModelCheckpoint('check.h5', monitor='val_loss', verbose=1, save_best_only=True, save_weights_only=True, mode='auto', period=1)\n",
    "\n",
    "epochs = 50\n",
    "# /batch_size = 32\n",
    "\n",
    "vae.fit([low_img_train, \n",
    "         disp_train, \n",
    "         se_train], \n",
    "        high_img_train,\n",
    "        shuffle=True,\n",
    "        epochs=epochs,\n",
    "        batch_size=batch_size,\n",
    "        # validation_split=val_ratio,\n",
    "        verbose=verbose,\n",
    "        callbacks=[csv_logger, checkpoint],\n",
    "                   #early_stopping\n",
    "                   # ])\n",
    "        validation_data=([\n",
    "            low_img_val,\n",
    "            disp_val,\n",
    "            se_val], \n",
    "            high_img_val))\n",
    "\n",
    "vae.save('model.h5',overwrite=True)\n",
    "vae.save_weights('model_weight.h5')"
   ]
  },
  {
   "cell_type": "code",
   "execution_count": 21,
   "metadata": {
    "collapsed": true
   },
   "outputs": [],
   "source": [
    "def comparison_plot(start=0, n_figure=200):\n",
    "    plot_row = 2\n",
    "    plot_col = 3\n",
    "    #n_figure = 200\n",
    "    # img_predict = vae.predict([x_img, x_vol], batch_size, verbose=2)\n",
    "\n",
    "    # low_img = np.transpose(low_img,(0,2,1))\n",
    "\n",
    "    predict_img = vae.predict([low_img_val, disp_val, se_val],  batch_size, verbose=2)\n",
    "\n",
    "    # np.savetxt('predict.txt',y_predict)\n",
    "\n",
    "\n",
    "    for i_figure in range(0, n_figure):\n",
    "\n",
    "        # fig = plt.figure(nrows=4, ncols=5)\n",
    "        fig = plt.figure()\n",
    "        # plt.subplots_adjust(hspace = 0.5, wspace = 0.3)\n",
    "        # print('predict start:', start + i_figure * plot_row*plot_col)\n",
    "\n",
    "        start_time = time.time()\n",
    "        for i_col in range(0, plot_col):\n",
    "            for i_row in range(0, plot_row):\n",
    "\n",
    "                index = start + i_figure * plot_row * plot_col  + plot_row * i_col + i_row\n",
    "                # print('index',index)\n",
    "                one_y_orig = high_img_val[index].reshape(img_rows*upscale, img_cols*upscale).transpose()\n",
    "                one_y_low = low_img_val[index].reshape(img_rows, img_cols).transpose()\n",
    "                one_y_predict = predict_img[index].reshape(img_rows*upscale, img_cols*upscale).transpose()\n",
    "\n",
    "\n",
    "                plt.subplot(plot_col, plot_row * 3, (plot_row *3 * i_col + i_row*3) + 1) # 2 * 3 * 4 + 1 * 3 + 3 = 24 + 3 + 3 = 30\n",
    "                plt.imshow(one_y_low, cmap='Greys', vmin=0, vmax=1)\n",
    "                plt.xticks([])\n",
    "                plt.yticks([])\n",
    "                # plt.ylabel(\"n:%d\" % index+1)\n",
    "                if i_col == plot_col - 1:\n",
    "                    plt.xlabel(\"low-res.\")\n",
    "\n",
    "                plt.subplot(plot_col, plot_row*3, (plot_row *3 * i_col + i_row*3) + 2)\n",
    "                plt.imshow(one_y_predict, cmap='Greys', vmin=0, vmax=1)\n",
    "                plt.xticks([])\n",
    "                plt.yticks([])\n",
    "                # plt.ylabel(\"n:%d\" % index + 1)\n",
    "                if i_col == plot_col - 1:\n",
    "                    plt.xlabel(\"predicted\")\n",
    "                plt.subplot(plot_col, plot_row * 3, (plot_row *3 * i_col + i_row*3) + 3)\n",
    "                plt.imshow(one_y_orig, cmap='Greys', vmin=0, vmax=1)\n",
    "                plt.xticks([])\n",
    "                plt.yticks([])\n",
    "                # plt.ylabel(\"n:%d\" % index + 1)\n",
    "                if i_col == plot_col - 1:\n",
    "                    plt.xlabel(\"high-res.\")\n",
    "\n",
    "\n",
    "        end_time= (time.time() - start_time)/plot_row\n",
    "        # print('computing time for predict : %f s' % end_time)\n",
    "        #plt.savefig(\"../train/vae/cmp_epoch%03d_latent%02d_i%04d.png\" % (epochs, latent_dim, i_figure))\n",
    "        plt.tight_layout()\n",
    "\n",
    "        plt.savefig(\"./output_fig/out_figure_%s.png\" % i_figure,dpi=300)\n",
    "        # plt.show()\n",
    "        plt.close()\n",
    "\n",
    "# comparison_plot(int(nData2*(1-val_ratio)), 200)\n",
    "# comparison_plot(int(14317*5/6), 100)\n",
    "\n",
    "comparison_plot(0, 100)\n",
    "\n",
    "\n",
    "\n"
   ]
  },
  {
   "cell_type": "code",
   "execution_count": 26,
   "metadata": {
    "collapsed": true
   },
   "outputs": [],
   "source": [
    "def comparison_plot_train(start=0, n_figure=200):\n",
    "    plot_row = 2\n",
    "    plot_col = 3\n",
    "    #n_figure = 200\n",
    "    # img_predict = vae.predict([x_img, x_vol], batch_size, verbose=2)\n",
    "\n",
    "    # low_img = np.transpose(low_img,(0,2,1))\n",
    "\n",
    "    low_img = low_img_train[0:n_figure*6*batch_size,:,:,:]\n",
    "    disp = disp_train[0:n_figure*6*batch_size,:,:,:]\n",
    "    se = se_train[0:n_figure*6*batch_size,:,:,:]\n",
    "    \n",
    "    #predict_img = vae.predict([low_img_train, disp_train, se_train],  batch_size, verbose=2)\n",
    "    predict_img = vae.predict([low_img, disp, se],  batch_size, verbose=2)\n",
    "#\n",
    "    # np.savetxt('predict.txt',y_predict)\n",
    "\n",
    "\n",
    "    for i_figure in range(0, n_figure):\n",
    "\n",
    "        # fig = plt.figure(nrows=4, ncols=5)\n",
    "        fig = plt.figure()\n",
    "        # plt.subplots_adjust(hspace = 0.5, wspace = 0.3)\n",
    "        # print('predict start:', start + i_figure * plot_row*plot_col)\n",
    "\n",
    "        start_time = time.time()\n",
    "        for i_col in range(0, plot_col):\n",
    "            for i_row in range(0, plot_row):\n",
    "\n",
    "                index = start + i_figure * plot_row * plot_col  + plot_row * i_col + i_row\n",
    "                # print('index',index)\n",
    "\n",
    "                one_y_orig = high_img_train[index].reshape(img_rows*upscale, img_cols*upscale).transpose()\n",
    "                one_y_low = low_img_train[index].reshape(img_rows, img_cols).transpose()\n",
    "#                 one_y_predict = predict_img[index].reshape(img_rows*upscale, img_cols*upscale).transpose()\n",
    "                one_y_predict = predict_img[index].reshape(img_rows*upscale, img_cols*upscale).transpose()\n",
    "\n",
    "                plt.subplot(plot_col, plot_row * 3, (plot_row *3 * i_col + i_row*3) + 1) # 2 * 3 * 4 + 1 * 3 + 3 = 24 + 3 + 3 = 30\n",
    "                plt.imshow(one_y_low, cmap='Greys', vmin=0, vmax=1)\n",
    "                plt.xticks([])\n",
    "                plt.yticks([])\n",
    "                # plt.ylabel(\"n:%d\" % index+1)\n",
    "                if i_col == plot_col - 1:\n",
    "                    plt.xlabel(\"low-res.\")\n",
    "\n",
    "                plt.subplot(plot_col, plot_row*3, (plot_row *3 * i_col + i_row*3) + 2)\n",
    "                plt.imshow(one_y_predict, cmap='Greys', vmin=0, vmax=1)\n",
    "                plt.xticks([])\n",
    "                plt.yticks([])\n",
    "                # plt.ylabel(\"n:%d\" % index + 1)\n",
    "                if i_col == plot_col - 1:\n",
    "                    plt.xlabel(\"predicted\")\n",
    "                plt.subplot(plot_col, plot_row * 3, (plot_row *3 * i_col + i_row*3) + 3)\n",
    "                plt.imshow(one_y_orig, cmap='Greys', vmin=0, vmax=1)\n",
    "                plt.xticks([])\n",
    "                plt.yticks([])\n",
    "                # plt.ylabel(\"n:%d\" % index + 1)\n",
    "                if i_col == plot_col - 1:\n",
    "                    plt.xlabel(\"high-res.\")\n",
    "\n",
    "\n",
    "        end_time= (time.time() - start_time)/plot_row\n",
    "        # print('computing time for predict : %f s' % end_time)\n",
    "        #plt.savefig(\"../train/vae/cmp_epoch%03d_latent%02d_i%04d.png\" % (epochs, latent_dim, i_figure))\n",
    "        plt.tight_layout()\n",
    "\n",
    "        plt.savefig(\"./output_fig/out_figure_train_%s.png\" % i_figure,dpi=300)\n",
    "        # plt.show()\n",
    "        plt.close()\n",
    "\n",
    "\n",
    "comparison_plot_train(0, 100)"
   ]
  },
  {
   "cell_type": "code",
   "execution_count": null,
   "metadata": {
    "collapsed": true
   },
   "outputs": [],
   "source": []
  },
  {
   "cell_type": "code",
   "execution_count": null,
   "metadata": {
    "collapsed": true
   },
   "outputs": [],
   "source": []
  },
  {
   "cell_type": "code",
   "execution_count": null,
   "metadata": {
    "collapsed": true
   },
   "outputs": [],
   "source": []
  },
  {
   "cell_type": "code",
   "execution_count": null,
   "metadata": {
    "collapsed": true
   },
   "outputs": [],
   "source": []
  },
  {
   "cell_type": "code",
   "execution_count": null,
   "metadata": {
    "collapsed": true
   },
   "outputs": [],
   "source": []
  },
  {
   "cell_type": "code",
   "execution_count": null,
   "metadata": {
    "collapsed": true
   },
   "outputs": [],
   "source": []
  }
 ],
 "metadata": {
  "kernelspec": {
   "display_name": "Python 3",
   "language": "python",
   "name": "python3"
  },
  "language_info": {
   "codemirror_mode": {
    "name": "ipython",
    "version": 3
   },
   "file_extension": ".py",
   "mimetype": "text/x-python",
   "name": "python",
   "nbconvert_exporter": "python",
   "pygments_lexer": "ipython3",
   "version": "3.6.8"
  }
 },
 "nbformat": 4,
 "nbformat_minor": 2
}
