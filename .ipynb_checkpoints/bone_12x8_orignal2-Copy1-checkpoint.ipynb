{
 "cells": [
  {
   "cell_type": "markdown",
   "metadata": {},
   "source": [
    "## import Library"
   ]
  },
  {
   "cell_type": "code",
   "execution_count": 1,
   "metadata": {},
   "outputs": [
    {
     "name": "stderr",
     "output_type": "stream",
     "text": [
      "Using TensorFlow backend.\n"
     ]
    }
   ],
   "source": [
    "from __future__ import division\n",
    "\n",
    "\n",
    "import numpy as np\n",
    "from scipy.sparse import coo_matrix\n",
    "from scipy.sparse.linalg import spsolve\n",
    "from matplotlib import colors\n",
    "import matplotlib.pyplot as plt\n",
    "\n",
    "import numpy as np\n",
    "import matplotlib.pyplot as plt\n",
    "from scipy.stats import norm\n",
    "\n",
    "import numpy as np\n",
    "import matplotlib.pyplot as plt\n",
    "from scipy.stats import norm\n",
    "\n",
    "import keras\n",
    "from keras.preprocessing.image import ImageDataGenerator\n",
    "from  keras import callbacks\n",
    "from keras.callbacks import EarlyStopping\n",
    "from keras.layers import Input, Dense, Lambda, Flatten, Reshape, Layer, merge, BatchNormalization\n",
    "from keras.layers import Conv2D, Conv2DTranspose, MaxPooling2D, Dropout, UpSampling2D, Activation\n",
    "from keras.models import Model\n",
    "from keras import backend as K\n",
    "from keras import metrics\n",
    "#from keras.datasets import mnist\n",
    "from keras.layers.advanced_activations import LeakyReLU\n",
    "import tensorflow as tf\n",
    "import math\n",
    "import time"
   ]
  },
  {
   "cell_type": "markdown",
   "metadata": {},
   "source": [
    "\n",
    "## 기본적인 설정"
   ]
  },
  {
   "cell_type": "code",
   "execution_count": 2,
   "metadata": {},
   "outputs": [],
   "source": [
    "np.random.seed(1337)\n",
    "\n",
    "img_rows, img_cols, img_chns = 12, 12, 1 # 입력 데이터 크기, 채널\n",
    "upscale = 8 # 몇배 업스케일 할 것인가, (12x8 = 96)\n",
    "batch_size = 32 \n",
    "epochs = 5\n",
    "val_ratio = 1/11 # validation set을 몇 % 사용할 것인가\n",
    "resume_mode = 0  # 0: restart, 1: check point, 2: final \n",
    "verbose = 1      # 0: non output, 1: batch, 2: epoch\n",
    "\n",
    "pre_upscale = False  #고해상화 하기 전에 기존 cv의 pre-upscaling 방법론을 사용할 것인가?\n",
    "\n",
    "if pre_upscale:\n",
    "    input_train = low_img_train\n",
    "    input_val = low_img_val\n",
    "\n",
    "if K.image_data_format() == 'channels_first':  #image datad의 형태가 (채널, 가로, 세로)인지 (가로,세로,채널)인지에 따라 tensor가 다르게 정의됩니다.\n",
    "    original_img_size = (img_chns, img_rows, img_cols)\n",
    "    input_size = (img_chns, img_rows, img_cols)\n",
    "    disp_size = (6, img_rows + 1, img_cols + 1)\n",
    "    se_size = (4, img_rows, img_cols)\n",
    "\n",
    "else:\n",
    "    original_img_size = (img_rows*upscale, img_cols*upscale, img_chns)\n",
    "    input_size = (img_rows, img_cols, img_chns)\n",
    "    disp_size = (img_rows+1, img_cols+1, 6)\n",
    "    se_size = (img_rows, img_cols, 4)\n",
    "\n",
    "nY = img_rows*img_cols\n",
    "\n"
   ]
  },
  {
   "cell_type": "markdown",
   "metadata": {},
   "source": [
    "## 입력데이터를 로딩합니다."
   ]
  },
  {
   "cell_type": "code",
   "execution_count": 3,
   "metadata": {},
   "outputs": [
    {
     "name": "stdout",
     "output_type": "stream",
     "text": [
      "data loading.....\n"
     ]
    }
   ],
   "source": [
    "print('data loading.....')\n",
    "\n",
    "folder = '12x8' # 입력파일 디렉토리\n",
    "\n",
    "# 저해상도, 고해상도 이미지를 로드합니다. \n",
    "low_img = np.load('./%s/low.npy' % folder)\n",
    "high_img = np.load('./%s/high.npy'% folder)\n",
    "\n",
    "# 필요한 경우 데이터의 스케일을 0~1 사이로 맞춰줍니다.\n",
    "#print(low_img[0])\n",
    "# low_img = (low_img - 0.01)*(1.00/0.99)\n",
    "# high_img = (high_img - 0.01)*(1.00/0.99)\n",
    "#print(low_img[0])\n",
    "\n",
    "\n",
    "# Displacement 데이터를 읽어옵니다. 숫자는 case를 의미하고 vector 정보이므로 dx, dy를 따로 입력합니다. \n",
    "dx1 = np.load('./%s/dx1.npy'% folder)\n",
    "dx2 = np.load('./%s/dx2.npy'% folder)\n",
    "dx3 = np.load('./%s/dx3.npy'% folder)\n",
    "dy1 = np.load('./%s/dy1.npy'% folder)\n",
    "dy2 = np.load('./%s/dy2.npy'% folder)\n",
    "dy3 = np.load('./%s/dy3.npy'% folder)\n",
    "\n",
    "# strain energy 정보를 읽어옵니다. 숫자는 case를 의미합니다.\n",
    "se1 = np.load('./%s/se1.npy'% folder)\n",
    "se2 = np.load('./%s/se2.npy'% folder)\n",
    "se3 = np.load('./%s/se3.npy'% folder)\n",
    "se_sum = np.load('./%s/se_sum.npy'% folder)\n",
    "\n",
    "# 추가적인 데이터셋을 로드합니다. 이름은 validation 셋으로 되어있지만 실제로는 두 데이터를 합친다음에 총 1/11만 validation set으로 이용합니다. \n",
    "\n",
    "low_img_val = np.load('./%s/low_val.npy' % folder)\n",
    "high_img_val = np.load('./%s/high_val.npy'% folder)\n",
    "dx1_val = np.load('./%s/dx1_val.npy'% folder)\n",
    "dx2_val = np.load('./%s/dx2_val.npy'% folder)\n",
    "dx3_val = np.load('./%s/dx3_val.npy'% folder)\n",
    "dy1_val = np.load('./%s/dy1_val.npy'% folder)\n",
    "dy2_val = np.load('./%s/dy2_val.npy'% folder)\n",
    "dy3_val = np.load('./%s/dy3_val.npy'% folder)\n",
    "\n",
    "se1_val = np.load('./%s/se1_val.npy'% folder)\n",
    "se2_val = np.load('./%s/se2_val.npy'% folder)\n",
    "se3_val = np.load('./%s/se3_val.npy'% folder)\n",
    "se_sum_val = np.load('./%s/se_sum_val.npy'% folder)\n",
    "\n",
    "# 두 데이터를 하나로 합쳐줍니다. \n",
    "low_img = np.concatenate((low_img,low_img_val),axis=0)\n",
    "high_img = np.concatenate((high_img,high_img_val),axis=0)\n",
    "dx1 = np.concatenate((dx1,dx1_val),axis=0)\n",
    "dx2 = np.concatenate((dx2,dx2_val),axis=0)\n",
    "dx3 = np.concatenate((dx3,dx3_val),axis=0)\n",
    "dy1 = np.concatenate((dy1,dy1_val),axis=0)\n",
    "dy2 = np.concatenate((dy2,dy2_val),axis=0)\n",
    "dy3 = np.concatenate((dy3,dy3_val),axis=0)\n",
    "\n",
    "se1 = np.concatenate((se1,se1_val),axis=0)\n",
    "se2 = np.concatenate((se2,se2_val),axis=0)\n",
    "se3 = np.concatenate((se3,se3_val),axis=0)\n",
    "se_sum = np.concatenate((se_sum,se_sum_val),axis=0)\n",
    "\n",
    "# 메모리 부족 문제로 합치고 난 변수들을 삭제합니다. \n",
    "del low_img_val, high_img_val, dx1_val, dx2_val, dx3_val\n",
    "del dy1_val, dy2_val, dy3_val\n",
    "del se1_val, se2_val, se3_val, se_sum_val\n",
    "\n",
    "\n"
   ]
  },
  {
   "cell_type": "markdown",
   "metadata": {},
   "source": [
    "## 데이터 자르기"
   ]
  },
  {
   "cell_type": "code",
   "execution_count": 4,
   "metadata": {},
   "outputs": [
    {
     "name": "stdout",
     "output_type": "stream",
     "text": [
      "data processing.....\n",
      "train, val = 10000 1000\n",
      "train_batch, val_batch = 9984 992\n"
     ]
    }
   ],
   "source": [
    "## 데이터를 정해진 비율대로 train/test set으로 나누고 batch 수에 맞게 데이터 갯수를 조정합니다.\n",
    "\n",
    "\n",
    "print('data processing.....')\n",
    "\n",
    "nData = low_img.shape[0]\n",
    "val_num = int(val_ratio * nData)\n",
    "train_num = nData - val_num\n",
    "\n",
    "print('train, val =', train_num, val_num)\n",
    "\n",
    "val_num = (val_num // batch_size) * batch_size\n",
    "train_num = (train_num // batch_size) *batch_size\n",
    "\n",
    "print('train_batch, val_batch =', train_num, val_num)\n",
    "\n",
    "low_img_train = low_img[0:train_num, :]\n",
    "high_img_train = high_img[0:train_num:, :]\n",
    "\n",
    "dx1_train = dx1[0:train_num:, :]\n",
    "dx2_train = dx2[0:train_num:, :]\n",
    "dx3_train = dx3[0:train_num:, :]\n",
    "dy1_train = dy1[0:train_num:, :]\n",
    "dy2_train = dy2[0:train_num:, :]\n",
    "dy3_train = dy3[0:train_num:, :]\n",
    "se1_train = se1[0:train_num:, :]\n",
    "se2_train = se2[0:train_num:, :]\n",
    "se3_train = se3[0:train_num:, :]\n",
    "se_sum_train = se_sum[0:train_num:, :]\n",
    "\n",
    "low_img_val = low_img[train_num:train_num+val_num, :]\n",
    "high_img_val = high_img[train_num:train_num+val_num, :]\n",
    "\n",
    "dx1_val = dx1[train_num:train_num+val_num, :]\n",
    "dx2_val = dx2[train_num:train_num+val_num, :]\n",
    "dx3_val = dx3[train_num:train_num+val_num, :]\n",
    "dy1_val = dy1[train_num:train_num+val_num, :]\n",
    "dy2_val = dy2[train_num:train_num+val_num, :]\n",
    "dy3_val = dy3[train_num:train_num+val_num, :]\n",
    "\n",
    "se1_val = se1[train_num:train_num+val_num, :]\n",
    "se2_val = se2[train_num:train_num+val_num, :]\n",
    "se3_val = se3[train_num:train_num+val_num, :]\n",
    "se_sum_val = se_sum[train_num:train_num+val_num, :]\n",
    "\n",
    "\n",
    "del low_img, high_img, dx1, dx2, dx3, dy1,dy2, dy3, se1, se2, se3, se_sum"
   ]
  },
  {
   "cell_type": "markdown",
   "metadata": {},
   "source": [
    "## 데이터를 image 형태로 reshape 합니다. (1D -> 2D)"
   ]
  },
  {
   "cell_type": "code",
   "execution_count": 5,
   "metadata": {},
   "outputs": [
    {
     "name": "stdout",
     "output_type": "stream",
     "text": [
      "disp dim: (9984, 13, 13, 3)\n"
     ]
    }
   ],
   "source": [
    "def data_reshape(img,rows = img_rows,cols=img_cols,ch=1):\n",
    "    return img.reshape((img.shape[0],rows,cols,ch))\n",
    "\n",
    "low_img_train = data_reshape(low_img_train,ch=1)\n",
    "high_img_train = data_reshape(high_img_train,img_rows*upscale, img_cols*upscale,1)\n",
    "\n",
    "low_img_val = data_reshape(low_img_val,ch=1)\n",
    "high_img_val = data_reshape(high_img_val,img_rows*upscale, img_cols*upscale,1)\n",
    "\n",
    "dx1_train = data_reshape(dx1_train,img_rows+1, img_cols+1,1)\n",
    "dx2_train = data_reshape(dx2_train,img_rows+1, img_cols+1,1)\n",
    "dx3_train = data_reshape(dx3_train,img_rows+1, img_cols+1,1)\n",
    "dy1_train = data_reshape(dy1_train,img_rows+1, img_cols+1,1)\n",
    "dy2_train = data_reshape(dy2_train,img_rows+1, img_cols+1,1)\n",
    "dy3_train = data_reshape(dy3_train,img_rows+1, img_cols+1,1)\n",
    "\n",
    "dx1_val = data_reshape(dx1_val,img_rows+1, img_cols+1,1)\n",
    "dx2_val = data_reshape(dx2_val,img_rows+1, img_cols+1,1)\n",
    "dx3_val = data_reshape(dx3_val,img_rows+1, img_cols+1,1)\n",
    "dy1_val = data_reshape(dy1_val,img_rows+1, img_cols+1,1)\n",
    "dy2_val = data_reshape(dy2_val,img_rows+1, img_cols+1,1)\n",
    "dy3_val = data_reshape(dy3_val,img_rows+1, img_cols+1,1)\n",
    "\n",
    "se1_train = data_reshape(se1_train,ch=1)\n",
    "se2_train = data_reshape(se2_train,ch=1)\n",
    "se3_train = data_reshape(se3_train,ch=1)\n",
    "se_sum_train = data_reshape(se_sum_train,ch=1)\n",
    "\n",
    "se1_val = data_reshape(se1_val,ch=1)\n",
    "se2_val = data_reshape(se2_val,ch=1)\n",
    "se3_val = data_reshape(se3_val,ch=1)\n",
    "se_sum_val = data_reshape(se_sum_val,ch=1)\n",
    "\n",
    "#disp_train = np.concatenate((dx1_train,dx2_train,dx3_train,dy1_train,dy2_train,dy3_train),axis=3)\n",
    "disp_train_x = np.concatenate((dx1_train,dx2_train,dx3_train),axis=3)\n",
    "disp_train_y = np.concatenate((dy1_train,dy2_train,dy3_train),axis=3)\n",
    "\n",
    "disp_val = np.concatenate((dx1_val,dx2_val,dx3_val,dy1_val,dy2_val,dy3_val),axis=3)\n",
    "\n",
    "se_train = np.concatenate((se1_train, se2_train, se3_train, se_sum_train),axis=3)\n",
    "se_val = np.concatenate((se1_val, se2_val, se3_val, se_sum_val),axis=3)\n",
    "\n",
    "del dx1_train, dx2_train, dx3_train, dy1_train, dy2_train, dy3_train\n",
    "del dx1_val, dx2_val, dx3_val, dy1_val, dy2_val, dy3_val\n",
    "\n",
    "print('disp dim:',disp_train_x.shape)\n"
   ]
  },
  {
   "cell_type": "markdown",
   "metadata": {},
   "source": [
    "## 32비트 형태로 입력데이터를 형변환 (의미가 있는지는..)"
   ]
  },
  {
   "cell_type": "code",
   "execution_count": 6,
   "metadata": {},
   "outputs": [],
   "source": [
    "low_img_train = low_img_train.astype(np.float32)\n",
    "high_img_train = high_img_train.astype(np.float32)\n",
    "disp_train_x = disp_train_x.astype(np.float32)\n",
    "disp_train_y = disp_train_y.astype(np.float32)\n",
    "se_train = se_train.astype(np.float32)\n",
    "\n",
    "low_img_val = low_img_val.astype(np.float32)\n",
    "high_img_val = high_img_val.astype(np.float32)\n",
    "disp_val = disp_val.astype(np.float32)\n",
    "se_val = se_val.astype(np.float32)\n"
   ]
  },
  {
   "cell_type": "code",
   "execution_count": 7,
   "metadata": {},
   "outputs": [
    {
     "name": "stdout",
     "output_type": "stream",
     "text": [
      "(992, 12, 12, 1)\n",
      "(992, 96, 96, 1)\n",
      "(992, 13, 13, 6)\n",
      "(992, 12, 12, 4)\n"
     ]
    }
   ],
   "source": [
    "print(low_img_val.shape)\n",
    "print(high_img_val.shape)\n",
    "print(disp_val.shape)\n",
    "print(se_val.shape)"
   ]
  },
  {
   "cell_type": "markdown",
   "metadata": {},
   "source": [
    "## 데이터를 augmentation 하기위한 함수 정의 (90도씩 돌리고 flip -> 8배)"
   ]
  },
  {
   "cell_type": "code",
   "execution_count": 8,
   "metadata": {},
   "outputs": [],
   "source": [
    "from scipy.ndimage import rotate\n",
    "import math\n",
    "\n",
    "# plt.imshow(low[500].reshape(img_rows, img_cols), cmap='Greys', vmin=0, vmax=1)\n",
    "# plt.show()\n",
    "\n",
    "def rot_augment(img):\n",
    "    img90 = np.rot90(img,k=1,axes=(1,2))\n",
    "    img180 = np.rot90(img,k=2,axes=(1,2))\n",
    "    img270 = np.rot90(img,k=3,axes=(1,2))\n",
    "\n",
    "    return np.concatenate((img, img90, img180, img270), axis=0)\n",
    "    # return img\n",
    "\n",
    "def flip_augment(img):\n",
    "    fl=img[:,:,::-1,:]\n",
    "\n",
    "\n",
    "    return np.concatenate((img,fl),axis=0)\n",
    "\n",
    "def flip_augment_vector(img):\n",
    "    fl=-img[:,:,::-1,:]\n",
    "    return np.concatenate((img,fl),axis=0)\n",
    "\n",
    "def augment(img):\n",
    "    return flip_augment(rot_augment(img))\n",
    "    #return rot_augment(img)\n",
    "\n",
    "def rot_vector(vx,vy,k):\n",
    "    vx = np.rot90(vx,k,axes=(1,2))\n",
    "    vy = np.rot90(vy,k,axes=(1,2))\n",
    "\n",
    "    th = -(2*3.141592)*(k*90/360)\n",
    "    print('th=',th)\n",
    "    vx_rot = vx*math.cos(th)-vy*math.sin(th)\n",
    "    vy_rot = vx*math.sin(th)+vy*math.cos(th)\n",
    "    \n",
    "    return vx_rot, vy_rot\n",
    "\n",
    "def rot_augment_vector(vx, vy):\n",
    "\n",
    "    vx90, vy90 = rot_vector(vx,vy,1)\n",
    "    vx180, vy180 = rot_vector(vx,vy,2)\n",
    "    vx270, vy270 = rot_vector(vx,vy,3)\n",
    "\n",
    "    vx = np.concatenate((vx,vx90,vx180,vx270),axis=0)\n",
    "    vy = np.concatenate((vy,vy90,vy180,vy270),axis=0)\n",
    "    \n",
    "    return flip_augment(vx), flip_augment(vy)\n",
    "    #return vx, vy\n",
    "    \n",
    "\n",
    "\n"
   ]
  },
  {
   "cell_type": "markdown",
   "metadata": {},
   "source": [
    "## Augmentation"
   ]
  },
  {
   "cell_type": "code",
   "execution_count": null,
   "metadata": {},
   "outputs": [
    {
     "name": "stdout",
     "output_type": "stream",
     "text": [
      "th= -1.570796\n",
      "th= -3.141592\n",
      "th= -4.712388000000001\n",
      "data augment end\n"
     ]
    }
   ],
   "source": [
    "low_img_train = augment(low_img_train)\n",
    "high_img_train = augment(high_img_train)\n",
    "disp_train_x, disp_train_y = rot_augment_vector(disp_train_x, disp_train_y)\n",
    "disp_train = np.concatenate((disp_train_x,disp_train_y),axis=3)\n",
    "se_train = augment(se_train)\n",
    "if pre_upscale: up_img_train = augment(up_img_train)\n",
    "\n",
    "\n",
    "print('data augment end')"
   ]
  },
  {
   "cell_type": "markdown",
   "metadata": {},
   "source": [
    "## 입력데이터 중 displacement를 한번 찍어봅니다."
   ]
  },
  {
   "cell_type": "code",
   "execution_count": null,
   "metadata": {},
   "outputs": [
    {
     "name": "stdout",
     "output_type": "stream",
     "text": [
      "min, max 30.09202 -30.092031\n",
      "disp x size (79872, 13, 13, 3)\n"
     ]
    },
    {
     "data": {
      "image/png": "[encoded data removed]",
      "text/plain": [
       "<Figure size 432x288 with 1 Axes>"
      ]
     },
     "metadata": {
      "needs_background": "light"
     },
     "output_type": "display_data"
    },
    {
     "data": {
      "image/png": "[encoded data removed]",
      "text/plain": [
       "<Figure size 432x288 with 1 Axes>"
      ]
     },
     "metadata": {
      "needs_background": "light"
     },
     "output_type": "display_data"
    },
    {
     "data": {
      "image/png": "[encoded data removed]",
      "text/plain": [
       "<Figure size 432x288 with 1 Axes>"
      ]
     },
     "metadata": {
      "needs_background": "light"
     },
     "output_type": "display_data"
    },
    {
     "data": {
      "image/png": "[encoded data removed]",
      "text/plain": [
       "<Figure size 432x288 with 1 Axes>"
      ]
     },
     "metadata": {
      "needs_background": "light"
     },
     "output_type": "display_data"
    },
    {
     "data": {
      "image/png": "[encoded data removed]",
      "text/plain": [
       "<Figure size 432x288 with 1 Axes>"
      ]
     },
     "metadata": {
      "needs_background": "light"
     },
     "output_type": "display_data"
    },
    {
     "data": {
      "image/png": "[encoded data removed]",
      "text/plain": [
       "<Figure size 432x288 with 1 Axes>"
      ]
     },
     "metadata": {
      "needs_background": "light"
     },
     "output_type": "display_data"
    },
    {
     "data": {
      "image/png": "[encoded data removed]",
      "text/plain": [
       "<Figure size 432x288 with 1 Axes>"
      ]
     },
     "metadata": {
      "needs_background": "light"
     },
     "output_type": "display_data"
    },
    {
     "data": {
      "image/png": "[encoded data removed]",
      "text/plain": [
       "<Figure size 432x288 with 1 Axes>"
      ]
     },
     "metadata": {
      "needs_background": "light"
     },
     "output_type": "display_data"
    },
    {
     "data": {
      "image/png": "[encoded data removed]",
      "text/plain": [
       "<Figure size 432x288 with 1 Axes>"
      ]
     },
     "metadata": {
      "needs_background": "light"
     },
     "output_type": "display_data"
    },
    {
     "data": {
      "image/png": "[encoded data removed]",
      "text/plain": [
       "<Figure size 432x288 with 1 Axes>"
      ]
     },
     "metadata": {
      "needs_background": "light"
     },
     "output_type": "display_data"
    },
    {
     "data": {
      "image/png": "[encoded data removed]",
      "text/plain": [
       "<Figure size 432x288 with 1 Axes>"
      ]
     },
     "metadata": {
      "needs_background": "light"
     },
     "output_type": "display_data"
    },
    {
     "data": {
      "image/png": "[encoded data removed]",
      "text/plain": [
       "<Figure size 432x288 with 1 Axes>"
      ]
     },
     "metadata": {
      "needs_background": "light"
     },
     "output_type": "display_data"
    },
    {
     "data": {
      "image/png": "[encoded data removed]",
      "text/plain": [
       "<Figure size 432x288 with 1 Axes>"
      ]
     },
     "metadata": {
      "needs_background": "light"
     },
     "output_type": "display_data"
    },
    {
     "data": {
      "image/png": "[encoded data removed]",
      "text/plain": [
       "<Figure size 432x288 with 1 Axes>"
      ]
     },
     "metadata": {
      "needs_background": "light"
     },
     "output_type": "display_data"
    },
    {
     "data": {
      "image/png": "[encoded data removed]",
      "text/plain": [
       "<Figure size 432x288 with 1 Axes>"
      ]
     },
     "metadata": {
      "needs_background": "light"
     },
     "output_type": "display_data"
    },
    {
     "data": {
      "image/png": "[encoded data removed]",
      "text/plain": [
       "<Figure size 432x288 with 1 Axes>"
      ]
     },
     "metadata": {
      "needs_background": "light"
     },
     "output_type": "display_data"
    }
   ],
   "source": [
    "print('min, max', disp_train_x.max(), disp_train_x.min())\n",
    "print('disp x size',disp_train_x.shape)\n",
    "\n",
    "for i in range(8):\n",
    "    plt.imshow(disp_train_x[i*10000,:,:,0])\n",
    "    plt.show()\n",
    "    plt.imshow(disp_train_y[i*10000,:,:,0])\n",
    "    plt.show()"
   ]
  },
  {
   "cell_type": "markdown",
   "metadata": {},
   "source": [
    "## 배치에 맞게 데이터 자르기"
   ]
  },
  {
   "cell_type": "code",
   "execution_count": null,
   "metadata": {},
   "outputs": [
    {
     "name": "stdout",
     "output_type": "stream",
     "text": [
      "train, val = 79872 992\n",
      "train_batch, val_batch = 79872 992\n",
      "data cutting...end\n"
     ]
    }
   ],
   "source": [
    "# 데이터 자르기\n",
    "\n",
    "   \n",
    "train_num = low_img_train.shape[0]\n",
    "val_num = low_img_val.shape[0]\n",
    "\n",
    "print('train, val =', train_num, val_num)\n",
    "val_num = (val_num // batch_size) * batch_size\n",
    "train_num = (train_num // batch_size) *batch_size\n",
    "\n",
    "print('train_batch, val_batch =', train_num, val_num)\n",
    "\n",
    "\n",
    "low_img_train = low_img_train[0:train_num, :,:,:]\n",
    "high_img_train = high_img_train[0:train_num:, :,:,:]\n",
    "disp_train = disp_train[0:train_num, :,:,:]\n",
    "se_train = se_train[0:train_num, :,:,:]\n",
    "if pre_upscale: up_img_train = up_img_train[0:train_num, :,:,:]\n",
    "\n",
    "\n",
    "low_img_val = low_img_val[0:val_num, :,:,:]\n",
    "high_img_val = high_img_val[0:val_num:, :,:,:]\n",
    "disp_val = disp_val[0:val_num, :,:,:]\n",
    "se_val = se_val[0:val_num, :,:,:]\n",
    "if pre_upscale: up_img_val = up_img_val[0:val_num, :,:,:]\n",
    "\n",
    "print('data cutting...end')"
   ]
  },
  {
   "cell_type": "markdown",
   "metadata": {},
   "source": [
    "## 저해상도 및 고해상도 입력데이터를 한번 찍어봅니다."
   ]
  },
  {
   "cell_type": "code",
   "execution_count": null,
   "metadata": {},
   "outputs": [
    {
     "data": {
      "image/png": "[encoded data removed]",
      "text/plain": [
       "<Figure size 432x288 with 1 Axes>"
      ]
     },
     "metadata": {
      "needs_background": "light"
     },
     "output_type": "display_data"
    },
    {
     "data": {
      "image/png": "[encoded data removed]",
      "text/plain": [
       "<Figure size 432x288 with 1 Axes>"
      ]
     },
     "metadata": {
      "needs_background": "light"
     },
     "output_type": "display_data"
    }
   ],
   "source": [
    "\n",
    "plt.imshow(high_img_train[100].reshape(img_rows*upscale, img_cols*upscale), cmap='Greys', vmin=0, vmax=1)\n",
    "plt.show()\n",
    "plt.imshow(low_img_train[100].reshape(img_rows, img_cols), cmap='Greys', vmin=0, vmax=1)\n",
    "plt.show()\n",
    "if pre_upscale:\n",
    "    plt.imshow(up_img_train[0].reshape(img_rows*upscale, img_cols*upscale), cmap='Greys', vmin=0, vmax=1)\n",
    "    plt.show()"
   ]
  },
  {
   "cell_type": "code",
   "execution_count": null,
   "metadata": {},
   "outputs": [
    {
     "name": "stdout",
     "output_type": "stream",
     "text": [
      "1.015873 0.0\n",
      "1.0 0.0\n"
     ]
    }
   ],
   "source": [
    "print(low_img_train.max(),low_img_train.min())\n",
    "print(high_img_train.max(),high_img_train.min())\n",
    "\n",
    "## min, max를 한번찍어봅니다. 1보다 큰 값이 있네요? scaling 혹은 bound를 쳐줘야 할까요?"
   ]
  },
  {
   "cell_type": "markdown",
   "metadata": {},
   "source": [
    "## 모델정의"
   ]
  },
  {
   "cell_type": "code",
   "execution_count": null,
   "metadata": {},
   "outputs": [
    {
     "name": "stdout",
     "output_type": "stream",
     "text": [
      "WARNING:tensorflow:From C:\\ProgramData\\Anaconda3\\envs\\keras\\lib\\site-packages\\tensorflow\\python\\framework\\op_def_library.py:263: colocate_with (from tensorflow.python.framework.ops) is deprecated and will be removed in a future version.\n",
      "Instructions for updating:\n",
      "Colocations handled automatically by placer.\n"
     ]
    }
   ],
   "source": [
    "interpolation='bilinear' #'nearest'   #upscaling시 방법 nearest는 같은 값으로 채우고, bilinear는 interpolation 합니다.\n",
    "act_f = 'relu'\n",
    "ker_num = int(64)\n",
    "\n",
    "\n",
    "## 입력 tensor의 정의 \n",
    "x = Input(batch_shape=(batch_size,) + input_size)\n",
    "y = Input(batch_shape=(batch_size,) + original_img_size)\n",
    "disp = Input(batch_shape=(batch_size,) + disp_size)\n",
    "se = Input(batch_shape=(batch_size,) + se_size)\n",
    "\n",
    "\n",
    "## model의 정의 \n",
    "\n",
    "\n",
    "# disp는 nodal information이고 se는 element information이므로 차원이 다릅니다. (n,m),(n+1,m+1)\n",
    "# 따라서 차원을 맞춰주기 위해서 padding이 없고 filter size 가 2인 cnn을 먹여서 차원을 같게 맞춰준후 concatenate합니다. \n",
    "\n",
    "conv0 = Conv2D(6, 2, activation = act_f, padding = 'valid', kernel_initializer = 'he_normal')(disp)\n",
    "conv01 = BatchNormalization()(conv0)\n",
    "merge_disp_se = keras.layers.concatenate([conv01,se], axis = 3)\n",
    "\n",
    "conv02 = Conv2D(ker_num, 3, activation = act_f, padding = 'same', kernel_initializer = 'he_normal')(merge_disp_se)\n",
    "conv03 = BatchNormalization()(conv02)\n",
    "\n",
    "def ConvBlock(fn, fs, act, pad, init, repeat,x):\n",
    "    for i in range(repeat):\n",
    "        x = Conv2D(fn,fs,activation=act, padding = pad, kernel_initializer = init)(x)\n",
    "        x = BatchNormalization()(x)\n",
    "    return x\n",
    "\n",
    "\n",
    "y = UpSampling2D(size = (upscale,upscale), interpolation=interpolation)(x)\n",
    "\n",
    "y1 = ConvBlock(ker_num,3,act_f,'same','he_normal',3,y) ## Level 1\n",
    "p1 = MaxPooling2D(pool_size=(2, 2))(y1)\n",
    "\n",
    "\n",
    "y2 = ConvBlock(ker_num*2,3,act_f,'same','he_normal',3,p1) ## Level 2\n",
    "p2 = MaxPooling2D(pool_size=(2, 2))(y2)\n",
    "\n",
    "y3 = ConvBlock(ker_num*4,3,act_f,'same','he_normal',3,p2) ## Level 3\n",
    "p3 = MaxPooling2D(pool_size=(2, 2))(y3)\n",
    "\n",
    "y4 = keras.layers.concatenate([conv03,p3], axis = 3) ## Level 4\n",
    "y4 = ConvBlock(ker_num*8,3,act_f,'same','he_normal',3,y4)\n",
    "\n",
    "\n",
    "up1 = Conv2D(ker_num*2, 2, activation=act_f, padding='same', kernel_initializer='he_normal')(UpSampling2D(size=(2, 2), interpolation=interpolation)(y4))\n",
    "y5 = keras.layers.concatenate([y3, up1], axis=3)\n",
    "y5 = ConvBlock(ker_num,3,act_f,'same','he_normal',3,y5)\n",
    "\n",
    "up2 = Conv2D(ker_num*2, 2, activation=act_f, padding='same', kernel_initializer='he_normal')(UpSampling2D(size=(2, 2), interpolation=interpolation)(y5))\n",
    "y6 = keras.layers.concatenate([y2, up2], axis=3)\n",
    "y6 = ConvBlock(ker_num,3,act_f,'same','he_normal',3,y6)\n",
    "\n",
    "up3 = Conv2D(ker_num, 2, activation=act_f, padding='same', kernel_initializer='he_normal')(UpSampling2D(size=(2, 2), interpolation=interpolation)(y6))\n",
    "y7 = keras.layers.concatenate([y1, up3], axis=3)\n",
    "y7 = ConvBlock(ker_num,3,act_f,'same','he_normal',3,y7)\n",
    "\n",
    "y8 = Conv2D(2, 3, activation=act_f, padding='same', kernel_initializer='he_normal')(y7)\n",
    "y9 = BatchNormalization()(y8)\n",
    "y10 = Conv2D(1, 1, activation='sigmoid')(y9)\n",
    "model = Model([x, disp, se], y10)"
   ]
  },
  {
   "cell_type": "code",
   "execution_count": null,
   "metadata": {},
   "outputs": [
    {
     "name": "stdout",
     "output_type": "stream",
     "text": [
      "__________________________________________________________________________________________________\n",
      "Layer (type)                    Output Shape         Param #     Connected to                     \n",
      "==================================================================================================\n",
      "input_1 (InputLayer)            (32, 12, 12, 1)      0                                            \n",
      "__________________________________________________________________________________________________\n",
      "up_sampling2d_1 (UpSampling2D)  (32, 96, 96, 1)      0           input_1[0][0]                    \n",
      "__________________________________________________________________________________________________\n",
      "conv2d_3 (Conv2D)               (32, 96, 96, 64)     640         up_sampling2d_1[0][0]            \n",
      "__________________________________________________________________________________________________\n",
      "batch_normalization_3 (BatchNor (32, 96, 96, 64)     256         conv2d_3[0][0]                   \n",
      "__________________________________________________________________________________________________\n",
      "conv2d_4 (Conv2D)               (32, 96, 96, 64)     36928       batch_normalization_3[0][0]      \n",
      "__________________________________________________________________________________________________\n",
      "batch_normalization_4 (BatchNor (32, 96, 96, 64)     256         conv2d_4[0][0]                   \n",
      "__________________________________________________________________________________________________\n",
      "conv2d_5 (Conv2D)               (32, 96, 96, 64)     36928       batch_normalization_4[0][0]      \n",
      "__________________________________________________________________________________________________\n",
      "batch_normalization_5 (BatchNor (32, 96, 96, 64)     256         conv2d_5[0][0]                   \n",
      "__________________________________________________________________________________________________\n",
      "max_pooling2d_1 (MaxPooling2D)  (32, 48, 48, 64)     0           batch_normalization_5[0][0]      \n",
      "__________________________________________________________________________________________________\n",
      "conv2d_6 (Conv2D)               (32, 48, 48, 128)    73856       max_pooling2d_1[0][0]            \n",
      "__________________________________________________________________________________________________\n",
      "batch_normalization_6 (BatchNor (32, 48, 48, 128)    512         conv2d_6[0][0]                   \n",
      "__________________________________________________________________________________________________\n",
      "conv2d_7 (Conv2D)               (32, 48, 48, 128)    147584      batch_normalization_6[0][0]      \n",
      "__________________________________________________________________________________________________\n",
      "batch_normalization_7 (BatchNor (32, 48, 48, 128)    512         conv2d_7[0][0]                   \n",
      "__________________________________________________________________________________________________\n",
      "conv2d_8 (Conv2D)               (32, 48, 48, 128)    147584      batch_normalization_7[0][0]      \n",
      "__________________________________________________________________________________________________\n",
      "batch_normalization_8 (BatchNor (32, 48, 48, 128)    512         conv2d_8[0][0]                   \n",
      "__________________________________________________________________________________________________\n",
      "max_pooling2d_2 (MaxPooling2D)  (32, 24, 24, 128)    0           batch_normalization_8[0][0]      \n",
      "__________________________________________________________________________________________________\n",
      "conv2d_9 (Conv2D)               (32, 24, 24, 256)    295168      max_pooling2d_2[0][0]            \n",
      "__________________________________________________________________________________________________\n",
      "batch_normalization_9 (BatchNor (32, 24, 24, 256)    1024        conv2d_9[0][0]                   \n",
      "__________________________________________________________________________________________________\n",
      "input_3 (InputLayer)            (32, 13, 13, 6)      0                                            \n",
      "__________________________________________________________________________________________________\n",
      "conv2d_10 (Conv2D)              (32, 24, 24, 256)    590080      batch_normalization_9[0][0]      \n",
      "__________________________________________________________________________________________________\n",
      "conv2d_1 (Conv2D)               (32, 12, 12, 6)      150         input_3[0][0]                    \n",
      "__________________________________________________________________________________________________\n",
      "batch_normalization_10 (BatchNo (32, 24, 24, 256)    1024        conv2d_10[0][0]                  \n",
      "__________________________________________________________________________________________________\n",
      "batch_normalization_1 (BatchNor (32, 12, 12, 6)      24          conv2d_1[0][0]                   \n",
      "__________________________________________________________________________________________________\n",
      "input_4 (InputLayer)            (32, 12, 12, 4)      0                                            \n",
      "__________________________________________________________________________________________________\n",
      "conv2d_11 (Conv2D)              (32, 24, 24, 256)    590080      batch_normalization_10[0][0]     \n",
      "__________________________________________________________________________________________________\n",
      "concatenate_1 (Concatenate)     (32, 12, 12, 10)     0           batch_normalization_1[0][0]      \n",
      "                                                                 input_4[0][0]                    \n",
      "__________________________________________________________________________________________________\n",
      "batch_normalization_11 (BatchNo (32, 24, 24, 256)    1024        conv2d_11[0][0]                  \n",
      "__________________________________________________________________________________________________\n",
      "conv2d_2 (Conv2D)               (32, 12, 12, 64)     5824        concatenate_1[0][0]              \n",
      "__________________________________________________________________________________________________\n",
      "batch_normalization_2 (BatchNor (32, 12, 12, 64)     256         conv2d_2[0][0]                   \n",
      "__________________________________________________________________________________________________\n",
      "max_pooling2d_3 (MaxPooling2D)  (32, 12, 12, 256)    0           batch_normalization_11[0][0]     \n",
      "__________________________________________________________________________________________________\n",
      "concatenate_2 (Concatenate)     (32, 12, 12, 320)    0           batch_normalization_2[0][0]      \n",
      "                                                                 max_pooling2d_3[0][0]            \n",
      "__________________________________________________________________________________________________\n",
      "conv2d_12 (Conv2D)              (32, 12, 12, 512)    1475072     concatenate_2[0][0]              \n",
      "__________________________________________________________________________________________________\n",
      "batch_normalization_12 (BatchNo (32, 12, 12, 512)    2048        conv2d_12[0][0]                  \n",
      "__________________________________________________________________________________________________\n",
      "conv2d_13 (Conv2D)              (32, 12, 12, 512)    2359808     batch_normalization_12[0][0]     \n",
      "__________________________________________________________________________________________________\n",
      "batch_normalization_13 (BatchNo (32, 12, 12, 512)    2048        conv2d_13[0][0]                  \n",
      "__________________________________________________________________________________________________\n",
      "conv2d_14 (Conv2D)              (32, 12, 12, 512)    2359808     batch_normalization_13[0][0]     \n",
      "__________________________________________________________________________________________________\n",
      "batch_normalization_14 (BatchNo (32, 12, 12, 512)    2048        conv2d_14[0][0]                  \n",
      "__________________________________________________________________________________________________\n",
      "up_sampling2d_2 (UpSampling2D)  (32, 24, 24, 512)    0           batch_normalization_14[0][0]     \n",
      "__________________________________________________________________________________________________\n",
      "conv2d_15 (Conv2D)              (32, 24, 24, 128)    262272      up_sampling2d_2[0][0]            \n",
      "__________________________________________________________________________________________________\n",
      "concatenate_3 (Concatenate)     (32, 24, 24, 384)    0           batch_normalization_11[0][0]     \n",
      "                                                                 conv2d_15[0][0]                  \n",
      "__________________________________________________________________________________________________\n",
      "conv2d_16 (Conv2D)              (32, 24, 24, 64)     221248      concatenate_3[0][0]              \n",
      "__________________________________________________________________________________________________\n",
      "batch_normalization_15 (BatchNo (32, 24, 24, 64)     256         conv2d_16[0][0]                  \n",
      "__________________________________________________________________________________________________\n",
      "conv2d_17 (Conv2D)              (32, 24, 24, 64)     36928       batch_normalization_15[0][0]     \n",
      "__________________________________________________________________________________________________\n",
      "batch_normalization_16 (BatchNo (32, 24, 24, 64)     256         conv2d_17[0][0]                  \n",
      "__________________________________________________________________________________________________\n",
      "conv2d_18 (Conv2D)              (32, 24, 24, 64)     36928       batch_normalization_16[0][0]     \n",
      "__________________________________________________________________________________________________\n",
      "batch_normalization_17 (BatchNo (32, 24, 24, 64)     256         conv2d_18[0][0]                  \n",
      "__________________________________________________________________________________________________\n",
      "up_sampling2d_3 (UpSampling2D)  (32, 48, 48, 64)     0           batch_normalization_17[0][0]     \n",
      "__________________________________________________________________________________________________\n",
      "conv2d_19 (Conv2D)              (32, 48, 48, 128)    32896       up_sampling2d_3[0][0]            \n",
      "__________________________________________________________________________________________________\n",
      "concatenate_4 (Concatenate)     (32, 48, 48, 256)    0           batch_normalization_8[0][0]      \n",
      "                                                                 conv2d_19[0][0]                  \n",
      "__________________________________________________________________________________________________\n",
      "conv2d_20 (Conv2D)              (32, 48, 48, 64)     147520      concatenate_4[0][0]              \n",
      "__________________________________________________________________________________________________\n",
      "batch_normalization_18 (BatchNo (32, 48, 48, 64)     256         conv2d_20[0][0]                  \n",
      "__________________________________________________________________________________________________\n",
      "conv2d_21 (Conv2D)              (32, 48, 48, 64)     36928       batch_normalization_18[0][0]     \n",
      "__________________________________________________________________________________________________\n",
      "batch_normalization_19 (BatchNo (32, 48, 48, 64)     256         conv2d_21[0][0]                  \n",
      "__________________________________________________________________________________________________\n",
      "conv2d_22 (Conv2D)              (32, 48, 48, 64)     36928       batch_normalization_19[0][0]     \n",
      "__________________________________________________________________________________________________\n",
      "batch_normalization_20 (BatchNo (32, 48, 48, 64)     256         conv2d_22[0][0]                  \n",
      "__________________________________________________________________________________________________\n",
      "up_sampling2d_4 (UpSampling2D)  (32, 96, 96, 64)     0           batch_normalization_20[0][0]     \n",
      "__________________________________________________________________________________________________\n",
      "conv2d_23 (Conv2D)              (32, 96, 96, 64)     16448       up_sampling2d_4[0][0]            \n",
      "__________________________________________________________________________________________________\n",
      "concatenate_5 (Concatenate)     (32, 96, 96, 128)    0           batch_normalization_5[0][0]      \n",
      "                                                                 conv2d_23[0][0]                  \n",
      "__________________________________________________________________________________________________\n",
      "conv2d_24 (Conv2D)              (32, 96, 96, 64)     73792       concatenate_5[0][0]              \n",
      "__________________________________________________________________________________________________\n",
      "batch_normalization_21 (BatchNo (32, 96, 96, 64)     256         conv2d_24[0][0]                  \n",
      "__________________________________________________________________________________________________\n",
      "conv2d_25 (Conv2D)              (32, 96, 96, 64)     36928       batch_normalization_21[0][0]     \n",
      "__________________________________________________________________________________________________\n",
      "batch_normalization_22 (BatchNo (32, 96, 96, 64)     256         conv2d_25[0][0]                  \n",
      "__________________________________________________________________________________________________\n",
      "conv2d_26 (Conv2D)              (32, 96, 96, 64)     36928       batch_normalization_22[0][0]     \n",
      "__________________________________________________________________________________________________\n",
      "batch_normalization_23 (BatchNo (32, 96, 96, 64)     256         conv2d_26[0][0]                  \n",
      "__________________________________________________________________________________________________\n",
      "conv2d_27 (Conv2D)              (32, 96, 96, 2)      1154        batch_normalization_23[0][0]     \n",
      "__________________________________________________________________________________________________\n",
      "batch_normalization_24 (BatchNo (32, 96, 96, 2)      8           conv2d_27[0][0]                  \n",
      "__________________________________________________________________________________________________\n",
      "conv2d_28 (Conv2D)              (32, 96, 96, 1)      3           batch_normalization_24[0][0]     \n",
      "==================================================================================================\n",
      "Total params: 9,110,523\n",
      "Trainable params: 9,103,467\n",
      "Non-trainable params: 7,056\n",
      "__________________________________________________________________________________________________\n"
     ]
    }
   ],
   "source": [
    "model.summary()\n"
   ]
  },
  {
   "cell_type": "code",
   "execution_count": null,
   "metadata": {
    "scrolled": false
   },
   "outputs": [],
   "source": [
    "if resume_mode == 2:\n",
    "    print('load final weight')\n",
    "    vae.load_weights('model_weight.h5')\n",
    "if resume_mode == 1:\n",
    "    print('load check point')\n",
    "    vae.load_weights('check.h5')\n",
    "#vae.load_weights('check.h5')\n",
    "model.compile(optimizer='adam',#''rmsprop',\n",
    "            #loss=vae_loss4,\n",
    "            loss='mae',\n",
    "            #metrics=['mae', 'acc'],\n",
    "            )\n",
    "#vae.summary()"
   ]
  },
  {
   "cell_type": "code",
   "execution_count": null,
   "metadata": {},
   "outputs": [
    {
     "name": "stdout",
     "output_type": "stream",
     "text": [
      "(79872, 13, 13, 6)\n",
      "(79872, 12, 12, 4)\n",
      "(79872, 12, 12, 1)\n",
      "(79872, 96, 96, 1)\n",
      "(992, 13, 13, 6)\n",
      "(992, 12, 12, 4)\n",
      "(992, 96, 96, 1)\n",
      "(992, 12, 12, 1)\n"
     ]
    }
   ],
   "source": [
    "print(disp_train.shape)\n",
    "#print(up_img_train.shape)\n",
    "print(se_train.shape)\n",
    "print(low_img_train.shape)\n",
    "print(high_img_train.shape)\n",
    "\n",
    "print(disp_val.shape)\n",
    "#print(up_img_val.shape)\n",
    "print(se_val.shape)\n",
    "print(high_img_val.shape)\n",
    "print(low_img_val.shape)"
   ]
  },
  {
   "cell_type": "code",
   "execution_count": null,
   "metadata": {},
   "outputs": [
    {
     "name": "stdout",
     "output_type": "stream",
     "text": [
      "WARNING:tensorflow:From C:\\ProgramData\\Anaconda3\\envs\\keras\\lib\\site-packages\\tensorflow\\python\\ops\\math_ops.py:3066: to_int32 (from tensorflow.python.ops.math_ops) is deprecated and will be removed in a future version.\n",
      "Instructions for updating:\n",
      "Use tf.cast instead.\n",
      "Train on 79872 samples, validate on 992 samples\n",
      "Epoch 1/10\n",
      "33088/79872 [===========>..................] - ETA: 3:41 - loss: 0.1276"
     ]
    }
   ],
   "source": [
    "csv_logger = callbacks.CSVLogger('log.txt',append=True)\n",
    "early_stopping = EarlyStopping(monitor='val_loss', patience=10)\n",
    "\n",
    "checkpoint = callbacks.ModelCheckpoint('check.h5', monitor='val_loss', verbose=1, save_best_only=True, save_weights_only=True, mode='auto', period=1)\n",
    "\n",
    "epochs = 10\n",
    "# batch_size = 64\n",
    "\n",
    "model.fit([low_img_train, \n",
    "         disp_train, \n",
    "         se_train], \n",
    "        high_img_train,\n",
    "        shuffle=True,\n",
    "        epochs=epochs,\n",
    "        batch_size=batch_size,\n",
    "        # validation_split=val_ratio,\n",
    "        verbose=verbose,\n",
    "        callbacks=[csv_logger, checkpoint],\n",
    "                   #early_stopping\n",
    "                   # ])\n",
    "        validation_data=([\n",
    "            low_img_val,\n",
    "            disp_val,\n",
    "            se_val], \n",
    "            high_img_val))\n",
    "\n",
    "model.save('model.h5',overwrite=True)\n",
    "model.save_weights('model_weight.h5')"
   ]
  },
  {
   "cell_type": "code",
   "execution_count": null,
   "metadata": {},
   "outputs": [],
   "source": [
    "def comparison_plot(start=0, n_figure=200):\n",
    "    plot_row = 2\n",
    "    plot_col = 3\n",
    "    #n_figure = 200\n",
    "    # img_predict = vae.predict([x_img, x_vol], batch_size, verbose=2)\n",
    "\n",
    "    # low_img = np.transpose(low_img,(0,2,1))\n",
    "\n",
    "    predict_img = vae.predict([low_img_val, disp_val, se_val],  batch_size, verbose=2)\n",
    "\n",
    "    # np.savetxt('predict.txt',y_predict)\n",
    "\n",
    "\n",
    "    for i_figure in range(0, n_figure):\n",
    "\n",
    "        # fig = plt.figure(nrows=4, ncols=5)\n",
    "        fig = plt.figure()\n",
    "        # plt.subplots_adjust(hspace = 0.5, wspace = 0.3)\n",
    "        # print('predict start:', start + i_figure * plot_row*plot_col)\n",
    "\n",
    "        start_time = time.time()\n",
    "        for i_col in range(0, plot_col):\n",
    "            for i_row in range(0, plot_row):\n",
    "\n",
    "                index = start + i_figure * plot_row * plot_col  + plot_row * i_col + i_row\n",
    "                # print('index',index)\n",
    "                one_y_orig = high_img_val[index].reshape(img_rows*upscale, img_cols*upscale).transpose()\n",
    "                one_y_low = low_img_val[index].reshape(img_rows, img_cols).transpose()\n",
    "                one_y_predict = predict_img[index].reshape(img_rows*upscale, img_cols*upscale).transpose()\n",
    "\n",
    "\n",
    "                plt.subplot(plot_col, plot_row * 3, (plot_row *3 * i_col + i_row*3) + 1) # 2 * 3 * 4 + 1 * 3 + 3 = 24 + 3 + 3 = 30\n",
    "                plt.imshow(one_y_low, cmap='Greys', vmin=0, vmax=1)\n",
    "                plt.xticks([])\n",
    "                plt.yticks([])\n",
    "                # plt.ylabel(\"n:%d\" % index+1)\n",
    "                if i_col == plot_col - 1:\n",
    "                    plt.xlabel(\"low-res.\")\n",
    "\n",
    "                plt.subplot(plot_col, plot_row*3, (plot_row *3 * i_col + i_row*3) + 2)\n",
    "                plt.imshow(one_y_predict, cmap='Greys', vmin=0, vmax=1)\n",
    "                plt.xticks([])\n",
    "                plt.yticks([])\n",
    "                # plt.ylabel(\"n:%d\" % index + 1)\n",
    "                if i_col == plot_col - 1:\n",
    "                    plt.xlabel(\"predicted\")\n",
    "                plt.subplot(plot_col, plot_row * 3, (plot_row *3 * i_col + i_row*3) + 3)\n",
    "                plt.imshow(one_y_orig, cmap='Greys', vmin=0, vmax=1)\n",
    "                plt.xticks([])\n",
    "                plt.yticks([])\n",
    "                # plt.ylabel(\"n:%d\" % index + 1)\n",
    "                if i_col == plot_col - 1:\n",
    "                    plt.xlabel(\"high-res.\")\n",
    "\n",
    "\n",
    "        end_time= (time.time() - start_time)/plot_row\n",
    "        # print('computing time for predict : %f s' % end_time)\n",
    "        #plt.savefig(\"../train/vae/cmp_epoch%03d_latent%02d_i%04d.png\" % (epochs, latent_dim, i_figure))\n",
    "        plt.tight_layout()\n",
    "\n",
    "        plt.savefig(\"./output_fig/out_figure_%s.png\" % i_figure,dpi=300)\n",
    "        # plt.show()\n",
    "        plt.close()\n",
    "\n",
    "# comparison_plot(int(nData2*(1-val_ratio)), 200)\n",
    "# comparison_plot(int(14317*5/6), 100)\n",
    "\n",
    "comparison_plot(0, 100)\n",
    "\n",
    "\n",
    "\n"
   ]
  },
  {
   "cell_type": "code",
   "execution_count": null,
   "metadata": {},
   "outputs": [],
   "source": [
    "def comparison_plot_train(start=0, n_figure=200):\n",
    "    plot_row = 2\n",
    "    plot_col = 3\n",
    "    #n_figure = 200\n",
    "    # img_predict = vae.predict([x_img, x_vol], batch_size, verbose=2)\n",
    "\n",
    "    # low_img = np.transpose(low_img,(0,2,1))\n",
    "\n",
    "    low_img = low_img_train[0:n_figure*6*batch_size,:,:,:]\n",
    "    disp = disp_train[0:n_figure*6*batch_size,:,:,:]\n",
    "    se = se_train[0:n_figure*6*batch_size,:,:,:]\n",
    "    \n",
    "    #predict_img = vae.predict([low_img_train, disp_train, se_train],  batch_size, verbose=2)\n",
    "    predict_img = vae.predict([low_img, disp, se],  batch_size, verbose=2)\n",
    "#\n",
    "    # np.savetxt('predict.txt',y_predict)\n",
    "\n",
    "\n",
    "    for i_figure in range(0, n_figure):\n",
    "\n",
    "        # fig = plt.figure(nrows=4, ncols=5)\n",
    "        fig = plt.figure()\n",
    "        # plt.subplots_adjust(hspace = 0.5, wspace = 0.3)\n",
    "        # print('predict start:', start + i_figure * plot_row*plot_col)\n",
    "\n",
    "        start_time = time.time()\n",
    "        for i_col in range(0, plot_col):\n",
    "            for i_row in range(0, plot_row):\n",
    "\n",
    "                index = start + i_figure * plot_row * plot_col  + plot_row * i_col + i_row\n",
    "                # print('index',index)\n",
    "\n",
    "                one_y_orig = high_img_train[index].reshape(img_rows*upscale, img_cols*upscale).transpose()\n",
    "                one_y_low = low_img_train[index].reshape(img_rows, img_cols).transpose()\n",
    "#                 one_y_predict = predict_img[index].reshape(img_rows*upscale, img_cols*upscale).transpose()\n",
    "                one_y_predict = predict_img[index].reshape(img_rows*upscale, img_cols*upscale).transpose()\n",
    "\n",
    "                plt.subplot(plot_col, plot_row * 3, (plot_row *3 * i_col + i_row*3) + 1) # 2 * 3 * 4 + 1 * 3 + 3 = 24 + 3 + 3 = 30\n",
    "                plt.imshow(one_y_low, cmap='Greys', vmin=0, vmax=1)\n",
    "                plt.xticks([])\n",
    "                plt.yticks([])\n",
    "                # plt.ylabel(\"n:%d\" % index+1)\n",
    "                if i_col == plot_col - 1:\n",
    "                    plt.xlabel(\"low-res.\")\n",
    "\n",
    "                plt.subplot(plot_col, plot_row*3, (plot_row *3 * i_col + i_row*3) + 2)\n",
    "                plt.imshow(one_y_predict, cmap='Greys', vmin=0, vmax=1)\n",
    "                plt.xticks([])\n",
    "                plt.yticks([])\n",
    "                # plt.ylabel(\"n:%d\" % index + 1)\n",
    "                if i_col == plot_col - 1:\n",
    "                    plt.xlabel(\"predicted\")\n",
    "                plt.subplot(plot_col, plot_row * 3, (plot_row *3 * i_col + i_row*3) + 3)\n",
    "                plt.imshow(one_y_orig, cmap='Greys', vmin=0, vmax=1)\n",
    "                plt.xticks([])\n",
    "                plt.yticks([])\n",
    "                # plt.ylabel(\"n:%d\" % index + 1)\n",
    "                if i_col == plot_col - 1:\n",
    "                    plt.xlabel(\"high-res.\")\n",
    "\n",
    "\n",
    "        end_time= (time.time() - start_time)/plot_row\n",
    "        # print('computing time for predict : %f s' % end_time)\n",
    "        #plt.savefig(\"../train/vae/cmp_epoch%03d_latent%02d_i%04d.png\" % (epochs, latent_dim, i_figure))\n",
    "        plt.tight_layout()\n",
    "\n",
    "        plt.savefig(\"./output_fig/out_figure_train_%s.png\" % i_figure,dpi=300)\n",
    "        # plt.show()\n",
    "        plt.close()\n",
    "\n",
    "\n",
    "comparison_plot_train(0, 100)"
   ]
  },
  {
   "cell_type": "code",
   "execution_count": null,
   "metadata": {},
   "outputs": [],
   "source": []
  },
  {
   "cell_type": "code",
   "execution_count": null,
   "metadata": {},
   "outputs": [],
   "source": []
  },
  {
   "cell_type": "code",
   "execution_count": null,
   "metadata": {},
   "outputs": [],
   "source": []
  },
  {
   "cell_type": "code",
   "execution_count": null,
   "metadata": {},
   "outputs": [],
   "source": []
  },
  {
   "cell_type": "code",
   "execution_count": null,
   "metadata": {},
   "outputs": [],
   "source": []
  },
  {
   "cell_type": "code",
   "execution_count": null,
   "metadata": {},
   "outputs": [],
   "source": []
  }
 ],
 "metadata": {
  "kernelspec": {
   "display_name": "Python 3",
   "language": "python",
   "name": "python3"
  },
  "language_info": {
   "codemirror_mode": {
    "name": "ipython",
    "version": 3
   },
   "file_extension": ".py",
   "mimetype": "text/x-python",
   "name": "python",
   "nbconvert_exporter": "python",
   "pygments_lexer": "ipython3",
   "version": "3.6.8"
  }
 },
 "nbformat": 4,
 "nbformat_minor": 2
}
