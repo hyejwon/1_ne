{
  "nbformat": 4,
  "nbformat_minor": 0,
  "metadata": {
    "kernelspec": {
      "display_name": "Python 3",
      "name": "python3"
    },
    "language_info": {
      "name": "python"
    },
    "colab": {
      "name": "conv-layer.ipynb",
      "provenance": []
    }
  },
  "cells": [
    {
      "cell_type": "markdown",
      "metadata": {
        "id": "94kjRATQ_3lt"
      },
      "source": [
        "The following additional libraries are needed to run this\n",
        "notebook. Note that running on Colab is experimental, please report a Github\n",
        "issue if you have any problem."
      ]
    },
    {
      "cell_type": "code",
      "metadata": {
        "id": "ERxqXuj__3lz",
        "outputId": "fc610607-21bb-42d9-fa38-60d0cafa65b6",
        "colab": {
          "base_uri": "https://localhost:8080/"
        }
      },
      "source": [
        "!pip install d2l==0.17.0\n",
        "!pip install -U mxnet-cu101==1.7.0\n"
      ],
      "execution_count": 1,
      "outputs": [
        {
          "output_type": "stream",
          "name": "stdout",
          "text": [
            "Collecting d2l==0.17.0\n",
            "  Downloading d2l-0.17.0-py3-none-any.whl (83 kB)\n",
            "\u001b[?25l\r\u001b[K     |████                            | 10 kB 22.4 MB/s eta 0:00:01\r\u001b[K     |███████▉                        | 20 kB 28.1 MB/s eta 0:00:01\r\u001b[K     |███████████▉                    | 30 kB 12.8 MB/s eta 0:00:01\r\u001b[K     |███████████████▊                | 40 kB 9.5 MB/s eta 0:00:01\r\u001b[K     |███████████████████▊            | 51 kB 5.2 MB/s eta 0:00:01\r\u001b[K     |███████████████████████▋        | 61 kB 5.6 MB/s eta 0:00:01\r\u001b[K     |███████████████████████████▋    | 71 kB 6.0 MB/s eta 0:00:01\r\u001b[K     |███████████████████████████████▌| 81 kB 6.7 MB/s eta 0:00:01\r\u001b[K     |████████████████████████████████| 83 kB 1.3 MB/s \n",
            "\u001b[?25hRequirement already satisfied: numpy in /usr/local/lib/python3.7/dist-packages (from d2l==0.17.0) (1.19.5)\n",
            "Requirement already satisfied: jupyter in /usr/local/lib/python3.7/dist-packages (from d2l==0.17.0) (1.0.0)\n",
            "Requirement already satisfied: requests in /usr/local/lib/python3.7/dist-packages (from d2l==0.17.0) (2.23.0)\n",
            "Requirement already satisfied: matplotlib in /usr/local/lib/python3.7/dist-packages (from d2l==0.17.0) (3.2.2)\n",
            "Requirement already satisfied: pandas in /usr/local/lib/python3.7/dist-packages (from d2l==0.17.0) (1.1.5)\n",
            "Requirement already satisfied: ipywidgets in /usr/local/lib/python3.7/dist-packages (from jupyter->d2l==0.17.0) (7.6.5)\n",
            "Requirement already satisfied: nbconvert in /usr/local/lib/python3.7/dist-packages (from jupyter->d2l==0.17.0) (5.6.1)\n",
            "Requirement already satisfied: qtconsole in /usr/local/lib/python3.7/dist-packages (from jupyter->d2l==0.17.0) (5.1.1)\n",
            "Requirement already satisfied: ipykernel in /usr/local/lib/python3.7/dist-packages (from jupyter->d2l==0.17.0) (4.10.1)\n",
            "Requirement already satisfied: notebook in /usr/local/lib/python3.7/dist-packages (from jupyter->d2l==0.17.0) (5.3.1)\n",
            "Requirement already satisfied: jupyter-console in /usr/local/lib/python3.7/dist-packages (from jupyter->d2l==0.17.0) (5.2.0)\n",
            "Requirement already satisfied: traitlets>=4.1.0 in /usr/local/lib/python3.7/dist-packages (from ipykernel->jupyter->d2l==0.17.0) (5.1.0)\n",
            "Requirement already satisfied: jupyter-client in /usr/local/lib/python3.7/dist-packages (from ipykernel->jupyter->d2l==0.17.0) (5.3.5)\n",
            "Requirement already satisfied: ipython>=4.0.0 in /usr/local/lib/python3.7/dist-packages (from ipykernel->jupyter->d2l==0.17.0) (5.5.0)\n",
            "Requirement already satisfied: tornado>=4.0 in /usr/local/lib/python3.7/dist-packages (from ipykernel->jupyter->d2l==0.17.0) (5.1.1)\n",
            "Requirement already satisfied: decorator in /usr/local/lib/python3.7/dist-packages (from ipython>=4.0.0->ipykernel->jupyter->d2l==0.17.0) (4.4.2)\n",
            "Requirement already satisfied: pygments in /usr/local/lib/python3.7/dist-packages (from ipython>=4.0.0->ipykernel->jupyter->d2l==0.17.0) (2.6.1)\n",
            "Requirement already satisfied: pexpect in /usr/local/lib/python3.7/dist-packages (from ipython>=4.0.0->ipykernel->jupyter->d2l==0.17.0) (4.8.0)\n",
            "Requirement already satisfied: simplegeneric>0.8 in /usr/local/lib/python3.7/dist-packages (from ipython>=4.0.0->ipykernel->jupyter->d2l==0.17.0) (0.8.1)\n",
            "Requirement already satisfied: prompt-toolkit<2.0.0,>=1.0.4 in /usr/local/lib/python3.7/dist-packages (from ipython>=4.0.0->ipykernel->jupyter->d2l==0.17.0) (1.0.18)\n",
            "Requirement already satisfied: pickleshare in /usr/local/lib/python3.7/dist-packages (from ipython>=4.0.0->ipykernel->jupyter->d2l==0.17.0) (0.7.5)\n",
            "Requirement already satisfied: setuptools>=18.5 in /usr/local/lib/python3.7/dist-packages (from ipython>=4.0.0->ipykernel->jupyter->d2l==0.17.0) (57.4.0)\n",
            "Requirement already satisfied: wcwidth in /usr/local/lib/python3.7/dist-packages (from prompt-toolkit<2.0.0,>=1.0.4->ipython>=4.0.0->ipykernel->jupyter->d2l==0.17.0) (0.2.5)\n",
            "Requirement already satisfied: six>=1.9.0 in /usr/local/lib/python3.7/dist-packages (from prompt-toolkit<2.0.0,>=1.0.4->ipython>=4.0.0->ipykernel->jupyter->d2l==0.17.0) (1.15.0)\n",
            "Requirement already satisfied: nbformat>=4.2.0 in /usr/local/lib/python3.7/dist-packages (from ipywidgets->jupyter->d2l==0.17.0) (5.1.3)\n",
            "Requirement already satisfied: jupyterlab-widgets>=1.0.0 in /usr/local/lib/python3.7/dist-packages (from ipywidgets->jupyter->d2l==0.17.0) (1.0.2)\n",
            "Requirement already satisfied: widgetsnbextension~=3.5.0 in /usr/local/lib/python3.7/dist-packages (from ipywidgets->jupyter->d2l==0.17.0) (3.5.1)\n",
            "Requirement already satisfied: ipython-genutils~=0.2.0 in /usr/local/lib/python3.7/dist-packages (from ipywidgets->jupyter->d2l==0.17.0) (0.2.0)\n",
            "Requirement already satisfied: jupyter-core in /usr/local/lib/python3.7/dist-packages (from nbformat>=4.2.0->ipywidgets->jupyter->d2l==0.17.0) (4.8.1)\n",
            "Requirement already satisfied: jsonschema!=2.5.0,>=2.4 in /usr/local/lib/python3.7/dist-packages (from nbformat>=4.2.0->ipywidgets->jupyter->d2l==0.17.0) (2.6.0)\n",
            "Requirement already satisfied: terminado>=0.8.1 in /usr/local/lib/python3.7/dist-packages (from notebook->jupyter->d2l==0.17.0) (0.12.1)\n",
            "Requirement already satisfied: jinja2 in /usr/local/lib/python3.7/dist-packages (from notebook->jupyter->d2l==0.17.0) (2.11.3)\n",
            "Requirement already satisfied: Send2Trash in /usr/local/lib/python3.7/dist-packages (from notebook->jupyter->d2l==0.17.0) (1.8.0)\n",
            "Requirement already satisfied: pyzmq>=13 in /usr/local/lib/python3.7/dist-packages (from jupyter-client->ipykernel->jupyter->d2l==0.17.0) (22.3.0)\n",
            "Requirement already satisfied: python-dateutil>=2.1 in /usr/local/lib/python3.7/dist-packages (from jupyter-client->ipykernel->jupyter->d2l==0.17.0) (2.8.2)\n",
            "Requirement already satisfied: ptyprocess in /usr/local/lib/python3.7/dist-packages (from terminado>=0.8.1->notebook->jupyter->d2l==0.17.0) (0.7.0)\n",
            "Requirement already satisfied: MarkupSafe>=0.23 in /usr/local/lib/python3.7/dist-packages (from jinja2->notebook->jupyter->d2l==0.17.0) (2.0.1)\n",
            "Requirement already satisfied: pyparsing!=2.0.4,!=2.1.2,!=2.1.6,>=2.0.1 in /usr/local/lib/python3.7/dist-packages (from matplotlib->d2l==0.17.0) (2.4.7)\n",
            "Requirement already satisfied: cycler>=0.10 in /usr/local/lib/python3.7/dist-packages (from matplotlib->d2l==0.17.0) (0.10.0)\n",
            "Requirement already satisfied: kiwisolver>=1.0.1 in /usr/local/lib/python3.7/dist-packages (from matplotlib->d2l==0.17.0) (1.3.2)\n",
            "Requirement already satisfied: testpath in /usr/local/lib/python3.7/dist-packages (from nbconvert->jupyter->d2l==0.17.0) (0.5.0)\n",
            "Requirement already satisfied: defusedxml in /usr/local/lib/python3.7/dist-packages (from nbconvert->jupyter->d2l==0.17.0) (0.7.1)\n",
            "Requirement already satisfied: bleach in /usr/local/lib/python3.7/dist-packages (from nbconvert->jupyter->d2l==0.17.0) (4.1.0)\n",
            "Requirement already satisfied: pandocfilters>=1.4.1 in /usr/local/lib/python3.7/dist-packages (from nbconvert->jupyter->d2l==0.17.0) (1.5.0)\n",
            "Requirement already satisfied: entrypoints>=0.2.2 in /usr/local/lib/python3.7/dist-packages (from nbconvert->jupyter->d2l==0.17.0) (0.3)\n",
            "Requirement already satisfied: mistune<2,>=0.8.1 in /usr/local/lib/python3.7/dist-packages (from nbconvert->jupyter->d2l==0.17.0) (0.8.4)\n",
            "Requirement already satisfied: packaging in /usr/local/lib/python3.7/dist-packages (from bleach->nbconvert->jupyter->d2l==0.17.0) (21.0)\n",
            "Requirement already satisfied: webencodings in /usr/local/lib/python3.7/dist-packages (from bleach->nbconvert->jupyter->d2l==0.17.0) (0.5.1)\n",
            "Requirement already satisfied: pytz>=2017.2 in /usr/local/lib/python3.7/dist-packages (from pandas->d2l==0.17.0) (2018.9)\n",
            "Requirement already satisfied: qtpy in /usr/local/lib/python3.7/dist-packages (from qtconsole->jupyter->d2l==0.17.0) (1.11.2)\n",
            "Requirement already satisfied: chardet<4,>=3.0.2 in /usr/local/lib/python3.7/dist-packages (from requests->d2l==0.17.0) (3.0.4)\n",
            "Requirement already satisfied: urllib3!=1.25.0,!=1.25.1,<1.26,>=1.21.1 in /usr/local/lib/python3.7/dist-packages (from requests->d2l==0.17.0) (1.24.3)\n",
            "Requirement already satisfied: idna<3,>=2.5 in /usr/local/lib/python3.7/dist-packages (from requests->d2l==0.17.0) (2.10)\n",
            "Requirement already satisfied: certifi>=2017.4.17 in /usr/local/lib/python3.7/dist-packages (from requests->d2l==0.17.0) (2021.5.30)\n",
            "Installing collected packages: d2l\n",
            "Successfully installed d2l-0.17.0\n",
            "Collecting mxnet-cu101==1.7.0\n",
            "  Downloading mxnet_cu101-1.7.0-py2.py3-none-manylinux2014_x86_64.whl (846.0 MB)\n",
            "\u001b[K     |███████████████████████████████▌| 834.1 MB 1.3 MB/s eta 0:00:10tcmalloc: large alloc 1147494400 bytes == 0x55f2e83c2000 @  0x7f6288946615 0x55f2ae1e74cc 0x55f2ae2c747a 0x55f2ae1ea2ed 0x55f2ae2dbe1d 0x55f2ae25de99 0x55f2ae2589ee 0x55f2ae1ebbda 0x55f2ae25dd00 0x55f2ae2589ee 0x55f2ae1ebbda 0x55f2ae25a737 0x55f2ae2dcc66 0x55f2ae259daf 0x55f2ae2dcc66 0x55f2ae259daf 0x55f2ae2dcc66 0x55f2ae259daf 0x55f2ae1ec039 0x55f2ae22f409 0x55f2ae1eac52 0x55f2ae25dc25 0x55f2ae2589ee 0x55f2ae1ebbda 0x55f2ae25a737 0x55f2ae2589ee 0x55f2ae1ebbda 0x55f2ae259915 0x55f2ae1ebafa 0x55f2ae259c0d 0x55f2ae2589ee\n",
            "\u001b[K     |████████████████████████████████| 846.0 MB 21 kB/s \n",
            "\u001b[?25hRequirement already satisfied: requests<3,>=2.20.0 in /usr/local/lib/python3.7/dist-packages (from mxnet-cu101==1.7.0) (2.23.0)\n",
            "Requirement already satisfied: numpy<2.0.0,>1.16.0 in /usr/local/lib/python3.7/dist-packages (from mxnet-cu101==1.7.0) (1.19.5)\n",
            "Collecting graphviz<0.9.0,>=0.8.1\n",
            "  Downloading graphviz-0.8.4-py2.py3-none-any.whl (16 kB)\n",
            "Requirement already satisfied: certifi>=2017.4.17 in /usr/local/lib/python3.7/dist-packages (from requests<3,>=2.20.0->mxnet-cu101==1.7.0) (2021.5.30)\n",
            "Requirement already satisfied: idna<3,>=2.5 in /usr/local/lib/python3.7/dist-packages (from requests<3,>=2.20.0->mxnet-cu101==1.7.0) (2.10)\n",
            "Requirement already satisfied: chardet<4,>=3.0.2 in /usr/local/lib/python3.7/dist-packages (from requests<3,>=2.20.0->mxnet-cu101==1.7.0) (3.0.4)\n",
            "Requirement already satisfied: urllib3!=1.25.0,!=1.25.1,<1.26,>=1.21.1 in /usr/local/lib/python3.7/dist-packages (from requests<3,>=2.20.0->mxnet-cu101==1.7.0) (1.24.3)\n",
            "Installing collected packages: graphviz, mxnet-cu101\n",
            "  Attempting uninstall: graphviz\n",
            "    Found existing installation: graphviz 0.10.1\n",
            "    Uninstalling graphviz-0.10.1:\n",
            "      Successfully uninstalled graphviz-0.10.1\n",
            "Successfully installed graphviz-0.8.4 mxnet-cu101-1.7.0\n"
          ]
        }
      ]
    },
    {
      "cell_type": "markdown",
      "metadata": {
        "origin_pos": 0,
        "id": "Mb1bUMIp_3l2"
      },
      "source": [
        "# Convolutions for Images\n",
        ":label:`sec_conv_layer`\n",
        "\n",
        "Now that we understand how convolutional layers work in theory,\n",
        "we are ready to see how they work in practice.\n",
        "Building on our motivation of convolutional neural networks\n",
        "as efficient architectures for exploring structure in image data,\n",
        "we stick with images as our running example.\n",
        "\n",
        "\n",
        "## The Cross-Correlation Operation\n",
        "\n",
        "Recall that strictly speaking, convolutional layers\n",
        "are a  misnomer, since the operations they express\n",
        "are more accurately described as cross-correlations.\n",
        "Based on our descriptions of convolutional layers in :numref:`sec_why-conv`,\n",
        "in such a layer, an input tensor\n",
        "and a kernel tensor are combined\n",
        "to produce an output tensor through a (**cross-correlation operation.**)\n",
        "\n",
        "Let us ignore channels for now and see how this works\n",
        "with two-dimensional data and hidden representations.\n",
        "In :numref:`fig_correlation`,\n",
        "the input is a two-dimensional tensor\n",
        "with a height of 3 and width of 3.\n",
        "We mark the shape of the tensor as $3 \\times 3$ or ($3$, $3$).\n",
        "The height and width of the kernel are both 2.\n",
        "The shape of the *kernel window* (or *convolution window*)\n",
        "is given by the height and width of the kernel\n",
        "(here it is $2 \\times 2$).\n",
        "\n",
        "![Two-dimensional cross-correlation operation. The shaded portions are the first output element as well as the input and kernel tensor elements used for the output computation: $0\\times0+1\\times1+3\\times2+4\\times3=19$.](http://d2l.ai/_images/correlation.svg)\n",
        ":label:`fig_correlation`\n",
        "\n",
        "In the two-dimensional cross-correlation operation,\n",
        "we begin with the convolution window positioned\n",
        "at the upper-left corner of the input tensor\n",
        "and slide it across the input tensor,\n",
        "both from left to right and top to bottom.\n",
        "When the convolution window slides to a certain position,\n",
        "the input subtensor contained in that window\n",
        "and the kernel tensor are multiplied elementwise\n",
        "and the resulting tensor is summed up\n",
        "yielding a single scalar value.\n",
        "This result gives the value of the output tensor\n",
        "at the corresponding location.\n",
        "Here, the output tensor has a height of 2 and width of 2\n",
        "and the four elements are derived from\n",
        "the two-dimensional cross-correlation operation:\n",
        "\n",
        "$$\n",
        "0\\times0+1\\times1+3\\times2+4\\times3=19,\\\\\n",
        "1\\times0+2\\times1+4\\times2+5\\times3=25,\\\\\n",
        "3\\times0+4\\times1+6\\times2+7\\times3=37,\\\\\n",
        "4\\times0+5\\times1+7\\times2+8\\times3=43.\n",
        "$$\n",
        "\n",
        "Note that along each axis, the output size\n",
        "is slightly smaller than the input size.\n",
        "Because the kernel has width and height greater than one,\n",
        "we can only properly compute the cross-correlation\n",
        "for locations where the kernel fits wholly within the image,\n",
        "the output size is given by the input size $n_h \\times n_w$\n",
        "minus the size of the convolution kernel $k_h \\times k_w$\n",
        "via\n",
        "\n",
        "$$(n_h-k_h+1) \\times (n_w-k_w+1).$$\n",
        "\n",
        "This is the case since we need enough space\n",
        "to \"shift\" the convolution kernel across the image.\n",
        "Later we will see how to keep the size unchanged\n",
        "by padding the image with zeros around its boundary\n",
        "so that there is enough space to shift the kernel.\n",
        "Next, we implement this process in the `corr2d` function,\n",
        "which accepts an input tensor `X` and a kernel tensor `K`\n",
        "and returns an output tensor `Y`.\n"
      ]
    },
    {
      "cell_type": "code",
      "metadata": {
        "origin_pos": 1,
        "tab": [
          "mxnet"
        ],
        "id": "Gtx5KZpk_3l5"
      },
      "source": [
        "from mxnet import autograd, np, npx\n",
        "from mxnet.gluon import nn\n",
        "from d2l import mxnet as d2l\n",
        "\n",
        "npx.set_np()"
      ],
      "execution_count": 2,
      "outputs": []
    },
    {
      "cell_type": "code",
      "metadata": {
        "origin_pos": 3,
        "tab": [
          "mxnet"
        ],
        "id": "JTWPPgIW_3l6"
      },
      "source": [
        "def corr2d(X, K):  #@save\n",
        "    \"\"\"Compute 2D cross-correlation.\"\"\"\n",
        "    h, w = K.shape\n",
        "    Y = np.zeros((X.shape[0] - h + 1, X.shape[1] - w + 1))\n",
        "    for i in range(Y.shape[0]):\n",
        "        for j in range(Y.shape[1]):\n",
        "            Y[i, j] = (X[i:i + h, j:j + w] * K).sum()\n",
        "    return Y"
      ],
      "execution_count": 3,
      "outputs": []
    },
    {
      "cell_type": "markdown",
      "metadata": {
        "origin_pos": 5,
        "id": "TzuVAKbF_3l6"
      },
      "source": [
        "We can construct the input tensor `X` and the kernel tensor `K`\n",
        "from :numref:`fig_correlation`\n",
        "to [**validate the output of the above implementation**]\n",
        "of the two-dimensional cross-correlation operation.\n"
      ]
    },
    {
      "cell_type": "code",
      "metadata": {
        "origin_pos": 6,
        "tab": [
          "mxnet"
        ],
        "id": "CCy_vJ7J_3l7",
        "outputId": "c938c106-2835-4bab-9f97-39845adf2a57",
        "colab": {
          "base_uri": "https://localhost:8080/"
        }
      },
      "source": [
        "X = np.array([[0.0, 1.0, 2.0], [3.0, 4.0, 5.0], [6.0, 7.0, 8.0]])\n",
        "K = np.array([[0.0, 1.0], [2.0, 3.0]])\n",
        "corr2d(X, K).shape"
      ],
      "execution_count": 5,
      "outputs": [
        {
          "output_type": "execute_result",
          "data": {
            "text/plain": [
              "(2, 2)"
            ]
          },
          "metadata": {},
          "execution_count": 5
        }
      ]
    },
    {
      "cell_type": "markdown",
      "metadata": {
        "origin_pos": 7,
        "id": "8o4c6I8a_3l8"
      },
      "source": [
        "## Convolutional Layers\n",
        "\n",
        "A convolutional layer cross-correlates the input and kernel\n",
        "and adds a scalar bias to produce an output.\n",
        "The two parameters of a convolutional layer\n",
        "are the kernel and the scalar bias.\n",
        "When training models based on convolutional layers,\n",
        "we typically initialize the kernels randomly,\n",
        "just as we would with a fully-connected layer.\n",
        "\n",
        "We are now ready to [**implement a two-dimensional convolutional layer**]\n",
        "based on the `corr2d` function defined above.\n",
        "In the `__init__` constructor function,\n",
        "we declare `weight` and `bias` as the two model parameters.\n",
        "The forward propagation function\n",
        "calls the `corr2d` function and adds the bias.\n"
      ]
    },
    {
      "cell_type": "code",
      "metadata": {
        "origin_pos": 8,
        "tab": [
          "mxnet"
        ],
        "id": "Ut2-pFpQ_3l9"
      },
      "source": [
        "class Conv2D(nn.Block):\n",
        "    def __init__(self, kernel_size, **kwargs):\n",
        "        super().__init__(**kwargs)\n",
        "        self.weight = self.params.get('weight', shape=kernel_size)#kernel size 와 같다\n",
        "        self.bias = self.params.get('bias', shape=(1,))\n",
        "\n",
        "    def forward(self, x):\n",
        "        return corr2d(x, self.weight.data()) + self.bias.data()"
      ],
      "execution_count": 6,
      "outputs": []
    },
    {
      "cell_type": "markdown",
      "metadata": {
        "origin_pos": 11,
        "id": "URz_DsCa_3l-"
      },
      "source": [
        "In\n",
        "$h \\times w$ convolution\n",
        "or a $h \\times w$ convolution kernel,\n",
        "the height and width of the convolution kernel are $h$ and $w$, respectively.\n",
        "We also refer to\n",
        "a convolutional layer with a $h \\times w$\n",
        "convolution kernel simply as a $h \\times w$ convolutional layer.\n",
        "\n",
        "\n",
        "## Object Edge Detection in Images\n",
        "\n",
        "Let us take a moment to parse [**a simple application of a convolutional layer:\n",
        "detecting the edge of an object in an image**]\n",
        "by finding the location of the pixel change.\n",
        "First, we construct an \"image\" of $6\\times 8$ pixels.\n",
        "The middle four columns are black (0) and the rest are white (1).\n"
      ]
    },
    {
      "cell_type": "code",
      "metadata": {
        "origin_pos": 12,
        "tab": [
          "mxnet"
        ],
        "id": "qHknAEiv_3l_",
        "outputId": "86870eab-fc32-42c5-d9f7-870083234950",
        "colab": {
          "base_uri": "https://localhost:8080/"
        }
      },
      "source": [
        "X = np.ones((6, 8))\n",
        "X[:, 2:6] = 0\n",
        "X"
      ],
      "execution_count": 8,
      "outputs": [
        {
          "output_type": "execute_result",
          "data": {
            "text/plain": [
              "array([[1., 1., 0., 0., 0., 0., 1., 1.],\n",
              "       [1., 1., 0., 0., 0., 0., 1., 1.],\n",
              "       [1., 1., 0., 0., 0., 0., 1., 1.],\n",
              "       [1., 1., 0., 0., 0., 0., 1., 1.],\n",
              "       [1., 1., 0., 0., 0., 0., 1., 1.],\n",
              "       [1., 1., 0., 0., 0., 0., 1., 1.]])"
            ]
          },
          "metadata": {},
          "execution_count": 8
        }
      ]
    },
    {
      "cell_type": "markdown",
      "metadata": {
        "origin_pos": 14,
        "id": "GdCuTAC8_3l_"
      },
      "source": [
        "Next, we construct a kernel `K` with a height of 1 and a width of 2.\n",
        "When we perform the cross-correlation operation with the input,\n",
        "if the horizontally adjacent elements are the same,\n",
        "the output is 0. Otherwise, the output is non-zero.\n"
      ]
    },
    {
      "cell_type": "code",
      "metadata": {
        "origin_pos": 15,
        "tab": [
          "mxnet"
        ],
        "id": "4ptY35oo_3mB"
      },
      "source": [
        "K = np.array([[1.0, -1.0]])"
      ],
      "execution_count": 9,
      "outputs": []
    },
    {
      "cell_type": "code",
      "metadata": {
        "id": "gDWjVkgZCFJs",
        "outputId": "6b9f9661-949f-4b2d-bf8b-d6420491a869",
        "colab": {
          "base_uri": "https://localhost:8080/"
        }
      },
      "source": [
        "K.shape"
      ],
      "execution_count": 23,
      "outputs": [
        {
          "output_type": "execute_result",
          "data": {
            "text/plain": [
              "(2, 1)"
            ]
          },
          "metadata": {},
          "execution_count": 23
        }
      ]
    },
    {
      "cell_type": "code",
      "metadata": {
        "id": "oYEVv9njCIEC"
      },
      "source": [
        "K =np.array([[1.0],\n",
        "         [-1.0]])"
      ],
      "execution_count": 22,
      "outputs": []
    },
    {
      "cell_type": "markdown",
      "metadata": {
        "origin_pos": 16,
        "id": "ng7JurRz_3mB"
      },
      "source": [
        "We are ready to perform the cross-correlation operation\n",
        "with arguments `X` (our input) and `K` (our kernel).\n",
        "As you can see, [**we detect 1 for the edge from white to black\n",
        "and -1 for the edge from black to white.**]\n",
        "All other outputs take value 0.\n"
      ]
    },
    {
      "cell_type": "code",
      "metadata": {
        "origin_pos": 17,
        "tab": [
          "mxnet"
        ],
        "id": "TQMvpGoI_3mC",
        "outputId": "8af80eba-03c8-4ec0-c209-6b8910efd8f9",
        "colab": {
          "base_uri": "https://localhost:8080/"
        }
      },
      "source": [
        "Y = corr2d(X, K)\n",
        "Y"
      ],
      "execution_count": 10,
      "outputs": [
        {
          "output_type": "execute_result",
          "data": {
            "text/plain": [
              "array([[ 0.,  1.,  0.,  0.,  0., -1.,  0.],\n",
              "       [ 0.,  1.,  0.,  0.,  0., -1.,  0.],\n",
              "       [ 0.,  1.,  0.,  0.,  0., -1.,  0.],\n",
              "       [ 0.,  1.,  0.,  0.,  0., -1.,  0.],\n",
              "       [ 0.,  1.,  0.,  0.,  0., -1.,  0.],\n",
              "       [ 0.,  1.,  0.,  0.,  0., -1.,  0.]])"
            ]
          },
          "metadata": {},
          "execution_count": 10
        }
      ]
    },
    {
      "cell_type": "code",
      "metadata": {
        "id": "Jb_Cdh7RBpmx",
        "outputId": "f75fdf97-d4e7-4b69-9476-b64239b1cc32",
        "colab": {
          "base_uri": "https://localhost:8080/"
        }
      },
      "source": [
        "print(X.T)"
      ],
      "execution_count": 15,
      "outputs": [
        {
          "output_type": "stream",
          "name": "stdout",
          "text": [
            "[[1. 1. 1. 1. 1. 1.]\n",
            " [1. 1. 1. 1. 1. 1.]\n",
            " [0. 0. 0. 0. 0. 0.]\n",
            " [0. 0. 0. 0. 0. 0.]\n",
            " [0. 0. 0. 0. 0. 0.]\n",
            " [0. 0. 0. 0. 0. 0.]\n",
            " [1. 1. 1. 1. 1. 1.]\n",
            " [1. 1. 1. 1. 1. 1.]]\n"
          ]
        }
      ]
    },
    {
      "cell_type": "markdown",
      "metadata": {
        "origin_pos": 18,
        "id": "ITPvb7rK_3mC"
      },
      "source": [
        "We can now apply the kernel to the transposed image.\n",
        "As expected, it vanishes. [**The kernel `K` only detects vertical edges.**]\n"
      ]
    },
    {
      "cell_type": "code",
      "metadata": {
        "origin_pos": 19,
        "tab": [
          "mxnet"
        ],
        "id": "TFfiYOHS_3mD",
        "outputId": "9663aafa-55c5-4d0b-80b0-afd4cea33d5b",
        "colab": {
          "base_uri": "https://localhost:8080/"
        }
      },
      "source": [
        "corr2d(X.T, K)#transpose"
      ],
      "execution_count": 24,
      "outputs": [
        {
          "output_type": "execute_result",
          "data": {
            "text/plain": [
              "array([[ 0.,  0.,  0.,  0.,  0.,  0.],\n",
              "       [ 1.,  1.,  1.,  1.,  1.,  1.],\n",
              "       [ 0.,  0.,  0.,  0.,  0.,  0.],\n",
              "       [ 0.,  0.,  0.,  0.,  0.,  0.],\n",
              "       [ 0.,  0.,  0.,  0.,  0.,  0.],\n",
              "       [-1., -1., -1., -1., -1., -1.],\n",
              "       [ 0.,  0.,  0.,  0.,  0.,  0.]])"
            ]
          },
          "metadata": {},
          "execution_count": 24
        }
      ]
    },
    {
      "cell_type": "markdown",
      "metadata": {
        "origin_pos": 20,
        "id": "IB9hKZbK_3mD"
      },
      "source": [
        "## Learning a Kernel\n",
        "\n",
        "Designing an edge detector by finite differences `[1, -1]` is neat\n",
        "if we know this is precisely what we are looking for.\n",
        "However, as we look at larger kernels,\n",
        "and consider successive layers of convolutions,\n",
        "it might be impossible to specify\n",
        "precisely what each filter should be doing manually.\n",
        "\n",
        "Now let us see whether we can [**learn the kernel that generated `Y` from `X`**]\n",
        "by looking at the input--output pairs only.\n",
        "We first construct a convolutional layer\n",
        "and initialize its kernel as a random tensor.\n",
        "Next, in each iteration, we will use the squared error\n",
        "to compare `Y` with the output of the convolutional layer.\n",
        "We can then calculate the gradient to update the kernel.\n",
        "For the sake of simplicity,\n",
        "in the following\n",
        "we use the built-in class\n",
        "for two-dimensional convolutional layers\n",
        "and ignore the bias.\n"
      ]
    },
    {
      "cell_type": "code",
      "metadata": {
        "origin_pos": 21,
        "tab": [
          "mxnet"
        ],
        "id": "w4rNfpYh_3mD",
        "outputId": "5e6ab0aa-c01d-42ec-ca2f-fc914780bbde",
        "colab": {
          "base_uri": "https://localhost:8080/"
        }
      },
      "source": [
        "# Construct a two-dimensional convolutional layer with 1 output channel and a\n",
        "# kernel of shape (1, 2). For the sake of simplicity, we ignore the bias here\n",
        "conv2d = nn.Conv2D(1, kernel_size=(1, 2), use_bias=False)\n",
        "conv2d.initialize()\n",
        "\n",
        "# The two-dimensional convolutional layer uses four-dimensional input and\n",
        "# output in the format of (example, channel, height, width), where the batch\n",
        "# size (number of examples in the batch) and the number of channels are both 1\n",
        "X = X.reshape(1, 1, 6, 8)\n",
        "Y = Y.reshape(1, 1, 6, 7)\n",
        "lr = 3e-2  # Learning rate\n",
        "\n",
        "for i in range(10):\n",
        "    with autograd.record():\n",
        "        Y_hat = conv2d(X)\n",
        "        l = (Y_hat - Y)**2\n",
        "    l.backward()\n",
        "    # Update the kernel\n",
        "    conv2d.weight.data()[:] -= lr * conv2d.weight.grad()\n",
        "    if (i + 1) % 2 == 0:\n",
        "        print(f'batch {i + 1}, loss {float(l.sum()):.3f}')"
      ],
      "execution_count": 25,
      "outputs": [
        {
          "output_type": "stream",
          "name": "stdout",
          "text": [
            "batch 2, loss 4.949\n",
            "batch 4, loss 0.831\n",
            "batch 6, loss 0.140\n",
            "batch 8, loss 0.024\n",
            "batch 10, loss 0.004\n"
          ]
        }
      ]
    },
    {
      "cell_type": "markdown",
      "metadata": {
        "origin_pos": 24,
        "id": "0xE0wMuj_3mE"
      },
      "source": [
        "Note that the error has dropped to a small value after 10 iterations. Now we will [**take a look at the kernel tensor we learned.**]\n"
      ]
    },
    {
      "cell_type": "code",
      "metadata": {
        "origin_pos": 25,
        "tab": [
          "mxnet"
        ],
        "id": "iLYyXrG3_3mE",
        "outputId": "d608d407-2aaf-423f-d9bb-186319989d83",
        "colab": {
          "base_uri": "https://localhost:8080/"
        }
      },
      "source": [
        "conv2d.weight.data().reshape((1, 2))"
      ],
      "execution_count": 26,
      "outputs": [
        {
          "output_type": "execute_result",
          "data": {
            "text/plain": [
              "array([[ 0.9895   , -0.9873705]])"
            ]
          },
          "metadata": {},
          "execution_count": 26
        }
      ]
    },
    {
      "cell_type": "markdown",
      "metadata": {
        "origin_pos": 28,
        "id": "M8MyqToR_3mF"
      },
      "source": [
        "Indeed, the learned kernel tensor is remarkably close\n",
        "to the kernel tensor `K` we defined earlier.\n",
        "\n",
        "## Cross-Correlation and Convolution\n",
        "\n",
        "Recall our observation from :numref:`sec_why-conv` of the correspondence\n",
        "between the cross-correlation and convolution operations.\n",
        "Here let us continue to consider two-dimensional convolutional layers.\n",
        "What if such layers\n",
        "perform strict convolution operations\n",
        "as defined in :eqref:`eq_2d-conv-discrete`\n",
        "instead of cross-correlations?\n",
        "In order to obtain the output of the strict *convolution* operation, we only need to flip the two-dimensional kernel tensor both horizontally and vertically, and then perform the *cross-correlation* operation with the input tensor.\n",
        "\n",
        "It is noteworthy that since kernels are learned from data in deep learning,\n",
        "the outputs of convolutional layers remain unaffected\n",
        "no matter such layers\n",
        "perform\n",
        "either the strict convolution operations\n",
        "or the cross-correlation operations.\n",
        "\n",
        "To illustrate this, suppose that a convolutional layer performs *cross-correlation* and learns the kernel in :numref:`fig_correlation`, which is denoted as the matrix $\\mathbf{K}$ here.\n",
        "Assuming that other conditions remain unchanged,\n",
        "when this layer performs strict *convolution* instead,\n",
        "the learned kernel $\\mathbf{K}'$ will be the same as $\\mathbf{K}$\n",
        "after $\\mathbf{K}'$ is\n",
        "flipped both horizontally and vertically.\n",
        "That is to say,\n",
        "when the convolutional layer\n",
        "performs strict *convolution*\n",
        "for the input in :numref:`fig_correlation`\n",
        "and $\\mathbf{K}'$,\n",
        "the same output in :numref:`fig_correlation`\n",
        "(cross-correlation of the input and $\\mathbf{K}$)\n",
        "will be obtained.\n",
        "\n",
        "In keeping with standard terminology with deep learning literature,\n",
        "we will continue to refer to the cross-correlation operation\n",
        "as a convolution even though, strictly-speaking, it is slightly different.\n",
        "Besides,\n",
        "we use the term *element* to refer to\n",
        "an entry (or component) of any tensor representing a layer representation or a convolution kernel.\n",
        "\n",
        "\n",
        "## Feature Map and Receptive Field\n",
        "\n",
        "As described in :numref:`subsec_why-conv-channels`,\n",
        "the convolutional layer output in\n",
        ":numref:`fig_correlation`\n",
        "is sometimes called a *feature map*,\n",
        "as it can be regarded as\n",
        "the learned representations (features)\n",
        "in the spatial dimensions (e.g., width and height)\n",
        "to the subsequent layer.\n",
        "In CNNs,\n",
        "for any element $x$ of some layer,\n",
        "its *receptive field* refers to\n",
        "all the elements (from all the previous layers)\n",
        "that may affect the calculation of $x$\n",
        "during the forward propagation.\n",
        "Note that the receptive field\n",
        "may be larger than the actual size of the input.\n",
        "\n",
        "Let us continue to use :numref:`fig_correlation` to explain the receptive field.\n",
        "Given the $2 \\times 2$ convolution kernel,\n",
        "the receptive field of the shaded output element (of value $19$)\n",
        "is\n",
        "the four elements in the shaded portion of the input.\n",
        "Now let us denote the $2 \\times 2$\n",
        "output as $\\mathbf{Y}$\n",
        "and consider a deeper CNN\n",
        "with an additional $2 \\times 2$ convolutional layer that takes $\\mathbf{Y}$\n",
        "as its input, outputting\n",
        "a single element $z$.\n",
        "In this case,\n",
        "the receptive field of $z$\n",
        "on $\\mathbf{Y}$ includes all the four elements of $\\mathbf{Y}$,\n",
        "while\n",
        "the receptive field\n",
        "on the input includes all the nine input elements.\n",
        "Thus,\n",
        "when any element in a feature map\n",
        "needs a larger receptive field\n",
        "to detect input features over a broader area,\n",
        "we can build a deeper network.\n",
        "\n",
        "\n",
        "\n",
        "\n",
        "## Summary\n",
        "\n",
        "* The core computation of a two-dimensional convolutional layer is a two-dimensional cross-correlation operation. In its simplest form, this performs a cross-correlation operation on the two-dimensional input data and the kernel, and then adds a bias.\n",
        "* We can design a kernel to detect edges in images.\n",
        "* We can learn the kernel's parameters from data.\n",
        "* With kernels learned from data, the outputs of convolutional layers remain unaffected regardless of such layers' performed operations (either strict convolution or cross-correlation).\n",
        "* When any element in a feature map needs a larger receptive field to detect broader features on the input, a deeper network can be considered.\n",
        "\n",
        "\n",
        "## Exercises\n",
        "\n",
        "1. Construct an image `X` with diagonal edges.\n",
        "    1. What happens if you apply the kernel `K` in this section to it?\n",
        "    1. What happens if you transpose `X`?\n",
        "    1. What happens if you transpose `K`?\n",
        "1. When you try to automatically find the gradient for the `Conv2D` class we created, what kind of error message do you see?\n",
        "1. How do you represent a cross-correlation operation as a matrix multiplication by changing the input and kernel tensors?\n",
        "1. Design some kernels manually.\n",
        "    1. What is the form of a kernel for the second derivative?\n",
        "    1. What is the kernel for an integral?\n",
        "    1. What is the minimum size of a kernel to obtain a derivative of degree $d$?\n"
      ]
    },
    {
      "cell_type": "markdown",
      "metadata": {
        "origin_pos": 29,
        "tab": [
          "mxnet"
        ],
        "id": "AE4_40nX_3mF"
      },
      "source": [
        "[Discussions](https://discuss.d2l.ai/t/65)\n"
      ]
    }
  ]
}