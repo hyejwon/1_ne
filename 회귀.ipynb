{
  "nbformat": 4,
  "nbformat_minor": 0,
  "metadata": {
    "colab": {
      "name": "회귀.ipynb",
      "private_outputs": true,
      "provenance": [],
      "authorship_tag": "ABX9TyN3pMIwIU902qeHIwSH7Hwt",
      "include_colab_link": true
    },
    "kernelspec": {
      "name": "python3",
      "display_name": "Python 3"
    }
  },
  "cells": [
    {
      "cell_type": "markdown",
      "metadata": {
        "id": "view-in-github",
        "colab_type": "text"
      },
      "source": [
        "<a href=\"https://colab.research.google.com/github/hyejwon/1_ne/blob/main/%ED%9A%8C%EA%B7%80.ipynb\" target=\"_parent\"><img src=\"https://colab.research.google.com/assets/colab-badge.svg\" alt=\"Open In Colab\"/></a>"
      ]
    },
    {
      "cell_type": "code",
      "metadata": {
        "id": "dR1OYuiCP2IL"
      },
      "source": [
        "##자동차 연비 예측하기 : 회귀\n",
        "##회귀는 가격이나 확률 같이 연속된 출력 값을 예측하는 것이 목적\n",
        "##이와는 달리 분류는 여러개의 클래스 중 하나의 클래스를 선택하는 것이 목적\n",
        "##이 노트북은 auto mpg 데이터셋을 사용하여 1970년대 후반과 1980년대 초반의 자동차 연비를 예측하는 모델을 만듦\n",
        "##이 기간에 출시된 자동차 정보를 모델에 제공. 실린더 수, 배기량, 마력, 공차 중량 같은 속성 "
      ],
      "execution_count": null,
      "outputs": []
    },
    {
      "cell_type": "code",
      "metadata": {
        "id": "bGyZbg2KQPj7"
      },
      "source": [
        "pip install -q seaborn"
      ],
      "execution_count": null,
      "outputs": []
    },
    {
      "cell_type": "code",
      "metadata": {
        "id": "buOJSwhLQm3w"
      },
      "source": [
        "import pathlib\n",
        "\n",
        "import matplotlib.pyplot as plt\n",
        "import pandas as pd\n",
        "import seaborn as sns\n",
        "\n",
        "import tensorflow as tf\n",
        "from tensorflow import keras\n",
        "from tensorflow.keras import layers\n",
        "\n",
        "print(tf.__version__)"
      ],
      "execution_count": null,
      "outputs": []
    },
    {
      "cell_type": "code",
      "metadata": {
        "id": "GXLI_2krRJLL"
      },
      "source": [
        "#데이터 구하기\n",
        "\n",
        "dataset_path=keras.utils.get_file(\"auto-mpg-data\",\"http://archive.ics.uci.edu/ml/machine-learning-databases/auto-mpg/auto-mpg.data\")"
      ],
      "execution_count": null,
      "outputs": []
    },
    {
      "cell_type": "code",
      "metadata": {
        "id": "_cNbKW0vRlLg"
      },
      "source": [
        "#판다스를 사용하여 데이터를 읽음\n",
        "\n",
        "column_names = ['MPG','Cylinders','Displacement','Horsepower','Weight',\n",
        "                'Acceleration','Model Year','Origin']\n",
        "raw_dataset = pd.read_csv(dataset_path,names=column_names,\n",
        "                          na_values = \"?\", comment='\\t',\n",
        "                          sep=\" \", skipinitialspace=True)\n",
        "dataset = raw_dataset.copy()\n",
        "dataset.tail()\n",
        "             "
      ],
      "execution_count": null,
      "outputs": []
    },
    {
      "cell_type": "code",
      "metadata": {
        "id": "10XbDp8OSd--"
      },
      "source": [
        "#데이터 정제하기 \n",
        "dataset.isna().sum() #isna() na 결측값 찾는 함수\n"
      ],
      "execution_count": null,
      "outputs": []
    },
    {
      "cell_type": "code",
      "metadata": {
        "id": "bB2dB_X5SuYy"
      },
      "source": [
        "dataset = dataset.dropna()"
      ],
      "execution_count": null,
      "outputs": []
    },
    {
      "cell_type": "code",
      "metadata": {
        "id": "b4dPp8tRVIoM"
      },
      "source": [
        "origin = dataset.pop('Origin') # 범주형 데이터 원-핫 인코딩으로 변환"
      ],
      "execution_count": null,
      "outputs": []
    },
    {
      "cell_type": "code",
      "metadata": {
        "id": "R5vFPIipVM2f"
      },
      "source": [
        "dataset['USA'] = (origin==1)*1.0\n",
        "dataset['Europe'] = (origin==2)*1.0\n",
        "dataset['Japan'] = (origin==3)*1.0\n",
        "dataset.tail()"
      ],
      "execution_count": null,
      "outputs": []
    },
    {
      "cell_type": "code",
      "metadata": {
        "id": "fWb3do_hVhv4"
      },
      "source": [
        "#데이터셋을 훈련 세트와 테스트 세트로 분할하기\n",
        "\n",
        "train_dataset = dataset.sample(frac=0.8,random_state=0)\n",
        "test_dataset = dataset.drop(train_dataset.index)"
      ],
      "execution_count": null,
      "outputs": []
    },
    {
      "cell_type": "code",
      "metadata": {
        "id": "2iVJhWmMV1JT"
      },
      "source": [
        "#데이터 조사하기 - 훈련 세트에서 몇 개의 열을 선택해 산점도 행렬을 만들어 살펴 보기\n",
        "sns.pairplot(train_dataset[[\"MPG\",\"Cylinders\",\"Displacement\",\"Weight\"]],diag_kind=\"kde\")"
      ],
      "execution_count": null,
      "outputs": []
    },
    {
      "cell_type": "code",
      "metadata": {
        "id": "JxRH2bMgWJaS"
      },
      "source": [
        "train_dataset[[\"MPG\",\"Cylinders\",\"Displacement\",\"Weight\"]]"
      ],
      "execution_count": null,
      "outputs": []
    },
    {
      "cell_type": "code",
      "metadata": {
        "id": "37acpFVaWXzv"
      },
      "source": [
        "train_stats = train_dataset.describe()\n",
        "train_stats.pop(\"MPG\")\n",
        "train_stats = train_stats.transpose()\n",
        "train_stats"
      ],
      "execution_count": null,
      "outputs": []
    },
    {
      "cell_type": "code",
      "metadata": {
        "id": "Jplzv52DW0xx"
      },
      "source": [
        "#특성과 레이블 분리하기\n",
        "\n",
        "train_labels = train_dataset.pop('MPG')\n",
        "test_labels = test_dataset.pop('MPG')"
      ],
      "execution_count": null,
      "outputs": []
    },
    {
      "cell_type": "code",
      "metadata": {
        "id": "jt_ASDrRXFn3"
      },
      "source": [
        "#데이터 정규화\n",
        "def norm(x):\n",
        "    return (x-train_stats['mean'])/train_stats['std']\n",
        "normed_train_data = norm(train_dataset)\n",
        "normed_test_data = norm(test_dataset)"
      ],
      "execution_count": null,
      "outputs": []
    },
    {
      "cell_type": "code",
      "metadata": {
        "id": "yhkUgdmtXmcZ"
      },
      "source": [
        "#모델 만들기\n",
        "def build_model():\n",
        "    model = keras.Sequential([\n",
        "        layers.Dense(64,activation='relu', input_shape=[len(train_dataset.keys())]),\n",
        "        layers.Dense(64,activation='relu'),\n",
        "        layers.Dense(1)\n",
        "    ])\n",
        "\n",
        "    optimizer = tf.keras.optimizers.RMSprop(0.001)\n",
        "\n",
        "    model.compile(loss='mse',\n",
        "              optimizer=optimizer,\n",
        "              metrics=['mae','mse'])\n",
        "    return model"
      ],
      "execution_count": null,
      "outputs": []
    },
    {
      "cell_type": "code",
      "metadata": {
        "id": "vnnWGGHPYe8T"
      },
      "source": [
        "model = build_model()"
      ],
      "execution_count": null,
      "outputs": []
    },
    {
      "cell_type": "code",
      "metadata": {
        "id": "j4ItISXgYka3"
      },
      "source": [
        "#모델 확인\n",
        "model.summary()"
      ],
      "execution_count": null,
      "outputs": []
    },
    {
      "cell_type": "code",
      "metadata": {
        "id": "5cBzO_n6YoD1"
      },
      "source": [
        "example_batch = normed_train_data[:10]\n",
        "example_result = model.predict(example_batch)\n",
        "example_result"
      ],
      "execution_count": null,
      "outputs": []
    },
    {
      "cell_type": "code",
      "metadata": {
        "id": "6fOX4Jv5Y73n"
      },
      "source": [
        "# 모델 훈련\n",
        "# 에포크가 끝날 때 마다 점(.)을 출력해 훈련 진행 과정을 표시\n",
        "class PrintDot(keras.callbacks.Callback):\n",
        "    def on_epoch_end(self,epoch,logs):\n",
        "        if epoch % 100 == 0: print('')\n",
        "        print('.',end='')\n",
        "EPOCHS = 1000\n",
        "\n",
        "history = model.fit(\n",
        "    normed_train_data, train_labels,\n",
        "    epochs=EPOCHS, validation_split = 0.2, verbose=0,\n",
        "    callbacks=[PrintDot()])"
      ],
      "execution_count": null,
      "outputs": []
    },
    {
      "cell_type": "code",
      "metadata": {
        "id": "xU2lB5j4aovR"
      },
      "source": [
        "hist = pd.DataFrame(history.history)\n",
        "hist['epoch'] = history.epoch\n",
        "hist.tail()"
      ],
      "execution_count": null,
      "outputs": []
    },
    {
      "cell_type": "code",
      "metadata": {
        "id": "F_OHyz66bJbB"
      },
      "source": [
        "import matplotlib.pyplot as plt\n",
        "def plot_history(history):\n",
        "    hist = pd.DataFrame(history.history)\n",
        "    hist['epoch'] =history.epoch\n",
        "\n",
        "    plt.figure(figsize=(8,12))\n",
        "\n",
        "    plt.subplot(2,1,1)\n",
        "    plt.xlabel('Epoch')\n",
        "    plt.ylabel('Mean Abs Error [MPG]')\n",
        "    plt.plot(hist['epoch'],hist['mae'],\n",
        "             label='Train Error')\n",
        "    plt.plot(hist['epoch'],hist['val_mae'],\n",
        "             label='Val Error')\n",
        "    plt.ylim([0,5])\n",
        "    plt.legend()\n",
        "\n",
        "    plt.subplot(2,1,2)\n",
        "    plt.xlabel('Epoch')\n",
        "    plt.ylabel('Mean Square Error [$MPG^2$]')\n",
        "    plt.plot(hist['epoch'],hist['mse'],\n",
        "             label='Train Error')\n",
        "    plt.plot(hist['epoch'],hist['val_mse'],\n",
        "             label='Val Error')\n",
        "    \n",
        "    plt.ylim([0,20])\n",
        "    plt.legend()\n",
        "    plt.show()\n",
        "\n",
        "plot_history(history)\n",
        "    "
      ],
      "execution_count": null,
      "outputs": []
    },
    {
      "cell_type": "code",
      "metadata": {
        "id": "EMwJDrgpdVEp"
      },
      "source": [
        "model = build_model()\n",
        "\n",
        "#patience 매개변수는 성능 향상을 체크할 에포크 횟수\n",
        "\n",
        "early_stop = keras.callbacks.EarlyStopping(monitor='val_loss',patience=10)\n",
        "history = model.fit(normed_train_data,train_labels,epochs=EPOCHS,\n",
        "                    validation_split = 0.2 ,verbose=0, callbacks=[early_stop,PrintDot()])\n",
        "plot_history(history)"
      ],
      "execution_count": null,
      "outputs": []
    },
    {
      "cell_type": "code",
      "metadata": {
        "id": "2Grshhn-eFO_"
      },
      "source": [
        "loss, mae, mse = model.evaluate(normed_test_data , test_labels, verbose=2)\n",
        "\n",
        "print(\"테스트 세트의 평균 절대 오차: {:5.2f} MPG\".format(mae))"
      ],
      "execution_count": null,
      "outputs": []
    },
    {
      "cell_type": "code",
      "metadata": {
        "id": "Oi9UCu2uelsE"
      },
      "source": [
        "#예측\n",
        "test_predictions = model.predict(normed_test_data).flatten()\n",
        "\n",
        "plt.scatter(test_labels,test_predictions)\n",
        "plt.xlabel('True Values [MPG]')\n",
        "plt.ylabel('Predictions [MPG]')\n",
        "plt.axis('equal')\n",
        "plt.axis('square')\n",
        "plt.xlim([0,plt.xlim()[1]])\n",
        "plt.ylim([0,plt.ylim()[1]])\n",
        "_=plt.plot([-100,100],[-100,100])"
      ],
      "execution_count": null,
      "outputs": []
    },
    {
      "cell_type": "code",
      "metadata": {
        "id": "UPQwca3pfTtn"
      },
      "source": [
        "error =test_predictions-test_labels\n",
        "plt.hist(error,bins=25)\n",
        "plt.xlabel(\"Prediction Error [MPG]\")\n",
        "_=plt.ylabel(\"Count\")"
      ],
      "execution_count": null,
      "outputs": []
    },
    {
      "cell_type": "code",
      "metadata": {
        "id": "wvp9xCq4fnDp"
      },
      "source": [
        ""
      ],
      "execution_count": null,
      "outputs": []
    }
  ]
}