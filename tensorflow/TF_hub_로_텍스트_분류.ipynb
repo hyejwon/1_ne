{
  "nbformat": 4,
  "nbformat_minor": 0,
  "metadata": {
    "colab": {
      "name": "TF hub 로 텍스트 분류.ipynb",
      "private_outputs": true,
      "provenance": [],
      "authorship_tag": "ABX9TyPMZ65CUZpdlYrArAtA8/3U",
      "include_colab_link": true
    },
    "kernelspec": {
      "name": "python3",
      "display_name": "Python 3"
    },
    "accelerator": "GPU"
  },
  "cells": [
    {
      "cell_type": "markdown",
      "metadata": {
        "id": "view-in-github",
        "colab_type": "text"
      },
      "source": [
        "<a href=\"https://colab.research.google.com/github/hyejwon/1_ne/blob/main/TF_hub_%EB%A1%9C_%ED%85%8D%EC%8A%A4%ED%8A%B8_%EB%B6%84%EB%A5%98.ipynb\" target=\"_parent\"><img src=\"https://colab.research.google.com/assets/colab-badge.svg\" alt=\"Open In Colab\"/></a>"
      ]
    },
    {
      "cell_type": "code",
      "metadata": {
        "id": "_xvJ-F5pBykW"
      },
      "source": [
        "#케라스와 텐서플로 허브를 사용한 영화 리뷰 텍스트 분류하기\n",
        " "
      ],
      "execution_count": null,
      "outputs": []
    },
    {
      "cell_type": "code",
      "metadata": {
        "id": "gvxWZ0DPB4u9"
      },
      "source": [
        "import numpy as np\n",
        "import tensorflow as tf\n",
        "\n",
        "!pip install -q tensorflow-hub\n",
        "!pip install -q tfds-nightly\n",
        "import tensorflow_hub as hub\n",
        "import tensorflow_datasets as tfds\n",
        "\n",
        "print(\"버전:\", tf.__version__)\n",
        "print(\"즉시 실행 모드\", tf.executing_eagerly())\n",
        "print(\"허브 버전\",hub.__version__)\n",
        "print(\"GPU\",\"사용 가능\" if tf.config.experimental.list_physical_devices(\"GPU\") else \"사용 불가능\")"
      ],
      "execution_count": null,
      "outputs": []
    },
    {
      "cell_type": "code",
      "metadata": {
        "id": "SY6VKaVEDfas"
      },
      "source": [
        "#IMDB 데이터셋 다운로드\n",
        "##훈련 세트를 6대 4로 나눕니다.\n",
        "##결국 훈련에 15,000개 샘플, 검증에 10,000개 샘플,테스트에 25,000개 샘플을 사용 \n",
        "train_data, validation_data, test_data = tfds.load(\n",
        "    name='imdb_reviews',\n",
        "    split=('train[:60%]','train[60%:]','test'),\n",
        "    as_supervised=True)"
      ],
      "execution_count": null,
      "outputs": []
    },
    {
      "cell_type": "code",
      "metadata": {
        "id": "TpQkh-iKEezw"
      },
      "source": [
        "#데이터 탐색\n",
        "##데이터셋의 샘플은 전처리된 정수 배열.이 정수는 영화 리뷰에 나오는 단어를 나타냄\n",
        "###레이블(label)은 정수 0 또는 1/ 0은 부정적인 리뷰이고 1은 긍정적인 리뷰\n",
        "\n",
        "train_examples_batch, train_labels_batch = next(iter(train_data.batch(10)))\n",
        "train_examples_batch"
      ],
      "execution_count": null,
      "outputs": []
    },
    {
      "cell_type": "code",
      "metadata": {
        "id": "8mzsZLZiISaa"
      },
      "source": [
        "train_labels_batch"
      ],
      "execution_count": null,
      "outputs": []
    },
    {
      "cell_type": "code",
      "metadata": {
        "id": "zTq8vM0tLmRi"
      },
      "source": [
        "#모델 구성 \n",
        "#텍스트를 표현하는 한 가지 방법은 문장을 임베딩 벡ㅌㅓ로 바꾸는 것\n",
        "#첫 번째 층으로 사전 훈련된(pre-trained)된 텍스트 임베딩을 사용할 수 있음\n",
        "###장점: 텍스트 전처리에 대해 신경 쓸 필요가 없다\n",
        "###     전이 학습의 장점을 이용\n",
        "###     임베딩은 고정크기이기 때문에 처리 과정이 단순\n",
        "#이 예제는 텐서플로 허브에 있는 사전 훈련된 텍스트 임베딩 모델 사용\n",
        "# 먼저 문장을 임베딩 시키기 위해 텐서플로 허브 모델을 사용하는 케라스 층을 만듦\n",
        "# 그 다음 몇 개의 샘플을 입력하여 테스트. 입력 텍스트의 길이에 상관없이 임베딩의 출력 크기는 (num_examples,embedding_dimension)\n",
        "\n",
        "embedding =\"http://tfhub.dev/google/tf2-preview/gnews-swivel-20dim/1\"\n",
        "hub_layer = hub.KerasLayer(embedding, input_shape=[],\n",
        "                            dtype=tf.string,trainable=True)\n",
        "hub_layer(train_examples_batch[:3])"
      ],
      "execution_count": null,
      "outputs": []
    },
    {
      "cell_type": "code",
      "metadata": {
        "id": "lwaysrFgNMZs"
      },
      "source": [
        "#전체 모델\n",
        "model = tf.keras.Sequential()\n",
        "model.add(hub_layer)\n",
        "model.add(tf.keras.layers.Dense(16,activation='relu'))\n",
        "model.add(tf.keras.layers.Dense(1))\n",
        "\n",
        "model.summary()\n"
      ],
      "execution_count": null,
      "outputs": []
    },
    {
      "cell_type": "code",
      "metadata": {
        "id": "d5JWuiV9NoC2"
      },
      "source": [
        "#손실 함수와 옵티마이저\n",
        "model.compile(optimizer='adam',\n",
        "              loss=tf.keras.losses.BinaryCrossentropy(from_logits=True),\n",
        "              metrics=['accuracy'])"
      ],
      "execution_count": null,
      "outputs": []
    },
    {
      "cell_type": "code",
      "metadata": {
        "id": "9oeid_CnOdvu"
      },
      "source": [
        "#모델 훈련\n",
        "history = model.fit(train_data.shuffle(10000).batch(512),\n",
        "                    epochs=20,\n",
        "                    validation_data=validation_data.batch(512),\n",
        "                    verbose=1)"
      ],
      "execution_count": null,
      "outputs": []
    },
    {
      "cell_type": "code",
      "metadata": {
        "id": "fwxMoX6zOw22"
      },
      "source": [
        "#모델 평가\n",
        "\n",
        "results = model.evaluate(test_data.batch(512),verbose=2)\n",
        "\n",
        "for name, value in zip(model.metrics_names,results):\n",
        "    print(\"%s:%.3f\"%(name,value))"
      ],
      "execution_count": null,
      "outputs": []
    },
    {
      "cell_type": "code",
      "metadata": {
        "id": "Enc6GYCDPhvz"
      },
      "source": [
        ""
      ],
      "execution_count": null,
      "outputs": []
    }
  ]
}