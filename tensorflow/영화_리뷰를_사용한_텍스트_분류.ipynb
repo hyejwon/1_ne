{
  "nbformat": 4,
  "nbformat_minor": 0,
  "metadata": {
    "colab": {
      "name": "영화 리뷰를 사용한 텍스트 분류.ipynb",
      "provenance": [],
      "collapsed_sections": [],
      "authorship_tag": "ABX9TyPb3oF3Fl9DmUKZcdNtq0FJ",
      "include_colab_link": true
    },
    "kernelspec": {
      "name": "python3",
      "display_name": "Python 3"
    }
  },
  "cells": [
    {
      "cell_type": "markdown",
      "metadata": {
        "id": "view-in-github",
        "colab_type": "text"
      },
      "source": [
        "<a href=\"https://colab.research.google.com/github/hyejwon/1_ne/blob/main/%EC%98%81%ED%99%94_%EB%A6%AC%EB%B7%B0%EB%A5%BC_%EC%82%AC%EC%9A%A9%ED%95%9C_%ED%85%8D%EC%8A%A4%ED%8A%B8_%EB%B6%84%EB%A5%98.ipynb\" target=\"_parent\"><img src=\"https://colab.research.google.com/assets/colab-badge.svg\" alt=\"Open In Colab\"/></a>"
      ]
    },
    {
      "cell_type": "code",
      "metadata": {
        "id": "xo_8h6ag8frK"
      },
      "source": [
        "# 영화 리뷰 텍스트를 긍정 또는 부정으로 분류\n",
        "# 예제는 이진(binary)또는 클래스(class)가 두 개인 분류 문제\n",
        "# 이진 분류는 머신러닝에서 중요하고 널리 사용\n",
        "\n",
        "# 인터넷 영화 데이터베이스에서 수집한 50,000개의 영화 리뷰 텍스트를 담은 IMDB 데이터셋 사용\n",
        "# 25,000개의 리뷰는 훈련용으로 25,000개는 테스트용으로 나뉘어져있습니다. 훈련 세트와 테스트 세트의 클래스는 균형이 잡혀있음.\n",
        "# 즉 긍정적인 리뷰와 부정적인 리뷰의 개수가 동일합니다.\n",
        "\n",
        "# 이 노트북은 모델을 만들고 훈련하기 위해 텐서플로의 고수준 파이썬 API인 tf.keras를 사용 "
      ],
      "execution_count": 2,
      "outputs": []
    },
    {
      "cell_type": "code",
      "metadata": {
        "id": "_9lK_7Kg_hXi",
        "colab": {
          "base_uri": "https://localhost:8080/"
        },
        "outputId": "76db4ece-c1ff-4af3-dd49-8b4290de37f1"
      },
      "source": [
        "import tensorflow as tf\n",
        "from tensorflow import keras\n",
        "\n",
        "import numpy as np\n",
        "\n",
        "print(tf.__version__)"
      ],
      "execution_count": 3,
      "outputs": [
        {
          "output_type": "stream",
          "text": [
            "2.4.1\n"
          ],
          "name": "stdout"
        }
      ]
    },
    {
      "cell_type": "code",
      "metadata": {
        "id": "Si-65o4I_zaN"
      },
      "source": [
        "#IMDB 데이터셋 다운로드\n",
        "#IMDB 데이터셋은 텐서플로와 함께 제공. 리뷰(단어의 시퀀스(Sequence))는 미리 전처리해서 정수 시퀀스로 변환되어 있다.\n",
        "#각 정수는 어휘 사전에 있는 특정 단어를 의미한다\n",
        "#다음 코드는 IMDB 데이터셋을 컴퓨터에 다운로드 한다"
      ],
      "execution_count": 4,
      "outputs": []
    },
    {
      "cell_type": "code",
      "metadata": {
        "id": "TZz7wirgAOrq",
        "colab": {
          "base_uri": "https://localhost:8080/"
        },
        "outputId": "d942fdcb-3517-4dae-fb61-d175c74e3082"
      },
      "source": [
        "imdb = keras.datasets.imdb\n",
        "(train_data,train_labels),(test_data,test_labels)=imdb.load_data(num_words=10000)\n",
        "#매개변수 num_words=10000 은 훈련 데이터에서 가장 많이 등장하는 상위 10,000개의 단어를 선택\n",
        "#데이터 크기를 적당하게 유지하기위해 드물게 등장하는 단어는 제외 \n"
      ],
      "execution_count": 5,
      "outputs": [
        {
          "output_type": "stream",
          "text": [
            "Downloading data from https://storage.googleapis.com/tensorflow/tf-keras-datasets/imdb.npz\n",
            "17465344/17464789 [==============================] - 0s 0us/step\n"
          ],
          "name": "stdout"
        },
        {
          "output_type": "stream",
          "text": [
            "<string>:6: VisibleDeprecationWarning: Creating an ndarray from ragged nested sequences (which is a list-or-tuple of lists-or-tuples-or ndarrays with different lengths or shapes) is deprecated. If you meant to do this, you must specify 'dtype=object' when creating the ndarray\n",
            "/usr/local/lib/python3.7/dist-packages/tensorflow/python/keras/datasets/imdb.py:159: VisibleDeprecationWarning: Creating an ndarray from ragged nested sequences (which is a list-or-tuple of lists-or-tuples-or ndarrays with different lengths or shapes) is deprecated. If you meant to do this, you must specify 'dtype=object' when creating the ndarray\n",
            "  x_train, y_train = np.array(xs[:idx]), np.array(labels[:idx])\n",
            "/usr/local/lib/python3.7/dist-packages/tensorflow/python/keras/datasets/imdb.py:160: VisibleDeprecationWarning: Creating an ndarray from ragged nested sequences (which is a list-or-tuple of lists-or-tuples-or ndarrays with different lengths or shapes) is deprecated. If you meant to do this, you must specify 'dtype=object' when creating the ndarray\n",
            "  x_test, y_test = np.array(xs[idx:]), np.array(labels[idx:])\n"
          ],
          "name": "stderr"
        }
      ]
    },
    {
      "cell_type": "code",
      "metadata": {
        "id": "uKh-YWQAApR2",
        "colab": {
          "base_uri": "https://localhost:8080/"
        },
        "outputId": "1c2a9d5f-be52-42ad-fe69-fefee6d26bde"
      },
      "source": [
        "#데이터 탐색: 이 데이터셋의 샘플은 전처리된 정수 배열입니다. 이 정수는 영화 리뷰에 나오는 단어를 나타냄\n",
        "#레이블은(label)은 정수 0 또는 1\n",
        "print(\"훈련 샘플:{},레이블{}\".format(len(train_data),len(train_labels)))"
      ],
      "execution_count": 6,
      "outputs": [
        {
          "output_type": "stream",
          "text": [
            "훈련 샘플:25000,레이블25000\n"
          ],
          "name": "stdout"
        }
      ]
    },
    {
      "cell_type": "code",
      "metadata": {
        "id": "XqtuNnOZBejY",
        "colab": {
          "base_uri": "https://localhost:8080/"
        },
        "outputId": "ad42b94b-764d-412a-84c4-309ccb716c68"
      },
      "source": [
        "#리뷰 텍스트는 어휘 사전의 특정 단어를 나타내는 정수로 변환되어 있음.\n",
        "#첫 번째 리뷰를 확인\n",
        "print(train_data[0])"
      ],
      "execution_count": 7,
      "outputs": [
        {
          "output_type": "stream",
          "text": [
            "[1, 14, 22, 16, 43, 530, 973, 1622, 1385, 65, 458, 4468, 66, 3941, 4, 173, 36, 256, 5, 25, 100, 43, 838, 112, 50, 670, 2, 9, 35, 480, 284, 5, 150, 4, 172, 112, 167, 2, 336, 385, 39, 4, 172, 4536, 1111, 17, 546, 38, 13, 447, 4, 192, 50, 16, 6, 147, 2025, 19, 14, 22, 4, 1920, 4613, 469, 4, 22, 71, 87, 12, 16, 43, 530, 38, 76, 15, 13, 1247, 4, 22, 17, 515, 17, 12, 16, 626, 18, 2, 5, 62, 386, 12, 8, 316, 8, 106, 5, 4, 2223, 5244, 16, 480, 66, 3785, 33, 4, 130, 12, 16, 38, 619, 5, 25, 124, 51, 36, 135, 48, 25, 1415, 33, 6, 22, 12, 215, 28, 77, 52, 5, 14, 407, 16, 82, 2, 8, 4, 107, 117, 5952, 15, 256, 4, 2, 7, 3766, 5, 723, 36, 71, 43, 530, 476, 26, 400, 317, 46, 7, 4, 2, 1029, 13, 104, 88, 4, 381, 15, 297, 98, 32, 2071, 56, 26, 141, 6, 194, 7486, 18, 4, 226, 22, 21, 134, 476, 26, 480, 5, 144, 30, 5535, 18, 51, 36, 28, 224, 92, 25, 104, 4, 226, 65, 16, 38, 1334, 88, 12, 16, 283, 5, 16, 4472, 113, 103, 32, 15, 16, 5345, 19, 178, 32]\n"
          ],
          "name": "stdout"
        }
      ]
    },
    {
      "cell_type": "code",
      "metadata": {
        "id": "oAFdHk8JGWBy",
        "colab": {
          "base_uri": "https://localhost:8080/"
        },
        "outputId": "80d8f718-571b-43ab-ea5e-f8a806525993"
      },
      "source": [
        "#영화 리뷰들은 길이가 다름\n",
        "#첫 번째 리뷰와 두 번째 리뷰에서 단어의 개수를 출력\n",
        "#신경망의 입력은 길이가 같아야 하기 때문에 나중에 이 문제를 해결\n",
        "\n",
        "len(train_data[0]),len(train_data[1]) #len() 데이터 길이 튜플 "
      ],
      "execution_count": 8,
      "outputs": [
        {
          "output_type": "execute_result",
          "data": {
            "text/plain": [
              "(218, 189)"
            ]
          },
          "metadata": {
            "tags": []
          },
          "execution_count": 8
        }
      ]
    },
    {
      "cell_type": "code",
      "metadata": {
        "id": "JC_Ff8GgGyMp",
        "colab": {
          "base_uri": "https://localhost:8080/"
        },
        "outputId": "307174fd-80c0-4a3f-a520-dc093a77130c"
      },
      "source": [
        "#정수를 단어로 다시 변환하기\n",
        "#정수와 문자열을 매핑한 딕셔너리(dictionary)객체에 질의하는 헬퍼(helper)함수 생성\n",
        "\n",
        "#단어와 정수 인덱스를 매핑한 딕셔너리\n",
        "word_index = imdb.get_word_index()"
      ],
      "execution_count": 9,
      "outputs": [
        {
          "output_type": "stream",
          "text": [
            "Downloading data from https://storage.googleapis.com/tensorflow/tf-keras-datasets/imdb_word_index.json\n",
            "1646592/1641221 [==============================] - 0s 0us/step\n"
          ],
          "name": "stdout"
        }
      ]
    },
    {
      "cell_type": "code",
      "metadata": {
        "id": "KxA-JURHHgT9"
      },
      "source": [
        "#처음 몇 개 인덱스는 사전에 정의되어 있음\n",
        "word_index = {k:(v+3) for k,v in word_index.items()} #data value 에 3을 더해줌\n",
        "word_index[\"<PAD>\"]=0\n",
        "word_index[\"<START>\"]=1\n",
        "word_index[\"<UNK>\"]=2 #unknown\n",
        "word_index[\"<UNUSED>\"]=3\n",
        "\n",
        "reverse_word_index=dict([(value,key) for (key,value) in word_index.items()]) #.items():for 문에서 key 와 value 같이 돌리는 함수\n",
        "\n",
        "def decode_review(text):\n",
        "    return ' '.join([reverse_word_index.get(i,'?')for i in text]) "
      ],
      "execution_count": 10,
      "outputs": []
    },
    {
      "cell_type": "code",
      "metadata": {
        "id": "torJvXhLOtrV",
        "colab": {
          "base_uri": "https://localhost:8080/",
          "height": 125
        },
        "outputId": "20d471ca-6802-4783-9731-2698e567d21e"
      },
      "source": [
        "decode_review(train_data[0])"
      ],
      "execution_count": 11,
      "outputs": [
        {
          "output_type": "execute_result",
          "data": {
            "application/vnd.google.colaboratory.intrinsic+json": {
              "type": "string"
            },
            "text/plain": [
              "\"<START> this film was just brilliant casting location scenery story direction everyone's really suited the part they played and you could just imagine being there robert <UNK> is an amazing actor and now the same being director <UNK> father came from the same scottish island as myself so i loved the fact there was a real connection with this film the witty remarks throughout the film were great it was just brilliant so much that i bought the film as soon as it was released for <UNK> and would recommend it to everyone to watch and the fly fishing was amazing really cried at the end it was so sad and you know what they say if you cry at a film it must have been good and this definitely was also <UNK> to the two little boy's that played the <UNK> of norman and paul they were just brilliant children are often left out of the <UNK> list i think because the stars that play them all grown up are such a big profile for the whole film but these children are amazing and should be praised for what they have done don't you think the whole story was so lovely because it was true and was someone's life after all that was shared with us all\""
            ]
          },
          "metadata": {
            "tags": []
          },
          "execution_count": 11
        }
      ]
    },
    {
      "cell_type": "code",
      "metadata": {
        "id": "gu3A_gb2O1gY"
      },
      "source": [
        "#데이터 준비\n",
        "#리뷰-정수 배열은 신경망에 주입하기 전에 텐서로 변환 되어야 한다. \n",
        "##1.원 핫 인코딩(one-hot encoding)은 정수 배열을 0과 1로 이루어진 벡터로 변환\n",
        "###배열[3,5]을 인덱스 3과 5만 1이고 나머지는 모두 0인 10,000차원 벡터로 변환할 수 있음\n",
        "###그 다음 실수 벡터 데이터를 다룰 수 있는 dense층을 신경망의 첫번째 층으로 사용\n",
        "###이 방법은 num_words*num_reviews 크기의 행렬이 필요하기 때문에 메모리를 많이 사용\n",
        "##2.다른 방법으로는,정수 배열의 길이가 모두 같도록 패딩(padding)을 추가해 max_length*num_reviews\n",
        "###크기의 정수 텐서를 만듦. 이런 형ㅌㅐ의 텐서를 다룰 수 있는 임베딩(embedding)층을 신경망의 첫 번째 층으로 사용\n"
      ],
      "execution_count": 12,
      "outputs": []
    },
    {
      "cell_type": "code",
      "metadata": {
        "id": "bRETTWV0SaCN"
      },
      "source": [
        "#이 튜토리얼에서는 두 번째 방식을 사용, 영화 리뷰의 길이가 같아야 하므로 pad_sequences함수를 사용해 길이를 맞춤\n",
        "train_data=keras.preprocessing.sequence.pad_sequences(train_data,\n",
        "                                                      value=word_index[\"<PAD>\"],\n",
        "                                                      padding='post',\n",
        "                                                      maxlen=256)\n",
        "test_data=keras.preprocessing.sequence.pad_sequences(test_data,\n",
        "                                                     value=word_index[\"<PAD>\"],\n",
        "                                                     padding='post',\n",
        "                                                     maxlen=256)\n",
        "\n"
      ],
      "execution_count": 13,
      "outputs": []
    },
    {
      "cell_type": "code",
      "metadata": {
        "id": "8G6FWSNbTj2h",
        "colab": {
          "base_uri": "https://localhost:8080/"
        },
        "outputId": "79e2b994-ce63-44c2-a2ee-2094b94e5ed2"
      },
      "source": [
        "#샘플 길이 확인\n",
        "len(train_data[0]),len(train_data[0])"
      ],
      "execution_count": 14,
      "outputs": [
        {
          "output_type": "execute_result",
          "data": {
            "text/plain": [
              "(256, 256)"
            ]
          },
          "metadata": {
            "tags": []
          },
          "execution_count": 14
        }
      ]
    },
    {
      "cell_type": "code",
      "metadata": {
        "id": "qYMQ_08yTyDz",
        "colab": {
          "base_uri": "https://localhost:8080/"
        },
        "outputId": "393adf61-09de-4c16-b29e-1a79d4c8b9a9"
      },
      "source": [
        "print(train_data[0])"
      ],
      "execution_count": 15,
      "outputs": [
        {
          "output_type": "stream",
          "text": [
            "[   1   14   22   16   43  530  973 1622 1385   65  458 4468   66 3941\n",
            "    4  173   36  256    5   25  100   43  838  112   50  670    2    9\n",
            "   35  480  284    5  150    4  172  112  167    2  336  385   39    4\n",
            "  172 4536 1111   17  546   38   13  447    4  192   50   16    6  147\n",
            " 2025   19   14   22    4 1920 4613  469    4   22   71   87   12   16\n",
            "   43  530   38   76   15   13 1247    4   22   17  515   17   12   16\n",
            "  626   18    2    5   62  386   12    8  316    8  106    5    4 2223\n",
            " 5244   16  480   66 3785   33    4  130   12   16   38  619    5   25\n",
            "  124   51   36  135   48   25 1415   33    6   22   12  215   28   77\n",
            "   52    5   14  407   16   82    2    8    4  107  117 5952   15  256\n",
            "    4    2    7 3766    5  723   36   71   43  530  476   26  400  317\n",
            "   46    7    4    2 1029   13  104   88    4  381   15  297   98   32\n",
            " 2071   56   26  141    6  194 7486   18    4  226   22   21  134  476\n",
            "   26  480    5  144   30 5535   18   51   36   28  224   92   25  104\n",
            "    4  226   65   16   38 1334   88   12   16  283    5   16 4472  113\n",
            "  103   32   15   16 5345   19  178   32    0    0    0    0    0    0\n",
            "    0    0    0    0    0    0    0    0    0    0    0    0    0    0\n",
            "    0    0    0    0    0    0    0    0    0    0    0    0    0    0\n",
            "    0    0    0    0]\n"
          ],
          "name": "stdout"
        }
      ]
    },
    {
      "cell_type": "code",
      "metadata": {
        "id": "6U8yEymZT07k"
      },
      "source": [
        "#모델 구성\n",
        "##신경망은 층(layer)을 쌓아서 만듦\n",
        "###1.모델에서 얼마나 많은 층을 사용할 것인가?\n",
        "###2.각 층에서 얼마나 많은 은닉 유닛(hidden unit)을 사용할 것인가?\n"
      ],
      "execution_count": 16,
      "outputs": []
    },
    {
      "cell_type": "code",
      "metadata": {
        "id": "mHgpu11YT8HG"
      },
      "source": [
        "#이 예제의 입력 데이터는 단어 인덱스의 배열입니다. 예측할 레이블은 0또는 1\n"
      ],
      "execution_count": 17,
      "outputs": []
    },
    {
      "cell_type": "code",
      "metadata": {
        "id": "6vPyMqdaUkRg",
        "colab": {
          "base_uri": "https://localhost:8080/"
        },
        "outputId": "5dea9160-7b3a-4be1-949f-e2f9f47df568"
      },
      "source": [
        "#입력 크기는 영화 리뷰 데이터셋에 적용된 어휘 사전의 크기입니다 (10,000개의 단어)\n",
        "\n",
        "vocab_size=10000\n",
        "\n",
        "model=keras.Sequential()\n",
        "model.add(keras.layers.Embedding(vocab_size,16,input_shape=(None,)))#첫번째 층 \n",
        "model.add(keras.layers.GlobalAveragePooling1D()) #길이가 다른 입력을 다루는 가장 간단한 방법\n",
        "model.add(keras.layers.Dense(16,activation='relu'))##16개 hidden unit\n",
        "model.add(keras.layers.Dense(1,activation='sigmoid')) ##1개 출력 노드 0<=sigmoid<=1\n",
        "\n",
        "model.summary()"
      ],
      "execution_count": 18,
      "outputs": [
        {
          "output_type": "stream",
          "text": [
            "Model: \"sequential\"\n",
            "_________________________________________________________________\n",
            "Layer (type)                 Output Shape              Param #   \n",
            "=================================================================\n",
            "embedding (Embedding)        (None, None, 16)          160000    \n",
            "_________________________________________________________________\n",
            "global_average_pooling1d (Gl (None, 16)                0         \n",
            "_________________________________________________________________\n",
            "dense (Dense)                (None, 16)                272       \n",
            "_________________________________________________________________\n",
            "dense_1 (Dense)              (None, 1)                 17        \n",
            "=================================================================\n",
            "Total params: 160,289\n",
            "Trainable params: 160,289\n",
            "Non-trainable params: 0\n",
            "_________________________________________________________________\n"
          ],
          "name": "stdout"
        }
      ]
    },
    {
      "cell_type": "code",
      "metadata": {
        "id": "MfDFvY3yVxLr"
      },
      "source": [
        "#손실함수와 옵티마이저\n",
        "model.compile(optimizer='adam',\n",
        "              loss='binary_crossentropy',\n",
        "              metrics=['accuracy'])"
      ],
      "execution_count": 19,
      "outputs": []
    },
    {
      "cell_type": "code",
      "metadata": {
        "id": "MibrHso8XNLJ"
      },
      "source": [
        "#검증 세트 만들기\n",
        "##모델을 훈련할 때 모델이 만난 적 없는 데이터에서 정확도를 확인하는 것이 좋음 \n",
        "##원본 훈련 데이터에서 10,000개의 샘플을 떼어내어 검증세트(validation set)를 만듦\n",
        "\n",
        "x_val = train_data[:10000]\n",
        "partial_x_train = train_data[10000:]\n",
        "\n",
        "y_val = train_labels[:10000]\n",
        "partial_y_train = train_labels[10000:]\n"
      ],
      "execution_count": 20,
      "outputs": []
    },
    {
      "cell_type": "code",
      "metadata": {
        "id": "DKKQaXTDZdCF",
        "colab": {
          "base_uri": "https://localhost:8080/"
        },
        "outputId": "477a1694-4eef-4bde-e309-b946367b2aa8"
      },
      "source": [
        "#모델 훈련\n",
        "##이 모델을 512개의 샘플로 이루어진 미니배치에서 40번의 에포크 동안 훈련합니다.\n",
        "#x_train과 y_train 텐서에 있는 모든 샘플에 대해 40번 반복한다는 뜻\n",
        "#훈련하는 동안 10,000개의 검증 세트에서 모델의 손실과 정확도를 모니터링 합니다.\n",
        "\n",
        "history=model.fit(partial_x_train,\n",
        "                partial_y_train,\n",
        "                epochs=40,\n",
        "                batch_size=512,\n",
        "                validation_data=(x_val,y_val),\n",
        "                verbose=1)"
      ],
      "execution_count": 21,
      "outputs": [
        {
          "output_type": "stream",
          "text": [
            "Epoch 1/40\n",
            "30/30 [==============================] - 2s 33ms/step - loss: 0.6929 - accuracy: 0.5056 - val_loss: 0.6916 - val_accuracy: 0.6372\n",
            "Epoch 2/40\n",
            "30/30 [==============================] - 1s 21ms/step - loss: 0.6906 - accuracy: 0.6449 - val_loss: 0.6871 - val_accuracy: 0.7490\n",
            "Epoch 3/40\n",
            "30/30 [==============================] - 1s 22ms/step - loss: 0.6845 - accuracy: 0.7521 - val_loss: 0.6776 - val_accuracy: 0.7444\n",
            "Epoch 4/40\n",
            "30/30 [==============================] - 1s 21ms/step - loss: 0.6728 - accuracy: 0.7617 - val_loss: 0.6612 - val_accuracy: 0.7543\n",
            "Epoch 5/40\n",
            "30/30 [==============================] - 1s 21ms/step - loss: 0.6527 - accuracy: 0.7778 - val_loss: 0.6367 - val_accuracy: 0.7674\n",
            "Epoch 6/40\n",
            "30/30 [==============================] - 1s 21ms/step - loss: 0.6240 - accuracy: 0.7926 - val_loss: 0.6053 - val_accuracy: 0.7882\n",
            "Epoch 7/40\n",
            "30/30 [==============================] - 1s 20ms/step - loss: 0.5876 - accuracy: 0.8080 - val_loss: 0.5692 - val_accuracy: 0.8032\n",
            "Epoch 8/40\n",
            "30/30 [==============================] - 1s 20ms/step - loss: 0.5468 - accuracy: 0.8211 - val_loss: 0.5319 - val_accuracy: 0.8159\n",
            "Epoch 9/40\n",
            "30/30 [==============================] - 1s 20ms/step - loss: 0.5042 - accuracy: 0.8400 - val_loss: 0.4949 - val_accuracy: 0.8276\n",
            "Epoch 10/40\n",
            "30/30 [==============================] - 1s 21ms/step - loss: 0.4673 - accuracy: 0.8519 - val_loss: 0.4630 - val_accuracy: 0.8296\n",
            "Epoch 11/40\n",
            "30/30 [==============================] - 1s 20ms/step - loss: 0.4290 - accuracy: 0.8604 - val_loss: 0.4320 - val_accuracy: 0.8470\n",
            "Epoch 12/40\n",
            "30/30 [==============================] - 1s 20ms/step - loss: 0.3982 - accuracy: 0.8717 - val_loss: 0.4073 - val_accuracy: 0.8520\n",
            "Epoch 13/40\n",
            "30/30 [==============================] - 1s 21ms/step - loss: 0.3661 - accuracy: 0.8844 - val_loss: 0.3865 - val_accuracy: 0.8572\n",
            "Epoch 14/40\n",
            "30/30 [==============================] - 1s 21ms/step - loss: 0.3424 - accuracy: 0.8880 - val_loss: 0.3691 - val_accuracy: 0.8623\n",
            "Epoch 15/40\n",
            "30/30 [==============================] - 1s 21ms/step - loss: 0.3205 - accuracy: 0.8953 - val_loss: 0.3547 - val_accuracy: 0.8664\n",
            "Epoch 16/40\n",
            "30/30 [==============================] - 1s 21ms/step - loss: 0.3064 - accuracy: 0.8969 - val_loss: 0.3429 - val_accuracy: 0.8689\n",
            "Epoch 17/40\n",
            "30/30 [==============================] - 1s 21ms/step - loss: 0.2877 - accuracy: 0.9050 - val_loss: 0.3331 - val_accuracy: 0.8724\n",
            "Epoch 18/40\n",
            "30/30 [==============================] - 1s 21ms/step - loss: 0.2758 - accuracy: 0.9042 - val_loss: 0.3245 - val_accuracy: 0.8738\n",
            "Epoch 19/40\n",
            "30/30 [==============================] - 1s 20ms/step - loss: 0.2620 - accuracy: 0.9101 - val_loss: 0.3169 - val_accuracy: 0.8771\n",
            "Epoch 20/40\n",
            "30/30 [==============================] - 1s 21ms/step - loss: 0.2480 - accuracy: 0.9153 - val_loss: 0.3111 - val_accuracy: 0.8784\n",
            "Epoch 21/40\n",
            "30/30 [==============================] - 1s 20ms/step - loss: 0.2398 - accuracy: 0.9175 - val_loss: 0.3059 - val_accuracy: 0.8800\n",
            "Epoch 22/40\n",
            "30/30 [==============================] - 1s 20ms/step - loss: 0.2327 - accuracy: 0.9186 - val_loss: 0.3012 - val_accuracy: 0.8806\n",
            "Epoch 23/40\n",
            "30/30 [==============================] - 1s 21ms/step - loss: 0.2154 - accuracy: 0.9253 - val_loss: 0.2976 - val_accuracy: 0.8828\n",
            "Epoch 24/40\n",
            "30/30 [==============================] - 1s 20ms/step - loss: 0.2051 - accuracy: 0.9309 - val_loss: 0.2951 - val_accuracy: 0.8825\n",
            "Epoch 25/40\n",
            "30/30 [==============================] - 1s 21ms/step - loss: 0.2025 - accuracy: 0.9286 - val_loss: 0.2920 - val_accuracy: 0.8836\n",
            "Epoch 26/40\n",
            "30/30 [==============================] - 1s 20ms/step - loss: 0.1944 - accuracy: 0.9342 - val_loss: 0.2904 - val_accuracy: 0.8841\n",
            "Epoch 27/40\n",
            "30/30 [==============================] - 1s 20ms/step - loss: 0.1902 - accuracy: 0.9347 - val_loss: 0.2885 - val_accuracy: 0.8842\n",
            "Epoch 28/40\n",
            "30/30 [==============================] - 1s 20ms/step - loss: 0.1783 - accuracy: 0.9424 - val_loss: 0.2874 - val_accuracy: 0.8848\n",
            "Epoch 29/40\n",
            "30/30 [==============================] - 1s 20ms/step - loss: 0.1745 - accuracy: 0.9437 - val_loss: 0.2861 - val_accuracy: 0.8837\n",
            "Epoch 30/40\n",
            "30/30 [==============================] - 1s 21ms/step - loss: 0.1667 - accuracy: 0.9474 - val_loss: 0.2853 - val_accuracy: 0.8843\n",
            "Epoch 31/40\n",
            "30/30 [==============================] - 1s 25ms/step - loss: 0.1639 - accuracy: 0.9486 - val_loss: 0.2850 - val_accuracy: 0.8846\n",
            "Epoch 32/40\n",
            "30/30 [==============================] - 1s 20ms/step - loss: 0.1576 - accuracy: 0.9494 - val_loss: 0.2853 - val_accuracy: 0.8849\n",
            "Epoch 33/40\n",
            "30/30 [==============================] - 1s 21ms/step - loss: 0.1522 - accuracy: 0.9527 - val_loss: 0.2851 - val_accuracy: 0.8857\n",
            "Epoch 34/40\n",
            "30/30 [==============================] - 1s 21ms/step - loss: 0.1453 - accuracy: 0.9558 - val_loss: 0.2864 - val_accuracy: 0.8855\n",
            "Epoch 35/40\n",
            "30/30 [==============================] - 1s 20ms/step - loss: 0.1434 - accuracy: 0.9568 - val_loss: 0.2862 - val_accuracy: 0.8858\n",
            "Epoch 36/40\n",
            "30/30 [==============================] - 1s 20ms/step - loss: 0.1360 - accuracy: 0.9613 - val_loss: 0.2876 - val_accuracy: 0.8853\n",
            "Epoch 37/40\n",
            "30/30 [==============================] - 1s 20ms/step - loss: 0.1338 - accuracy: 0.9611 - val_loss: 0.2882 - val_accuracy: 0.8854\n",
            "Epoch 38/40\n",
            "30/30 [==============================] - 1s 20ms/step - loss: 0.1265 - accuracy: 0.9642 - val_loss: 0.2892 - val_accuracy: 0.8855\n",
            "Epoch 39/40\n",
            "30/30 [==============================] - 1s 21ms/step - loss: 0.1267 - accuracy: 0.9648 - val_loss: 0.2907 - val_accuracy: 0.8854\n",
            "Epoch 40/40\n",
            "30/30 [==============================] - 1s 21ms/step - loss: 0.1179 - accuracy: 0.9677 - val_loss: 0.2923 - val_accuracy: 0.8853\n"
          ],
          "name": "stdout"
        }
      ]
    },
    {
      "cell_type": "code",
      "metadata": {
        "colab": {
          "base_uri": "https://localhost:8080/"
        },
        "id": "xqgfDi8WMbEU",
        "outputId": "5199a261-0f07-4f2b-c71a-862912492a28"
      },
      "source": [
        "#모델 평가\r\n",
        "results = model.evaluate(test_data, test_labels, verbose=2)\r\n",
        "print(results)"
      ],
      "execution_count": 22,
      "outputs": [
        {
          "output_type": "stream",
          "text": [
            "782/782 - 1s - loss: 0.3105 - accuracy: 0.8750\n",
            "[0.3104551434516907, 0.8749600052833557]\n"
          ],
          "name": "stdout"
        }
      ]
    },
    {
      "cell_type": "code",
      "metadata": {
        "colab": {
          "base_uri": "https://localhost:8080/"
        },
        "id": "nYCdHhjMNjAm",
        "outputId": "d0c64694-8b18-4a98-9a77-d9f6469576cf"
      },
      "source": [
        "#정확도와 손실 그래프 그리기\r\n",
        "history_dict=history.history #model.fit 은 history 객체를 반환합니다. 여기에는 훈련하는 동안 일어난 모든 정보가 담긴 딕셔너리가 들어있다.\r\n",
        "history_dict.keys()# 이 네개의 지표는 훈련과 검증 단계에서 모니터링 하는 지표"
      ],
      "execution_count": 23,
      "outputs": [
        {
          "output_type": "execute_result",
          "data": {
            "text/plain": [
              "dict_keys(['loss', 'accuracy', 'val_loss', 'val_accuracy'])"
            ]
          },
          "metadata": {
            "tags": []
          },
          "execution_count": 23
        }
      ]
    },
    {
      "cell_type": "code",
      "metadata": {
        "colab": {
          "base_uri": "https://localhost:8080/",
          "height": 313
        },
        "id": "RIJNx0dKNwis",
        "outputId": "781c5368-1039-4640-e63a-ddd231bb324e"
      },
      "source": [
        "import matplotlib.pyplot as plt\r\n",
        "\r\n",
        "acc=history_dict['accuracy']\r\n",
        "val_acc=history_dict['val_accuracy']\r\n",
        "loss=history_dict['loss']\r\n",
        "val_loss=history_dict['val_loss']\r\n",
        "\r\n",
        "epochs= range (1,41)\r\n",
        "\r\n",
        "#bo 는 파란색 점\r\n",
        "plt.plot(epochs,loss,'bo',label ='Training loss')\r\n",
        "#b는 파란 실선\r\n",
        "plt.plot(epochs,val_loss,'b',label ='Validation loss')\r\n",
        "plt.title('Training and validation loss')\r\n",
        "plt.xlabel('Epochs')\r\n",
        "plt.ylabel('Loss')\r\n",
        "plt.legend()\r\n",
        "\r\n",
        "plt.show"
      ],
      "execution_count": 24,
      "outputs": [
        {
          "output_type": "execute_result",
          "data": {
            "text/plain": [
              "<function matplotlib.pyplot.show>"
            ]
          },
          "metadata": {
            "tags": []
          },
          "execution_count": 24
        },
        {
          "output_type": "display_data",
          "data": {
            "image/png": "[encoded data removed]",
            "text/plain": [
              "<Figure size 432x288 with 1 Axes>"
            ]
          },
          "metadata": {
            "tags": [],
            "needs_background": "light"
          }
        }
      ]
    },
    {
      "cell_type": "code",
      "metadata": {
        "colab": {
          "base_uri": "https://localhost:8080/",
          "height": 295
        },
        "id": "GAf5-tcDRGFt",
        "outputId": "4aef9c5e-e2c6-4299-d0ad-b65b46c75c30"
      },
      "source": [
        "plt.clf()\n",
        "\n",
        "plt.plot(epochs,acc,'bo',label='Training acc')\n",
        "plt.plot(epochs,val_acc,'b',label='Validation acc')\n",
        "plt.title('Training and validation accuracy')\n",
        "plt.xlabel('Epochs')\n",
        "plt.ylabel('Accuracy')\n",
        "plt.legend()\n",
        "\n",
        "plt.show()"
      ],
      "execution_count": 25,
      "outputs": [
        {
          "output_type": "display_data",
          "data": {
            "image/png": "[encoded data removed]",
            "text/plain": [
              "<Figure size 432x288 with 1 Axes>"
            ]
          },
          "metadata": {
            "tags": [],
            "needs_background": "light"
          }
        }
      ]
    },
    {
      "cell_type": "code",
      "metadata": {
        "id": "bNyUXXemO05T"
      },
      "source": [
        ""
      ],
      "execution_count": null,
      "outputs": []
    }
  ]
}