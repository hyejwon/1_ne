{
  "nbformat": 4,
  "nbformat_minor": 0,
  "metadata": {
    "colab": {
      "name": "CSV로드.ipynb",
      "private_outputs": true,
      "provenance": []
    },
    "kernelspec": {
      "name": "python3",
      "display_name": "Python 3"
    },
    "language_info": {
      "name": "python"
    }
  },
  "cells": [
    {
      "cell_type": "code",
      "metadata": {
        "id": "JTev9k3RDjIS"
      },
      "source": [
        "import functools\n",
        "\n",
        "import numpy as np\n",
        "import tensorflow as tf"
      ],
      "execution_count": null,
      "outputs": []
    },
    {
      "cell_type": "code",
      "metadata": {
        "id": "LGqnRJdXE1KR"
      },
      "source": [
        "TRAIN_DATA_URL = \"https://storage.googleapis.com/tf-datasets/titanic/train.csv\"\n",
        "TEST_DATA_URL = \"https://storage.googleapis.com/tf-datasets/titanic/eval.csv\"\n",
        "\n",
        "train_file_path = tf.keras.utils.get_file(\"train.csv\", TRAIN_DATA_URL)\n",
        "test_file_path = tf.keras.utils.get_file(\"eval.csv\", TEST_DATA_URL)"
      ],
      "execution_count": null,
      "outputs": []
    },
    {
      "cell_type": "code",
      "metadata": {
        "id": "6CNdZL0OE9ia"
      },
      "source": [
        "# Make numpy values easier to read.\n",
        "np.set_printoptions(precision=3, suppress=True)"
      ],
      "execution_count": null,
      "outputs": []
    },
    {
      "cell_type": "code",
      "metadata": {
        "id": "HP_KQHkSE_5d"
      },
      "source": [
        ""
      ],
      "execution_count": null,
      "outputs": []
    },
    {
      "cell_type": "markdown",
      "metadata": {
        "id": "sedXnyGlFILI"
      },
      "source": [
        "데이터 로드하기\n",
        "\n"
      ]
    },
    {
      "cell_type": "code",
      "metadata": {
        "id": "Q5RdcLVAFI57"
      },
      "source": [
        "!head {train_file_path}"
      ],
      "execution_count": null,
      "outputs": []
    },
    {
      "cell_type": "code",
      "metadata": {
        "id": "ivNpM0DoFLWl"
      },
      "source": [
        "LABEL_COLUMN = 'survived'\n",
        "LABELS = [0, 1]"
      ],
      "execution_count": null,
      "outputs": []
    },
    {
      "cell_type": "code",
      "metadata": {
        "id": "jjjylSU-FQVh"
      },
      "source": [
        "def get_dataset(file_path, **kwargs):\n",
        "  dataset = tf.data.experimental.make_csv_dataset(\n",
        "      file_path,\n",
        "      batch_size=5, # Artificially small to make examples easier to show.\n",
        "      label_name=LABEL_COLUMN,\n",
        "      na_value=\"?\",\n",
        "      num_epochs=1,\n",
        "      ignore_errors=True, \n",
        "      **kwargs)\n",
        "  return dataset\n",
        "\n",
        "raw_train_data = get_dataset(train_file_path)\n",
        "raw_test_data = get_dataset(test_file_path)"
      ],
      "execution_count": null,
      "outputs": []
    },
    {
      "cell_type": "code",
      "metadata": {
        "id": "CJPF1NCsFSGp"
      },
      "source": [
        "def show_batch(dataset):\n",
        "  for batch, label in dataset.take(1):\n",
        "    for key, value in batch.items():\n",
        "      print(\"{:20s}: {}\".format(key,value.numpy()))"
      ],
      "execution_count": null,
      "outputs": []
    },
    {
      "cell_type": "code",
      "metadata": {
        "id": "anNg2bzqFT8U"
      },
      "source": [
        "show_batch(raw_train_data)"
      ],
      "execution_count": null,
      "outputs": []
    },
    {
      "cell_type": "code",
      "metadata": {
        "id": "nXHq1V8MFVVx"
      },
      "source": [
        "CSV_COLUMNS = ['survived', 'sex', 'age', 'n_siblings_spouses', 'parch', 'fare', 'class', 'deck', 'embark_town', 'alone']\n",
        "\n",
        "temp_dataset = get_dataset(train_file_path, column_names=CSV_COLUMNS)\n",
        "\n",
        "show_batch(temp_dataset)"
      ],
      "execution_count": null,
      "outputs": []
    },
    {
      "cell_type": "code",
      "metadata": {
        "id": "EX-8wsx7FXdV"
      },
      "source": [
        "SELECT_COLUMNS = ['survived', 'age', 'n_siblings_spouses', 'class', 'deck', 'alone']\n",
        "\n",
        "temp_dataset = get_dataset(train_file_path, select_columns=SELECT_COLUMNS)\n",
        "\n",
        "show_batch(temp_dataset)#일부 칼럼만 뽑기"
      ],
      "execution_count": null,
      "outputs": []
    },
    {
      "cell_type": "markdown",
      "metadata": {
        "id": "_kL47hRRFnPk"
      },
      "source": [
        "데이터 전처리"
      ]
    },
    {
      "cell_type": "code",
      "metadata": {
        "id": "MhlgViw-Fes9"
      },
      "source": [
        "#연속 데이터 \n",
        "SELECT_COLUMNS = ['survived','age','n_siblings_spouses','parch','fare']\n",
        "DEFAULTS = [0,0.0,0.0,0.0,0.0]\n",
        "temp_dataset=get_dataset(train_file_path,\n",
        "                         select_columns=SELECT_COLUMNS,\n",
        "                         column_defaults=DEFAULTS)\n",
        "show_batch(temp_dataset)"
      ],
      "execution_count": null,
      "outputs": []
    },
    {
      "cell_type": "code",
      "metadata": {
        "id": "QnaKGazVG5qY"
      },
      "source": [
        "example_batch, labels_batch=next(iter(temp_dataset))"
      ],
      "execution_count": null,
      "outputs": []
    },
    {
      "cell_type": "code",
      "metadata": {
        "id": "vGLh639oHarH"
      },
      "source": [
        "example_batch"
      ],
      "execution_count": null,
      "outputs": []
    },
    {
      "cell_type": "code",
      "metadata": {
        "id": "NNvTtuHfHddm"
      },
      "source": [
        "next(iter(temp_dataset))"
      ],
      "execution_count": null,
      "outputs": []
    },
    {
      "cell_type": "code",
      "metadata": {
        "id": "0bPN3cVhHhiy"
      },
      "source": [
        "labels_batch"
      ],
      "execution_count": null,
      "outputs": []
    },
    {
      "cell_type": "markdown",
      "metadata": {
        "id": "4bexWKz4HjpS"
      },
      "source": [
        "다음은 모든 열을 묶는 간단한 함수"
      ]
    },
    {
      "cell_type": "code",
      "metadata": {
        "id": "nbv26uB4Hy2A"
      },
      "source": [
        "def pack(features,label):\n",
        "    return tf.stack(list(features.values()),axis=-1),label"
      ],
      "execution_count": null,
      "outputs": []
    },
    {
      "cell_type": "markdown",
      "metadata": {
        "id": "-lP9iZzGH9M3"
      },
      "source": [
        "이 함수를 데이터세트의 각 요소에 적용 한다"
      ]
    },
    {
      "cell_type": "code",
      "metadata": {
        "id": "fwNtW2djIB0O"
      },
      "source": [
        "packed_dataset=temp_dataset.map(pack)\n",
        "\n",
        "for features, labels in packed_dataset.take(1):\n",
        "    print(features.numpy())\n",
        "    print()\n",
        "    print(labels.numpy())"
      ],
      "execution_count": null,
      "outputs": []
    },
    {
      "cell_type": "markdown",
      "metadata": {
        "id": "zHPbNniTIRfq"
      },
      "source": [
        "혼합 데이터 유형이 있는 경우, 해당 단순 숫자 필드를 분리할 수 있다."
      ]
    },
    {
      "cell_type": "code",
      "metadata": {
        "id": "pKan-OFAIdl0"
      },
      "source": [
        "show_batch(raw_train_data)"
      ],
      "execution_count": null,
      "outputs": []
    },
    {
      "cell_type": "code",
      "metadata": {
        "id": "yWsoCvt4Ig-S"
      },
      "source": [
        "example_batch, labels_path = next(iter(temp_dataset))"
      ],
      "execution_count": null,
      "outputs": []
    },
    {
      "cell_type": "markdown",
      "metadata": {
        "id": "k0dpwcJaI2Cv"
      },
      "source": [
        "숫자 특성 목록을 선택하고 단일 열로 묶는 보다 일반적인 전처리기를 정의한다"
      ]
    },
    {
      "cell_type": "code",
      "metadata": {
        "id": "F8iYAt28JJlK"
      },
      "source": [
        "class PackNumericFeatures(object):\n",
        "    def __init__(self,names):\n",
        "        self.names = names\n",
        "    def __call__(self,features,labels):\n",
        "        numeric_features=[features.pop(name) for name in self.names]\n",
        "        numeric_features=[tf.cast(feat,tf.float32) for feat in numeric_features]\n",
        "        numeric_features=tf.stack(numeric_features,axis=-1)\n",
        "        features['numeric']=numeric_features\n",
        "\n",
        "        return features,labels"
      ],
      "execution_count": null,
      "outputs": []
    },
    {
      "cell_type": "code",
      "metadata": {
        "id": "8TYoQbhNL02O"
      },
      "source": [
        "NUMERIC_FEATURES = ['age','n_siblings_spouses','parch','fare']\n",
        "packed_train_data=raw_train_data.map(PackNumericFeatures(NUMERIC_FEATURES))\n",
        "packed_test_data=raw_test_data.map(PackNumericFeatures(NUMERIC_FEATURES))"
      ],
      "execution_count": null,
      "outputs": []
    },
    {
      "cell_type": "code",
      "metadata": {
        "id": "4WsWgFaUMQTl"
      },
      "source": [
        "show_batch(packed_train_data)"
      ],
      "execution_count": null,
      "outputs": []
    },
    {
      "cell_type": "code",
      "metadata": {
        "id": "2ysMpKzyMibW"
      },
      "source": [
        "example_batch, labels_path = next(iter(packed_train_data))"
      ],
      "execution_count": null,
      "outputs": []
    },
    {
      "cell_type": "markdown",
      "metadata": {
        "id": "M8_WfOdvMoGM"
      },
      "source": [
        "## 데이터 정규화  \n",
        "연속 데이터는 항상 정규화되어야 한다"
      ]
    },
    {
      "cell_type": "code",
      "metadata": {
        "id": "-F6_ie6jMsKK"
      },
      "source": [
        "import pandas as pd\n",
        "desc=pd.read_csv(train_file_path)[NUMERIC_FEATURES].describe()\n",
        "desc"
      ],
      "execution_count": null,
      "outputs": []
    },
    {
      "cell_type": "code",
      "metadata": {
        "id": "SCUkoQ-uM2cX"
      },
      "source": [
        "MEAN = np.array(desc.T['mean'])\n",
        "STD = np.array(desc.T['std'])"
      ],
      "execution_count": null,
      "outputs": []
    },
    {
      "cell_type": "code",
      "metadata": {
        "id": "5Wcd4WJINDup"
      },
      "source": [
        "STD"
      ],
      "execution_count": null,
      "outputs": []
    },
    {
      "cell_type": "code",
      "metadata": {
        "id": "XY5rz-MANIDk"
      },
      "source": [
        "def normalize_numeric_data(data,mean,std):\n",
        "    #Center the data\n",
        "    return (data-mean)/std"
      ],
      "execution_count": null,
      "outputs": []
    },
    {
      "cell_type": "markdown",
      "metadata": {
        "id": "6B0wooYPNS6Y"
      },
      "source": [
        "이제 숫자열을 만든다"
      ]
    },
    {
      "cell_type": "code",
      "metadata": {
        "id": "ZqC7ZE4qNVC9"
      },
      "source": [
        "normalizer = functools.partial(normalize_numeric_data,mean=MEAN,std=STD)\n",
        "numeric_column=tf.feature_column.numeric_column('numeric',normalizer_fn=normalizer, shape=[len(NUMERIC_FEATURES)])\n",
        "numeric_columns=[numeric_column]\n",
        "numeric_column"
      ],
      "execution_count": null,
      "outputs": []
    },
    {
      "cell_type": "markdown",
      "metadata": {
        "id": "fZqR5NwubZDw"
      },
      "source": [
        "모델을 훈련할 때 이 특성 열을 포함하여 이 숫자 데이터 블록을 선택하고 중앙에 배치합니다."
      ]
    },
    {
      "cell_type": "code",
      "metadata": {
        "id": "Qi9WbaCKb29B"
      },
      "source": [
        "example_batch['numeric']"
      ],
      "execution_count": null,
      "outputs": []
    },
    {
      "cell_type": "code",
      "metadata": {
        "id": "n1go0Nqzb47Y"
      },
      "source": [
        "numeric_layer=tf.keras.layers.DenseFeatures(numeric_columns)\n",
        "numeric_layer(example_batch).numpy()"
      ],
      "execution_count": null,
      "outputs": []
    },
    {
      "cell_type": "markdown",
      "metadata": {
        "id": "RgaEZEsGcFJ6"
      },
      "source": [
        "여기에 사용된 평균 기반 정규화를 위해서는 각 열의 평균을 미리 알아야 합니다"
      ]
    },
    {
      "cell_type": "markdown",
      "metadata": {
        "id": "9v-zS5epcHiC"
      },
      "source": [
        "## 범주형 데이터\n"
      ]
    },
    {
      "cell_type": "code",
      "metadata": {
        "id": "3BYF4yBScTwx"
      },
      "source": [
        "CATEGORIES = {\n",
        "    'sex': ['male', 'female'],\n",
        "    'class' : ['First', 'Second', 'Third'],\n",
        "    'deck' : ['A', 'B', 'C', 'D', 'E', 'F', 'G', 'H', 'I', 'J'],\n",
        "    'embark_town' : ['Cherbourg', 'Southhampton', 'Queenstown'],\n",
        "    'alone' : ['y', 'n']\n",
        "}"
      ],
      "execution_count": null,
      "outputs": []
    },
    {
      "cell_type": "code",
      "metadata": {
        "id": "3rrsHXNUdDn9"
      },
      "source": [
        "CATEGORIES.items()"
      ],
      "execution_count": null,
      "outputs": []
    },
    {
      "cell_type": "code",
      "metadata": {
        "id": "sDIkuV1jcVwW"
      },
      "source": [
        "categorical_columns= []\n",
        "for feature, vocab in CATEGORIES.items():\n",
        "    cat_col = tf.feature_column.categorical_column_with_vocabulary_list(\n",
        "        key=feature, vocabulary_list=vocab)\n",
        "    categorical_columns.append(tf.feature_column.indicator_column(cat_col))\n",
        "    "
      ],
      "execution_count": null,
      "outputs": []
    },
    {
      "cell_type": "code",
      "metadata": {
        "id": "RE6-eQmcdHjU"
      },
      "source": [
        "categorical_columns"
      ],
      "execution_count": null,
      "outputs": []
    },
    {
      "cell_type": "code",
      "metadata": {
        "id": "UwN-ypb6dItV"
      },
      "source": [
        "categorical_layer = tf.keras.layers.DenseFeatures(categorical_columns)\n",
        "print(categorical_layer(example_batch).numpy()[0])"
      ],
      "execution_count": null,
      "outputs": []
    },
    {
      "cell_type": "markdown",
      "metadata": {
        "id": "MqwYblihdb8O"
      },
      "source": [
        "이것은 나중에 모델을 빌드할 때 데이터 처리 입력의 일부가 됩니다."
      ]
    },
    {
      "cell_type": "markdown",
      "metadata": {
        "id": "gWp54ilWfZdF"
      },
      "source": [
        "## 결합된 전처리 레이어  \n",
        "두 개의 특성 열 모음을 추가하고 ```tf.keras.layers.DenseFeatures``` 에 전달하여 두 입력 유형을 추출하고 전처리할 입력 레이어를 만듭니다"
      ]
    },
    {
      "cell_type": "code",
      "metadata": {
        "id": "PbWjQ0CWfqkq"
      },
      "source": [
        "preprocessing_layer=tf.keras.layers.DenseFeatures(categorical_columns+numeric_columns)"
      ],
      "execution_count": null,
      "outputs": []
    },
    {
      "cell_type": "code",
      "metadata": {
        "id": "Rz_m9Z1Rf1aK"
      },
      "source": [
        "print(preprocessing_layer(example_batch).numpy()[0])"
      ],
      "execution_count": null,
      "outputs": []
    },
    {
      "cell_type": "markdown",
      "metadata": {
        "id": "VCXSdnk2f3Tm"
      },
      "source": [
        "## 모델 빌드하기 \n",
        "```preprocessing_layer```를 사용하여 ```tf.keras.Sequential``` 를 빌드한다"
      ]
    },
    {
      "cell_type": "code",
      "metadata": {
        "id": "rjWAbUGLgIFl"
      },
      "source": [
        "model=tf.keras.Sequential([\n",
        "    preprocessing_layer,\n",
        "    tf.keras.layers.Dense(128,activation='relu'),\n",
        "    tf.keras.layers.Dense(128,activation='relu'),\n",
        "    tf.keras.layers.Dense(1)\n",
        "])\n",
        "\n",
        "model.compile(\n",
        "    loss=tf.keras.losses.BinaryCrossentropy(from_logits=True),\n",
        "    optimizer='adam',\n",
        "    metrics=['accuracy'])"
      ],
      "execution_count": null,
      "outputs": []
    },
    {
      "cell_type": "markdown",
      "metadata": {
        "id": "V4iqPvOLjK_w"
      },
      "source": [
        "## 훈련, 평가 및 예측하기  \n",
        "이제 모델을 인스턴스화하고 훈련할 수 있습니다.\n"
      ]
    },
    {
      "cell_type": "code",
      "metadata": {
        "id": "LBjypKukjWy7"
      },
      "source": [
        "train_data=packed_train_data.shuffle(500)"
      ],
      "execution_count": null,
      "outputs": []
    },
    {
      "cell_type": "code",
      "metadata": {
        "id": "Tr9toM14jb0D"
      },
      "source": [
        "test_data= packed_test_data"
      ],
      "execution_count": null,
      "outputs": []
    },
    {
      "cell_type": "code",
      "metadata": {
        "id": "RirelBrxjeXl"
      },
      "source": [
        "model.fit(train_data, epochs=20)"
      ],
      "execution_count": null,
      "outputs": []
    },
    {
      "cell_type": "code",
      "metadata": {
        "id": "4HzsIBkMjg0p"
      },
      "source": [
        "test_loss, test_accuracy = model.evaluate(test_data)\n",
        "print('\\n\\nTest Loss {},Test Accuracy {}'.format(test_loss,test_accuracy))"
      ],
      "execution_count": null,
      "outputs": []
    },
    {
      "cell_type": "code",
      "metadata": {
        "id": "F-3MDJwFjr81"
      },
      "source": [
        "predictions = model.predict(test_data)\n",
        "predictions[:10]"
      ],
      "execution_count": null,
      "outputs": []
    },
    {
      "cell_type": "code",
      "metadata": {
        "id": "HVhH5pYKkHNV"
      },
      "source": [
        "list(test_data)[0][1][:10]"
      ],
      "execution_count": null,
      "outputs": []
    },
    {
      "cell_type": "code",
      "metadata": {
        "id": "6YVFOoJyj61F"
      },
      "source": [
        "# Show some results\n",
        "for prediction, survived in zip(predictions[:10], list(test_data)[0][1][:10]):\n",
        "  prediction = tf.sigmoid(prediction).numpy()\n",
        "  print(\"Predicted survival: {:.2%}\".format(prediction[0]),\n",
        "        \" | Actual outcome: \",\n",
        "        (\"SURVIVED\" if bool(survived) else \"DIED\"))"
      ],
      "execution_count": null,
      "outputs": []
    },
    {
      "cell_type": "code",
      "metadata": {
        "id": "7WXYtZmnj81W"
      },
      "source": [
        "prediction = tf.sigmoid(prediction).numpy()"
      ],
      "execution_count": null,
      "outputs": []
    },
    {
      "cell_type": "code",
      "metadata": {
        "id": "lPkuJK0mkazj"
      },
      "source": [
        "prediction\n"
      ],
      "execution_count": null,
      "outputs": []
    },
    {
      "cell_type": "code",
      "metadata": {
        "id": "yJ5VLtYokcCL"
      },
      "source": [
        ""
      ],
      "execution_count": null,
      "outputs": []
    }
  ]
}